{
 "cells": [
  {
   "cell_type": "code",
   "execution_count": 2,
   "metadata": {},
   "outputs": [],
   "source": [
    "import zmq"
   ]
  },
  {
   "cell_type": "code",
   "execution_count": 6,
   "metadata": {},
   "outputs": [],
   "source": [
    "port = 5557\n",
    "addr = f\"tcp://127.0.0.1:{port}\"\n",
    "\n",
    "context = zmq.Context()\n",
    "socket = context.socket(zmq.PUSH)\n",
    "socket.connect(addr)\n",
    "\n",
    "# socket.send_string('ho')\n",
    "data = {\n",
    "    'id' : 'Some data',\n",
    "    'datasets' : {\n",
    "        'z' : {\n",
    "            'values' : [1, 2, 3, 4],\n",
    "            'axes' : [\n",
    "                ('x', [0, 1, 2, 3]),\n",
    "            ],\n",
    "            'update' : False,\n",
    "        }\n",
    "    }\n",
    "}\n",
    "socket.send_json(data)\n",
    "\n",
    "socket.disconnect(addr)"
   ]
  },
  {
   "cell_type": "code",
   "execution_count": null,
   "metadata": {},
   "outputs": [],
   "source": []
  },
  {
   "cell_type": "code",
   "execution_count": null,
   "metadata": {},
   "outputs": [],
   "source": [
    "import qtpy"
   ]
  },
  {
   "cell_type": "code",
   "execution_count": null,
   "metadata": {},
   "outputs": [],
   "source": [
    "qtpy.API"
   ]
  },
  {
   "cell_type": "code",
   "execution_count": null,
   "metadata": {},
   "outputs": [],
   "source": [
    "from qtpy import QtCore, QtGui\n",
    "from qtpy import QtWidgets"
   ]
  },
  {
   "cell_type": "code",
   "execution_count": null,
   "metadata": {},
   "outputs": [],
   "source": [
    "a = b'abc'.decode('utf-8')"
   ]
  },
  {
   "cell_type": "code",
   "execution_count": null,
   "metadata": {},
   "outputs": [],
   "source": [
    "a"
   ]
  },
  {
   "cell_type": "code",
   "execution_count": null,
   "metadata": {},
   "outputs": [],
   "source": []
  }
 ],
 "metadata": {
  "kernelspec": {
   "display_name": "Python 3",
   "language": "python",
   "name": "python3"
  },
  "language_info": {
   "codemirror_mode": {
    "name": "ipython",
    "version": 3
   },
   "file_extension": ".py",
   "mimetype": "text/x-python",
   "name": "python",
   "nbconvert_exporter": "python",
   "pygments_lexer": "ipython3",
   "version": "3.6.4"
  }
 },
 "nbformat": 4,
 "nbformat_minor": 2
}
