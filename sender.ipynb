{
 "cells": [
  {
   "cell_type": "code",
   "execution_count": 4,
   "metadata": {},
   "outputs": [],
   "source": [
    "import zmq\n",
    "import numpy as np"
   ]
  },
  {
   "cell_type": "code",
   "execution_count": null,
   "metadata": {},
   "outputs": [],
   "source": []
  },
  {
   "cell_type": "code",
   "execution_count": null,
   "metadata": {},
   "outputs": [],
   "source": []
  },
  {
   "cell_type": "code",
   "execution_count": 8,
   "metadata": {},
   "outputs": [],
   "source": [
    "x = np.linspace(0, 8, 21, dtype=float)\n",
    "# y = np.arange(9, dtype=float)\n",
    "# xx, yy = np.meshgrid(x, y, indexing='ij')\n",
    "# zz = xx + yy**2\n",
    "z = np.cos(x)\n",
    "\n",
    "# x2 = xx.reshape(-1)[:]\n",
    "# y2 = yy.reshape(-1)[:]\n",
    "# z2 = zz.reshape(-1)[:]\n",
    "x2 = x\n",
    "z2 = z\n",
    "\n",
    "data = {\n",
    "    'id' : 'Some data',\n",
    "    'datasets' : {\n",
    "        'z' : {\n",
    "            'values' : z2.tolist(),\n",
    "            'axes' : ['x', ],\n",
    "        },\n",
    "        'x' : {\n",
    "            'values' : x2.tolist(),\n",
    "        },\n",
    "#         'y' : {\n",
    "#             'values' : y2,\n",
    "#         },\n",
    "#         'w' : {\n",
    "#             'values' : z2,\n",
    "#         }\n",
    "    }\n",
    "}"
   ]
  },
  {
   "cell_type": "code",
   "execution_count": 40,
   "metadata": {},
   "outputs": [],
   "source": [
    "port = 5557\n",
    "addr = f\"tcp://127.0.0.1:{port}\"\n",
    "\n",
    "context = zmq.Context()\n",
    "socket = context.socket(zmq.PUSH)\n",
    "socket.connect(addr)\n",
    "\n",
    "socket.send_json(data)\n",
    "\n",
    "socket.disconnect(addr)"
   ]
  },
  {
   "cell_type": "code",
   "execution_count": null,
   "metadata": {},
   "outputs": [],
   "source": []
  },
  {
   "cell_type": "code",
   "execution_count": null,
   "metadata": {},
   "outputs": [],
   "source": [
    "import qtpy"
   ]
  },
  {
   "cell_type": "code",
   "execution_count": null,
   "metadata": {},
   "outputs": [],
   "source": [
    "qtpy.API"
   ]
  },
  {
   "cell_type": "code",
   "execution_count": null,
   "metadata": {},
   "outputs": [],
   "source": [
    "from qtpy import QtCore, QtGui\n",
    "from qtpy import QtWidgets"
   ]
  },
  {
   "cell_type": "code",
   "execution_count": null,
   "metadata": {},
   "outputs": [],
   "source": [
    "a = b'abc'.decode('utf-8')"
   ]
  },
  {
   "cell_type": "code",
   "execution_count": null,
   "metadata": {},
   "outputs": [],
   "source": [
    "a"
   ]
  },
  {
   "cell_type": "code",
   "execution_count": null,
   "metadata": {},
   "outputs": [],
   "source": [
    "from matplotlib import rcParams"
   ]
  },
  {
   "cell_type": "code",
   "execution_count": null,
   "metadata": {},
   "outputs": [],
   "source": [
    "rcParams.keys()"
   ]
  },
  {
   "cell_type": "code",
   "execution_count": null,
   "metadata": {},
   "outputs": [],
   "source": []
  }
 ],
 "metadata": {
  "kernelspec": {
   "display_name": "Python 3",
   "language": "python",
   "name": "python3"
  },
  "language_info": {
   "codemirror_mode": {
    "name": "ipython",
    "version": 3
   },
   "file_extension": ".py",
   "mimetype": "text/x-python",
   "name": "python",
   "nbconvert_exporter": "python",
   "pygments_lexer": "ipython3",
   "version": "3.6.4"
  }
 },
 "nbformat": 4,
 "nbformat_minor": 2
}
