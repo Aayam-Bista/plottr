{
 "cells": [
  {
   "cell_type": "code",
   "execution_count": 2,
   "metadata": {},
   "outputs": [],
   "source": [
    "%matplotlib notebook"
   ]
  },
  {
   "cell_type": "code",
   "execution_count": 32,
   "metadata": {},
   "outputs": [],
   "source": [
    "import time\n",
    "import numpy as np\n",
    "import pandas as pd\n",
    "import xarray as xr\n",
    "\n",
    "from collections import OrderedDict\n",
    "from importlib import reload"
   ]
  },
  {
   "cell_type": "code",
   "execution_count": null,
   "metadata": {},
   "outputs": [],
   "source": []
  },
  {
   "cell_type": "code",
   "execution_count": 4,
   "metadata": {},
   "outputs": [
    {
     "data": {
      "text/plain": [
       "<module 'plottr.plottr' from 'd:\\\\Dropbox\\\\Code\\\\labpyDesktop\\\\plottr\\\\plottr\\\\plottr.py'>"
      ]
     },
     "execution_count": 4,
     "metadata": {},
     "output_type": "execute_result"
    }
   ],
   "source": [
    "from plottr import plottr\n",
    "reload(plottr)"
   ]
  },
  {
   "cell_type": "code",
   "execution_count": null,
   "metadata": {},
   "outputs": [],
   "source": []
  },
  {
   "cell_type": "code",
   "execution_count": null,
   "metadata": {},
   "outputs": [],
   "source": []
  },
  {
   "cell_type": "code",
   "execution_count": null,
   "metadata": {},
   "outputs": [],
   "source": []
  },
  {
   "cell_type": "code",
   "execution_count": null,
   "metadata": {},
   "outputs": [],
   "source": []
  },
  {
   "cell_type": "code",
   "execution_count": 64,
   "metadata": {},
   "outputs": [],
   "source": [
    "x = np.linspace(0, 8, 21, dtype=float)\n",
    "# y = np.arange(9, dtype=float)\n",
    "# xx, yy = np.meshgrid(x, y, indexing='ij')\n",
    "# zz = xx + yy**2\n",
    "z = np.cos(x)\n",
    "\n",
    "# x2 = xx.reshape(-1)[:]\n",
    "# y2 = yy.reshape(-1)[:]\n",
    "# z2 = zz.reshape(-1)[:]\n",
    "x2 = x\n",
    "z2 = z\n",
    "\n",
    "data = {\n",
    "    'id' : 'Some data',\n",
    "    'datasets' : {\n",
    "        'z' : {\n",
    "            'values' : z2.tolist(),\n",
    "            'axes' : ['x', ],\n",
    "        },\n",
    "        'x' : {\n",
    "            'values' : x2.tolist(),\n",
    "        },\n",
    "#         'y' : {\n",
    "#             'values' : y2,\n",
    "#         },\n",
    "#         'w' : {\n",
    "#             'values' : z2,\n",
    "#         }\n",
    "    }\n",
    "}"
   ]
  },
  {
   "cell_type": "code",
   "execution_count": null,
   "metadata": {},
   "outputs": [],
   "source": []
  },
  {
   "cell_type": "code",
   "execution_count": 66,
   "metadata": {},
   "outputs": [
    {
     "data": {
      "text/plain": [
       "[z           0\n",
       " x            \n",
       " 0.0  1.000000\n",
       " 0.4  0.921061\n",
       " 0.8  0.696707\n",
       " 1.2  0.362358\n",
       " 1.6 -0.029200\n",
       " 2.0 -0.416147\n",
       " 2.4 -0.737394\n",
       " 2.8 -0.942222\n",
       " 3.2 -0.998295\n",
       " 3.6 -0.896758\n",
       " 4.0 -0.653644\n",
       " 4.4 -0.307333\n",
       " 4.8  0.087499\n",
       " 5.2  0.468517\n",
       " 5.6  0.775566\n",
       " 6.0  0.960170\n",
       " 6.4  0.993185\n",
       " 6.8  0.869397\n",
       " 7.2  0.608351\n",
       " 7.6  0.251260\n",
       " 8.0 -0.145500]"
      ]
     },
     "execution_count": 66,
     "metadata": {},
     "output_type": "execute_result"
    }
   ],
   "source": [
    "dfs = plottr.dictToDataFrames(data['datasets'])\n",
    "dfs"
   ]
  },
  {
   "cell_type": "code",
   "execution_count": 73,
   "metadata": {},
   "outputs": [
    {
     "data": {
      "text/plain": [
       "<xarray.DataArray (x: 21)>\n",
       "array([ 1.      ,  0.921061,  0.696707,  0.362358, -0.0292  , -0.416147,\n",
       "       -0.737394, -0.942222, -0.998295, -0.896758, -0.653644, -0.307333,\n",
       "        0.087499,  0.468517,  0.775566,  0.96017 ,  0.993185,  0.869397,\n",
       "        0.608351,  0.25126 , -0.1455  ])\n",
       "Coordinates:\n",
       "    z        int64 0\n",
       "  * x        (x) float64 0.0 0.4 0.8 1.2 1.6 2.0 2.4 2.8 3.2 3.6 4.0 4.4 4.8 ..."
      ]
     },
     "execution_count": 73,
     "metadata": {},
     "output_type": "execute_result"
    }
   ],
   "source": [
    "arr0 = xr.DataArray(dfs[0]).unstack('dim_0').squeeze()\n",
    "arr0"
   ]
  },
  {
   "cell_type": "code",
   "execution_count": 81,
   "metadata": {},
   "outputs": [],
   "source": [
    "for k, v in arr0.coords.items():\n",
    "    if not isinstance(v.values, np.ndarray):\n",
    "        arr0 = arr0.drop(k)"
   ]
  },
  {
   "cell_type": "code",
   "execution_count": 82,
   "metadata": {},
   "outputs": [
    {
     "data": {
      "text/plain": [
       "<xarray.DataArray (x: 21)>\n",
       "array([ 1.      ,  0.921061,  0.696707,  0.362358, -0.0292  , -0.416147,\n",
       "       -0.737394, -0.942222, -0.998295, -0.896758, -0.653644, -0.307333,\n",
       "        0.087499,  0.468517,  0.775566,  0.96017 ,  0.993185,  0.869397,\n",
       "        0.608351,  0.25126 , -0.1455  ])\n",
       "Coordinates:\n",
       "  * x        (x) float64 0.0 0.4 0.8 1.2 1.6 2.0 2.4 2.8 3.2 3.6 4.0 4.4 4.8 ..."
      ]
     },
     "execution_count": 82,
     "metadata": {},
     "output_type": "execute_result"
    }
   ],
   "source": [
    "arr0"
   ]
  },
  {
   "cell_type": "code",
   "execution_count": 87,
   "metadata": {},
   "outputs": [
    {
     "ename": "TypeError",
     "evalue": "'<' not supported between instances of 'str' and 'int'",
     "output_type": "error",
     "traceback": [
      "\u001b[1;31m---------------------------------------------------------------------------\u001b[0m",
      "\u001b[1;31mTypeError\u001b[0m                                 Traceback (most recent call last)",
      "\u001b[1;32m<ipython-input-87-81f3269ee5af>\u001b[0m in \u001b[0;36m<module>\u001b[1;34m()\u001b[0m\n\u001b[1;32m----> 1\u001b[1;33m \u001b[0marr0\u001b[0m\u001b[1;33m[\u001b[0m\u001b[1;34m'x'\u001b[0m \u001b[1;33m<\u001b[0m \u001b[1;36m5\u001b[0m\u001b[1;33m]\u001b[0m\u001b[1;33m\u001b[0m\u001b[0m\n\u001b[0m",
      "\u001b[1;31mTypeError\u001b[0m: '<' not supported between instances of 'str' and 'int'"
     ]
    }
   ],
   "source": []
  },
  {
   "cell_type": "code",
   "execution_count": null,
   "metadata": {},
   "outputs": [],
   "source": []
  },
  {
   "cell_type": "code",
   "execution_count": 67,
   "metadata": {},
   "outputs": [
    {
     "data": {
      "text/plain": [
       "<xarray.DataArray (x: 21)>\n",
       "array([ 1.      ,  0.921061,  0.696707,  0.362358, -0.0292  , -0.416147,\n",
       "       -0.737394, -0.942222, -0.998295, -0.896758, -0.653644, -0.307333,\n",
       "        0.087499,  0.468517,  0.775566,  0.96017 ,  0.993185,  0.869397,\n",
       "        0.608351,  0.25126 , -0.1455  ])\n",
       "Coordinates:\n",
       "    z        int64 0\n",
       "  * x        (x) float64 0.0 0.4 0.8 1.2 1.6 2.0 2.4 2.8 3.2 3.6 4.0 4.4 4.8 ..."
      ]
     },
     "execution_count": 67,
     "metadata": {},
     "output_type": "execute_result"
    }
   ],
   "source": [
    "arr = plottr.dataFrameToXArray(dfs[0])\n",
    "arr"
   ]
  },
  {
   "cell_type": "code",
   "execution_count": 31,
   "metadata": {},
   "outputs": [
    {
     "data": {
      "text/plain": [
       "array([0. , 0.4, 0.8, 1.2, 1.6, 2. , 2.4, 2.8, 3.2, 3.6, 4. , 4.4, 4.8,\n",
       "       5.2, 5.6, 6. , 6.4, 6.8, 7.2, 7.6, 8. ])"
      ]
     },
     "execution_count": 31,
     "metadata": {},
     "output_type": "execute_result"
    }
   ],
   "source": [
    "arr.coords['x'].values"
   ]
  },
  {
   "cell_type": "code",
   "execution_count": 57,
   "metadata": {},
   "outputs": [
    {
     "name": "stdout",
     "output_type": "stream",
     "text": [
      "z <xarray.DataArray 'z' ()>\n",
      "array(0, dtype=int64)\n",
      "Coordinates:\n",
      "    z        int64 0\n",
      "x <xarray.DataArray 'x' (x: 21)>\n",
      "array([0. , 0.4, 0.8, 1.2, 1.6, 2. , 2.4, 2.8, 3.2, 3.6, 4. , 4.4, 4.8, 5.2,\n",
      "       5.6, 6. , 6.4, 6.8, 7.2, 7.6, 8. ])\n",
      "Coordinates:\n",
      "    z        int64 0\n",
      "  * x        (x) float64 0.0 0.4 0.8 1.2 1.6 2.0 2.4 2.8 3.2 3.6 4.0 4.4 4.8 ...\n"
     ]
    }
   ],
   "source": [
    "for k, v in arr.coords.items():\n",
    "    print(k, v)"
   ]
  },
  {
   "cell_type": "code",
   "execution_count": 60,
   "metadata": {},
   "outputs": [
    {
     "data": {
      "text/plain": [
       "array([0. , 0.4, 0.8, 1.2, 1.6, 2. , 2.4, 2.8, 3.2, 3.6, 4. , 4.4, 4.8,\n",
       "       5.2, 5.6, 6. , 6.4, 6.8, 7.2, 7.6, 8. ])"
      ]
     },
     "execution_count": 60,
     "metadata": {},
     "output_type": "execute_result"
    }
   ],
   "source": [
    "v.values"
   ]
  },
  {
   "cell_type": "code",
   "execution_count": null,
   "metadata": {},
   "outputs": [],
   "source": []
  },
  {
   "cell_type": "code",
   "execution_count": 62,
   "metadata": {},
   "outputs": [
    {
     "data": {
      "text/plain": [
       "(21,)"
      ]
     },
     "execution_count": 62,
     "metadata": {},
     "output_type": "execute_result"
    }
   ],
   "source": [
    "arr.shape"
   ]
  },
  {
   "cell_type": "code",
   "execution_count": 63,
   "metadata": {},
   "outputs": [
    {
     "data": {
      "text/plain": [
       "<xarray.DataArray 'z' ()>\n",
       "array(0, dtype=int64)\n",
       "Coordinates:\n",
       "    z        int64 0"
      ]
     },
     "execution_count": 63,
     "metadata": {},
     "output_type": "execute_result"
    }
   ],
   "source": [
    "arr.coords['z']"
   ]
  },
  {
   "cell_type": "code",
   "execution_count": null,
   "metadata": {},
   "outputs": [],
   "source": []
  }
 ],
 "metadata": {
  "kernelspec": {
   "display_name": "Python 3",
   "language": "python",
   "name": "python3"
  },
  "language_info": {
   "codemirror_mode": {
    "name": "ipython",
    "version": 3
   },
   "file_extension": ".py",
   "mimetype": "text/x-python",
   "name": "python",
   "nbconvert_exporter": "python",
   "pygments_lexer": "ipython3",
   "version": "3.6.4"
  }
 },
 "nbformat": 4,
 "nbformat_minor": 2
}
