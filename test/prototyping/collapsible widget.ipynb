{
 "cells": [
  {
   "cell_type": "code",
   "execution_count": 1,
   "id": "2421b31e-f5a4-41df-8227-0d62e384732c",
   "metadata": {},
   "outputs": [],
   "source": [
    "%gui qt"
   ]
  },
  {
   "cell_type": "code",
   "execution_count": 70,
   "id": "50b4f0d5-f9e4-49d6-8d91-af3c5c57faac",
   "metadata": {},
   "outputs": [],
   "source": [
    "from plottr import QtWidgets, QtCore\n",
    "from plottr.gui.tools import widgetDialog"
   ]
  },
  {
   "cell_type": "code",
   "execution_count": null,
   "id": "f8de6986-660e-4497-8f57-ef1354c1eee4",
   "metadata": {},
   "outputs": [],
   "source": []
  },
  {
   "cell_type": "code",
   "execution_count": 134,
   "id": "2e3e6a8a-2de2-4d97-8c6a-13199b6a78c4",
   "metadata": {},
   "outputs": [],
   "source": [
    "def setHExpanding(w):\n",
    "    p = w.sizePolicy()\n",
    "    p.setHorizontalPolicy(QtWidgets.QSizePolicy.MinimumExpanding)\n",
    "    p.setHorizontalStretch(1)\n",
    "    w.setSizePolicy(p)\n",
    "    \n",
    "def setVExpanding(w):\n",
    "    p = w.sizePolicy()\n",
    "    p.setVerticalPolicy(QtWidgets.QSizePolicy.MinimumExpanding)\n",
    "    p.setVerticalStretch(1)\n",
    "    w.setSizePolicy(p)\n",
    "\n",
    "class Collapsible(QtWidgets.QWidget):\n",
    "    \n",
    "    def __init__(self, widget, title='', parent=None):\n",
    "        super().__init__(parent=parent)\n",
    "        \n",
    "        self.widget = widget\n",
    "        self.widget.setParent(self)\n",
    "        setVExpanding(self.widget)\n",
    "        \n",
    "        self.expandedTitle = \"[-] \"+title\n",
    "        self.collapsedTitle = \"[+] \"+title\n",
    "        \n",
    "        self.btn = QtWidgets.QPushButton(self.expandedTitle, parent=self)\n",
    "        self.btn.setStyleSheet(\"background: white; color: black; border: 0px; \")\n",
    "        self.btn.setFlat(True)\n",
    "        self.btn.setCheckable(True)\n",
    "        self.btn.setChecked(True)\n",
    "        setHExpanding(self.btn)\n",
    "        self.btn.clicked.connect(self.onButton)\n",
    "\n",
    "        layout = QtWidgets.QVBoxLayout(self)\n",
    "        layout.setContentsMargins(0, 0, 0, 0)\n",
    "        layout.setSpacing(2)\n",
    "        layout.addWidget(self.btn)\n",
    "        layout.addWidget(self.widget)\n",
    "    \n",
    "    def onButton(self):        \n",
    "        if self.btn.isChecked():\n",
    "            self.widget.setVisible(True)\n",
    "            self.btn.setText(self.expandedTitle)\n",
    "        else:\n",
    "            self.widget.setVisible(False)\n",
    "            self.btn.setText(self.collapsedTitle)\n",
    "        \n",
    "    \n",
    "widget = QtWidgets.QLabel(\"Hello, I am some text.\")\n",
    "widget.setStyleSheet(\"background: red; color: white\")\n",
    "\n",
    "collapsible = Collapsible(widget, title='This is a widget')\n",
    "d = widgetDialog(collapsible)"
   ]
  },
  {
   "cell_type": "code",
   "execution_count": null,
   "id": "288cc0d2-3501-4584-8312-833fad5bb4f7",
   "metadata": {},
   "outputs": [],
   "source": []
  }
 ],
 "metadata": {
  "kernelspec": {
   "display_name": "Python [conda env:msmt-pyqt5]",
   "language": "python",
   "name": "conda-env-msmt-pyqt5-py"
  },
  "language_info": {
   "codemirror_mode": {
    "name": "ipython",
    "version": 3
   },
   "file_extension": ".py",
   "mimetype": "text/x-python",
   "name": "python",
   "nbconvert_exporter": "python",
   "pygments_lexer": "ipython3",
   "version": "3.9.6"
  }
 },
 "nbformat": 4,
 "nbformat_minor": 5
}
