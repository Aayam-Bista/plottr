{
 "cells": [
  {
   "cell_type": "code",
   "execution_count": 1,
   "metadata": {
    "ExecuteTime": {
     "end_time": "2018-11-08T08:06:51.784022Z",
     "start_time": "2018-11-08T08:06:51.143736Z"
    }
   },
   "outputs": [],
   "source": [
    "%gui qt\n",
    "\n",
    "import logging\n",
    "\n",
    "from pyqtgraph.flowchart import Flowchart\n",
    "from pyqtgraph import Qt\n",
    "from pyqtgraph.Qt import QtGui, QtCore\n",
    "from pyqtgraph.flowchart import library as fclib\n",
    "from pyqtgraph.dockarea import Dock, DockArea\n",
    "\n",
    "from plottr.data import datadict as dd\n",
    "from plottr.data.datadict import DataDict, MeshgridDataDict\n",
    "from plottr import log as plottrlog\n",
    "from plottr.node.node import Node\n",
    "from plottr.node.data_selector import DataSelector\n",
    "from plottr.node.dim_reducer import XYAxesSelector\n",
    "from plottr.plot.mpl import PlotNode, AutoPlot\n",
    "\n",
    "import data"
   ]
  },
  {
   "cell_type": "code",
   "execution_count": 2,
   "metadata": {
    "ExecuteTime": {
     "end_time": "2018-11-08T08:06:52.170987Z",
     "start_time": "2018-11-08T08:06:51.794993Z"
    }
   },
   "outputs": [],
   "source": [
    "Node.raiseExceptions = True\n",
    "DataSelector.raiseExceptions = True\n",
    "XYAxesSelector.raiseExceptions = True\n",
    "PlotNode.raiseExceptions = True\n",
    "\n",
    "nodelib = fclib.NodeLibrary()\n",
    "nodelib.addNodeType(DataSelector, [('Basic')])\n",
    "nodelib.addNodeType(XYAxesSelector, [('Basic')])\n",
    "nodelib.addNodeType(PlotNode, [('Plot')])\n",
    "\n",
    "### Setting up the flowchart\n",
    "\n",
    "# library\n",
    "fc = Flowchart(terminals={\n",
    "    'dataIn': {'io': 'in'},\n",
    "    'dataOut': {'io': 'out'}\n",
    "})\n",
    "fc.library = nodelib\n",
    "\n",
    "# flowchart for this example\n",
    "datasel = fc.createNode('DataSelector')\n",
    "xysel = fc.createNode('XYAxesSelector')\n",
    "plot = fc.createNode('Plot')\n",
    "\n",
    "fc.connectTerminals(fc['dataIn'], datasel['dataIn'])\n",
    "fc.connectTerminals(datasel['dataOut'], xysel['dataIn'])\n",
    "fc.connectTerminals(xysel['dataOut'], fc['dataOut'])\n",
    "fc.connectTerminals(xysel['dataOut'], plot['dataIn'])\n",
    "\n",
    "plotWidget = AutoPlot()\n",
    "plot.setPlotWidget(plotWidget)\n",
    "\n",
    "\n",
    "### Setting up the GUI\n",
    "win = QtGui.QDialog()\n",
    "layout = QtGui.QVBoxLayout()\n",
    "area = DockArea()\n",
    "layout.addWidget(area)\n",
    "# win.setCentralWidget(area)\n",
    "win.setLayout(layout)\n",
    "\n",
    "dataselDock = Dock('Data Selector')\n",
    "dataselDock.addWidget(datasel.ui)\n",
    "area.addDock(dataselDock)\n",
    "\n",
    "# xy selector\n",
    "xyselDock = Dock('XY Axes Selector')\n",
    "xyselDock.addWidget(xysel.ui)\n",
    "area.addDock(xyselDock, 'bottom', dataselDock)\n",
    "\n",
    "# logger\n",
    "logDock = Dock('Log')\n",
    "logDock.addWidget(plottrlog.setupLogging(makeDialog=False))\n",
    "area.addDock(logDock, 'bottom', xyselDock)\n",
    "\n",
    "# plot\n",
    "plotDock = Dock('Plot')\n",
    "plotDock.addWidget(plotWidget)\n",
    "area.addDock(plotDock, 'right')\n",
    "\n",
    "win.show()\n",
    "\n",
    "### Logging\n",
    "logger = logging.getLogger('plottr.interactive')\n",
    "plottrlog.LEVEL = logging.DEBUG"
   ]
  },
  {
   "cell_type": "code",
   "execution_count": 3,
   "metadata": {
    "ExecuteTime": {
     "end_time": "2018-11-08T08:06:52.233820Z",
     "start_time": "2018-11-08T08:06:52.172982Z"
    }
   },
   "outputs": [],
   "source": [
    "d = data.three_compatible_3d_sets(21, 21, 21)\n",
    "d = dd.datadict_to_meshgrid(d)\n",
    "fc.setInput(dataIn=d)"
   ]
  },
  {
   "cell_type": "code",
   "execution_count": null,
   "metadata": {
    "ExecuteTime": {
     "end_time": "2018-11-07T21:48:33.481142Z",
     "start_time": "2018-11-07T21:48:33.394374Z"
    }
   },
   "outputs": [],
   "source": []
  },
  {
   "cell_type": "code",
   "execution_count": null,
   "metadata": {},
   "outputs": [],
   "source": []
  },
  {
   "cell_type": "code",
   "execution_count": 4,
   "metadata": {
    "ExecuteTime": {
     "end_time": "2018-11-08T08:06:52.237809Z",
     "start_time": "2018-11-08T08:06:52.234817Z"
    }
   },
   "outputs": [],
   "source": [
    "# datasel.selectedData = ['data', 'more_data']"
   ]
  },
  {
   "cell_type": "code",
   "execution_count": 5,
   "metadata": {
    "ExecuteTime": {
     "end_time": "2018-11-08T08:06:52.246972Z",
     "start_time": "2018-11-08T08:06:52.238806Z"
    }
   },
   "outputs": [],
   "source": [
    "# xysel.xyAxes = ('x', 'y')"
   ]
  },
  {
   "cell_type": "code",
   "execution_count": 6,
   "metadata": {
    "ExecuteTime": {
     "end_time": "2018-11-08T08:06:52.256255Z",
     "start_time": "2018-11-08T08:06:52.247970Z"
    }
   },
   "outputs": [],
   "source": [
    "# fc.output()"
   ]
  },
  {
   "cell_type": "code",
   "execution_count": 7,
   "metadata": {
    "ExecuteTime": {
     "end_time": "2018-11-08T08:06:52.265224Z",
     "start_time": "2018-11-08T08:06:52.257246Z"
    }
   },
   "outputs": [],
   "source": [
    "# xysel.reductions, xysel.xyAxes"
   ]
  },
  {
   "cell_type": "code",
   "execution_count": 8,
   "metadata": {
    "ExecuteTime": {
     "end_time": "2018-11-08T08:06:52.274201Z",
     "start_time": "2018-11-08T08:06:52.266221Z"
    }
   },
   "outputs": [],
   "source": [
    "# xysel.outputValues()"
   ]
  },
  {
   "cell_type": "code",
   "execution_count": 9,
   "metadata": {
    "ExecuteTime": {
     "end_time": "2018-11-08T08:06:52.282178Z",
     "start_time": "2018-11-08T08:06:52.275198Z"
    }
   },
   "outputs": [],
   "source": [
    "# xysel.ui._getReductions()"
   ]
  },
  {
   "cell_type": "code",
   "execution_count": null,
   "metadata": {},
   "outputs": [],
   "source": []
  }
 ],
 "metadata": {
  "kernelspec": {
   "display_name": "Python 3",
   "language": "python",
   "name": "python3"
  },
  "language_info": {
   "codemirror_mode": {
    "name": "ipython",
    "version": 3
   },
   "file_extension": ".py",
   "mimetype": "text/x-python",
   "name": "python",
   "nbconvert_exporter": "python",
   "pygments_lexer": "ipython3",
   "version": "3.6.6"
  },
  "toc": {
   "base_numbering": 1,
   "nav_menu": {},
   "number_sections": true,
   "sideBar": true,
   "skip_h1_title": false,
   "title_cell": "Table of Contents",
   "title_sidebar": "Contents",
   "toc_cell": false,
   "toc_position": {},
   "toc_section_display": true,
   "toc_window_display": false
  }
 },
 "nbformat": 4,
 "nbformat_minor": 2
}
