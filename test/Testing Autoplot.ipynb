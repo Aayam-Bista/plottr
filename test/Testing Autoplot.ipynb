{
 "cells": [
  {
   "cell_type": "code",
   "execution_count": 1,
   "metadata": {
    "ExecuteTime": {
     "end_time": "2018-11-10T18:57:21.161208Z",
     "start_time": "2018-11-10T18:57:21.130119Z"
    }
   },
   "outputs": [],
   "source": [
    "%gui qt\n",
    "\n",
    "import logging\n",
    "from importlib import reload\n",
    "\n",
    "# from pyqtgraph.flowchart import Flowchart\n",
    "# from pyqtgraph import Qt\n",
    "# from pyqtgraph.Qt import QtGui, QtCore\n",
    "# from pyqtgraph.flowchart import library as fclib\n",
    "# from pyqtgraph.dockarea import Dock, DockArea\n",
    "\n",
    "# from plottr.data import datadict as dd\n",
    "# from plottr.data.datadict import DataDict, MeshgridDataDict\n",
    "\n",
    "# from plottr.node.node import Node\n",
    "# from plottr.node.data_selector import DataSelector\n",
    "# from plottr.node.dim_reducer import XYAxesSelector\n",
    "# from plottr.plot.mpl import PlotNode, AutoPlot"
   ]
  },
  {
   "cell_type": "code",
   "execution_count": 2,
   "metadata": {
    "ExecuteTime": {
     "end_time": "2018-11-10T18:57:24.140214Z",
     "start_time": "2018-11-10T18:57:22.949589Z"
    }
   },
   "outputs": [],
   "source": [
    "import logging; reload(logging)\n",
    "from plottr.apps import autoplot; reload(autoplot)\n",
    "import data\n",
    "\n",
    "### Logging\n",
    "from plottr import log as plottrlog\n",
    "logger = logging.getLogger('plottr.interactive')\n",
    "plottrlog.LEVEL = logging.DEBUG\n",
    "\n",
    "fc, win = autoplot.autoplot()"
   ]
  },
  {
   "cell_type": "code",
   "execution_count": 3,
   "metadata": {
    "ExecuteTime": {
     "end_time": "2018-11-10T18:57:35.262741Z",
     "start_time": "2018-11-10T18:57:35.200030Z"
    }
   },
   "outputs": [
    {
     "ename": "RuntimeError",
     "evalue": "wrapped C/C++ object of type QGraphicsRectItem has been deleted",
     "output_type": "error",
     "traceback": [
      "\u001b[1;31m---------------------------------------------------------------------------\u001b[0m",
      "\u001b[1;31mRuntimeError\u001b[0m                              Traceback (most recent call last)",
      "\u001b[1;32m~\\anaconda3\\envs\\qcodes\\lib\\site-packages\\pyqtgraph\\flowchart\\Flowchart.py\u001b[0m in \u001b[0;36moutputChanged\u001b[1;34m(self)\u001b[0m\n\u001b[0;32m    100\u001b[0m         \u001b[0mvals\u001b[0m \u001b[1;33m=\u001b[0m \u001b[0mself\u001b[0m\u001b[1;33m.\u001b[0m\u001b[0moutputNode\u001b[0m\u001b[1;33m.\u001b[0m\u001b[0minputValues\u001b[0m\u001b[1;33m(\u001b[0m\u001b[1;33m)\u001b[0m\u001b[1;33m\u001b[0m\u001b[0m\n\u001b[0;32m    101\u001b[0m         \u001b[0mself\u001b[0m\u001b[1;33m.\u001b[0m\u001b[0mwidget\u001b[0m\u001b[1;33m(\u001b[0m\u001b[1;33m)\u001b[0m\u001b[1;33m.\u001b[0m\u001b[0moutputChanged\u001b[0m\u001b[1;33m(\u001b[0m\u001b[0mvals\u001b[0m\u001b[1;33m)\u001b[0m\u001b[1;33m\u001b[0m\u001b[0m\n\u001b[1;32m--> 102\u001b[1;33m         \u001b[0mself\u001b[0m\u001b[1;33m.\u001b[0m\u001b[0msetOutput\u001b[0m\u001b[1;33m(\u001b[0m\u001b[1;33m**\u001b[0m\u001b[0mvals\u001b[0m\u001b[1;33m)\u001b[0m\u001b[1;33m\u001b[0m\u001b[0m\n\u001b[0m\u001b[0;32m    103\u001b[0m         \u001b[1;31m#self.sigOutputChanged.emit(self)\u001b[0m\u001b[1;33m\u001b[0m\u001b[1;33m\u001b[0m\u001b[0m\n\u001b[0;32m    104\u001b[0m \u001b[1;33m\u001b[0m\u001b[0m\n",
      "\u001b[1;32m~\\anaconda3\\envs\\qcodes\\lib\\site-packages\\pyqtgraph\\flowchart\\Node.py\u001b[0m in \u001b[0;36msetOutput\u001b[1;34m(self, **vals)\u001b[0m\n\u001b[0;32m    335\u001b[0m \u001b[1;33m\u001b[0m\u001b[0m\n\u001b[0;32m    336\u001b[0m     \u001b[1;32mdef\u001b[0m \u001b[0msetOutput\u001b[0m\u001b[1;33m(\u001b[0m\u001b[0mself\u001b[0m\u001b[1;33m,\u001b[0m \u001b[1;33m**\u001b[0m\u001b[0mvals\u001b[0m\u001b[1;33m)\u001b[0m\u001b[1;33m:\u001b[0m\u001b[1;33m\u001b[0m\u001b[0m\n\u001b[1;32m--> 337\u001b[1;33m         \u001b[0mself\u001b[0m\u001b[1;33m.\u001b[0m\u001b[0msetOutputNoSignal\u001b[0m\u001b[1;33m(\u001b[0m\u001b[1;33m**\u001b[0m\u001b[0mvals\u001b[0m\u001b[1;33m)\u001b[0m\u001b[1;33m\u001b[0m\u001b[0m\n\u001b[0m\u001b[0;32m    338\u001b[0m         \u001b[1;31m#self.emit(QtCore.SIGNAL('outputChanged'), self)  ## triggers flowchart to propagate new data\u001b[0m\u001b[1;33m\u001b[0m\u001b[1;33m\u001b[0m\u001b[0m\n\u001b[0;32m    339\u001b[0m         \u001b[0mself\u001b[0m\u001b[1;33m.\u001b[0m\u001b[0msigOutputChanged\u001b[0m\u001b[1;33m.\u001b[0m\u001b[0memit\u001b[0m\u001b[1;33m(\u001b[0m\u001b[0mself\u001b[0m\u001b[1;33m)\u001b[0m  \u001b[1;31m## triggers flowchart to propagate new data\u001b[0m\u001b[1;33m\u001b[0m\u001b[0m\n",
      "\u001b[1;32m~\\anaconda3\\envs\\qcodes\\lib\\site-packages\\pyqtgraph\\flowchart\\Node.py\u001b[0m in \u001b[0;36msetOutputNoSignal\u001b[1;34m(self, **vals)\u001b[0m\n\u001b[0;32m    342\u001b[0m         \u001b[1;32mfor\u001b[0m \u001b[0mk\u001b[0m\u001b[1;33m,\u001b[0m \u001b[0mv\u001b[0m \u001b[1;32min\u001b[0m \u001b[0mvals\u001b[0m\u001b[1;33m.\u001b[0m\u001b[0mitems\u001b[0m\u001b[1;33m(\u001b[0m\u001b[1;33m)\u001b[0m\u001b[1;33m:\u001b[0m\u001b[1;33m\u001b[0m\u001b[0m\n\u001b[0;32m    343\u001b[0m             \u001b[0mterm\u001b[0m \u001b[1;33m=\u001b[0m \u001b[0mself\u001b[0m\u001b[1;33m.\u001b[0m\u001b[0moutputs\u001b[0m\u001b[1;33m(\u001b[0m\u001b[1;33m)\u001b[0m\u001b[1;33m[\u001b[0m\u001b[0mk\u001b[0m\u001b[1;33m]\u001b[0m\u001b[1;33m\u001b[0m\u001b[0m\n\u001b[1;32m--> 344\u001b[1;33m             \u001b[0mterm\u001b[0m\u001b[1;33m.\u001b[0m\u001b[0msetValue\u001b[0m\u001b[1;33m(\u001b[0m\u001b[0mv\u001b[0m\u001b[1;33m)\u001b[0m\u001b[1;33m\u001b[0m\u001b[0m\n\u001b[0m\u001b[0;32m    345\u001b[0m             \u001b[1;31m#targets = term.connections()\u001b[0m\u001b[1;33m\u001b[0m\u001b[1;33m\u001b[0m\u001b[0m\n\u001b[0;32m    346\u001b[0m             \u001b[1;31m#for t in targets:  ## propagate downstream\u001b[0m\u001b[1;33m\u001b[0m\u001b[1;33m\u001b[0m\u001b[0m\n",
      "\u001b[1;32m~\\anaconda3\\envs\\qcodes\\lib\\site-packages\\pyqtgraph\\flowchart\\Terminal.py\u001b[0m in \u001b[0;36msetValue\u001b[1;34m(self, val, process)\u001b[0m\n\u001b[0;32m     74\u001b[0m                 \u001b[0mself\u001b[0m\u001b[1;33m.\u001b[0m\u001b[0m_value\u001b[0m\u001b[1;33m.\u001b[0m\u001b[0mupdate\u001b[0m\u001b[1;33m(\u001b[0m\u001b[0mval\u001b[0m\u001b[1;33m)\u001b[0m\u001b[1;33m\u001b[0m\u001b[0m\n\u001b[0;32m     75\u001b[0m \u001b[1;33m\u001b[0m\u001b[0m\n\u001b[1;32m---> 76\u001b[1;33m         \u001b[0mself\u001b[0m\u001b[1;33m.\u001b[0m\u001b[0msetValueAcceptable\u001b[0m\u001b[1;33m(\u001b[0m\u001b[1;32mNone\u001b[0m\u001b[1;33m)\u001b[0m  \u001b[1;31m## by default, input values are 'unchecked' until Node.update().\u001b[0m\u001b[1;33m\u001b[0m\u001b[0m\n\u001b[0m\u001b[0;32m     77\u001b[0m         \u001b[1;32mif\u001b[0m \u001b[0mself\u001b[0m\u001b[1;33m.\u001b[0m\u001b[0misInput\u001b[0m\u001b[1;33m(\u001b[0m\u001b[1;33m)\u001b[0m \u001b[1;32mand\u001b[0m \u001b[0mprocess\u001b[0m\u001b[1;33m:\u001b[0m\u001b[1;33m\u001b[0m\u001b[0m\n\u001b[0;32m     78\u001b[0m             \u001b[0mself\u001b[0m\u001b[1;33m.\u001b[0m\u001b[0mnode\u001b[0m\u001b[1;33m(\u001b[0m\u001b[1;33m)\u001b[0m\u001b[1;33m.\u001b[0m\u001b[0mupdate\u001b[0m\u001b[1;33m(\u001b[0m\u001b[1;33m)\u001b[0m\u001b[1;33m\u001b[0m\u001b[0m\n",
      "\u001b[1;32m~\\anaconda3\\envs\\qcodes\\lib\\site-packages\\pyqtgraph\\flowchart\\Terminal.py\u001b[0m in \u001b[0;36msetValueAcceptable\u001b[1;34m(self, v)\u001b[0m\n\u001b[0;32m    119\u001b[0m     \u001b[1;32mdef\u001b[0m \u001b[0msetValueAcceptable\u001b[0m\u001b[1;33m(\u001b[0m\u001b[0mself\u001b[0m\u001b[1;33m,\u001b[0m \u001b[0mv\u001b[0m\u001b[1;33m=\u001b[0m\u001b[1;32mTrue\u001b[0m\u001b[1;33m)\u001b[0m\u001b[1;33m:\u001b[0m\u001b[1;33m\u001b[0m\u001b[0m\n\u001b[0;32m    120\u001b[0m         \u001b[0mself\u001b[0m\u001b[1;33m.\u001b[0m\u001b[0mvalueOk\u001b[0m \u001b[1;33m=\u001b[0m \u001b[0mv\u001b[0m\u001b[1;33m\u001b[0m\u001b[0m\n\u001b[1;32m--> 121\u001b[1;33m         \u001b[0mself\u001b[0m\u001b[1;33m.\u001b[0m\u001b[0mrecolor\u001b[0m\u001b[1;33m(\u001b[0m\u001b[1;33m)\u001b[0m\u001b[1;33m\u001b[0m\u001b[0m\n\u001b[0m\u001b[0;32m    122\u001b[0m \u001b[1;33m\u001b[0m\u001b[0m\n\u001b[0;32m    123\u001b[0m     \u001b[1;32mdef\u001b[0m \u001b[0mconnections\u001b[0m\u001b[1;33m(\u001b[0m\u001b[0mself\u001b[0m\u001b[1;33m)\u001b[0m\u001b[1;33m:\u001b[0m\u001b[1;33m\u001b[0m\u001b[0m\n",
      "\u001b[1;32m~\\anaconda3\\envs\\qcodes\\lib\\site-packages\\pyqtgraph\\flowchart\\Terminal.py\u001b[0m in \u001b[0;36mrecolor\u001b[1;34m(self, color, recurse)\u001b[0m\n\u001b[0;32m    241\u001b[0m             \u001b[1;32melse\u001b[0m\u001b[1;33m:\u001b[0m                                    \u001b[1;31m## terminal has bad input\u001b[0m\u001b[1;33m\u001b[0m\u001b[0m\n\u001b[0;32m    242\u001b[0m                 \u001b[0mcolor\u001b[0m \u001b[1;33m=\u001b[0m \u001b[0mQtGui\u001b[0m\u001b[1;33m.\u001b[0m\u001b[0mQColor\u001b[0m\u001b[1;33m(\u001b[0m\u001b[1;36m200\u001b[0m\u001b[1;33m,\u001b[0m \u001b[1;36m0\u001b[0m\u001b[1;33m,\u001b[0m \u001b[1;36m0\u001b[0m\u001b[1;33m)\u001b[0m\u001b[1;33m\u001b[0m\u001b[0m\n\u001b[1;32m--> 243\u001b[1;33m         \u001b[0mself\u001b[0m\u001b[1;33m.\u001b[0m\u001b[0mgraphicsItem\u001b[0m\u001b[1;33m(\u001b[0m\u001b[1;33m)\u001b[0m\u001b[1;33m.\u001b[0m\u001b[0msetBrush\u001b[0m\u001b[1;33m(\u001b[0m\u001b[0mQtGui\u001b[0m\u001b[1;33m.\u001b[0m\u001b[0mQBrush\u001b[0m\u001b[1;33m(\u001b[0m\u001b[0mcolor\u001b[0m\u001b[1;33m)\u001b[0m\u001b[1;33m)\u001b[0m\u001b[1;33m\u001b[0m\u001b[0m\n\u001b[0m\u001b[0;32m    244\u001b[0m \u001b[1;33m\u001b[0m\u001b[0m\n\u001b[0;32m    245\u001b[0m         \u001b[1;32mif\u001b[0m \u001b[0mrecurse\u001b[0m\u001b[1;33m:\u001b[0m\u001b[1;33m\u001b[0m\u001b[0m\n",
      "\u001b[1;32m~\\anaconda3\\envs\\qcodes\\lib\\site-packages\\pyqtgraph\\flowchart\\Terminal.py\u001b[0m in \u001b[0;36msetBrush\u001b[1;34m(self, brush)\u001b[0m\n\u001b[0;32m    307\u001b[0m     \u001b[1;32mdef\u001b[0m \u001b[0msetBrush\u001b[0m\u001b[1;33m(\u001b[0m\u001b[0mself\u001b[0m\u001b[1;33m,\u001b[0m \u001b[0mbrush\u001b[0m\u001b[1;33m)\u001b[0m\u001b[1;33m:\u001b[0m\u001b[1;33m\u001b[0m\u001b[0m\n\u001b[0;32m    308\u001b[0m         \u001b[0mself\u001b[0m\u001b[1;33m.\u001b[0m\u001b[0mbrush\u001b[0m \u001b[1;33m=\u001b[0m \u001b[0mbrush\u001b[0m\u001b[1;33m\u001b[0m\u001b[0m\n\u001b[1;32m--> 309\u001b[1;33m         \u001b[0mself\u001b[0m\u001b[1;33m.\u001b[0m\u001b[0mbox\u001b[0m\u001b[1;33m.\u001b[0m\u001b[0msetBrush\u001b[0m\u001b[1;33m(\u001b[0m\u001b[0mbrush\u001b[0m\u001b[1;33m)\u001b[0m\u001b[1;33m\u001b[0m\u001b[0m\n\u001b[0m\u001b[0;32m    310\u001b[0m \u001b[1;33m\u001b[0m\u001b[0m\n\u001b[0;32m    311\u001b[0m     \u001b[1;32mdef\u001b[0m \u001b[0mdisconnect\u001b[0m\u001b[1;33m(\u001b[0m\u001b[0mself\u001b[0m\u001b[1;33m,\u001b[0m \u001b[0mtarget\u001b[0m\u001b[1;33m)\u001b[0m\u001b[1;33m:\u001b[0m\u001b[1;33m\u001b[0m\u001b[0m\n",
      "\u001b[1;31mRuntimeError\u001b[0m: wrapped C/C++ object of type QGraphicsRectItem has been deleted"
     ]
    }
   ],
   "source": [
    "d = data.three_compatible_3d_sets(21, 21, 21)\n",
    "# d = dd.datadict_to_meshgrid(d)\n",
    "fc.setInput(dataIn=d)"
   ]
  },
  {
   "cell_type": "code",
   "execution_count": null,
   "metadata": {
    "ExecuteTime": {
     "start_time": "2018-11-10T18:53:01.391Z"
    }
   },
   "outputs": [],
   "source": [
    "# datasel = fc.nodes()['DataSelector.0']"
   ]
  },
  {
   "cell_type": "code",
   "execution_count": null,
   "metadata": {
    "ExecuteTime": {
     "start_time": "2018-11-10T18:53:01.396Z"
    }
   },
   "outputs": [],
   "source": [
    "# datasel.outputValues()"
   ]
  },
  {
   "cell_type": "code",
   "execution_count": null,
   "metadata": {
    "ExecuteTime": {
     "start_time": "2018-11-10T18:53:01.399Z"
    }
   },
   "outputs": [],
   "source": [
    "# Node.raiseExceptions = True\n",
    "# DataSelector.raiseExceptions = True\n",
    "# XYAxesSelector.raiseExceptions = True\n",
    "# PlotNode.raiseExceptions = True\n",
    "\n",
    "# nodelib = fclib.NodeLibrary()\n",
    "# nodelib.addNodeType(DataSelector, [('Basic')])\n",
    "# nodelib.addNodeType(XYAxesSelector, [('Basic')])\n",
    "# nodelib.addNodeType(PlotNode, [('Plot')])\n",
    "\n",
    "# ### Setting up the flowchart\n",
    "\n",
    "# # library\n",
    "# fc = Flowchart(terminals={\n",
    "#     'dataIn': {'io': 'in'},\n",
    "#     'dataOut': {'io': 'out'}\n",
    "# })\n",
    "# fc.library = nodelib\n",
    "\n",
    "# # flowchart for this example\n",
    "# datasel = fc.createNode('DataSelector')\n",
    "# xysel = fc.createNode('XYAxesSelector')\n",
    "# plot = fc.createNode('Plot')\n",
    "\n",
    "# fc.connectTerminals(fc['dataIn'], datasel['dataIn'])\n",
    "# fc.connectTerminals(datasel['dataOut'], xysel['dataIn'])\n",
    "# fc.connectTerminals(xysel['dataOut'], fc['dataOut'])\n",
    "# fc.connectTerminals(xysel['dataOut'], plot['dataIn'])\n",
    "\n",
    "# plotWidget = AutoPlot()\n",
    "# plot.setPlotWidget(plotWidget)\n",
    "\n",
    "\n",
    "# ### Setting up the GUI\n",
    "# win = QtGui.QDialog()\n",
    "# layout = QtGui.QVBoxLayout()\n",
    "# area = DockArea()\n",
    "# layout.addWidget(area)\n",
    "# # win.setCentralWidget(area)\n",
    "# win.setLayout(layout)\n",
    "\n",
    "# dataselDock = Dock('Data Selector')\n",
    "# dataselDock.addWidget(datasel.ui)\n",
    "# area.addDock(dataselDock)\n",
    "\n",
    "# # xy selector\n",
    "# xyselDock = Dock('XY Axes Selector')\n",
    "# xyselDock.addWidget(xysel.ui)\n",
    "# area.addDock(xyselDock, 'bottom', dataselDock)\n",
    "\n",
    "# # logger\n",
    "# logDock = Dock('Log')\n",
    "# logDock.addWidget(plottrlog.setupLogging(makeDialog=False))\n",
    "# area.addDock(logDock, 'bottom', xyselDock)\n",
    "\n",
    "# # plot\n",
    "# plotDock = Dock('Plot')\n",
    "# plotDock.addWidget(plotWidget)\n",
    "# area.addDock(plotDock, 'right')\n",
    "\n",
    "# win.show()\n",
    "\n"
   ]
  },
  {
   "cell_type": "code",
   "execution_count": null,
   "metadata": {
    "ExecuteTime": {
     "end_time": "2018-11-08T08:06:52.233820Z",
     "start_time": "2018-11-08T08:06:52.172982Z"
    }
   },
   "outputs": [],
   "source": []
  },
  {
   "cell_type": "code",
   "execution_count": null,
   "metadata": {
    "ExecuteTime": {
     "end_time": "2018-11-07T21:48:33.481142Z",
     "start_time": "2018-11-07T21:48:33.394374Z"
    }
   },
   "outputs": [],
   "source": []
  },
  {
   "cell_type": "code",
   "execution_count": null,
   "metadata": {},
   "outputs": [],
   "source": []
  },
  {
   "cell_type": "code",
   "execution_count": null,
   "metadata": {
    "ExecuteTime": {
     "start_time": "2018-11-10T18:53:01.410Z"
    }
   },
   "outputs": [],
   "source": [
    "# datasel.selectedData = ['data', 'more_data']"
   ]
  },
  {
   "cell_type": "code",
   "execution_count": null,
   "metadata": {
    "ExecuteTime": {
     "start_time": "2018-11-10T18:53:01.414Z"
    }
   },
   "outputs": [],
   "source": [
    "# xysel.xyAxes = ('x', 'y')"
   ]
  },
  {
   "cell_type": "code",
   "execution_count": null,
   "metadata": {
    "ExecuteTime": {
     "start_time": "2018-11-10T18:53:01.417Z"
    }
   },
   "outputs": [],
   "source": [
    "# fc.output()"
   ]
  },
  {
   "cell_type": "code",
   "execution_count": null,
   "metadata": {
    "ExecuteTime": {
     "start_time": "2018-11-10T18:53:01.419Z"
    }
   },
   "outputs": [],
   "source": [
    "# xysel.reductions, xysel.xyAxes"
   ]
  },
  {
   "cell_type": "code",
   "execution_count": null,
   "metadata": {
    "ExecuteTime": {
     "start_time": "2018-11-10T18:53:01.422Z"
    }
   },
   "outputs": [],
   "source": [
    "# xysel.outputValues()"
   ]
  },
  {
   "cell_type": "code",
   "execution_count": null,
   "metadata": {
    "ExecuteTime": {
     "start_time": "2018-11-10T18:53:01.423Z"
    }
   },
   "outputs": [],
   "source": [
    "# xysel.ui._getReductions()"
   ]
  },
  {
   "cell_type": "code",
   "execution_count": null,
   "metadata": {},
   "outputs": [],
   "source": []
  }
 ],
 "metadata": {
  "kernelspec": {
   "display_name": "Python 3",
   "language": "python",
   "name": "python3"
  },
  "language_info": {
   "codemirror_mode": {
    "name": "ipython",
    "version": 3
   },
   "file_extension": ".py",
   "mimetype": "text/x-python",
   "name": "python",
   "nbconvert_exporter": "python",
   "pygments_lexer": "ipython3",
   "version": "3.6.6"
  },
  "toc": {
   "base_numbering": 1,
   "nav_menu": {},
   "number_sections": true,
   "sideBar": true,
   "skip_h1_title": false,
   "title_cell": "Table of Contents",
   "title_sidebar": "Contents",
   "toc_cell": false,
   "toc_position": {},
   "toc_section_display": true,
   "toc_window_display": false
  }
 },
 "nbformat": 4,
 "nbformat_minor": 2
}
