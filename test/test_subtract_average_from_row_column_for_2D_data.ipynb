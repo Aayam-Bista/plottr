{
 "cells": [
  {
   "cell_type": "markdown",
   "metadata": {},
   "source": [
    "# Subtract average by row/column test\n",
    "\n",
    "This notebook allows to test if subtracting by average from rows or columns of 2D plotted data works.\n",
    "\n",
    "Start the plottr, and execute the code below. Below the code you will find the explanation on what to look at."
   ]
  },
  {
   "cell_type": "code",
   "execution_count": 1,
   "metadata": {},
   "outputs": [],
   "source": [
    "%matplotlib notebook\n",
    "import numpy.random as rd\n",
    "import matplotlib.pyplot as plt\n",
    "from functools import partial\n",
    "import numpy as np\n",
    "\n",
    "from time import sleep, monotonic\n",
    "\n",
    "import qcodes as qc\n",
    "from qcodes import Station\n",
    "from qcodes.dataset.experiment_container import (Experiment,\n",
    "                                                 load_last_experiment,\n",
    "                                                 new_experiment)\n",
    "\n",
    "from qcodes.dataset.database import initialise_database\n",
    "from qcodes.tests.instrument_mocks import DummyInstrument\n",
    "from qcodes.dataset.param_spec import ParamSpec\n",
    "from qcodes.dataset.measurements import Measurement\n",
    "from qcodes.dataset.plotting import plot_by_id\n",
    "from qcodes.dataset.data_export import get_shaped_data_by_runid\n",
    "\n",
    "# Plive plotting specific imports \n",
    "import plottr\n",
    "from plottr.qcodes_dataset import QcodesDatasetSubscriber as LivePlotSubscriber "
   ]
  },
  {
   "cell_type": "code",
   "execution_count": 2,
   "metadata": {},
   "outputs": [
    {
     "data": {
      "text/plain": [
       "tutorial_exp#no sample#25@C:\\Users\\a-miasta/experiments.db\n",
       "----------------------------------------------------------"
      ]
     },
     "execution_count": 2,
     "metadata": {},
     "output_type": "execute_result"
    }
   ],
   "source": [
    "initialise_database()\n",
    "new_experiment(name='tutorial_exp', sample_name=\"no sample\")"
   ]
  },
  {
   "cell_type": "code",
   "execution_count": 3,
   "metadata": {},
   "outputs": [],
   "source": [
    "# preparatory mocking of physical setup\n",
    "\n",
    "dac = DummyInstrument('dac', gates=['x', 'y'])\n",
    "dmm = DummyInstrument('dmm', gates=['model_row_value', 'model_column_value'])\n",
    "\n",
    "station = qc.Station(dmm, dac)"
   ]
  },
  {
   "cell_type": "code",
   "execution_count": 4,
   "metadata": {},
   "outputs": [],
   "source": [
    "meas = Measurement()\n",
    "meas.register_parameter(dac.x)  # register the first independent parameter\n",
    "meas.register_parameter(dac.y)  # register the second independent parameter\n",
    "meas.register_parameter(dmm.model_row_value, setpoints=(dac.x, dac.y))  # now register the dependent one\n",
    "meas.register_parameter(dmm.model_column_value, setpoints=(dac.x, dac.y))  # now register the dependent one"
   ]
  },
  {
   "cell_type": "code",
   "execution_count": 5,
   "metadata": {},
   "outputs": [],
   "source": [
    "# add sample models with depend only on x or y\n",
    "\n",
    "def model_with_rows():\n",
    "    while True:\n",
    "        (x, y) = yield\n",
    "        yield -5 + y\n",
    "\n",
    "def model_with_columns():\n",
    "    while True:\n",
    "        (x, y) = yield\n",
    "        yield 5 + x"
   ]
  },
  {
   "cell_type": "code",
   "execution_count": 6,
   "metadata": {},
   "outputs": [],
   "source": [
    "# and finally wire up the models to dmm channels\n",
    "\n",
    "model_row = model_with_rows()\n",
    "next(model_row)\n",
    "\n",
    "model_column = model_with_columns()\n",
    "next(model_column)\n",
    "\n",
    "def measure_model_row(dac):\n",
    "    val = model_row.send((dac.x.get(), dac.y.get()))\n",
    "    next(model_row)\n",
    "    return val\n",
    "\n",
    "def measure_model_column(dac):\n",
    "    val = model_column.send((dac.x.get(), dac.y.get()))\n",
    "    next(model_column)\n",
    "    return val\n",
    "\n",
    "dmm.model_row_value.get = partial(measure_model_row, dac)\n",
    "dmm.model_column_value.get = partial(measure_model_column, dac)"
   ]
  },
  {
   "cell_type": "code",
   "execution_count": 7,
   "metadata": {},
   "outputs": [
    {
     "name": "stdout",
     "output_type": "stream",
     "text": [
      "Starting experimental run with id: 62\n"
     ]
    }
   ],
   "source": [
    "# run a 2D sweep\n",
    "\n",
    "with meas.run() as datasaver:\n",
    "    \n",
    "    datasaver.dataset.subscribe(\n",
    "        LivePlotSubscriber(datasaver.dataset),\n",
    "        state=[], min_wait=0, min_count=1\n",
    "    )\n",
    "\n",
    "    for x_val in np.linspace(-1, 1, 80):\n",
    "        for y_val in np.linspace(-1, 1, 100):\n",
    "            dac.x(x_val)\n",
    "            dac.y(y_val)\n",
    "            \n",
    "            row_val = dmm.model_row_value.get()\n",
    "            column_val = dmm.model_column_value.get()\n",
    "            \n",
    "            datasaver.add_result((dac.x, x_val),\n",
    "                                 (dac.y, y_val),\n",
    "                                 (dmm.model_row_value, row_val),\n",
    "                                 (dmm.model_column_value, column_val))\n",
    "            \n",
    "    dataid = datasaver.run_id"
   ]
  },
  {
   "cell_type": "markdown",
   "metadata": {},
   "source": [
    "## How to check that everything works?\n",
    "\n",
    "The plottr window will plot the dataset with two measured parameters, each is a colormap of 2D data. Horizontal axis should be `dac_x`, vertical axis should be `dac_y`. One of the datasets, `dmm_model_column_value`, contains data which values grow along horizontal (x) axis, and in the other dataset, `dmm_model_row_value`, the values grow along vertical (y) axis. Click on each of them to explore the data.\n",
    "\n",
    "### Test 0:\n",
    "\n",
    "The radio button `None` should be clicked now in the `Subtract average` box. This means that subtracting average is not performed, hence the plotted data is not modified.\n",
    "\n",
    "### Test 1:\n",
    "\n",
    "* Select `dmm_model_column_value`. Values span from `4.0` to `6.0` and grow along the horizontal `dac_x` axis.\n",
    "* Press `From each row` button in the `Subtract average` box. The data will look similar but now the values will span between `-1.0` and `1.0`.\n",
    "* Press `From each column` button, and the data will look corrupted, with vertical stripes.\n",
    "\n",
    "### Test 2:\n",
    "\n",
    "* Select `dmm_model_row_value`. Values span from `-6.0` to `-4.0` and grow along the vertical `dac_y` axis.\n",
    "* Press `From each column` button in the `Subtract average` box. The data will look similar but now the values will span between `-1.0` and `1.0`.\n",
    "* Press `From each row` button, and the data will look corrupted, with horizontal stripes."
   ]
  }
 ],
 "metadata": {
  "kernelspec": {
   "display_name": "Python [conda env:qcodes]",
   "language": "python",
   "name": "conda-env-qcodes-py"
  },
  "language_info": {
   "codemirror_mode": {
    "name": "ipython",
    "version": 3
   },
   "file_extension": ".py",
   "mimetype": "text/x-python",
   "name": "python",
   "nbconvert_exporter": "python",
   "pygments_lexer": "ipython3",
   "version": "3.6.5"
  },
  "toc": {
   "base_numbering": 1,
   "nav_menu": {},
   "number_sections": true,
   "sideBar": true,
   "skip_h1_title": false,
   "title_cell": "Table of Contents",
   "title_sidebar": "Contents",
   "toc_cell": false,
   "toc_position": {},
   "toc_section_display": true,
   "toc_window_display": false
  }
 },
 "nbformat": 4,
 "nbformat_minor": 2
}
