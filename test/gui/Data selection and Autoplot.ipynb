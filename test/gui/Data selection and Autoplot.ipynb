{
 "cells": [
  {
   "cell_type": "code",
   "execution_count": 1,
   "metadata": {
    "ExecuteTime": {
     "end_time": "2018-07-31T20:15:46.543315Z",
     "start_time": "2018-07-31T20:15:46.527693Z"
    }
   },
   "outputs": [],
   "source": [
    "%gui qt"
   ]
  },
  {
   "cell_type": "code",
   "execution_count": 53,
   "metadata": {
    "ExecuteTime": {
     "end_time": "2018-08-01T22:39:12.914665Z",
     "start_time": "2018-08-01T22:39:12.899016Z"
    }
   },
   "outputs": [],
   "source": [
    "from importlib import reload\n",
    "from pprint import pprint\n",
    "\n",
    "import numpy as np\n",
    "from matplotlib import pyplot as plt\n",
    "\n",
    "import pyqtgraph as pg\n",
    "from pyqtgraph.flowchart import Flowchart, Node as pgNode\n",
    "from pyqtgraph import Qt\n",
    "from pyqtgraph.Qt import QtGui, QtCore\n",
    "from pyqtgraph.flowchart import library as fclib"
   ]
  },
  {
   "cell_type": "code",
   "execution_count": null,
   "metadata": {},
   "outputs": [],
   "source": []
  },
  {
   "cell_type": "code",
   "execution_count": 3,
   "metadata": {
    "ExecuteTime": {
     "end_time": "2018-08-01T22:39:27.188672Z",
     "start_time": "2018-08-01T22:39:27.150957Z"
    }
   },
   "outputs": [],
   "source": [
    "def testdata_1d(nvals=11):\n",
    "    x = np.linspace(0, 10, nvals)\n",
    "    y = np.cos(x)\n",
    "    z = np.cos(x)**2\n",
    "    d = DataDict(\n",
    "        x = {'values' : x},\n",
    "        y = {'values' : y, 'axes' : ['x']},\n",
    "        z = {'values' : z, 'axes' : ['x']},\n",
    "    )\n",
    "    return d\n",
    "\n",
    "def testdata_3d(nx=3, ny=3, nz=3, rand_factor=1):\n",
    "    x = np.linspace(0, 10, nx)\n",
    "    y = np.linspace(-5, 5, ny)\n",
    "    z = np.arange(nz)\n",
    "    xx, yy, zz = np.meshgrid(x, y, z, indexing='ij')\n",
    "    dd = np.cos(xx) * np.sin(yy) + rand_factor * np.random.rand(*zz.shape)\n",
    "    dd2 = np.sin(xx) * np.cos(yy) + rand_factor * np.random.rand(*zz.shape)\n",
    "    d = DataDict(\n",
    "        x = dict(values=xx.reshape(-1), unit='mX'),\n",
    "        y = dict(values=yy.reshape(-1), unit='kY'),\n",
    "        z = dict(values=zz.reshape(-1), unit='MZ'),\n",
    "        data = dict(values=dd.reshape(-1), axes=['x', 'y', 'z'], unit='OMFG'),\n",
    "        more_data = dict(values=dd2.reshape(-1), axes=['x', 'y', 'z'], unit='WTF'),\n",
    "        different_data = dict(values=dd2.T.reshape(-1), axes=['z', 'y', 'x'], unit='FML')\n",
    "    )\n",
    "    return d"
   ]
  },
  {
   "cell_type": "code",
   "execution_count": null,
   "metadata": {},
   "outputs": [],
   "source": []
  },
  {
   "cell_type": "code",
   "execution_count": null,
   "metadata": {},
   "outputs": [],
   "source": []
  },
  {
   "cell_type": "code",
   "execution_count": 99,
   "metadata": {},
   "outputs": [],
   "source": [
    "from plottr.data import datadict; reload(datadict)\n",
    "from plottr.data.datadict import togrid, DataDict, GridDataDict\n",
    "\n",
    "from plottr.node import node; reload(node)\n",
    "from plottr.node.node import Node, NodesWidget\n",
    "\n",
    "from plottr.node import data_selector; reload(data_selector)\n",
    "from plottr.node.data_selector import DataSelector\n",
    "\n",
    "from plottr.node import xy_axes_selector; reload(xy_axes_selector)\n",
    "from plottr.node.xy_axes_selector import DimensionReducer"
   ]
  },
  {
   "cell_type": "markdown",
   "metadata": {},
   "source": [
    "# Simple DataSelector Test"
   ]
  },
  {
   "cell_type": "code",
   "execution_count": null,
   "metadata": {},
   "outputs": [],
   "source": []
  },
  {
   "cell_type": "markdown",
   "metadata": {
    "ExecuteTime": {
     "end_time": "2018-07-22T11:49:46.637513Z",
     "start_time": "2018-07-22T11:49:46.624562Z"
    }
   },
   "source": [
    "# Combine DataSelector and DimensionReducer"
   ]
  },
  {
   "cell_type": "code",
   "execution_count": 100,
   "metadata": {},
   "outputs": [],
   "source": [
    "def testdata_2d(nx=10, ny=10):\n",
    "    x = np.linspace(0, 10, nx)\n",
    "    y = np.arange(ny)\n",
    "    \n",
    "    xx, yy = np.meshgrid(x, y, indexing='ij')\n",
    "    dd = np.cos(xx) + (-0.05 + 0.1 * np.random.rand(*yy.shape))\n",
    "    dd2 = np.sin(xx) + (-0.5 + 1 * np.random.rand(*yy.shape))\n",
    "    \n",
    "    d = DataDict(\n",
    "        x = dict(values=xx.reshape(-1)),\n",
    "        y = dict(values=yy.reshape(-1)),\n",
    "        cos_data = dict(values=dd.reshape(-1), axes=['x', 'y']),\n",
    "        sin_data = dict(values=dd2.reshape(-1), axes=['x', 'y']),\n",
    "    )\n",
    "    return d\n",
    "\n",
    "data_in = testdata_2d(21, 500)"
   ]
  },
  {
   "cell_type": "code",
   "execution_count": 101,
   "metadata": {
    "ExecuteTime": {
     "end_time": "2018-08-01T22:43:53.242403Z",
     "start_time": "2018-08-01T22:43:53.110896Z"
    },
    "scrolled": true
   },
   "outputs": [],
   "source": [
    "Node.raiseExceptions = True\n",
    "Node.debug = True\n",
    "DataSelector.debug = True\n",
    "\n",
    "nodelib = fclib.NodeLibrary()\n",
    "nodelib.addNodeType(DataSelector, [('Basic')])\n",
    "nodelib.addNodeType(DimensionReducer, [('Basic')])\n",
    "\n",
    "fc = Flowchart(terminals={\n",
    "    'dataIn': {'io': 'in'},\n",
    "    'dataOut': {'io': 'out'}\n",
    "})\n",
    "fc.library = nodelib\n",
    "\n",
    "selector = fc.createNode('DataSelector')\n",
    "dim_reduce = fc.createNode('DimensionReducer')\n",
    "\n",
    "fc.connectTerminals(fc['dataIn'], selector['dataIn'])\n",
    "fc.connectTerminals(selector['dataOut'], dim_reduce['dataIn'])\n",
    "fc.connectTerminals(dim_reduce['dataOut'], fc['dataOut'])\n",
    "\n",
    "dialog = QtGui.QDialog()\n",
    "nw = NodesWidget()\n",
    "nw.addNodeWidget(selector, 'Data Selector')\n",
    "layout = QtGui.QVBoxLayout(dialog)\n",
    "layout.addWidget(nw)\n",
    "dialog.show()\n",
    "\n",
    "fc.setInput(dataIn=data_in)"
   ]
  },
  {
   "cell_type": "code",
   "execution_count": 113,
   "metadata": {
    "ExecuteTime": {
     "end_time": "2018-07-31T20:43:26.189000Z",
     "start_time": "2018-07-31T20:43:26.110756Z"
    },
    "scrolled": false
   },
   "outputs": [
    {
     "data": {
      "image/png": "[encoded data removed]",
      "text/plain": [
       "<Figure size 432x288 with 1 Axes>"
      ]
     },
     "metadata": {
      "needs_background": "light"
     },
     "output_type": "display_data"
    }
   ],
   "source": [
    "selector.grid = True\n",
    "selector.selectedData = [\n",
    "    'sin_data', \n",
    "    'cos_data',\n",
    "]\n",
    "\n",
    "dim_reduce.targetNames = ['sin_data']\n",
    "dim_reduce.reductions = {\n",
    "    'y' : (np.mean,),\n",
    "}\n",
    "\n",
    "data_out = fc.output()['dataOut']\n",
    "\n",
    "fig, ax = plt.subplots(1,1)\n",
    "_ = ax.plot(data_out['x']['values'], data_out['cos_data']['values'], 'r.')\n",
    "_ = ax.plot(data_out['x']['values'], data_out['sin_data']['values'], 'b.')"
   ]
  },
  {
   "cell_type": "code",
   "execution_count": 115,
   "metadata": {
    "ExecuteTime": {
     "end_time": "2018-08-01T22:44:35.753246Z",
     "start_time": "2018-08-01T22:44:35.715595Z"
    }
   },
   "outputs": [],
   "source": [
    "# data_out"
   ]
  },
  {
   "cell_type": "code",
   "execution_count": null,
   "metadata": {},
   "outputs": [],
   "source": []
  },
  {
   "cell_type": "code",
   "execution_count": null,
   "metadata": {},
   "outputs": [],
   "source": []
  },
  {
   "cell_type": "code",
   "execution_count": null,
   "metadata": {},
   "outputs": [],
   "source": []
  },
  {
   "cell_type": "code",
   "execution_count": null,
   "metadata": {},
   "outputs": [],
   "source": []
  }
 ],
 "metadata": {
  "hide_input": false,
  "kernelspec": {
   "display_name": "Python 3",
   "language": "python",
   "name": "python3"
  },
  "language_info": {
   "codemirror_mode": {
    "name": "ipython",
    "version": 3
   },
   "file_extension": ".py",
   "mimetype": "text/x-python",
   "name": "python",
   "nbconvert_exporter": "python",
   "pygments_lexer": "ipython3",
   "version": "3.6.6"
  },
  "toc": {
   "base_numbering": 1,
   "nav_menu": {},
   "number_sections": true,
   "sideBar": true,
   "skip_h1_title": false,
   "title_cell": "Table of Contents",
   "title_sidebar": "Contents",
   "toc_cell": false,
   "toc_position": {},
   "toc_section_display": true,
   "toc_window_display": false
  }
 },
 "nbformat": 4,
 "nbformat_minor": 2
}
