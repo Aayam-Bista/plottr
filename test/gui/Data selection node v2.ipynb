{
 "cells": [
  {
   "cell_type": "code",
   "execution_count": 1,
   "metadata": {
    "ExecuteTime": {
     "end_time": "2018-07-31T20:15:46.543315Z",
     "start_time": "2018-07-31T20:15:46.527693Z"
    }
   },
   "outputs": [],
   "source": [
    "%gui qt"
   ]
  },
  {
   "cell_type": "code",
   "execution_count": 53,
   "metadata": {
    "ExecuteTime": {
     "end_time": "2018-08-01T22:39:12.914665Z",
     "start_time": "2018-08-01T22:39:12.899016Z"
    }
   },
   "outputs": [],
   "source": [
    "from importlib import reload\n",
    "from pprint import pprint\n",
    "\n",
    "import numpy as np\n",
    "\n",
    "import pyqtgraph as pg\n",
    "from pyqtgraph.flowchart import Flowchart, Node as pgNode\n",
    "from pyqtgraph import Qt\n",
    "from pyqtgraph.Qt import QtGui, QtCore\n",
    "from pyqtgraph.flowchart import library as fclib"
   ]
  },
  {
   "cell_type": "code",
   "execution_count": null,
   "metadata": {},
   "outputs": [],
   "source": []
  },
  {
   "cell_type": "code",
   "execution_count": 55,
   "metadata": {
    "ExecuteTime": {
     "end_time": "2018-08-01T22:39:27.188672Z",
     "start_time": "2018-08-01T22:39:27.150957Z"
    }
   },
   "outputs": [],
   "source": [
    "def testdata_1d(nvals=11):\n",
    "    x = np.linspace(0, 10, nvals)\n",
    "    y = np.cos(x)\n",
    "    z = np.cos(x)**2\n",
    "    d = DataDict(\n",
    "        x = {'values' : x},\n",
    "        y = {'values' : y, 'axes' : ['x']},\n",
    "        z = {'values' : z, 'axes' : ['x']},\n",
    "    )\n",
    "    return d\n",
    "\n",
    "def testdata_3d(nx=3, ny=3, nz=3, rand_factor=1):\n",
    "    x = np.linspace(0, 10, nx)\n",
    "    y = np.linspace(-5, 5, ny)\n",
    "    z = np.arange(nz)\n",
    "    xx, yy, zz = np.meshgrid(x, y, z, indexing='ij')\n",
    "    dd = np.cos(xx) * np.sin(yy) + rand_factor * np.random.rand(*zz.shape)\n",
    "    dd2 = np.sin(xx) * np.cos(yy) + rand_factor * np.random.rand(*zz.shape)\n",
    "    d = DataDict(\n",
    "        x = dict(values=xx.reshape(-1), unit='mX'),\n",
    "        y = dict(values=yy.reshape(-1), unit='kY'),\n",
    "        z = dict(values=zz.reshape(-1), unit='MZ'),\n",
    "        data = dict(values=dd.reshape(-1), axes=['x', 'y', 'z'], unit='OMFG'),\n",
    "        more_data = dict(values=dd2.reshape(-1), axes=['x', 'y', 'z'], unit='WTF'),\n",
    "        different_data = dict(values=dd2.T.reshape(-1), axes=['z', 'y', 'x'], unit='FML')\n",
    "    )\n",
    "    return d"
   ]
  },
  {
   "cell_type": "code",
   "execution_count": null,
   "metadata": {
    "ExecuteTime": {
     "end_time": "2018-07-22T11:49:46.637513Z",
     "start_time": "2018-07-22T11:49:46.624562Z"
    }
   },
   "outputs": [],
   "source": []
  },
  {
   "cell_type": "code",
   "execution_count": 58,
   "metadata": {
    "ExecuteTime": {
     "end_time": "2018-08-01T22:43:53.242403Z",
     "start_time": "2018-08-01T22:43:53.110896Z"
    },
    "scrolled": true
   },
   "outputs": [
    {
     "name": "stdout",
     "output_type": "stream",
     "text": [
      "setting ['data']\n",
      "setting []\n",
      "setting ['more_data']\n",
      "setting ['data', 'more_data']\n"
     ]
    }
   ],
   "source": [
    "from plottr.data import datadict; reload(datadict)\n",
    "from plottr.data.datadict import togrid, DataDict, GridDataDict\n",
    "\n",
    "from plottr.node import node; reload(node)\n",
    "from plottr.node.node import Node, NodesWidget\n",
    "\n",
    "from plottr.node import data_selector; reload(data_selector)\n",
    "from plottr.node.data_selector import DataSelector\n",
    "\n",
    "from plottr.plot import mpl; reload(mpl)\n",
    "from plottr.plot.mpl import PlotNode, MPLPlotWidget, AutoPlot\n",
    "\n",
    "Node.raiseExceptions = True\n",
    "Node.debug = True\n",
    "DataSelector.debug = True\n",
    "# XYSelectorWidget.debug = True\n",
    "\n",
    "nodelib = fclib.NodeLibrary()\n",
    "nodelib.addNodeType(Node, [('Basic')])\n",
    "nodelib.addNodeType(DataSelector, [('Basic')])\n",
    "nodelib.addNodeType(PlotNode, [('Plotting')])\n",
    "\n",
    "fc = Flowchart(terminals={\n",
    "    'dataIn': {'io': 'in'},\n",
    "    'dataOut': {'io': 'out'}\n",
    "})\n",
    "fc.library = nodelib\n",
    "\n",
    "selector = fc.createNode('DataSelector')\n",
    "plot = fc.createNode('Plot')\n",
    "\n",
    "fc.connectTerminals(fc['dataIn'], selector['dataIn'])\n",
    "fc.connectTerminals(selector['dataOut'], fc['dataOut'])\n",
    "# fc.connectTerminals(selector['dataOut'], plot['dataIn'])\n",
    "\n",
    "\n",
    "dialog = QtGui.QDialog()\n",
    "nw = NodesWidget()\n",
    "nw.addNodeWidget(selector, 'Data Selector')\n",
    "layout = QtGui.QVBoxLayout(dialog)\n",
    "layout.addWidget(nw)\n",
    "dialog.show()\n",
    "\n",
    "# plot.setPlotWidget(plotWidget)\n",
    "\n",
    "data = testdata_3d(3, 3, 3, rand_factor=0.2)\n",
    "fc.setInput(dataIn=data)"
   ]
  },
  {
   "cell_type": "code",
   "execution_count": 21,
   "metadata": {
    "ExecuteTime": {
     "end_time": "2018-07-31T20:43:26.189000Z",
     "start_time": "2018-07-31T20:43:26.110756Z"
    }
   },
   "outputs": [],
   "source": [
    "# selector.grid = False\n",
    "selector.selectedData = ['data', 'more_data'] # , 'different_data']"
   ]
  },
  {
   "cell_type": "code",
   "execution_count": 61,
   "metadata": {
    "ExecuteTime": {
     "end_time": "2018-08-01T22:44:35.753246Z",
     "start_time": "2018-08-01T22:44:35.715595Z"
    }
   },
   "outputs": [
    {
     "data": {
      "text/plain": [
       "{'dataOut': {'x': {'values': array([  0.,   5.,  10.]),\n",
       "   'unit': 'mX',\n",
       "   'axes': [],\n",
       "   'info': {}},\n",
       "  'y': {'values': array([-5.,  0.,  5.]),\n",
       "   'unit': 'kY',\n",
       "   'axes': [],\n",
       "   'info': {}},\n",
       "  'z': {'values': array([0, 1, 2], dtype=int64),\n",
       "   'unit': 'MZ',\n",
       "   'axes': [],\n",
       "   'info': {}},\n",
       "  'data': {'values': array([[[ 1.00172729,  0.96839158,  0.98016522],\n",
       "           [ 0.01249411,  0.14521082,  0.04242493],\n",
       "           [-0.83726894, -0.81122028, -0.84605332]],\n",
       "   \n",
       "          [[ 0.31328769,  0.30615324,  0.29841059],\n",
       "           [ 0.04793033,  0.10623407,  0.00520688],\n",
       "           [-0.1986886 , -0.269005  , -0.18239835]],\n",
       "   \n",
       "          [[-0.79333749, -0.74227083, -0.72038551],\n",
       "           [ 0.16642894,  0.0724363 ,  0.10031712],\n",
       "           [ 0.92850043,  0.97718777,  0.84651846]]]),\n",
       "   'axes': ['x', 'y', 'z'],\n",
       "   'unit': 'OMFG',\n",
       "   'info': {}},\n",
       "  'more_data': {'values': array([[[ 0.17255104,  0.15242535,  0.16651535],\n",
       "           [ 0.19828339,  0.16986197,  0.05571486],\n",
       "           [ 0.104587  ,  0.1589158 ,  0.00977118]],\n",
       "   \n",
       "          [[-0.20746903, -0.20473152, -0.16667571],\n",
       "           [-0.88656981, -0.93388909, -0.92065599],\n",
       "           [-0.20896041, -0.09723663, -0.14121679]],\n",
       "   \n",
       "          [[-0.13854291, -0.10981032, -0.05252288],\n",
       "           [-0.46861983, -0.42773168, -0.42757222],\n",
       "           [-0.12076245, -0.07101393, -0.0559523 ]]]),\n",
       "   'axes': ['x', 'y', 'z'],\n",
       "   'unit': 'WTF',\n",
       "   'info': {}}}}"
      ]
     },
     "execution_count": 61,
     "metadata": {},
     "output_type": "execute_result"
    }
   ],
   "source": [
    "fc.output()"
   ]
  },
  {
   "cell_type": "code",
   "execution_count": 23,
   "metadata": {
    "ExecuteTime": {
     "end_time": "2018-07-31T20:43:34.987558Z",
     "start_time": "2018-07-31T20:43:34.925066Z"
    }
   },
   "outputs": [],
   "source": [
    "data = togrid(testdata_3d(3, 3, 3, rand_factor=0.2), names=['data'])\n",
    "data = testdata_3d(3, 3, 3, rand_factor=0.2)\n",
    "fc.setInput(dataIn=data)"
   ]
  },
  {
   "cell_type": "code",
   "execution_count": null,
   "metadata": {},
   "outputs": [],
   "source": []
  },
  {
   "cell_type": "code",
   "execution_count": 63,
   "metadata": {
    "ExecuteTime": {
     "end_time": "2018-08-03T19:14:28.779111Z",
     "start_time": "2018-08-03T19:14:28.763245Z"
    }
   },
   "outputs": [
    {
     "data": {
      "text/plain": [
       "0.6689717585696803"
      ]
     },
     "execution_count": 63,
     "metadata": {},
     "output_type": "execute_result"
    }
   ],
   "source": [
    "0.99 ** 40"
   ]
  },
  {
   "cell_type": "code",
   "execution_count": null,
   "metadata": {},
   "outputs": [],
   "source": []
  }
 ],
 "metadata": {
  "hide_input": false,
  "kernelspec": {
   "display_name": "Python [default]",
   "language": "python",
   "name": "python3"
  },
  "language_info": {
   "codemirror_mode": {
    "name": "ipython",
    "version": 3
   },
   "file_extension": ".py",
   "mimetype": "text/x-python",
   "name": "python",
   "nbconvert_exporter": "python",
   "pygments_lexer": "ipython3",
   "version": "3.6.6"
  },
  "toc": {
   "base_numbering": 1,
   "nav_menu": {},
   "number_sections": true,
   "sideBar": true,
   "skip_h1_title": false,
   "title_cell": "Table of Contents",
   "title_sidebar": "Contents",
   "toc_cell": false,
   "toc_position": {},
   "toc_section_display": true,
   "toc_window_display": false
  }
 },
 "nbformat": 4,
 "nbformat_minor": 2
}
