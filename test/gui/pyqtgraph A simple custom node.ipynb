{
 "cells": [
  {
   "cell_type": "code",
   "execution_count": 1,
   "metadata": {
    "ExecuteTime": {
     "end_time": "2018-07-13T21:38:05.269154Z",
     "start_time": "2018-07-13T21:38:05.263170Z"
    }
   },
   "outputs": [],
   "source": [
    "%gui qt"
   ]
  },
  {
   "cell_type": "code",
   "execution_count": 2,
   "metadata": {
    "ExecuteTime": {
     "end_time": "2018-07-13T21:38:05.912466Z",
     "start_time": "2018-07-13T21:38:05.304061Z"
    }
   },
   "outputs": [],
   "source": [
    "from importlib import reload\n",
    "\n",
    "import numpy as np\n",
    "\n",
    "import pyqtgraph as pg\n",
    "from pyqtgraph.flowchart import Flowchart, Node as pgNode\n",
    "from pyqtgraph.Qt import QtGui, QtCore\n",
    "from pyqtgraph.flowchart import library as fclib\n",
    "\n",
    "from plottr.data import datadict; reload(datadict)\n",
    "from plottr.data.datadict import togrid, DataDict, GridDataDict"
   ]
  },
  {
   "cell_type": "code",
   "execution_count": null,
   "metadata": {},
   "outputs": [],
   "source": []
  },
  {
   "cell_type": "code",
   "execution_count": 11,
   "metadata": {
    "ExecuteTime": {
     "end_time": "2018-07-13T21:42:25.996540Z",
     "start_time": "2018-07-13T21:42:25.989558Z"
    }
   },
   "outputs": [],
   "source": [
    "def testdata_1d(nvals=11):\n",
    "    x = np.linspace(0, 10, nvals)\n",
    "    y = np.cos(x)\n",
    "    z = np.cos(x)**2\n",
    "    d = DataDict(\n",
    "        x = {'values' : x},\n",
    "        y = {'values' : y, 'axes' : ['x']},\n",
    "        z = {'values' : z, 'axes' : ['x']},\n",
    "    )\n",
    "    return d\n",
    "\n",
    "def testdata_3d(nx=3, ny=3, nz=3):\n",
    "    x = np.linspace(0, 10, nx)\n",
    "    y = np.linspace(-5, 5, ny)\n",
    "    z = np.arange(nz)\n",
    "    xx, yy, zz = np.meshgrid(x, y, z, indexing='ij')\n",
    "    dd = np.cos(xx) * np.sin(yy) + np.random.rand(*zz.shape)\n",
    "    dd2 = np.sin(xx) * np.cos(yy) + np.random.rand(*zz.shape)\n",
    "    d = DataDict(\n",
    "        x = dict(values=xx.reshape(-1)),\n",
    "        y = dict(values=yy.reshape(-1)),\n",
    "        z = dict(values=zz.reshape(-1)),\n",
    "        data = dict(values=dd.reshape(-1), axes=['x', 'y', 'z']),\n",
    "        more_data = dict(values=dd2.reshape(-1), axes=['x', 'y', 'z']),\n",
    "        different_data = dict(values=dd2.T.reshape(-1), axes=['z', 'y', 'x'])\n",
    "    )\n",
    "    return d"
   ]
  },
  {
   "cell_type": "code",
   "execution_count": 26,
   "metadata": {
    "ExecuteTime": {
     "end_time": "2018-07-13T21:47:28.530234Z",
     "start_time": "2018-07-13T21:47:28.500198Z"
    }
   },
   "outputs": [],
   "source": [
    "class Node(pgNode):\n",
    "    \n",
    "    nodeName = \"DataDictNode\"\n",
    "    terminals = {\n",
    "        'dataIn' : {'io' : 'in'},\n",
    "        'dataOut' : {'io' : 'out'},\n",
    "    }\n",
    "    \n",
    "    def __init__(self, name):\n",
    "        super().__init__(name, terminals=self.__class__.terminals)\n",
    "        \n",
    "        self.raiseExceptions = False\n",
    "        self.signalUpdate = True\n",
    "        \n",
    "        self._grid = False\n",
    "        self._gridData = None\n",
    "        \n",
    "    \n",
    "    def updateOption(func):\n",
    "        def wrap(self, val):\n",
    "            ret = func(self, val)\n",
    "            self.update(self.signalUpdate)\n",
    "            return ret\n",
    "        return wrap\n",
    "    \n",
    "    def update(self, signal=True):\n",
    "        super().update(signal=signal)\n",
    "        if self.raiseExceptions and self.exception is not None:\n",
    "            raise self.exception[1]\n",
    "    \n",
    "    @property\n",
    "    def grid(self):\n",
    "        return self._grid\n",
    "\n",
    "    @grid.setter\n",
    "    @updateOption\n",
    "    def grid(self, val):\n",
    "        self._grid = val\n",
    "    \n",
    "    @property\n",
    "    def gridData(self):\n",
    "        return self._gridData\n",
    "\n",
    "    @gridData.setter\n",
    "    @updateOption\n",
    "    def gridData(self, val):\n",
    "        self._gridData = val\n",
    "    \n",
    "    def process(self, **kw):\n",
    "        ret = kw['dataIn']\n",
    "        if self.grid:\n",
    "            ret = togrid(ret, names=self.gridData)\n",
    "        \n",
    "        return dict(dataOut=ret)\n",
    "    \n",
    "\n",
    "nodelib = fclib.NodeLibrary()\n",
    "nodelib.addNodeType(Node, [('Basic')])\n",
    "\n",
    "fc = Flowchart(terminals={\n",
    "    'dataIn': {'io': 'in'},\n",
    "    'dataOut': {'io': 'out'}\n",
    "})\n",
    "fc.library = nodelib\n",
    "fc.setInput(dataIn=testdata_3d())\n",
    "\n",
    "trivial_node = fc.createNode('DataDictNode')\n",
    "trivial_node.raiseExceptions = True\n",
    "\n",
    "fc.connectTerminals(fc['dataIn'], trivial_node['dataIn'])\n",
    "fc.connectTerminals(trivial_node['dataOut'], fc['dataOut'])"
   ]
  },
  {
   "cell_type": "code",
   "execution_count": 27,
   "metadata": {
    "ExecuteTime": {
     "end_time": "2018-07-13T21:47:30.913228Z",
     "start_time": "2018-07-13T21:47:30.906237Z"
    }
   },
   "outputs": [
    {
     "data": {
      "text/plain": [
       "({'dataIn': None},\n",
       " {'dataOut': {'x': {'values': array([  0.,   0.,   0.,   0.,   0.,   0.,   0.,   0.,   0.,   5.,   5.,\n",
       "             5.,   5.,   5.,   5.,   5.,   5.,   5.,  10.,  10.,  10.,  10.,\n",
       "            10.,  10.,  10.,  10.,  10.])},\n",
       "   'y': {'values': array([-5., -5., -5.,  0.,  0.,  0.,  5.,  5.,  5., -5., -5., -5.,  0.,\n",
       "            0.,  0.,  5.,  5.,  5., -5., -5., -5.,  0.,  0.,  0.,  5.,  5.,  5.])},\n",
       "   'z': {'values': array([0, 1, 2, 0, 1, 2, 0, 1, 2, 0, 1, 2, 0, 1, 2, 0, 1, 2, 0, 1, 2, 0, 1,\n",
       "           2, 0, 1, 2])},\n",
       "   'data': {'values': array([ 1.02338833,  1.56571974,  1.75158259,  0.65782687,  0.71702436,\n",
       "            0.90367998, -0.45427166, -0.23960919, -0.61214794,  0.69415969,\n",
       "            0.85981913,  0.72623975,  0.81038208,  0.6389959 ,  0.18651799,\n",
       "            0.04449455,  0.35352561,  0.16705926, -0.04032021, -0.27134624,\n",
       "            0.09068973,  0.28514704,  0.58970555,  0.02618285,  0.88710067,\n",
       "            0.8198449 ,  0.80933304]), 'axes': ['x', 'y', 'z']},\n",
       "   'more_data': {'values': array([ 0.37791773,  0.56100562,  0.37764528,  0.28336787,  0.51414885,\n",
       "            0.91337011,  0.76974657,  0.63832241,  0.64325889,  0.33957627,\n",
       "            0.20129165,  0.32548937, -0.75497781,  0.02349687, -0.15096336,\n",
       "           -0.2388647 ,  0.32358312,  0.01868615,  0.30933857,  0.72321432,\n",
       "            0.6201993 ,  0.39180977,  0.01368469,  0.24233982, -0.08352371,\n",
       "            0.60089317,  0.30405661]), 'axes': ['x', 'y', 'z']},\n",
       "   'different_data': {'values': array([ 0.37791773,  0.33957627,  0.30933857,  0.28336787, -0.75497781,\n",
       "            0.39180977,  0.76974657, -0.2388647 , -0.08352371,  0.56100562,\n",
       "            0.20129165,  0.72321432,  0.51414885,  0.02349687,  0.01368469,\n",
       "            0.63832241,  0.32358312,  0.60089317,  0.37764528,  0.32548937,\n",
       "            0.6201993 ,  0.91337011, -0.15096336,  0.24233982,  0.64325889,\n",
       "            0.01868615,  0.30405661]), 'axes': ['z', 'y', 'x']}}})"
      ]
     },
     "execution_count": 27,
     "metadata": {},
     "output_type": "execute_result"
    }
   ],
   "source": [
    "fc.inputValues(), fc.output()"
   ]
  },
  {
   "cell_type": "code",
   "execution_count": 34,
   "metadata": {
    "ExecuteTime": {
     "end_time": "2018-07-13T21:48:38.256261Z",
     "start_time": "2018-07-13T21:48:38.220328Z"
    }
   },
   "outputs": [],
   "source": [
    "trivial_node.signalUpdate = True\n",
    "trivial_node.gridData = 'data', 'more_data'\n",
    "trivial_node.grid = True"
   ]
  },
  {
   "cell_type": "code",
   "execution_count": 35,
   "metadata": {
    "ExecuteTime": {
     "end_time": "2018-07-13T21:48:38.501031Z",
     "start_time": "2018-07-13T21:48:38.495051Z"
    }
   },
   "outputs": [
    {
     "data": {
      "text/plain": [
       "({'dataIn': None},\n",
       " {'dataOut': {'x': {'values': array([  0.,   5.,  10.]),\n",
       "    'unit': '',\n",
       "    'axes': []},\n",
       "   'y': {'values': array([-5.,  0.,  5.]), 'unit': '', 'axes': []},\n",
       "   'z': {'values': array([0, 1, 2], dtype=int64), 'unit': '', 'axes': []},\n",
       "   'data': {'values': array([[[ 1.02338833,  1.56571974,  1.75158259],\n",
       "            [ 0.65782687,  0.71702436,  0.90367998],\n",
       "            [-0.45427166, -0.23960919, -0.61214794]],\n",
       "    \n",
       "           [[ 0.69415969,  0.85981913,  0.72623975],\n",
       "            [ 0.81038208,  0.6389959 ,  0.18651799],\n",
       "            [ 0.04449455,  0.35352561,  0.16705926]],\n",
       "    \n",
       "           [[-0.04032021, -0.27134624,  0.09068973],\n",
       "            [ 0.28514704,  0.58970555,  0.02618285],\n",
       "            [ 0.88710067,  0.8198449 ,  0.80933304]]]),\n",
       "    'axes': ['x', 'y', 'z'],\n",
       "    'unit': ''},\n",
       "   'more_data': {'values': array([[[ 0.37791773,  0.56100562,  0.37764528],\n",
       "            [ 0.28336787,  0.51414885,  0.91337011],\n",
       "            [ 0.76974657,  0.63832241,  0.64325889]],\n",
       "    \n",
       "           [[ 0.33957627,  0.20129165,  0.32548937],\n",
       "            [-0.75497781,  0.02349687, -0.15096336],\n",
       "            [-0.2388647 ,  0.32358312,  0.01868615]],\n",
       "    \n",
       "           [[ 0.30933857,  0.72321432,  0.6201993 ],\n",
       "            [ 0.39180977,  0.01368469,  0.24233982],\n",
       "            [-0.08352371,  0.60089317,  0.30405661]]]),\n",
       "    'axes': ['x', 'y', 'z'],\n",
       "    'unit': ''}}})"
      ]
     },
     "execution_count": 35,
     "metadata": {},
     "output_type": "execute_result"
    }
   ],
   "source": [
    "fc.inputValues(), fc.output()"
   ]
  },
  {
   "cell_type": "code",
   "execution_count": null,
   "metadata": {
    "ExecuteTime": {
     "end_time": "2018-07-13T21:19:58.231434Z",
     "start_time": "2018-07-13T21:19:58.229439Z"
    }
   },
   "outputs": [],
   "source": []
  },
  {
   "cell_type": "code",
   "execution_count": null,
   "metadata": {},
   "outputs": [],
   "source": []
  }
 ],
 "metadata": {
  "kernelspec": {
   "display_name": "Python 3",
   "language": "python",
   "name": "python3"
  },
  "language_info": {
   "codemirror_mode": {
    "name": "ipython",
    "version": 3
   },
   "file_extension": ".py",
   "mimetype": "text/x-python",
   "name": "python",
   "nbconvert_exporter": "python",
   "pygments_lexer": "ipython3",
   "version": "3.6.5"
  },
  "toc": {
   "base_numbering": 1,
   "nav_menu": {},
   "number_sections": true,
   "sideBar": true,
   "skip_h1_title": false,
   "title_cell": "Table of Contents",
   "title_sidebar": "Contents",
   "toc_cell": false,
   "toc_position": {},
   "toc_section_display": true,
   "toc_window_display": false
  }
 },
 "nbformat": 4,
 "nbformat_minor": 2
}
