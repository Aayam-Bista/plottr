{
 "cells": [
  {
   "cell_type": "code",
   "execution_count": null,
   "metadata": {
    "ExecuteTime": {
     "end_time": "2018-10-25T06:35:47.772800Z",
     "start_time": "2018-10-25T06:35:47.100573Z"
    }
   },
   "outputs": [],
   "source": [
    "%gui qt\n",
    "\n",
    "import logging\n",
    "\n",
    "from pyqtgraph.flowchart import Flowchart\n",
    "from pyqtgraph import Qt\n",
    "from pyqtgraph.Qt import QtGui, QtCore\n",
    "from pyqtgraph.flowchart import library as fclib\n",
    "from pyqtgraph.dockarea import Dock, DockArea\n",
    "\n",
    "from plottr.data.datadict import togrid, DataDict, GridDataDict\n",
    "from plottr import log as plottrlog\n",
    "from plottr.node.node import Node\n",
    "from plottr.node.data_selector import DataSelector\n",
    "from plottr.node.dim_reducer import XYAxesSelector\n",
    "from plottr.plot.mpl import PlotNode, AutoPlot\n",
    "\n",
    "import test_data"
   ]
  },
  {
   "cell_type": "code",
   "execution_count": null,
   "metadata": {
    "ExecuteTime": {
     "end_time": "2018-10-25T06:35:48.272438Z",
     "start_time": "2018-10-25T06:35:47.787756Z"
    }
   },
   "outputs": [],
   "source": [
    "Node.raiseExceptions = True\n",
    "DataSelector.raiseExceptions = True\n",
    "XYAxesSelector.raiseExceptions = True\n",
    "PlotNode.raiseExceptions = True\n",
    "\n",
    "nodelib = fclib.NodeLibrary()\n",
    "nodelib.addNodeType(DataSelector, [('Basic')])\n",
    "nodelib.addNodeType(XYAxesSelector, [('Basic')])\n",
    "nodelib.addNodeType(PlotNode, [('Plot')])\n",
    "\n",
    "### Setting up the flowchart\n",
    "\n",
    "# library\n",
    "fc = Flowchart(terminals={\n",
    "    'dataIn': {'io': 'in'},\n",
    "    'dataOut': {'io': 'out'}\n",
    "})\n",
    "fc.library = nodelib\n",
    "\n",
    "# flowchart for this example\n",
    "datasel = fc.createNode('DataSelector')\n",
    "xysel = fc.createNode('XYAxesSelector')\n",
    "plot = fc.createNode('Plot')\n",
    "\n",
    "fc.connectTerminals(fc['dataIn'], datasel['dataIn'])\n",
    "fc.connectTerminals(datasel['dataOut'], xysel['dataIn'])\n",
    "fc.connectTerminals(xysel['dataOut'], fc['dataOut'])\n",
    "fc.connectTerminals(xysel['dataOut'], plot['dataIn'])\n",
    "\n",
    "plotWidget = AutoPlot()\n",
    "plot.setPlotWidget(plotWidget)\n",
    "\n",
    "\n",
    "### Setting up the GUI\n",
    "win = QtGui.QMainWindow()\n",
    "area = DockArea()\n",
    "win.setCentralWidget(area)\n",
    "\n",
    "dataselDock = Dock('Data Selector')\n",
    "dataselDock.addWidget(datasel.ui)\n",
    "area.addDock(dataselDock)\n",
    "\n",
    "# xy selector\n",
    "xyselDock = Dock('XY Axes Selector')\n",
    "xyselDock.addWidget(xysel.ui)\n",
    "area.addDock(xyselDock, 'bottom', dataselDock)\n",
    "\n",
    "# logger\n",
    "logDock = Dock('Log')\n",
    "logDock.addWidget(plottrlog.setupLogging(makeDialog=False))\n",
    "area.addDock(logDock, 'bottom', xyselDock)\n",
    "\n",
    "# plot\n",
    "plotDock = Dock('Plot')\n",
    "plotDock.addWidget(plotWidget)\n",
    "area.addDock(plotDock, 'right')\n",
    "\n",
    "win.show()\n",
    "\n",
    "### Logging\n",
    "logger = logging.getLogger('plottr.interactive')\n",
    "plottrlog.LEVEL = logging.DEBUG"
   ]
  },
  {
   "cell_type": "code",
   "execution_count": null,
   "metadata": {
    "ExecuteTime": {
     "end_time": "2018-10-25T06:35:48.286399Z",
     "start_time": "2018-10-25T06:35:48.274433Z"
    }
   },
   "outputs": [],
   "source": [
    "data = test_data.three_incompatible_3d_sets(21, 21, 21)\n",
    "fc.setInput(dataIn=data)"
   ]
  },
  {
   "cell_type": "code",
   "execution_count": null,
   "metadata": {
    "ExecuteTime": {
     "end_time": "2018-10-25T06:35:48.298367Z",
     "start_time": "2018-10-25T06:35:48.288394Z"
    }
   },
   "outputs": [],
   "source": [
    "# datasel.selectedData = ['data', 'more_data']"
   ]
  },
  {
   "cell_type": "code",
   "execution_count": null,
   "metadata": {
    "ExecuteTime": {
     "end_time": "2018-10-25T06:35:48.313328Z",
     "start_time": "2018-10-25T06:35:48.300362Z"
    }
   },
   "outputs": [],
   "source": [
    "# xysel.xyAxes = ('x', 'y')"
   ]
  },
  {
   "cell_type": "code",
   "execution_count": null,
   "metadata": {
    "ExecuteTime": {
     "end_time": "2018-10-25T06:35:48.324298Z",
     "start_time": "2018-10-25T06:35:48.314324Z"
    }
   },
   "outputs": [],
   "source": [
    "fc.output()"
   ]
  },
  {
   "cell_type": "code",
   "execution_count": null,
   "metadata": {
    "ExecuteTime": {
     "end_time": "2018-10-25T06:35:48.334271Z",
     "start_time": "2018-10-25T06:35:48.325295Z"
    }
   },
   "outputs": [],
   "source": [
    "xysel.reductions, xysel.xyAxes"
   ]
  },
  {
   "cell_type": "code",
   "execution_count": null,
   "metadata": {
    "ExecuteTime": {
     "end_time": "2018-10-25T06:35:48.346239Z",
     "start_time": "2018-10-25T06:35:48.335269Z"
    }
   },
   "outputs": [],
   "source": [
    "xysel.outputValues()"
   ]
  },
  {
   "cell_type": "code",
   "execution_count": null,
   "metadata": {
    "ExecuteTime": {
     "end_time": "2018-10-24T20:58:07.845348Z",
     "start_time": "2018-10-24T20:58:07.837367Z"
    }
   },
   "outputs": [],
   "source": []
  },
  {
   "cell_type": "code",
   "execution_count": null,
   "metadata": {},
   "outputs": [],
   "source": []
  }
 ],
 "metadata": {
  "kernelspec": {
   "display_name": "Python 3",
   "language": "python",
   "name": "python3"
  },
  "language_info": {
   "codemirror_mode": {
    "name": "ipython",
    "version": 3
   },
   "file_extension": ".py",
   "mimetype": "text/x-python",
   "name": "python",
   "nbconvert_exporter": "python",
   "pygments_lexer": "ipython3",
   "version": "3.6.6"
  },
  "toc": {
   "base_numbering": 1,
   "nav_menu": {},
   "number_sections": true,
   "sideBar": true,
   "skip_h1_title": false,
   "title_cell": "Table of Contents",
   "title_sidebar": "Contents",
   "toc_cell": false,
   "toc_position": {},
   "toc_section_display": true,
   "toc_window_display": false
  }
 },
 "nbformat": 4,
 "nbformat_minor": 2
}
