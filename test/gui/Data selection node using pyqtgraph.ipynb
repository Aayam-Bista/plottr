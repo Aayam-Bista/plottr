{
 "cells": [
  {
   "cell_type": "code",
   "execution_count": null,
   "metadata": {
    "ExecuteTime": {
     "end_time": "2018-07-15T18:22:08.741075Z",
     "start_time": "2018-07-15T18:22:08.723122Z"
    }
   },
   "outputs": [],
   "source": [
    "%gui qt"
   ]
  },
  {
   "cell_type": "code",
   "execution_count": null,
   "metadata": {
    "ExecuteTime": {
     "end_time": "2018-07-15T18:22:13.240044Z",
     "start_time": "2018-07-15T18:22:09.300578Z"
    }
   },
   "outputs": [],
   "source": [
    "from importlib import reload\n",
    "\n",
    "import numpy as np\n",
    "\n",
    "import pyqtgraph as pg\n",
    "from pyqtgraph.flowchart import Flowchart, Node as pgNode\n",
    "from pyqtgraph.Qt import QtGui, QtCore\n",
    "from pyqtgraph.flowchart import library as fclib\n",
    "\n",
    "from plottr.data import datadict; reload(datadict)\n",
    "from plottr.data.datadict import togrid, DataDict, GridDataDict"
   ]
  },
  {
   "cell_type": "code",
   "execution_count": null,
   "metadata": {},
   "outputs": [],
   "source": []
  },
  {
   "cell_type": "code",
   "execution_count": null,
   "metadata": {
    "ExecuteTime": {
     "end_time": "2018-07-15T18:22:20.821812Z",
     "start_time": "2018-07-15T18:22:20.814832Z"
    }
   },
   "outputs": [],
   "source": [
    "def testdata_1d(nvals=11):\n",
    "    x = np.linspace(0, 10, nvals)\n",
    "    y = np.cos(x)\n",
    "    z = np.cos(x)**2\n",
    "    d = DataDict(\n",
    "        x = {'values' : x},\n",
    "        y = {'values' : y, 'axes' : ['x']},\n",
    "        z = {'values' : z, 'axes' : ['x']},\n",
    "    )\n",
    "    return d\n",
    "\n",
    "def testdata_3d(nx=3, ny=3, nz=3):\n",
    "    x = np.linspace(0, 10, nx)\n",
    "    y = np.linspace(-5, 5, ny)\n",
    "    z = np.arange(nz)\n",
    "    xx, yy, zz = np.meshgrid(x, y, z, indexing='ij')\n",
    "    dd = np.cos(xx) * np.sin(yy) + np.random.rand(*zz.shape)\n",
    "    dd2 = np.sin(xx) * np.cos(yy) + np.random.rand(*zz.shape)\n",
    "    d = DataDict(\n",
    "        x = dict(values=xx.reshape(-1)),\n",
    "        y = dict(values=yy.reshape(-1)),\n",
    "        z = dict(values=zz.reshape(-1)),\n",
    "        data = dict(values=dd.reshape(-1), axes=['x', 'y', 'z']),\n",
    "        more_data = dict(values=dd2.reshape(-1), axes=['x', 'y', 'z']),\n",
    "        different_data = dict(values=dd2.T.reshape(-1), axes=['z', 'y', 'x'])\n",
    "    )\n",
    "    return d"
   ]
  },
  {
   "cell_type": "code",
   "execution_count": null,
   "metadata": {
    "ExecuteTime": {
     "end_time": "2018-07-15T18:22:23.509696Z",
     "start_time": "2018-07-15T18:22:23.349126Z"
    },
    "scrolled": false
   },
   "outputs": [],
   "source": [
    "from plottr import node; reload(node)\n",
    "from plottr.node import Node, DataSelector\n",
    "\n",
    "Node.raiseExceptions = True\n",
    "    \n",
    "nodelib = fclib.NodeLibrary()\n",
    "nodelib.addNodeType(Node, [('Basic')])\n",
    "nodelib.addNodeType(DataSelector, [('Basic')])\n",
    "\n",
    "fc = Flowchart(terminals={\n",
    "    'dataIn': {'io': 'in'},\n",
    "    'dataOut': {'io': 'out'}\n",
    "})\n",
    "fc.library = nodelib\n",
    "fc.setInput(dataIn=testdata_3d())\n",
    "\n",
    "selector = fc.createNode('DataSelector')\n",
    "\n",
    "fc.connectTerminals(fc['dataIn'], selector['dataIn'])\n",
    "fc.connectTerminals(selector['dataOut'], fc['dataOut'])"
   ]
  },
  {
   "cell_type": "code",
   "execution_count": null,
   "metadata": {
    "ExecuteTime": {
     "end_time": "2018-07-15T18:22:26.359863Z",
     "start_time": "2018-07-15T18:22:26.351884Z"
    }
   },
   "outputs": [],
   "source": [
    "fc.inputValues(), fc.output()"
   ]
  },
  {
   "cell_type": "code",
   "execution_count": null,
   "metadata": {
    "ExecuteTime": {
     "end_time": "2018-07-15T18:22:41.721696Z",
     "start_time": "2018-07-15T18:22:41.700746Z"
    }
   },
   "outputs": [],
   "source": [
    "selector.signalUpdate = True\n",
    "selector.selectedData = ['data', 'more_data']"
   ]
  },
  {
   "cell_type": "code",
   "execution_count": null,
   "metadata": {
    "ExecuteTime": {
     "end_time": "2018-07-15T18:22:44.444520Z",
     "start_time": "2018-07-15T18:22:44.438537Z"
    }
   },
   "outputs": [],
   "source": [
    "fc.inputValues(), fc.output()"
   ]
  },
  {
   "cell_type": "code",
   "execution_count": null,
   "metadata": {
    "ExecuteTime": {
     "end_time": "2018-07-13T21:19:58.231434Z",
     "start_time": "2018-07-13T21:19:58.229439Z"
    }
   },
   "outputs": [],
   "source": []
  },
  {
   "cell_type": "code",
   "execution_count": null,
   "metadata": {},
   "outputs": [],
   "source": []
  }
 ],
 "metadata": {
  "kernelspec": {
   "display_name": "Python 3",
   "language": "python",
   "name": "python3"
  },
  "language_info": {
   "codemirror_mode": {
    "name": "ipython",
    "version": 3
   },
   "file_extension": ".py",
   "mimetype": "text/x-python",
   "name": "python",
   "nbconvert_exporter": "python",
   "pygments_lexer": "ipython3",
   "version": "3.6.5"
  },
  "toc": {
   "base_numbering": 1,
   "nav_menu": {},
   "number_sections": true,
   "sideBar": true,
   "skip_h1_title": false,
   "title_cell": "Table of Contents",
   "title_sidebar": "Contents",
   "toc_cell": false,
   "toc_position": {},
   "toc_section_display": true,
   "toc_window_display": false
  }
 },
 "nbformat": 4,
 "nbformat_minor": 2
}
