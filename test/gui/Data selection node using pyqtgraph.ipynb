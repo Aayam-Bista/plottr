{
 "cells": [
  {
   "cell_type": "code",
   "execution_count": null,
   "metadata": {
    "ExecuteTime": {
     "end_time": "2018-07-20T23:51:32.647945Z",
     "start_time": "2018-07-20T23:51:32.641963Z"
    }
   },
   "outputs": [],
   "source": [
    "%gui qt"
   ]
  },
  {
   "cell_type": "code",
   "execution_count": null,
   "metadata": {
    "ExecuteTime": {
     "end_time": "2018-07-21T21:30:39.109112Z",
     "start_time": "2018-07-21T21:30:39.077896Z"
    }
   },
   "outputs": [],
   "source": [
    "from importlib import reload\n",
    "from pprint import pprint\n",
    "\n",
    "import numpy as np\n",
    "\n",
    "import pyqtgraph as pg\n",
    "from pyqtgraph.flowchart import Flowchart, Node as pgNode\n",
    "from pyqtgraph import Qt\n",
    "from pyqtgraph.Qt import QtGui, QtCore\n",
    "from pyqtgraph.flowchart import library as fclib\n",
    "\n",
    "from plottr.data import datadict; reload(datadict)\n",
    "from plottr.data.datadict import togrid, DataDict, GridDataDict"
   ]
  },
  {
   "cell_type": "code",
   "execution_count": null,
   "metadata": {},
   "outputs": [],
   "source": []
  },
  {
   "cell_type": "code",
   "execution_count": null,
   "metadata": {
    "ExecuteTime": {
     "end_time": "2018-07-22T12:16:59.293549Z",
     "start_time": "2018-07-22T12:16:59.285574Z"
    }
   },
   "outputs": [],
   "source": [
    "def testdata_1d(nvals=11):\n",
    "    x = np.linspace(0, 10, nvals)\n",
    "    y = np.cos(x)\n",
    "    z = np.cos(x)**2\n",
    "    d = DataDict(\n",
    "        x = {'values' : x},\n",
    "        y = {'values' : y, 'axes' : ['x']},\n",
    "        z = {'values' : z, 'axes' : ['x']},\n",
    "    )\n",
    "    return d\n",
    "\n",
    "def testdata_3d(nx=3, ny=3, nz=3, rand_factor=1):\n",
    "    x = np.linspace(0, 10, nx)\n",
    "    y = np.linspace(-5, 5, ny)\n",
    "    z = np.arange(nz)\n",
    "    xx, yy, zz = np.meshgrid(x, y, z, indexing='ij')\n",
    "    dd = np.cos(xx) * np.sin(yy) + rand_factor * np.random.rand(*zz.shape)\n",
    "    dd2 = np.sin(xx) * np.cos(yy) + rand_factor * np.random.rand(*zz.shape)\n",
    "    d = DataDict(\n",
    "        x = dict(values=xx.reshape(-1), unit='mX'),\n",
    "        y = dict(values=yy.reshape(-1), unit='kY'),\n",
    "        z = dict(values=zz.reshape(-1), unit='MZ'),\n",
    "        data = dict(values=dd.reshape(-1), axes=['x', 'y', 'z'], unit='OMFG'),\n",
    "        more_data = dict(values=dd2.reshape(-1), axes=['x', 'y', 'z'], unit='WTF'),\n",
    "        different_data = dict(values=dd2.T.reshape(-1), axes=['z', 'y', 'x'], unit='FML')\n",
    "    )\n",
    "    return d"
   ]
  },
  {
   "cell_type": "code",
   "execution_count": null,
   "metadata": {
    "ExecuteTime": {
     "end_time": "2018-07-22T11:49:46.637513Z",
     "start_time": "2018-07-22T11:49:46.624562Z"
    }
   },
   "outputs": [],
   "source": []
  },
  {
   "cell_type": "code",
   "execution_count": null,
   "metadata": {
    "ExecuteTime": {
     "end_time": "2018-07-22T13:59:00.475014Z",
     "start_time": "2018-07-22T13:59:00.345361Z"
    },
    "scrolled": true
   },
   "outputs": [],
   "source": [
    "from plottr.node import node; reload(node)\n",
    "from plottr.node.node import Node\n",
    "\n",
    "from plottr.node import data_selector; reload(data_selector)\n",
    "from plottr.node.data_selector import XYSelector, XYSelectorWidget\n",
    "\n",
    "from plottr.plot import mpl; reload(mpl)\n",
    "from plottr.plot.mpl import PlotNode, MPLPlotWidget, AutoPlot\n",
    "\n",
    "Node.raiseExceptions = True\n",
    "Node.debug = True\n",
    "XYSelector.debug = True\n",
    "XYSelectorWidget.debug = True\n",
    "\n",
    "nodelib = fclib.NodeLibrary()\n",
    "nodelib.addNodeType(Node, [('Basic')])\n",
    "nodelib.addNodeType(XYSelector, [('Basic')])\n",
    "nodelib.addNodeType(PlotNode, [('Plotting')])\n",
    "\n",
    "fc = Flowchart(terminals={\n",
    "    'dataIn': {'io': 'in'},\n",
    "    'dataOut': {'io': 'out'}\n",
    "})\n",
    "fc.library = nodelib\n",
    "\n",
    "selector = fc.createNode('XYSelector')\n",
    "plot = fc.createNode('Plot')\n",
    "\n",
    "fc.connectTerminals(fc['dataIn'], selector['dataIn'])\n",
    "fc.connectTerminals(selector['dataOut'], fc['dataOut'])\n",
    "fc.connectTerminals(selector['dataOut'], plot['dataIn'])\n",
    "\n",
    "\n",
    "dialog = QtGui.QDialog()\n",
    "\n",
    "optsLayout = QtGui.QVBoxLayout()\n",
    "optsLayout.addWidget(selector.ctrlWidget())\n",
    "\n",
    "plotWidget = AutoPlot()\n",
    "plotLayout = QtGui.QVBoxLayout()\n",
    "plotLayout.addWidget(plotWidget)\n",
    "\n",
    "mainLayout = QtGui.QHBoxLayout(dialog)\n",
    "mainLayout.addLayout(optsLayout)\n",
    "mainLayout.addLayout(plotLayout)\n",
    "mainLayout.setStretchFactor(optsLayout, 1)\n",
    "mainLayout.setStretchFactor(plotLayout, 3)\n",
    "\n",
    "dialog.show()\n",
    "\n",
    "plot.setPlotWidget(plotWidget)\n",
    "\n",
    "fc.setInput(dataIn=testdata_3d(21, 21, 21, rand_factor=0.1))"
   ]
  },
  {
   "cell_type": "code",
   "execution_count": null,
   "metadata": {
    "ExecuteTime": {
     "end_time": "2018-07-22T14:08:33.689206Z",
     "start_time": "2018-07-22T14:08:33.685203Z"
    },
    "scrolled": false
   },
   "outputs": [],
   "source": [
    "\n",
    "fc.inputValues(), fc.output()"
   ]
  },
  {
   "cell_type": "code",
   "execution_count": null,
   "metadata": {},
   "outputs": [],
   "source": []
  },
  {
   "cell_type": "code",
   "execution_count": null,
   "metadata": {},
   "outputs": [],
   "source": []
  }
 ],
 "metadata": {
  "kernelspec": {
   "display_name": "Python 3",
   "language": "python",
   "name": "python3"
  },
  "language_info": {
   "codemirror_mode": {
    "name": "ipython",
    "version": 3
   },
   "file_extension": ".py",
   "mimetype": "text/x-python",
   "name": "python",
   "nbconvert_exporter": "python",
   "pygments_lexer": "ipython3",
   "version": "3.6.5"
  },
  "toc": {
   "base_numbering": 1,
   "nav_menu": {},
   "number_sections": true,
   "sideBar": true,
   "skip_h1_title": false,
   "title_cell": "Table of Contents",
   "title_sidebar": "Contents",
   "toc_cell": false,
   "toc_position": {},
   "toc_section_display": true,
   "toc_window_display": false
  }
 },
 "nbformat": 4,
 "nbformat_minor": 2
}
