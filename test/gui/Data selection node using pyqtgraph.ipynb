{
 "cells": [
  {
   "cell_type": "code",
   "execution_count": 1,
   "metadata": {
    "ExecuteTime": {
     "end_time": "2018-07-15T18:22:08.741075Z",
     "start_time": "2018-07-15T18:22:08.723122Z"
    }
   },
   "outputs": [],
   "source": [
    "%gui qt"
   ]
  },
  {
   "cell_type": "code",
   "execution_count": 2,
   "metadata": {
    "ExecuteTime": {
     "end_time": "2018-07-15T18:22:13.240044Z",
     "start_time": "2018-07-15T18:22:09.300578Z"
    }
   },
   "outputs": [],
   "source": [
    "from importlib import reload\n",
    "from pprint import pprint\n",
    "\n",
    "import numpy as np\n",
    "\n",
    "import pyqtgraph as pg\n",
    "from pyqtgraph.flowchart import Flowchart, Node as pgNode\n",
    "from pyqtgraph.Qt import QtGui, QtCore\n",
    "from pyqtgraph.flowchart import library as fclib\n",
    "\n",
    "from plottr.data import datadict; reload(datadict)\n",
    "from plottr.data.datadict import togrid, DataDict, GridDataDict"
   ]
  },
  {
   "cell_type": "code",
   "execution_count": null,
   "metadata": {},
   "outputs": [],
   "source": []
  },
  {
   "cell_type": "code",
   "execution_count": 22,
   "metadata": {
    "ExecuteTime": {
     "end_time": "2018-07-15T18:22:20.821812Z",
     "start_time": "2018-07-15T18:22:20.814832Z"
    }
   },
   "outputs": [],
   "source": [
    "def testdata_1d(nvals=11):\n",
    "    x = np.linspace(0, 10, nvals)\n",
    "    y = np.cos(x)\n",
    "    z = np.cos(x)**2\n",
    "    d = DataDict(\n",
    "        x = {'values' : x},\n",
    "        y = {'values' : y, 'axes' : ['x']},\n",
    "        z = {'values' : z, 'axes' : ['x']},\n",
    "    )\n",
    "    return d\n",
    "\n",
    "def testdata_3d(nx=3, ny=3, nz=3):\n",
    "    x = np.linspace(0, 10, nx)\n",
    "    y = np.linspace(-5, 5, ny)\n",
    "    z = np.arange(nz)\n",
    "    xx, yy, zz = np.meshgrid(x, y, z, indexing='ij')\n",
    "    dd = np.cos(xx) * np.sin(yy) + np.random.rand(*zz.shape)\n",
    "    dd2 = np.sin(xx) * np.cos(yy) + np.random.rand(*zz.shape)\n",
    "    d = DataDict(\n",
    "        x = dict(values=xx.reshape(-1), unit='mX'),\n",
    "        y = dict(values=yy.reshape(-1), unit='kY'),\n",
    "        z = dict(values=zz.reshape(-1), unit='MZ'),\n",
    "        data = dict(values=dd.reshape(-1), axes=['x', 'y', 'z'], unit='OMFG'),\n",
    "        more_data = dict(values=dd2.reshape(-1), axes=['x', 'y', 'z'], unit='WTF'),\n",
    "        different_data = dict(values=dd2.T.reshape(-1), axes=['z', 'y', 'x'], unit='FML')\n",
    "    )\n",
    "    return d"
   ]
  },
  {
   "cell_type": "code",
   "execution_count": null,
   "metadata": {},
   "outputs": [],
   "source": []
  },
  {
   "cell_type": "code",
   "execution_count": 23,
   "metadata": {},
   "outputs": [],
   "source": [
    "from plottr import node; reload(node)\n",
    "from plottr.node import Node, DataSelector\n",
    "\n",
    "class DataSelectorWidget(QtGui.QWidget):\n",
    "    \n",
    "    newDataStructure = QtCore.pyqtSignal()\n",
    "    axesChoiceUpdated = QtCore.pyqtSignal(str, str)\n",
    "    dataSelected = QtCore.pyqtSignal()\n",
    "    \n",
    "    def __init__(self, parent=None, **kw):\n",
    "        super().__init__(parent=parent, **kw)\n",
    "        \n",
    "        # Axes selection\n",
    "        self._axesOptions = []\n",
    "        self.xCombo = QtGui.QComboBox()\n",
    "        self.yCombo = QtGui.QComboBox()\n",
    "        self.xCombo.currentTextChanged.connect(\n",
    "            lambda choice: self.selectAx('x', choice))\n",
    "        self.yCombo.currentTextChanged.connect(\n",
    "            lambda choice: self.selectAx('y', choice))\n",
    "        \n",
    "        axLayout = QtGui.QFormLayout()\n",
    "        axLayout.addRow('x-axis', self.xCombo)\n",
    "        axLayout.addRow('y-axis', self.yCombo)\n",
    "        axGroup = QtGui.QGroupBox('Axis selection')\n",
    "        axGroup.setLayout(axLayout)\n",
    "        \n",
    "        # Data fields\n",
    "        self._triggerUpdateSelectables = True\n",
    "        self._dataOptions = {}\n",
    "        self._selectedData = []\n",
    "        \n",
    "        self.dataLayout = QtGui.QFormLayout()\n",
    "        dataGroup = QtGui.QGroupBox('Data selection')\n",
    "        dataGroup.setLayout(self.dataLayout)\n",
    "        \n",
    "        mainLayout = QtGui.QVBoxLayout(self)\n",
    "        mainLayout.addWidget(axGroup)\n",
    "        mainLayout.addWidget(dataGroup)\n",
    "        \n",
    "        # TODO this should just be a RESET method or so.\n",
    "#         self.newDataStructure.connect(self.updateAxOptions)\n",
    "#         self.newDataStructure.connect(self.updateDataOptions)\n",
    "#         self.newDataStructure.connect(self.updateSelectableData)\n",
    "        self.axesChoiceUpdated.connect(self.updateSelectableData)\n",
    "        \n",
    "\n",
    "    @QtCore.pyqtSlot(object)\n",
    "    def setDataStructure(self, newStructure):\n",
    "        print('update structure:')\n",
    "        pprint(newStructure)\n",
    "        self.dataStructure = newStructure\n",
    "        axes = newStructure.axes_list()\n",
    "        if axes != self._axesOptions:\n",
    "            self._axesOptions = axes\n",
    "            self.newDataStructure.emit()\n",
    "    \n",
    "    @QtCore.pyqtSlot()\n",
    "    def resetDataStructure(self)\n",
    "        \n",
    "        \n",
    "    @QtCore.pyqtSlot()\n",
    "    def updateAxOptions(self):\n",
    "        print('update ax opts')\n",
    "        axOptions = [''] + self._axesOptions\n",
    "        for combo in self.xCombo, self.yCombo:\n",
    "            combo.clear()\n",
    "            combo.addItems(axOptions)\n",
    "        \n",
    "    def _deleteDataOptions(self, names):\n",
    "        for name in names:\n",
    "            v = self._dataOptions[name]\n",
    "            self.dataLayout.removeWidget(v['widget'])\n",
    "            self.dataLayout.removeWidget(v['label'])\n",
    "            v['widget'].deleteLater()\n",
    "            v['label'].deleteLater()\n",
    "            del self._dataOptions[name]\n",
    "    \n",
    "    @QtCore.pyqtSlot()\n",
    "    def updateDataOptions(self):\n",
    "        print('update data opts')\n",
    "        \n",
    "        delete = []\n",
    "        for k, v in self._dataOptions.items():\n",
    "            delete.append(k)\n",
    "        self._deleteDataOptions(delete)\n",
    "        \n",
    "        for n in self.dataStructure.dependents():\n",
    "            if n not in self._dataOptions:               \n",
    "                lbl = QtGui.QLabel(n)\n",
    "                chk = QtGui.QCheckBox()\n",
    "                chk.stateChanged.connect(lambda x: self.updateSelectableData())\n",
    "                self._dataOptions[n] = dict(label=lbl, widget=chk)\n",
    "                self.dataLayout.addRow(lbl, chk)\n",
    "        \n",
    "    def updateSelectableData(self, *arg):\n",
    "        print('update selectable data')\n",
    "        \n",
    "        if self._triggerUpdateSelectables:\n",
    "            self._triggerUpdateSelectables = False\n",
    "            \n",
    "            curx = self.xCombo.currentText()\n",
    "            cury = self.yCombo.currentText()\n",
    "            curdata = []\n",
    "            curaxes = []\n",
    "            for k, v in self._dataOptions.items():\n",
    "                if v['widget'].isChecked():\n",
    "                    curdata.append(k)\n",
    "            \n",
    "            if len(curdata) > 0:\n",
    "                curaxes = self.dataStructure[curdata[0]]['axes']\n",
    "                \n",
    "            for k, v in self._dataOptions.items():\n",
    "                \n",
    "                if curx == '':\n",
    "                    v['widget'].setDisabled(True)\n",
    "                    v['widget'].setChecked(False)\n",
    "                    \n",
    "                elif curx not in self.dataStructure[k]['axes']:\n",
    "                    v['widget'].setDisabled(True)\n",
    "                    v['widget'].setChecked(False)\n",
    "                    \n",
    "                elif (len(curaxes) > 0) and (self.dataStructure[k]['axes'] != curaxes):\n",
    "                    v['widget'].setDisabled(True)\n",
    "                    v['widget'].setChecked(False)\n",
    "\n",
    "                else:\n",
    "                    v['widget'].setEnabled(True)                    \n",
    "            \n",
    "            self._triggerUpdateSelectables = True\n",
    "        \n",
    "    \n",
    "    def selectAx(self, dimName, axName):\n",
    "        print('select ax', dimName, axName)\n",
    "        \n",
    "        emit = True\n",
    "        \n",
    "        if dimName == 'x':\n",
    "            if axName != '' and axName == self.yCombo.currentText():\n",
    "                emit = False\n",
    "                self.yCombo.setCurrentText('')\n",
    "        elif dimName == 'y':\n",
    "            if axName != '' and axName == self.xCombo.currentText():\n",
    "                emit = False\n",
    "                self.xCombo.setCurrentText('')\n",
    "                \n",
    "        order = {}\n",
    "        curx = self.xCombo.currentText()\n",
    "        cury = self.yCombo.currentText()\n",
    "        if curx != '':\n",
    "            order[curx] = 0\n",
    "        if cury != '':\n",
    "            order[cury] = 1\n",
    "        \n",
    "        if emit:\n",
    "            self.axesChoiceUpdated.emit()\n",
    "            print('New axes choices: {}, {}'.format(curx, cury))\n",
    "\n",
    "        \n",
    "class DSelNode(DataSelector):\n",
    "    \n",
    "    updated = QtCore.pyqtSignal()\n",
    "    sendDataStructure = QtCore.pyqtSignal(object)\n",
    "    useUi = True\n",
    "    \n",
    "    def __init__(self, *arg, **kw):\n",
    "        super().__init__(*arg, **kw)\n",
    "        \n",
    "        if self.useUi:\n",
    "            self.ui = DataSelectorWidget()\n",
    "            self.sendDataStructure.connect(self.ui.setDataStructure)\n",
    "        else:\n",
    "            self.ui = None\n",
    "            \n",
    "            \n",
    "    def process(self, **kw):\n",
    "        data = kw['dataIn']\n",
    "        self.sendDataStructure.emit(data.structure())\n",
    "        return super().process(**kw)\n",
    "    \n",
    "        \n",
    "    def update(self, signal=True):\n",
    "        super().update(signal=signal)\n",
    "        self.updated.emit()\n",
    "    \n",
    "    def ctrlWidget(self):            \n",
    "        return self.ui"
   ]
  },
  {
   "cell_type": "code",
   "execution_count": 24,
   "metadata": {
    "ExecuteTime": {
     "end_time": "2018-07-15T18:22:23.509696Z",
     "start_time": "2018-07-15T18:22:23.349126Z"
    },
    "scrolled": false
   },
   "outputs": [
    {
     "name": "stdout",
     "output_type": "stream",
     "text": [
      "update structure:\n",
      "{'data': {'axes': ['x', 'y', 'z'], 'info': {'shape': (27,)}, 'unit': 'OMFG'},\n",
      " 'different_data': {'axes': ['z', 'y', 'x'],\n",
      "                    'info': {'shape': (27,)},\n",
      "                    'unit': 'FML'},\n",
      " 'more_data': {'axes': ['x', 'y', 'z'],\n",
      "               'info': {'shape': (27,)},\n",
      "               'unit': 'WTF'},\n",
      " 'x': {'axes': [], 'info': {'shape': (27,)}, 'unit': 'mX'},\n",
      " 'y': {'axes': [], 'info': {'shape': (27,)}, 'unit': 'kY'},\n",
      " 'z': {'axes': [], 'info': {'shape': (27,)}, 'unit': 'MZ'}}\n",
      "update ax opts\n",
      "select ax x \n",
      "update selectable data\n",
      "New axes choices: , \n",
      "select ax y \n",
      "update selectable data\n",
      "New axes choices: , \n",
      "update data opts\n",
      "update selectable data\n"
     ]
    }
   ],
   "source": [
    "Node.raiseExceptions = True\n",
    "    \n",
    "nodelib = fclib.NodeLibrary()\n",
    "nodelib.addNodeType(Node, [('Basic')])\n",
    "nodelib.addNodeType(DSelNode, [('Basic')])\n",
    "\n",
    "fc = Flowchart(terminals={\n",
    "    'dataIn': {'io': 'in'},\n",
    "    'dataOut': {'io': 'out'}\n",
    "})\n",
    "fc.library = nodelib\n",
    "fc.setInput(dataIn=testdata_3d())\n",
    "\n",
    "selector = fc.createNode('DataSelector')\n",
    "\n",
    "fc.connectTerminals(fc['dataIn'], selector['dataIn'])\n",
    "fc.connectTerminals(selector['dataOut'], fc['dataOut'])\n",
    "\n",
    "dialog = QtGui.QDialog()\n",
    "layout = QtGui.QVBoxLayout(dialog)\n",
    "layout.addWidget(selector.ctrlWidget())\n",
    "dialog.show()"
   ]
  },
  {
   "cell_type": "code",
   "execution_count": 6,
   "metadata": {},
   "outputs": [],
   "source": []
  },
  {
   "cell_type": "code",
   "execution_count": 25,
   "metadata": {
    "ExecuteTime": {
     "end_time": "2018-07-15T18:22:26.359863Z",
     "start_time": "2018-07-15T18:22:26.351884Z"
    }
   },
   "outputs": [
    {
     "data": {
      "text/plain": [
       "({'dataIn': None}, {'dataOut': {}})"
      ]
     },
     "execution_count": 25,
     "metadata": {},
     "output_type": "execute_result"
    }
   ],
   "source": [
    "fc.inputValues(), fc.output()"
   ]
  },
  {
   "cell_type": "code",
   "execution_count": 26,
   "metadata": {
    "ExecuteTime": {
     "end_time": "2018-07-15T18:22:41.721696Z",
     "start_time": "2018-07-15T18:22:41.700746Z"
    }
   },
   "outputs": [
    {
     "name": "stdout",
     "output_type": "stream",
     "text": [
      "update structure:\n",
      "{'data': {'axes': ['x', 'y', 'z'], 'info': {'shape': (27,)}, 'unit': 'OMFG'},\n",
      " 'different_data': {'axes': ['z', 'y', 'x'],\n",
      "                    'info': {'shape': (27,)},\n",
      "                    'unit': 'FML'},\n",
      " 'more_data': {'axes': ['x', 'y', 'z'],\n",
      "               'info': {'shape': (27,)},\n",
      "               'unit': 'WTF'},\n",
      " 'x': {'axes': [], 'info': {'shape': (27,)}, 'unit': 'mX'},\n",
      " 'y': {'axes': [], 'info': {'shape': (27,)}, 'unit': 'kY'},\n",
      " 'z': {'axes': [], 'info': {'shape': (27,)}, 'unit': 'MZ'}}\n"
     ]
    }
   ],
   "source": [
    "selector.signalUpdate = True\n",
    "selector.selectedData = ['data', 'more_data']"
   ]
  },
  {
   "cell_type": "code",
   "execution_count": 27,
   "metadata": {
    "ExecuteTime": {
     "end_time": "2018-07-15T18:22:44.444520Z",
     "start_time": "2018-07-15T18:22:44.438537Z"
    }
   },
   "outputs": [
    {
     "data": {
      "text/plain": [
       "({'dataIn': None},\n",
       " {'dataOut': {'x': {'values': array([  0.,   5.,  10.]),\n",
       "    'unit': 'mX',\n",
       "    'axes': [],\n",
       "    'info': {}},\n",
       "   'y': {'values': array([-5.,  0.,  5.]),\n",
       "    'unit': 'kY',\n",
       "    'axes': [],\n",
       "    'info': {}},\n",
       "   'z': {'values': array([0, 1, 2], dtype=int64),\n",
       "    'unit': 'MZ',\n",
       "    'axes': [],\n",
       "    'info': {}},\n",
       "   'data': {'values': array([[[ 1.65324113,  1.69623546,  1.42867135],\n",
       "            [ 0.84879431,  0.44077046,  0.54911932],\n",
       "            [-0.03030049, -0.44743718, -0.92221908]],\n",
       "    \n",
       "           [[ 0.75491088,  0.40676904,  0.84942534],\n",
       "            [ 0.87980277,  0.84373585,  0.49444572],\n",
       "            [ 0.44768172, -0.24285784,  0.38632333]],\n",
       "    \n",
       "           [[ 0.07981546, -0.48869775, -0.42246085],\n",
       "            [ 0.21648197,  0.67296697,  0.08418625],\n",
       "            [ 1.01086088,  1.65047597,  0.91909626]]]),\n",
       "    'axes': ['x', 'y', 'z'],\n",
       "    'unit': 'OMFG',\n",
       "    'info': {}},\n",
       "   'more_data': {'values': array([[[ 0.95906053,  0.43826484,  0.79822944],\n",
       "            [ 0.88447516,  0.19292438,  0.61554309],\n",
       "            [ 0.47280836,  0.56219317,  0.04341351]],\n",
       "    \n",
       "           [[ 0.12120489, -0.24201489,  0.46549561],\n",
       "            [-0.82887253, -0.22867015, -0.02882351],\n",
       "            [ 0.46375426,  0.32235899,  0.20634958]],\n",
       "    \n",
       "           [[ 0.80850888,  0.51731605,  0.47260716],\n",
       "            [-0.38480025, -0.31472238, -0.02375733],\n",
       "            [-0.08561629,  0.26524269,  0.29773191]]]),\n",
       "    'axes': ['x', 'y', 'z'],\n",
       "    'unit': 'WTF',\n",
       "    'info': {}}}})"
      ]
     },
     "execution_count": 27,
     "metadata": {},
     "output_type": "execute_result"
    }
   ],
   "source": [
    "fc.inputValues(), fc.output()"
   ]
  },
  {
   "cell_type": "code",
   "execution_count": null,
   "metadata": {
    "ExecuteTime": {
     "end_time": "2018-07-13T21:19:58.231434Z",
     "start_time": "2018-07-13T21:19:58.229439Z"
    }
   },
   "outputs": [],
   "source": []
  },
  {
   "cell_type": "code",
   "execution_count": null,
   "metadata": {},
   "outputs": [],
   "source": []
  },
  {
   "cell_type": "code",
   "execution_count": null,
   "metadata": {},
   "outputs": [],
   "source": [
    "class Test(dict):\n",
    "    \n",
    "    def metaItems(self):\n",
    "        meta = {}\n",
    "        for k, v in self.items():\n",
    "            if isinstance(k, str) and len(k) > 3 and k[:2] == '__' and k[-2:] == '__':\n",
    "                yield k, v"
   ]
  },
  {
   "cell_type": "code",
   "execution_count": null,
   "metadata": {},
   "outputs": [],
   "source": [
    "t = Test()\n",
    "t['abc'] = 123\n",
    "t['def'] = 456\n",
    "t['__abc__'] = '123'\n",
    "t['__def_'] = '456'"
   ]
  },
  {
   "cell_type": "code",
   "execution_count": null,
   "metadata": {},
   "outputs": [],
   "source": [
    "for k, v in t.items():\n",
    "    print(k, v)"
   ]
  },
  {
   "cell_type": "code",
   "execution_count": null,
   "metadata": {},
   "outputs": [],
   "source": [
    "for k, v in t.metaItems():\n",
    "    print(k, v)"
   ]
  },
  {
   "cell_type": "code",
   "execution_count": null,
   "metadata": {},
   "outputs": [],
   "source": []
  }
 ],
 "metadata": {
  "kernelspec": {
   "display_name": "Python [default]",
   "language": "python",
   "name": "python3"
  },
  "language_info": {
   "codemirror_mode": {
    "name": "ipython",
    "version": 3
   },
   "file_extension": ".py",
   "mimetype": "text/x-python",
   "name": "python",
   "nbconvert_exporter": "python",
   "pygments_lexer": "ipython3",
   "version": "3.6.6"
  },
  "toc": {
   "base_numbering": 1,
   "nav_menu": {},
   "number_sections": true,
   "sideBar": true,
   "skip_h1_title": false,
   "title_cell": "Table of Contents",
   "title_sidebar": "Contents",
   "toc_cell": false,
   "toc_position": {},
   "toc_section_display": true,
   "toc_window_display": false
  }
 },
 "nbformat": 4,
 "nbformat_minor": 2
}
