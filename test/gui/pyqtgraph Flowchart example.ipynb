{
 "cells": [
  {
   "cell_type": "code",
   "execution_count": 1,
   "metadata": {
    "ExecuteTime": {
     "end_time": "2018-07-22T10:26:23.657618Z",
     "start_time": "2018-07-22T10:26:23.645624Z"
    }
   },
   "outputs": [],
   "source": [
    "%gui qt"
   ]
  },
  {
   "cell_type": "code",
   "execution_count": 2,
   "metadata": {
    "ExecuteTime": {
     "end_time": "2018-07-22T10:26:26.409148Z",
     "start_time": "2018-07-22T10:26:24.383070Z"
    }
   },
   "outputs": [],
   "source": [
    "from pyqtgraph.flowchart import Flowchart\n",
    "from pyqtgraph.Qt import QtGui, QtCore\n",
    "import pyqtgraph as pg\n",
    "import numpy as np\n",
    "import pyqtgraph.metaarray as metaarray"
   ]
  },
  {
   "cell_type": "code",
   "execution_count": 3,
   "metadata": {
    "ExecuteTime": {
     "end_time": "2018-07-22T10:26:26.576215Z",
     "start_time": "2018-07-22T10:26:26.410147Z"
    }
   },
   "outputs": [],
   "source": [
    "win = QtGui.QMainWindow()\n",
    "win.setWindowTitle('pyqtgraph example: Flowchart')\n",
    "cw = QtGui.QWidget()\n",
    "win.setCentralWidget(cw)\n",
    "layout = QtGui.QGridLayout()\n",
    "cw.setLayout(layout)\n",
    "\n",
    "## Create flowchart, define input/output terminals\n",
    "fc = Flowchart(terminals={\n",
    "    'dataIn': {'io': 'in'},\n",
    "    'dataOut': {'io': 'out'}\n",
    "})\n",
    "w = fc.widget()\n",
    "\n",
    "## Add flowchart control panel to the main window\n",
    "layout.addWidget(fc.widget(), 0, 0, 2, 1)\n",
    "win.show()"
   ]
  },
  {
   "cell_type": "code",
   "execution_count": 4,
   "metadata": {
    "ExecuteTime": {
     "end_time": "2018-07-22T10:26:27.210089Z",
     "start_time": "2018-07-22T10:26:27.133294Z"
    }
   },
   "outputs": [
    {
     "ename": "NameError",
     "evalue": "name 'pw1' is not defined",
     "output_type": "error",
     "traceback": [
      "\u001b[1;31m---------------------------------------------------------------------------\u001b[0m",
      "\u001b[1;31mNameError\u001b[0m                                 Traceback (most recent call last)",
      "\u001b[1;32m<ipython-input-4-5824452bc601>\u001b[0m in \u001b[0;36m<module>\u001b[1;34m()\u001b[0m\n\u001b[0;32m     10\u001b[0m \u001b[1;31m## populate the flowchart with a basic set of processing nodes.\u001b[0m\u001b[1;33m\u001b[0m\u001b[1;33m\u001b[0m\u001b[0m\n\u001b[0;32m     11\u001b[0m \u001b[1;31m## (usually we let the user do this)\u001b[0m\u001b[1;33m\u001b[0m\u001b[1;33m\u001b[0m\u001b[0m\n\u001b[1;32m---> 12\u001b[1;33m \u001b[0mplotList\u001b[0m \u001b[1;33m=\u001b[0m \u001b[1;33m{\u001b[0m\u001b[1;34m'Top Plot'\u001b[0m\u001b[1;33m:\u001b[0m \u001b[0mpw1\u001b[0m\u001b[1;33m,\u001b[0m \u001b[1;34m'Bottom Plot'\u001b[0m\u001b[1;33m:\u001b[0m \u001b[0mpw2\u001b[0m\u001b[1;33m}\u001b[0m\u001b[1;33m\u001b[0m\u001b[0m\n\u001b[0m\u001b[0;32m     13\u001b[0m \u001b[1;33m\u001b[0m\u001b[0m\n\u001b[0;32m     14\u001b[0m \u001b[0mpw1Node\u001b[0m \u001b[1;33m=\u001b[0m \u001b[0mfc\u001b[0m\u001b[1;33m.\u001b[0m\u001b[0mcreateNode\u001b[0m\u001b[1;33m(\u001b[0m\u001b[1;34m'PlotWidget'\u001b[0m\u001b[1;33m,\u001b[0m \u001b[0mpos\u001b[0m\u001b[1;33m=\u001b[0m\u001b[1;33m(\u001b[0m\u001b[1;36m0\u001b[0m\u001b[1;33m,\u001b[0m \u001b[1;33m-\u001b[0m\u001b[1;36m150\u001b[0m\u001b[1;33m)\u001b[0m\u001b[1;33m)\u001b[0m\u001b[1;33m\u001b[0m\u001b[0m\n",
      "\u001b[1;31mNameError\u001b[0m: name 'pw1' is not defined"
     ]
    }
   ],
   "source": [
    "## generate signal data to pass through the flowchart\n",
    "data = np.random.normal(size=1000)\n",
    "data[200:300] += 1\n",
    "data += np.sin(np.linspace(0, 100, 1000))\n",
    "data = metaarray.MetaArray(data, info=[{'name': 'Time', 'values': np.linspace(0, 1.0, len(data))}, {}])\n",
    "\n",
    "## Feed data into the input terminal of the flowchart\n",
    "fc.setInput(dataIn=data)\n",
    "\n",
    "## populate the flowchart with a basic set of processing nodes. \n",
    "## (usually we let the user do this)\n",
    "plotList = {'Top Plot': pw1, 'Bottom Plot': pw2}\n",
    "\n",
    "pw1Node = fc.createNode('PlotWidget', pos=(0, -150))\n",
    "pw1Node.setPlotList(plotList)\n",
    "pw1Node.setPlot(pw1)\n",
    "\n",
    "pw2Node = fc.createNode('PlotWidget', pos=(150, -150))\n",
    "pw2Node.setPlot(pw2)\n",
    "pw2Node.setPlotList(plotList)\n",
    "\n",
    "fNode = fc.createNode('GaussianFilter', pos=(0, 0))\n",
    "fNode.ctrls['sigma'].setValue(5)\n",
    "fc.connectTerminals(fc['dataIn'], fNode['In'])\n",
    "fc.connectTerminals(fc['dataIn'], pw1Node['In'])\n",
    "fc.connectTerminals(fNode['Out'], pw2Node['In'])\n",
    "fc.connectTerminals(fNode['Out'], fc['dataOut'])"
   ]
  },
  {
   "cell_type": "code",
   "execution_count": null,
   "metadata": {
    "ExecuteTime": {
     "end_time": "2018-07-13T06:12:43.204209Z",
     "start_time": "2018-07-13T06:12:43.195233Z"
    }
   },
   "outputs": [],
   "source": []
  },
  {
   "cell_type": "code",
   "execution_count": null,
   "metadata": {},
   "outputs": [],
   "source": []
  }
 ],
 "metadata": {
  "kernelspec": {
   "display_name": "Python 3",
   "language": "python",
   "name": "python3"
  },
  "language_info": {
   "codemirror_mode": {
    "name": "ipython",
    "version": 3
   },
   "file_extension": ".py",
   "mimetype": "text/x-python",
   "name": "python",
   "nbconvert_exporter": "python",
   "pygments_lexer": "ipython3",
   "version": "3.6.5"
  },
  "toc": {
   "base_numbering": 1,
   "nav_menu": {},
   "number_sections": true,
   "sideBar": true,
   "skip_h1_title": false,
   "title_cell": "Table of Contents",
   "title_sidebar": "Contents",
   "toc_cell": false,
   "toc_position": {},
   "toc_section_display": true,
   "toc_window_display": false
  }
 },
 "nbformat": 4,
 "nbformat_minor": 2
}
