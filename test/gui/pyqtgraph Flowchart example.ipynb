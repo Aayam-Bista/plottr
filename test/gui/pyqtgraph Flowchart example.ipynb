{
 "cells": [
  {
   "cell_type": "code",
   "execution_count": 1,
   "metadata": {
    "ExecuteTime": {
     "end_time": "2018-07-13T05:59:02.466951Z",
     "start_time": "2018-07-13T05:59:02.453986Z"
    }
   },
   "outputs": [],
   "source": [
    "%gui qt"
   ]
  },
  {
   "cell_type": "code",
   "execution_count": 3,
   "metadata": {
    "ExecuteTime": {
     "end_time": "2018-07-13T06:05:30.467867Z",
     "start_time": "2018-07-13T06:05:30.464876Z"
    }
   },
   "outputs": [],
   "source": [
    "from pyqtgraph.flowchart import Flowchart\n",
    "from pyqtgraph.Qt import QtGui, QtCore\n",
    "import pyqtgraph as pg\n",
    "import numpy as np\n",
    "import pyqtgraph.metaarray as metaarray"
   ]
  },
  {
   "cell_type": "code",
   "execution_count": 7,
   "metadata": {
    "ExecuteTime": {
     "end_time": "2018-07-13T06:08:12.557754Z",
     "start_time": "2018-07-13T06:08:12.509881Z"
    }
   },
   "outputs": [],
   "source": [
    "win = QtGui.QMainWindow()\n",
    "win.setWindowTitle('pyqtgraph example: Flowchart')\n",
    "cw = QtGui.QWidget()\n",
    "win.setCentralWidget(cw)\n",
    "layout = QtGui.QGridLayout()\n",
    "cw.setLayout(layout)\n",
    "\n",
    "## Create flowchart, define input/output terminals\n",
    "fc = Flowchart(terminals={\n",
    "    'dataIn': {'io': 'in'},\n",
    "    'dataOut': {'io': 'out'}\n",
    "})\n",
    "w = fc.widget()\n",
    "\n",
    "## Add flowchart control panel to the main window\n",
    "layout.addWidget(fc.widget(), 0, 0, 2, 1)\n",
    "\n",
    "## Add two plot widgets\n",
    "pw1 = pg.PlotWidget()\n",
    "pw2 = pg.PlotWidget()\n",
    "layout.addWidget(pw1, 0, 1)\n",
    "layout.addWidget(pw2, 1, 1)\n",
    "\n",
    "win.show()"
   ]
  },
  {
   "cell_type": "code",
   "execution_count": 8,
   "metadata": {
    "ExecuteTime": {
     "end_time": "2018-07-13T06:08:21.446500Z",
     "start_time": "2018-07-13T06:08:20.682185Z"
    }
   },
   "outputs": [],
   "source": [
    "## generate signal data to pass through the flowchart\n",
    "data = np.random.normal(size=1000)\n",
    "data[200:300] += 1\n",
    "data += np.sin(np.linspace(0, 100, 1000))\n",
    "data = metaarray.MetaArray(data, info=[{'name': 'Time', 'values': np.linspace(0, 1.0, len(data))}, {}])\n",
    "\n",
    "## Feed data into the input terminal of the flowchart\n",
    "fc.setInput(dataIn=data)\n",
    "\n",
    "## populate the flowchart with a basic set of processing nodes. \n",
    "## (usually we let the user do this)\n",
    "plotList = {'Top Plot': pw1, 'Bottom Plot': pw2}\n",
    "\n",
    "pw1Node = fc.createNode('PlotWidget', pos=(0, -150))\n",
    "pw1Node.setPlotList(plotList)\n",
    "pw1Node.setPlot(pw1)\n",
    "\n",
    "pw2Node = fc.createNode('PlotWidget', pos=(150, -150))\n",
    "pw2Node.setPlot(pw2)\n",
    "pw2Node.setPlotList(plotList)\n",
    "\n",
    "fNode = fc.createNode('GaussianFilter', pos=(0, 0))\n",
    "fNode.ctrls['sigma'].setValue(5)\n",
    "fc.connectTerminals(fc['dataIn'], fNode['In'])\n",
    "fc.connectTerminals(fc['dataIn'], pw1Node['In'])\n",
    "fc.connectTerminals(fNode['Out'], pw2Node['In'])\n",
    "fc.connectTerminals(fNode['Out'], fc['dataOut'])"
   ]
  },
  {
   "cell_type": "code",
   "execution_count": null,
   "metadata": {
    "ExecuteTime": {
     "end_time": "2018-07-13T06:12:43.204209Z",
     "start_time": "2018-07-13T06:12:43.195233Z"
    }
   },
   "outputs": [],
   "source": []
  },
  {
   "cell_type": "code",
   "execution_count": null,
   "metadata": {},
   "outputs": [],
   "source": []
  }
 ],
 "metadata": {
  "kernelspec": {
   "display_name": "Python 3",
   "language": "python",
   "name": "python3"
  },
  "language_info": {
   "codemirror_mode": {
    "name": "ipython",
    "version": 3
   },
   "file_extension": ".py",
   "mimetype": "text/x-python",
   "name": "python",
   "nbconvert_exporter": "python",
   "pygments_lexer": "ipython3",
   "version": "3.6.5"
  },
  "toc": {
   "base_numbering": 1,
   "nav_menu": {},
   "number_sections": true,
   "sideBar": true,
   "skip_h1_title": false,
   "title_cell": "Table of Contents",
   "title_sidebar": "Contents",
   "toc_cell": false,
   "toc_position": {},
   "toc_section_display": true,
   "toc_window_display": false
  }
 },
 "nbformat": 4,
 "nbformat_minor": 2
}
