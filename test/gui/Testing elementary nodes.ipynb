{
 "cells": [
  {
   "cell_type": "code",
   "execution_count": 1,
   "metadata": {},
   "outputs": [],
   "source": [
    "%gui qt\n",
    "%matplotlib qt\n",
    "\n",
    "import numpy as np\n",
    "from pprint import pprint\n",
    "from importlib import reload"
   ]
  },
  {
   "cell_type": "code",
   "execution_count": 57,
   "metadata": {},
   "outputs": [],
   "source": [
    "from plottr.data.datadict import DataDict\n",
    "\n",
    "from plottr import node; reload(node)\n",
    "from plottr.node import Node, NodeWidget, DataSelector"
   ]
  },
  {
   "cell_type": "markdown",
   "metadata": {
    "heading_collapsed": true
   },
   "source": [
    "# Tool functions"
   ]
  },
  {
   "cell_type": "code",
   "execution_count": 3,
   "metadata": {
    "hidden": true
   },
   "outputs": [],
   "source": [
    "def testdata_1d(nvals):\n",
    "    x = np.linspace(0, 10, nvals)\n",
    "    y = np.cos(x)\n",
    "    z = np.cos(x)**2\n",
    "    d = DataDict(\n",
    "        x = {'values' : x},\n",
    "        y = {'values' : y, 'axes' : ['x']},\n",
    "        z = {'values' : z, 'axes' : ['x']},\n",
    "    )\n",
    "    return d\n",
    "\n",
    "def testdata_3d(nx, ny, nz):\n",
    "    x = np.linspace(0, 10, nx)\n",
    "    y = np.linspace(-5, 5, ny)\n",
    "    z = np.arange(nz)\n",
    "    xx, yy, zz = np.meshgrid(x, y, z, indexing='ij')\n",
    "    dd = np.cos(xx) * np.sin(yy) + np.random.rand(*zz.shape)\n",
    "    dd2 = np.sin(xx) * np.cos(yy) + np.random.rand(*zz.shape)\n",
    "    d = DataDict(\n",
    "        x = dict(values=xx.reshape(-1)),\n",
    "        y = dict(values=yy.reshape(-1)),\n",
    "        z = dict(values=zz.reshape(-1)),\n",
    "        data = dict(values=dd.reshape(-1), axes=['x', 'y', 'z']),\n",
    "        more_data = dict(values=dd2.reshape(-1), axes=['x', 'y', 'z']),\n",
    "        different_data = dict(values=dd2.T.reshape(-1), axes=['z', 'y', 'x'])\n",
    "    )\n",
    "    return d"
   ]
  },
  {
   "cell_type": "markdown",
   "metadata": {
    "heading_collapsed": true
   },
   "source": [
    "# Basic data selection"
   ]
  },
  {
   "cell_type": "code",
   "execution_count": 4,
   "metadata": {
    "hidden": true,
    "scrolled": false
   },
   "outputs": [],
   "source": [
    "data1 = testdata_3d(3, 5, 5)\n",
    "datasrc = Node()\n",
    "datasrc.verbose = True\n",
    "datasrc.data = data1"
   ]
  },
  {
   "cell_type": "code",
   "execution_count": 5,
   "metadata": {
    "hidden": true,
    "scrolled": true
   },
   "outputs": [
    {
     "name": "stdout",
     "output_type": "stream",
     "text": [
      "<plottr.node.DataSelector object at 0x00000208A2F65798> data set from input\n",
      "<plottr.node.DataSelector object at 0x00000208A2F65798> data set from input\n",
      "processed data: <plottr.node.Node object at 0x00000208A2F65828>\n",
      "{'data': {'axes': ['x', 'y', 'z'],\n",
      "          'values': array([ 1.32419431,  1.5325938 ,  1.04719556,  1.69039485,  1.95123048,\n",
      "        0.27536569,  0.33005799, -0.19811401, -0.1754816 , -0.21321853,\n",
      "        0.02673619,  0.14875046,  0.05712802,  0.22091589,  0.75022501,\n",
      "        1.32732534,  1.50027153,  1.34388332,  1.19290345,  0.92293311,\n",
      "       -0.67169251, -0.38914619, -0.94419885, -0.70038765, -0.17609821,\n",
      "        1.02653038,  0.7847035 ,  1.03949501,  0.48487855,  0.72135135,\n",
      "        0.20529092,  0.55233282,  0.32188187,  0.07378415,  0.8237085 ,\n",
      "        0.81150181,  0.85961447,  0.44818784,  0.92455844,  0.14339157,\n",
      "        0.29409816,  0.52935856,  0.22471193,  0.28653752,  0.37036809,\n",
      "        0.16477383,  0.64692942, -0.26307535,  0.46537219,  0.24848043,\n",
      "       -0.70995496,  0.19447534, -0.4833075 , -0.12640647, -0.09974026,\n",
      "        0.96967986,  0.7819435 ,  1.11407641,  1.35871854,  0.94395158,\n",
      "        0.09208933,  0.97007171,  0.42851793,  0.00594058,  0.42150835,\n",
      "        0.06801678, -0.394541  , -0.17121858, -0.0790314 , -0.2613793 ,\n",
      "        1.45457174,  1.4910685 ,  1.34848336,  1.00843291,  1.46974836])},\n",
      " 'different_data': {'axes': ['z', 'y', 'x'],\n",
      "                    'values': array([ 0.87569901,  0.34616404,  0.30396924,  0.5435751 ,  1.43912095,\n",
      "        1.02342571,  0.16639057, -0.67929493, -0.42575869,  0.10159532,\n",
      "        0.78971956,  0.4932581 ,  0.39390385,  0.3174233 ,  0.00635118,\n",
      "        0.44898054,  0.01643071,  0.59274761,  0.39243244,  1.30921081,\n",
      "        0.72600022,  0.79647813, -0.46153254,  0.4203632 ,  0.54052884,\n",
      "        1.41645579,  0.9824331 ,  0.79054786, -0.034631  ,  0.81009986,\n",
      "        0.53719616,  0.34144949,  0.6014097 ,  0.16208164,  1.74030404,\n",
      "        1.12145345,  0.69409931,  0.01455766, -0.43635301,  0.73142268,\n",
      "        1.5183201 ,  1.0213148 ,  0.87255815,  0.50854542,  0.756793  ,\n",
      "        0.82604765,  0.40531174,  0.11430562,  0.94927539,  1.42126663,\n",
      "        0.77785377,  0.57024874, -0.90908259, -0.33164716,  0.70000566,\n",
      "        0.80418364,  1.41972152,  0.51818329,  0.12482837,  0.58742499,\n",
      "        0.86990883,  0.68073109,  0.61042202,  0.28317558,  1.29174003,\n",
      "        0.77860917,  0.90072887, -0.008826  ,  0.19486437,  0.46276481,\n",
      "        0.84547225,  0.88935204,  0.08735517,  0.70279088,  0.05770866])},\n",
      " 'more_data': {'axes': ['x', 'y', 'z'],\n",
      "               'values': array([ 0.87569901,  0.44898054,  0.53719616,  0.82604765,  0.86990883,\n",
      "        0.5435751 ,  0.39243244,  0.16208164,  0.94927539,  0.28317558,\n",
      "        0.16639057,  0.79647813,  0.69409931,  0.57024874,  0.90072887,\n",
      "        0.10159532,  0.54052884,  0.73142268,  0.70000566,  0.46276481,\n",
      "        0.39390385,  0.79054786,  0.87255815,  0.51818329,  0.08735517,\n",
      "        0.34616404,  0.01643071,  0.34144949,  0.40531174,  0.68073109,\n",
      "        1.43912095,  1.30921081,  1.74030404,  1.42126663,  1.29174003,\n",
      "       -0.67929493, -0.46153254,  0.01455766, -0.90908259, -0.008826  ,\n",
      "        0.78971956,  1.41645579,  1.5183201 ,  0.80418364,  0.84547225,\n",
      "        0.3174233 , -0.034631  ,  0.50854542,  0.12482837,  0.70279088,\n",
      "        0.30396924,  0.59274761,  0.6014097 ,  0.11430562,  0.61042202,\n",
      "        1.02342571,  0.72600022,  1.12145345,  0.77785377,  0.77860917,\n",
      "       -0.42575869,  0.4203632 , -0.43635301, -0.33164716,  0.19486437,\n",
      "        0.4932581 ,  0.9824331 ,  1.0213148 ,  1.41972152,  0.88935204,\n",
      "        0.00635118,  0.81009986,  0.756793  ,  0.58742499,  0.05770866])},\n",
      " 'x': {'values': array([  0.,   0.,   0.,   0.,   0.,   0.,   0.,   0.,   0.,   0.,   0.,\n",
      "         0.,   0.,   0.,   0.,   0.,   0.,   0.,   0.,   0.,   0.,   0.,\n",
      "         0.,   0.,   0.,   5.,   5.,   5.,   5.,   5.,   5.,   5.,   5.,\n",
      "         5.,   5.,   5.,   5.,   5.,   5.,   5.,   5.,   5.,   5.,   5.,\n",
      "         5.,   5.,   5.,   5.,   5.,   5.,  10.,  10.,  10.,  10.,  10.,\n",
      "        10.,  10.,  10.,  10.,  10.,  10.,  10.,  10.,  10.,  10.,  10.,\n",
      "        10.,  10.,  10.,  10.,  10.,  10.,  10.,  10.,  10.])},\n",
      " 'y': {'values': array([-5. , -5. , -5. , -5. , -5. , -2.5, -2.5, -2.5, -2.5, -2.5,  0. ,\n",
      "        0. ,  0. ,  0. ,  0. ,  2.5,  2.5,  2.5,  2.5,  2.5,  5. ,  5. ,\n",
      "        5. ,  5. ,  5. , -5. , -5. , -5. , -5. , -5. , -2.5, -2.5, -2.5,\n",
      "       -2.5, -2.5,  0. ,  0. ,  0. ,  0. ,  0. ,  2.5,  2.5,  2.5,  2.5,\n",
      "        2.5,  5. ,  5. ,  5. ,  5. ,  5. , -5. , -5. , -5. , -5. , -5. ,\n",
      "       -2.5, -2.5, -2.5, -2.5, -2.5,  0. ,  0. ,  0. ,  0. ,  0. ,  2.5,\n",
      "        2.5,  2.5,  2.5,  2.5,  5. ,  5. ,  5. ,  5. ,  5. ])},\n",
      " 'z': {'values': array([0, 1, 2, 3, 4, 0, 1, 2, 3, 4, 0, 1, 2, 3, 4, 0, 1, 2, 3, 4, 0, 1, 2,\n",
      "       3, 4, 0, 1, 2, 3, 4, 0, 1, 2, 3, 4, 0, 1, 2, 3, 4, 0, 1, 2, 3, 4, 0,\n",
      "       1, 2, 3, 4, 0, 1, 2, 3, 4, 0, 1, 2, 3, 4, 0, 1, 2, 3, 4, 0, 1, 2, 3,\n",
      "       4, 0, 1, 2, 3, 4])}}\n",
      "\n",
      "processed data: <plottr.node.DataSelector object at 0x00000208A2F65798>\n",
      "{}\n",
      "\n"
     ]
    }
   ],
   "source": [
    "datasel = DataSelector()\n",
    "datasel.verbose = True\n",
    "datasel.setInput(datasrc)"
   ]
  },
  {
   "cell_type": "code",
   "execution_count": 6,
   "metadata": {
    "hidden": true
   },
   "outputs": [
    {
     "name": "stdout",
     "output_type": "stream",
     "text": [
      "processed data: <plottr.node.DataSelector object at 0x00000208A2F65798>\n",
      "{'more_data': {'axes': ['x', 'y', 'z'],\n",
      "               'unit': '',\n",
      "               'values': array([[[ 0.87569901,  0.44898054,  0.53719616,  0.82604765,  0.86990883],\n",
      "        [ 0.5435751 ,  0.39243244,  0.16208164,  0.94927539,  0.28317558],\n",
      "        [ 0.16639057,  0.79647813,  0.69409931,  0.57024874,  0.90072887],\n",
      "        [ 0.10159532,  0.54052884,  0.73142268,  0.70000566,  0.46276481],\n",
      "        [ 0.39390385,  0.79054786,  0.87255815,  0.51818329,  0.08735517]],\n",
      "\n",
      "       [[ 0.34616404,  0.01643071,  0.34144949,  0.40531174,  0.68073109],\n",
      "        [ 1.43912095,  1.30921081,  1.74030404,  1.42126663,  1.29174003],\n",
      "        [-0.67929493, -0.46153254,  0.01455766, -0.90908259, -0.008826  ],\n",
      "        [ 0.78971956,  1.41645579,  1.5183201 ,  0.80418364,  0.84547225],\n",
      "        [ 0.3174233 , -0.034631  ,  0.50854542,  0.12482837,  0.70279088]],\n",
      "\n",
      "       [[ 0.30396924,  0.59274761,  0.6014097 ,  0.11430562,  0.61042202],\n",
      "        [ 1.02342571,  0.72600022,  1.12145345,  0.77785377,  0.77860917],\n",
      "        [-0.42575869,  0.4203632 , -0.43635301, -0.33164716,  0.19486437],\n",
      "        [ 0.4932581 ,  0.9824331 ,  1.0213148 ,  1.41972152,  0.88935204],\n",
      "        [ 0.00635118,  0.81009986,  0.756793  ,  0.58742499,  0.05770866]]])},\n",
      " 'x': {'unit': '', 'values': array([  0.,   5.,  10.])},\n",
      " 'y': {'unit': '', 'values': array([-5. , -2.5,  0. ,  2.5,  5. ])},\n",
      " 'z': {'unit': '', 'values': array([0, 1, 2, 3, 4], dtype=int64)}}\n",
      "\n",
      "processed data: <plottr.node.DataSelector object at 0x00000208A2F65798>\n",
      "{'more_data': {'axes': ['x', 'y', 'z'],\n",
      "               'unit': '',\n",
      "               'values': array([[[ 0.87569901,  0.44898054,  0.53719616,  0.82604765,  0.86990883],\n",
      "        [ 0.16639057,  0.79647813,  0.69409931,  0.57024874,  0.90072887],\n",
      "        [ 0.39390385,  0.79054786,  0.87255815,  0.51818329,  0.08735517]],\n",
      "\n",
      "       [[ 0.34616404,  0.01643071,  0.34144949,  0.40531174,  0.68073109],\n",
      "        [-0.67929493, -0.46153254,  0.01455766, -0.90908259, -0.008826  ],\n",
      "        [ 0.3174233 , -0.034631  ,  0.50854542,  0.12482837,  0.70279088]]])},\n",
      " 'x': {'unit': '', 'values': array([ 0.,  5.])},\n",
      " 'y': {'unit': '', 'values': array([-5.,  0.,  5.])},\n",
      " 'z': {'unit': '', 'values': array([0, 1, 2, 3, 4], dtype=int64)}}\n",
      "\n",
      "processed data: <plottr.node.DataSelector object at 0x00000208A2F65798>\n",
      "{'more_data': {'axes': ['y', 'x', 'z'],\n",
      "               'unit': '',\n",
      "               'values': array([[[ 0.87569901,  0.44898054,  0.53719616,  0.82604765,  0.86990883],\n",
      "        [ 0.34616404,  0.01643071,  0.34144949,  0.40531174,  0.68073109]],\n",
      "\n",
      "       [[ 0.16639057,  0.79647813,  0.69409931,  0.57024874,  0.90072887],\n",
      "        [-0.67929493, -0.46153254,  0.01455766, -0.90908259, -0.008826  ]],\n",
      "\n",
      "       [[ 0.39390385,  0.79054786,  0.87255815,  0.51818329,  0.08735517],\n",
      "        [ 0.3174233 , -0.034631  ,  0.50854542,  0.12482837,  0.70279088]]])},\n",
      " 'x': {'unit': '', 'values': array([ 0.,  5.])},\n",
      " 'y': {'unit': '', 'values': array([-5.,  0.,  5.])},\n",
      " 'z': {'unit': '', 'values': array([0, 1, 2, 3, 4], dtype=int64)}}\n",
      "\n"
     ]
    }
   ],
   "source": [
    "datasel.dataName = 'more_data'\n",
    "datasel.slices = dict(y=np.s_[::2], x=np.s_[:2:])\n",
    "datasel.axesOrder = dict(x=1,z=2,y=0)"
   ]
  },
  {
   "cell_type": "markdown",
   "metadata": {
    "heading_collapsed": true
   },
   "source": [
    "# Basic checking"
   ]
  },
  {
   "cell_type": "code",
   "execution_count": 58,
   "metadata": {
    "hidden": true
   },
   "outputs": [],
   "source": [
    "data1 = testdata_3d(3, 5, 5)\n",
    "\n",
    "datasrc = Node()\n",
    "datasrc.verbose = False\n",
    "\n",
    "datasel = DataSelector()\n",
    "datasel.verbose = False\n",
    "datasel.setInput(datasrc)"
   ]
  },
  {
   "cell_type": "code",
   "execution_count": 64,
   "metadata": {
    "hidden": true,
    "scrolled": false
   },
   "outputs": [],
   "source": [
    "datasrc.data = data1\n",
    "datasel.dataName = ['data', 'more_data']"
   ]
  },
  {
   "cell_type": "code",
   "execution_count": 65,
   "metadata": {
    "hidden": true
   },
   "outputs": [
    {
     "data": {
      "text/plain": [
       "{'x': {'values': array([  0.,   5.,  10.]), 'unit': '', 'axes': []},\n",
       " 'y': {'values': array([-5. , -2.5,  0. ,  2.5,  5. ]),\n",
       "  'unit': '',\n",
       "  'axes': []},\n",
       " 'z': {'values': array([0, 1, 2, 3, 4], dtype=int64), 'unit': '', 'axes': []},\n",
       " 'data': {'values': array([[[  1.44440446e+00,   1.73922911e+00,   1.89082441e+00,\n",
       "             1.74561118e+00,   1.81166517e+00],\n",
       "          [  1.26660131e-01,   3.65820728e-01,   3.95560991e-01,\n",
       "            -4.86660413e-01,   2.87635536e-01],\n",
       "          [  1.11889822e-01,   1.18779347e-01,   7.23457726e-01,\n",
       "             9.22778672e-01,   3.24088011e-01],\n",
       "          [  1.24837303e+00,   8.69180058e-01,   1.01814550e+00,\n",
       "             1.25317571e+00,   1.42316263e+00],\n",
       "          [ -7.01896396e-01,  -1.68913626e-01,  -8.25890624e-01,\n",
       "            -3.39132831e-01,   1.06325756e-02]],\n",
       "  \n",
       "         [[  8.40558366e-01,   6.43851964e-01,   1.16468714e+00,\n",
       "             3.89763667e-01,   5.74791319e-01],\n",
       "          [ -1.03748845e-02,   1.18899918e-01,   3.21585497e-01,\n",
       "             2.03652770e-01,   1.73164655e-01],\n",
       "          [  4.97735969e-01,   3.53808493e-01,   7.85201717e-01,\n",
       "             1.83712889e-01,   6.99769552e-01],\n",
       "          [  5.11332947e-01,   1.73898631e-01,   4.13222585e-01,\n",
       "             3.12713667e-01,   8.81965448e-01],\n",
       "          [  4.18868984e-01,   1.84495576e-01,  -1.14169218e-01,\n",
       "             3.25266270e-02,   5.12290350e-01]],\n",
       "  \n",
       "         [[ -4.60436429e-01,  -4.19159506e-01,  -4.45125159e-02,\n",
       "             1.95140784e-01,  -2.39115469e-01],\n",
       "          [  9.77235221e-01,   1.40230612e+00,   8.28486619e-01,\n",
       "             8.45579123e-01,   6.33864792e-01],\n",
       "          [  9.11681957e-01,   5.91430590e-01,   7.06836293e-01,\n",
       "             3.31351508e-02,   7.18730539e-01],\n",
       "          [  1.09649323e-01,   6.54870119e-04,  -4.41067644e-01,\n",
       "            -4.46140760e-01,  -2.59832253e-01],\n",
       "          [  1.56011488e+00,   1.39156584e+00,   1.69827775e+00,\n",
       "             9.44818439e-01,   9.42839298e-01]]]),\n",
       "  'axes': ['x', 'y', 'z'],\n",
       "  'unit': ''},\n",
       " 'more_data': {'values': array([[[ 0.63175191,  0.82493976,  0.92298239,  0.49299569,  0.63834168],\n",
       "          [ 0.01670407,  0.43474352,  0.58583189,  0.53587594,  0.09562377],\n",
       "          [ 0.66553514,  0.89142961,  0.24749742,  0.92949441,  0.71470089],\n",
       "          [ 0.76782223,  0.16446572,  0.10054578,  0.76214255,  0.2276024 ],\n",
       "          [ 0.9553683 ,  0.3257869 ,  0.81807901,  0.06520713,  0.47126813]],\n",
       "  \n",
       "         [[ 0.0788831 ,  0.47881805,  0.27826596, -0.16661005,  0.50008395],\n",
       "          [ 1.29163641,  1.34240377,  1.00924462,  1.35359047,  0.93929987],\n",
       "          [-0.2024764 , -0.61266605, -0.39641701, -0.00946707, -0.28449049],\n",
       "          [ 1.16606546,  0.7890331 ,  1.71938442,  1.11299151,  1.60887096],\n",
       "          [ 0.3086506 ,  0.3204038 , -0.15432868,  0.22011182, -0.1574311 ]],\n",
       "  \n",
       "         [[ 0.17033723,  0.36870628, -0.0034108 ,  0.07485859,  0.36008496],\n",
       "          [ 1.39472547,  1.12230886,  1.1280073 ,  1.41565211,  0.60884072],\n",
       "          [ 0.29729714, -0.17261219, -0.09415067,  0.06890216,  0.39071672],\n",
       "          [ 0.60903484,  1.23959118,  1.38451508,  0.94194018,  0.81718276],\n",
       "          [ 0.63015417,  0.75227868,  0.37760764,  0.63659122,  0.63654293]]]),\n",
       "  'axes': ['x', 'y', 'z'],\n",
       "  'unit': ''}}"
      ]
     },
     "execution_count": 65,
     "metadata": {},
     "output_type": "execute_result"
    }
   ],
   "source": [
    "datasel.data"
   ]
  },
  {
   "cell_type": "markdown",
   "metadata": {},
   "source": [
    "# Data Selector Widget"
   ]
  },
  {
   "cell_type": "code",
   "execution_count": 66,
   "metadata": {},
   "outputs": [],
   "source": [
    "from PyQt5.QtWidgets import QWidget\n",
    "\n",
    "\n",
    "class NodeControlWidget(QWidget):\n",
    "    \n",
    "    def __init__(self, *arg, **kw):\n",
    "        super().__init__(self, *arg, **kw)\n",
    "\n",
    "\n",
    "class DataSelectorWidget(NodeControlWidget):\n",
    "    \n",
    "    def __init__(self, *arg, **kw):\n",
    "        super().__init__(self, *arg, **kw)\n",
    "        \n",
    "        self.node = DataSelector() # make more abstract?\n",
    "        self.node.dataProcessed.connect(self.dataUpdate)\n",
    "        \n",
    "    def dataUpdate()"
   ]
  },
  {
   "cell_type": "code",
   "execution_count": null,
   "metadata": {},
   "outputs": [],
   "source": []
  },
  {
   "cell_type": "code",
   "execution_count": null,
   "metadata": {},
   "outputs": [],
   "source": []
  },
  {
   "cell_type": "markdown",
   "metadata": {},
   "source": [
    "# Updating a 1D plot"
   ]
  },
  {
   "cell_type": "code",
   "execution_count": 7,
   "metadata": {},
   "outputs": [
    {
     "ename": "NameError",
     "evalue": "name 'LinePlotData' is not defined",
     "output_type": "error",
     "traceback": [
      "\u001b[1;31m---------------------------------------------------------------------------\u001b[0m",
      "\u001b[1;31mNameError\u001b[0m                                 Traceback (most recent call last)",
      "\u001b[1;32m<ipython-input-7-6cfcfa5b8f18>\u001b[0m in \u001b[0;36m<module>\u001b[1;34m()\u001b[0m\n\u001b[0;32m      3\u001b[0m \u001b[0mdatasrc\u001b[0m\u001b[1;33m.\u001b[0m\u001b[0mdata\u001b[0m \u001b[1;33m=\u001b[0m \u001b[0mdata1\u001b[0m\u001b[1;33m\u001b[0m\u001b[0m\n\u001b[0;32m      4\u001b[0m \u001b[1;33m\u001b[0m\u001b[0m\n\u001b[1;32m----> 5\u001b[1;33m \u001b[0mlineplotdata\u001b[0m \u001b[1;33m=\u001b[0m \u001b[0mLinePlotData\u001b[0m\u001b[1;33m(\u001b[0m\u001b[1;33m)\u001b[0m\u001b[1;33m\u001b[0m\u001b[0m\n\u001b[0m\u001b[0;32m      6\u001b[0m \u001b[0mlineplotdata\u001b[0m\u001b[1;33m.\u001b[0m\u001b[0msetInput\u001b[0m\u001b[1;33m(\u001b[0m\u001b[0mdatasrc\u001b[0m\u001b[1;33m)\u001b[0m\u001b[1;33m\u001b[0m\u001b[0m\n\u001b[0;32m      7\u001b[0m \u001b[1;33m\u001b[0m\u001b[0m\n",
      "\u001b[1;31mNameError\u001b[0m: name 'LinePlotData' is not defined"
     ]
    }
   ],
   "source": [
    "data1 = testdata_1d(21)\n",
    "datasrc = Node()\n",
    "datasrc.data = data1\n",
    "\n",
    "lineplotdata = LinePlotData()\n",
    "lineplotdata.setInput(datasrc)\n",
    "\n",
    "lp = LinePlot(None)\n",
    "lp.setInput(lineplotdata)\n",
    "lp.show()"
   ]
  },
  {
   "cell_type": "code",
   "execution_count": null,
   "metadata": {},
   "outputs": [],
   "source": [
    "lineplotdata.xaxisName = 'x'\n",
    "lineplotdata.traceNames = ['z']"
   ]
  },
  {
   "cell_type": "code",
   "execution_count": null,
   "metadata": {},
   "outputs": [],
   "source": []
  }
 ],
 "metadata": {
  "hide_input": false,
  "kernelspec": {
   "display_name": "Python 3",
   "language": "python",
   "name": "python3"
  },
  "language_info": {
   "codemirror_mode": {
    "name": "ipython",
    "version": 3
   },
   "file_extension": ".py",
   "mimetype": "text/x-python",
   "name": "python",
   "nbconvert_exporter": "python",
   "pygments_lexer": "ipython3",
   "version": "3.6.5"
  },
  "toc": {
   "base_numbering": 1,
   "nav_menu": {},
   "number_sections": true,
   "sideBar": true,
   "skip_h1_title": false,
   "title_cell": "Table of Contents",
   "title_sidebar": "Contents",
   "toc_cell": false,
   "toc_position": {},
   "toc_section_display": true,
   "toc_window_display": true
  }
 },
 "nbformat": 4,
 "nbformat_minor": 2
}
