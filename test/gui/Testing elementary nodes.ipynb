{
 "cells": [
  {
   "cell_type": "code",
   "execution_count": 1,
   "metadata": {},
   "outputs": [],
   "source": [
    "%gui qt\n",
    "%matplotlib qt\n",
    "\n",
    "import numpy as np\n",
    "from pprint import pprint\n",
    "from importlib import reload"
   ]
  },
  {
   "cell_type": "code",
   "execution_count": 46,
   "metadata": {},
   "outputs": [],
   "source": [
    "from plottr.data.datadict import DataDict\n",
    "\n",
    "import lineplot; reload(lineplot)\n",
    "from lineplot import Node, DataSelector"
   ]
  },
  {
   "cell_type": "code",
   "execution_count": null,
   "metadata": {},
   "outputs": [],
   "source": []
  },
  {
   "cell_type": "code",
   "execution_count": 4,
   "metadata": {},
   "outputs": [],
   "source": [
    "def testdata1(nx, ny, nz):\n",
    "    x = np.linspace(0, 10, nx)\n",
    "    y = np.linspace(-5, 5, ny)\n",
    "    z = np.arange(nz)\n",
    "    xx, yy, zz = np.meshgrid(x, y, z, indexing='ij')\n",
    "    dd = np.cos(xx) * np.sin(yy) + np.random.rand(*zz.shape)\n",
    "    dd2 = np.sin(xx) * np.cos(yy) + np.random.rand(*zz.shape)\n",
    "    d = DataDict(\n",
    "        x = dict(values=xx.reshape(-1)),\n",
    "        y = dict(values=yy.reshape(-1)),\n",
    "        z = dict(values=zz.reshape(-1)),\n",
    "        data = dict(values=dd.reshape(-1), axes=['x', 'y', 'z']),\n",
    "        more_data = dict(values=dd2.reshape(-1), axes=['x', 'y', 'z']),\n",
    "    )\n",
    "    return d"
   ]
  },
  {
   "cell_type": "code",
   "execution_count": 47,
   "metadata": {
    "scrolled": false
   },
   "outputs": [
    {
     "name": "stdout",
     "output_type": "stream",
     "text": [
      "run: <lineplot.DataSelector object at 0x000001E237880948>\n",
      "processed data: <lineplot.DataSelector object at 0x000001E237880948>\n",
      "{'data': {'axes': ['x', 'y', 'z'],\n",
      "          'unit': '',\n",
      "          'values': array([[[ 1.27838729,  1.12089776,  1.90076898,  0.98511802,  1.18387744],\n",
      "        [ 0.09034058,  0.05674993,  0.34318447, -0.01147941, -0.26947456],\n",
      "        [ 0.56793148,  0.80276915,  0.28078962,  0.09954846,  0.43328254],\n",
      "        [ 1.20256557,  1.08923188,  1.43537649,  1.49259921,  1.58054706],\n",
      "        [-0.42112374, -0.08829665, -0.85216045, -0.36962453, -0.85365445]],\n",
      "\n",
      "       [[ 0.72689837,  1.17656237,  0.60995971,  1.12777686,  0.57644703],\n",
      "        [ 0.69354056,  0.21230562,  0.12335335,  0.7508436 ,  0.12551399],\n",
      "        [ 0.3799502 ,  0.88627023,  0.24927338,  0.64872406,  0.3867231 ],\n",
      "        [ 0.30085435,  1.00070353,  0.42042495,  0.82611073,  0.8322363 ],\n",
      "        [ 0.57582614,  0.21991618,  0.63464759,  0.35894184, -0.26467537]],\n",
      "\n",
      "       [[ 0.15709939, -0.31517827, -0.68183618, -0.76056951, -0.4474546 ],\n",
      "        [ 1.12474031,  0.5704897 ,  1.09670708,  1.33729903,  0.52362279],\n",
      "        [ 0.6968664 ,  0.61849268,  0.23249476,  0.81331222,  0.5182365 ],\n",
      "        [ 0.07941326, -0.26961142, -0.4582845 , -0.20736928, -0.39668732],\n",
      "        [ 1.75255458,  0.853225  ,  1.00128257,  1.0333508 ,  1.22231631]]])},\n",
      " 'x': {'unit': '', 'values': array([  0.,   5.,  10.])},\n",
      " 'y': {'unit': '', 'values': array([-5. , -2.5,  0. ,  2.5,  5. ])},\n",
      " 'z': {'unit': '', 'values': array([0, 1, 2, 3, 4], dtype=int64)}}\n",
      "\n",
      "run: <lineplot.DataSelector object at 0x000001E237880948>\n",
      "processed data: <lineplot.DataSelector object at 0x000001E237880948>\n",
      "{'data': {'axes': ['y', 'z'],\n",
      "          'unit': '',\n",
      "          'values': array([[ 1.27838729,  1.12089776,  1.90076898,  0.98511802,  1.18387744],\n",
      "       [ 0.56793148,  0.80276915,  0.28078962,  0.09954846,  0.43328254],\n",
      "       [-0.42112374, -0.08829665, -0.85216045, -0.36962453, -0.85365445]])},\n",
      " 'y': {'unit': '', 'values': array([-5.,  0.,  5.])},\n",
      " 'z': {'unit': '', 'values': array([0, 1, 2, 3, 4], dtype=int64)}}\n",
      "\n"
     ]
    }
   ],
   "source": [
    "data1 = testdata1(3, 5, 5)\n",
    "\n",
    "datasrc = Node()\n",
    "datasrc.data = data1\n",
    "\n",
    "datasel = DataSelector()\n",
    "datasel.updateOnOptionChange = True\n",
    "datasel.updateOnSource = True\n",
    "datasel.source = datasrc\n",
    "datasel.dataName = 'data'\n",
    "datasel.slices = dict(y=np.s_[::2], x=np.s_[:1:])\n",
    "# datasel.axesOrder = dict(x=1,y=0,z=2)\n",
    "# datasel.run()"
   ]
  },
  {
   "cell_type": "code",
   "execution_count": 48,
   "metadata": {},
   "outputs": [
    {
     "name": "stdout",
     "output_type": "stream",
     "text": [
      "run: <lineplot.DataSelector object at 0x000001E237880948>\n",
      "processed data: <lineplot.DataSelector object at 0x000001E237880948>\n",
      "{'data': {'axes': ['y', 'z'],\n",
      "          'unit': '',\n",
      "          'values': array([[ 1.27838729,  1.12089776,  1.90076898,  0.98511802,  1.18387744],\n",
      "       [ 0.56793148,  0.80276915,  0.28078962,  0.09954846,  0.43328254],\n",
      "       [-0.42112374, -0.08829665, -0.85216045, -0.36962453, -0.85365445]])},\n",
      " 'y': {'unit': '', 'values': array([-5.,  0.,  5.])},\n",
      " 'z': {'unit': '', 'values': array([0, 1, 2, 3, 4], dtype=int64)}}\n",
      "\n"
     ]
    }
   ],
   "source": [
    "datasrc.data = data1"
   ]
  },
  {
   "cell_type": "code",
   "execution_count": 49,
   "metadata": {
    "scrolled": false
   },
   "outputs": [
    {
     "name": "stdout",
     "output_type": "stream",
     "text": [
      "run: <lineplot.Node object at 0x000001E234150828>\n",
      "run: <lineplot.DataSelector object at 0x000001E237880948>\n",
      "processed data: <lineplot.DataSelector object at 0x000001E237880948>\n",
      "{'data': {'axes': ['y', 'z'],\n",
      "          'unit': '',\n",
      "          'values': array([[ 1.27838729,  1.12089776,  1.90076898,  0.98511802,  1.18387744],\n",
      "       [ 0.56793148,  0.80276915,  0.28078962,  0.09954846,  0.43328254],\n",
      "       [-0.42112374, -0.08829665, -0.85216045, -0.36962453, -0.85365445]])},\n",
      " 'y': {'unit': '', 'values': array([-5.,  0.,  5.])},\n",
      " 'z': {'unit': '', 'values': array([0, 1, 2, 3, 4], dtype=int64)}}\n",
      "\n",
      "processed data: <lineplot.Node object at 0x000001E234150828>\n",
      "{'data': {'axes': ['x', 'y', 'z'],\n",
      "          'unit': '',\n",
      "          'values': array([ 1.27838729,  1.12089776,  1.90076898,  0.98511802,  1.18387744,\n",
      "        0.09034058,  0.05674993,  0.34318447, -0.01147941, -0.26947456,\n",
      "        0.56793148,  0.80276915,  0.28078962,  0.09954846,  0.43328254,\n",
      "        1.20256557,  1.08923188,  1.43537649,  1.49259921,  1.58054706,\n",
      "       -0.42112374, -0.08829665, -0.85216045, -0.36962453, -0.85365445,\n",
      "        0.72689837,  1.17656237,  0.60995971,  1.12777686,  0.57644703,\n",
      "        0.69354056,  0.21230562,  0.12335335,  0.7508436 ,  0.12551399,\n",
      "        0.3799502 ,  0.88627023,  0.24927338,  0.64872406,  0.3867231 ,\n",
      "        0.30085435,  1.00070353,  0.42042495,  0.82611073,  0.8322363 ,\n",
      "        0.57582614,  0.21991618,  0.63464759,  0.35894184, -0.26467537,\n",
      "        0.15709939, -0.31517827, -0.68183618, -0.76056951, -0.4474546 ,\n",
      "        1.12474031,  0.5704897 ,  1.09670708,  1.33729903,  0.52362279,\n",
      "        0.6968664 ,  0.61849268,  0.23249476,  0.81331222,  0.5182365 ,\n",
      "        0.07941326, -0.26961142, -0.4582845 , -0.20736928, -0.39668732,\n",
      "        1.75255458,  0.853225  ,  1.00128257,  1.0333508 ,  1.22231631])},\n",
      " 'more_data': {'axes': ['x', 'y', 'z'],\n",
      "               'unit': '',\n",
      "               'values': array([ 0.56500839,  0.61378286,  0.74965495,  0.35800192,  0.46825448,\n",
      "        0.40514342,  0.86764365,  0.74234319,  0.89805972,  0.31901411,\n",
      "        0.10831314,  0.84665875,  0.5275131 ,  0.19315713,  0.29742263,\n",
      "        0.38533648,  0.70720587,  0.91502772,  0.89032852,  0.33542945,\n",
      "        0.65764911,  0.51159873,  0.39353752,  0.9351333 ,  0.60886146,\n",
      "        0.49700179, -0.24115809, -0.22312098,  0.34464964, -0.1749131 ,\n",
      "        0.82158524,  1.1273798 ,  1.53550044,  1.15278497,  1.31955919,\n",
      "       -0.77497852, -0.05640524, -0.7712593 , -0.50332686, -0.79071262,\n",
      "        1.31295841,  1.35005361,  1.19536187,  1.54700443,  1.08657631,\n",
      "        0.15794486, -0.19990359,  0.5050433 ,  0.68820534,  0.00819564,\n",
      "        0.45494956, -0.02580039,  0.81410295,  0.278633  ,  0.07511228,\n",
      "        0.86809628,  1.02131882,  1.16139841,  1.18547484,  0.71299336,\n",
      "        0.43839858,  0.44356181,  0.27820201, -0.23903277,  0.13979257,\n",
      "        1.26175132,  0.47624949,  0.45651704,  0.62424227,  0.63039289,\n",
      "        0.31429199, -0.14176419,  0.05187308,  0.64996201,  0.4401729 ])},\n",
      " 'x': {'axes': [],\n",
      "       'unit': '',\n",
      "       'values': array([  0.,   0.,   0.,   0.,   0.,   0.,   0.,   0.,   0.,   0.,   0.,\n",
      "         0.,   0.,   0.,   0.,   0.,   0.,   0.,   0.,   0.,   0.,   0.,\n",
      "         0.,   0.,   0.,   5.,   5.,   5.,   5.,   5.,   5.,   5.,   5.,\n",
      "         5.,   5.,   5.,   5.,   5.,   5.,   5.,   5.,   5.,   5.,   5.,\n",
      "         5.,   5.,   5.,   5.,   5.,   5.,  10.,  10.,  10.,  10.,  10.,\n",
      "        10.,  10.,  10.,  10.,  10.,  10.,  10.,  10.,  10.,  10.,  10.,\n",
      "        10.,  10.,  10.,  10.,  10.,  10.,  10.,  10.,  10.])},\n",
      " 'y': {'axes': [],\n",
      "       'unit': '',\n",
      "       'values': array([-5. , -5. , -5. , -5. , -5. , -2.5, -2.5, -2.5, -2.5, -2.5,  0. ,\n",
      "        0. ,  0. ,  0. ,  0. ,  2.5,  2.5,  2.5,  2.5,  2.5,  5. ,  5. ,\n",
      "        5. ,  5. ,  5. , -5. , -5. , -5. , -5. , -5. , -2.5, -2.5, -2.5,\n",
      "       -2.5, -2.5,  0. ,  0. ,  0. ,  0. ,  0. ,  2.5,  2.5,  2.5,  2.5,\n",
      "        2.5,  5. ,  5. ,  5. ,  5. ,  5. , -5. , -5. , -5. , -5. , -5. ,\n",
      "       -2.5, -2.5, -2.5, -2.5, -2.5,  0. ,  0. ,  0. ,  0. ,  0. ,  2.5,\n",
      "        2.5,  2.5,  2.5,  2.5,  5. ,  5. ,  5. ,  5. ,  5. ])},\n",
      " 'z': {'axes': [],\n",
      "       'unit': '',\n",
      "       'values': array([0, 1, 2, 3, 4, 0, 1, 2, 3, 4, 0, 1, 2, 3, 4, 0, 1, 2, 3, 4, 0, 1, 2,\n",
      "       3, 4, 0, 1, 2, 3, 4, 0, 1, 2, 3, 4, 0, 1, 2, 3, 4, 0, 1, 2, 3, 4, 0,\n",
      "       1, 2, 3, 4, 0, 1, 2, 3, 4, 0, 1, 2, 3, 4, 0, 1, 2, 3, 4, 0, 1, 2, 3,\n",
      "       4, 0, 1, 2, 3, 4])}}\n",
      "\n"
     ]
    }
   ],
   "source": [
    "datasrc.run()"
   ]
  },
  {
   "cell_type": "code",
   "execution_count": null,
   "metadata": {},
   "outputs": [],
   "source": []
  }
 ],
 "metadata": {
  "hide_input": false,
  "kernelspec": {
   "display_name": "Python 3",
   "language": "python",
   "name": "python3"
  },
  "language_info": {
   "codemirror_mode": {
    "name": "ipython",
    "version": 3
   },
   "file_extension": ".py",
   "mimetype": "text/x-python",
   "name": "python",
   "nbconvert_exporter": "python",
   "pygments_lexer": "ipython3",
   "version": "3.6.5"
  },
  "toc": {
   "base_numbering": 1,
   "nav_menu": {},
   "number_sections": true,
   "sideBar": true,
   "skip_h1_title": false,
   "title_cell": "Table of Contents",
   "title_sidebar": "Contents",
   "toc_cell": false,
   "toc_position": {},
   "toc_section_display": true,
   "toc_window_display": false
  }
 },
 "nbformat": 4,
 "nbformat_minor": 2
}
