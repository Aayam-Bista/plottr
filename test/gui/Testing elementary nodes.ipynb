{
 "cells": [
  {
   "cell_type": "code",
   "execution_count": 3,
   "metadata": {
    "ExecuteTime": {
     "end_time": "2018-07-07T14:23:07.661237Z",
     "start_time": "2018-07-07T14:23:07.656250Z"
    },
    "hide_input": false
   },
   "outputs": [],
   "source": [
    "%gui qt\n",
    "%matplotlib qt\n",
    "\n",
    "import numpy as np\n",
    "from pprint import pprint\n",
    "from importlib import reload"
   ]
  },
  {
   "cell_type": "code",
   "execution_count": 28,
   "metadata": {
    "ExecuteTime": {
     "end_time": "2018-07-07T18:07:46.905005Z",
     "start_time": "2018-07-07T18:07:46.892040Z"
    }
   },
   "outputs": [],
   "source": [
    "from plottr.data.datadict import DataDict\n",
    "\n",
    "from plottr import node; reload(node)\n",
    "from plottr.node import Node, NodeWidget, DataSelector"
   ]
  },
  {
   "cell_type": "markdown",
   "metadata": {},
   "source": [
    "# Tool functions"
   ]
  },
  {
   "cell_type": "code",
   "execution_count": 5,
   "metadata": {
    "ExecuteTime": {
     "end_time": "2018-07-07T14:23:11.819908Z",
     "start_time": "2018-07-07T14:23:11.811929Z"
    }
   },
   "outputs": [],
   "source": [
    "def testdata_1d(nvals):\n",
    "    x = np.linspace(0, 10, nvals)\n",
    "    y = np.cos(x)\n",
    "    z = np.cos(x)**2\n",
    "    d = DataDict(\n",
    "        x = {'values' : x},\n",
    "        y = {'values' : y, 'axes' : ['x']},\n",
    "        z = {'values' : z, 'axes' : ['x']},\n",
    "    )\n",
    "    return d\n",
    "\n",
    "def testdata_3d(nx, ny, nz):\n",
    "    x = np.linspace(0, 10, nx)\n",
    "    y = np.linspace(-5, 5, ny)\n",
    "    z = np.arange(nz)\n",
    "    xx, yy, zz = np.meshgrid(x, y, z, indexing='ij')\n",
    "    dd = np.cos(xx) * np.sin(yy) + np.random.rand(*zz.shape)\n",
    "    dd2 = np.sin(xx) * np.cos(yy) + np.random.rand(*zz.shape)\n",
    "    d = DataDict(\n",
    "        x = dict(values=xx.reshape(-1)),\n",
    "        y = dict(values=yy.reshape(-1)),\n",
    "        z = dict(values=zz.reshape(-1)),\n",
    "        data = dict(values=dd.reshape(-1), axes=['x', 'y', 'z']),\n",
    "        more_data = dict(values=dd2.reshape(-1), axes=['x', 'y', 'z']),\n",
    "        different_data = dict(values=dd2.T.reshape(-1), axes=['z', 'y', 'x'])\n",
    "    )\n",
    "    return d"
   ]
  },
  {
   "cell_type": "markdown",
   "metadata": {
    "heading_collapsed": true
   },
   "source": [
    "# Basic data selection"
   ]
  },
  {
   "cell_type": "code",
   "execution_count": null,
   "metadata": {
    "hidden": true,
    "scrolled": false
   },
   "outputs": [],
   "source": [
    "data1 = testdata_3d(3, 5, 5)\n",
    "datasrc = Node()\n",
    "datasrc.verbose = True\n",
    "datasrc.data = data1"
   ]
  },
  {
   "cell_type": "code",
   "execution_count": null,
   "metadata": {
    "hidden": true,
    "scrolled": true
   },
   "outputs": [],
   "source": [
    "datasel = DataSelector()\n",
    "datasel.verbose = True\n",
    "datasel.setInput(datasrc)"
   ]
  },
  {
   "cell_type": "code",
   "execution_count": null,
   "metadata": {
    "hidden": true
   },
   "outputs": [],
   "source": [
    "datasel.dataName = 'more_data'\n",
    "datasel.slices = dict(y=np.s_[::2], x=np.s_[:2:])\n",
    "datasel.axesOrder = dict(x=1,z=2,y=0)"
   ]
  },
  {
   "cell_type": "markdown",
   "metadata": {
    "heading_collapsed": true
   },
   "source": [
    "# Basic checking"
   ]
  },
  {
   "cell_type": "code",
   "execution_count": null,
   "metadata": {
    "hidden": true
   },
   "outputs": [],
   "source": [
    "data1 = testdata_3d(3, 5, 5)\n",
    "\n",
    "datasrc = Node()\n",
    "datasrc.verbose = False\n",
    "\n",
    "datasel = DataSelector()\n",
    "datasel.verbose = False\n",
    "datasel.setInput(datasrc)"
   ]
  },
  {
   "cell_type": "code",
   "execution_count": null,
   "metadata": {
    "hidden": true,
    "scrolled": false
   },
   "outputs": [],
   "source": [
    "datasrc.data = data1\n",
    "datasel.dataName = ['data', 'more_data']"
   ]
  },
  {
   "cell_type": "code",
   "execution_count": null,
   "metadata": {
    "hidden": true
   },
   "outputs": [],
   "source": [
    "datasel.data"
   ]
  },
  {
   "cell_type": "markdown",
   "metadata": {},
   "source": [
    "# Data Selector Widget"
   ]
  },
  {
   "cell_type": "code",
   "execution_count": 79,
   "metadata": {
    "ExecuteTime": {
     "end_time": "2018-07-08T06:56:40.224892Z",
     "start_time": "2018-07-08T06:56:40.193649Z"
    }
   },
   "outputs": [],
   "source": [
    "from PyQt5.QtWidgets import (QWidget, QVBoxLayout, QFormLayout, \n",
    "                             QComboBox, QLabel, QGroupBox, QCheckBox)\n",
    "from PyQt5.QtCore import QObject, QThread, pyqtSignal, pyqtSlot\n",
    "\n",
    "\n",
    "class NodeControlWidget(QWidget):\n",
    "    \n",
    "    def __init__(self, parent=None, **kw):\n",
    "        super().__init__(parent=parent, **kw)\n",
    "        \n",
    "\n",
    "# class DataNameCheckbox(QWidget):\n",
    "    \n",
    "#     def __init__(self, name, parent=None):\n",
    "#         super().__init__(parent=parent)\n",
    "        \n",
    "      \n",
    "\n",
    "class DataSelectorWidget(NodeControlWidget):\n",
    "    \n",
    "    newDataStructure = pyqtSignal()\n",
    "    axesChoiceUpdated = pyqtSignal(str, str)\n",
    "    \n",
    "    def __init__(self, parent=None, node=None, **kw):\n",
    "        super().__init__(parent=parent, **kw)\n",
    "        \n",
    "        # this is more general!\n",
    "        if node is None:\n",
    "            self.node = DataSelector()\n",
    "        else:\n",
    "            self.node = node\n",
    "        self.node.sourceDataUpdated.connect(self.dataUpdate)\n",
    "        \n",
    "        # Axes selection\n",
    "        self._axesOptions = []\n",
    "        self.xCombo = QComboBox()\n",
    "        self.yCombo = QComboBox()\n",
    "        self.xCombo.currentTextChanged.connect(\n",
    "            lambda choice: self.selectAx('x', choice))\n",
    "        self.yCombo.currentTextChanged.connect(\n",
    "            lambda choice: self.selectAx('y', choice))\n",
    "        \n",
    "        axLayout = QFormLayout()\n",
    "        axLayout.addRow('x-axis', self.xCombo)\n",
    "        axLayout.addRow('y-axis', self.yCombo)\n",
    "        axGroup = QGroupBox('Axis selection')\n",
    "        axGroup.setLayout(axLayout)\n",
    "        \n",
    "        # Data fields\n",
    "        self._dataOptions = {}\n",
    "        \n",
    "        \n",
    "        self.dataLayout = QFormLayout()\n",
    "        dataGroup = QGroupBox('Data selection')\n",
    "        dataGroup.setLayout(self.dataLayout)\n",
    "        \n",
    "        \n",
    "        mainLayout = QVBoxLayout(self)\n",
    "        mainLayout.addWidget(axGroup)\n",
    "        mainLayout.addWidget(dataGroup)\n",
    "        \n",
    "        self.newDataStructure.connect(self.updateAxOptions)\n",
    "        self.newDataStructure.connect(self.updateDataOptions)\n",
    "        \n",
    "        \n",
    "    def dataUpdate(self, sourceName):\n",
    "        # TODO: is this too agressive?\n",
    "        print(\"got new data from {}\".format(sourceName))\n",
    "        srcData = self.node.getInputData()\n",
    "        newAxes = self.node.axesList(srcData)\n",
    "        if newAxes != self._axesOptions:\n",
    "            self._axesOptions = newAxes\n",
    "            self.newDataStructure.emit()\n",
    "    \n",
    "    @pyqtSlot()\n",
    "    def updateAxOptions(self):\n",
    "        axOptions = [''] + self._axesOptions\n",
    "        for combo in self.xCombo, self.yCombo:\n",
    "            combo.clear()\n",
    "            combo.addItems(axOptions)\n",
    "    \n",
    "    def _deleteDataOptions(self, names):\n",
    "        for name in names:\n",
    "            v = self._dataOptions[name]\n",
    "            self.dataLayout.removeWidget(v['widget'])\n",
    "            self.dataLayout.removeWidget(v['label'])\n",
    "            v['widget'].deleteLater()\n",
    "            v['label'].deleteLater()\n",
    "            del self._dataOptions[name]\n",
    "    \n",
    "    @pyqtSlot()\n",
    "    def updateDataOptions(self):\n",
    "        srcData = self.node.getInputData()\n",
    "        \n",
    "        delete = []\n",
    "        for k, v in self._dataOptions.items():\n",
    "            delete.append(k)\n",
    "        self._deleteDataOptions(delete)\n",
    "        \n",
    "        for n in srcData.dependents():\n",
    "            if n not in self._dataOptions:\n",
    "                lbl = QLabel(n)\n",
    "                chk = QCheckBox()\n",
    "                self._dataOptions[n] = dict(label=lbl, widget=chk)\n",
    "                self.dataLayout.addRow(lbl, chk)\n",
    "            \n",
    "    def selectAx(self, dimName, axName):\n",
    "        print(\"New selection for '{}': '{}'\".format(dimName, axName))\n",
    "        emit = True\n",
    "        \n",
    "        if dimName == 'x':\n",
    "            if axName != '' and axName == self.yCombo.currentText():\n",
    "                emit = False\n",
    "                self.yCombo.setCurrentText('')\n",
    "        elif dimName == 'y':\n",
    "            if axName != '' and axName == self.xCombo.currentText():\n",
    "                emit = False\n",
    "                self.xCombo.setCurrentText('')\n",
    "                \n",
    "        order = {}\n",
    "        curx = self.xCombo.currentText()\n",
    "        cury = self.yCombo.currentText()\n",
    "        if curx != '':\n",
    "            order[curx] = 0\n",
    "        if cury != '':\n",
    "            order[cury] = 1\n",
    "        \n",
    "        if emit:\n",
    "            self.node.axesOrder = order\n",
    "            self.axesChoiceUpdated.emit(curx, cury)\n",
    "            print('New axes choices: {}, {}'.format(curx, cury))\n",
    "        \n",
    "    "
   ]
  },
  {
   "cell_type": "code",
   "execution_count": 80,
   "metadata": {
    "ExecuteTime": {
     "end_time": "2018-07-08T06:56:42.709249Z",
     "start_time": "2018-07-08T06:56:42.678122Z"
    }
   },
   "outputs": [
    {
     "name": "stdout",
     "output_type": "stream",
     "text": [
      "<plottr.node.DataSelector object at 0x000001C0183B8318> data set from input\n",
      "got new data from input\n",
      "New selection for 'x': ''\n",
      "processed data: <plottr.node.DataSelector object at 0x000001C0183B8318>\n",
      "{}\n",
      "\n",
      "New axes choices: , \n",
      "New selection for 'y': ''\n",
      "processed data: <plottr.node.DataSelector object at 0x000001C0183B8318>\n",
      "{}\n",
      "\n",
      "New axes choices: , \n",
      "processed data: <plottr.node.DataSelector object at 0x000001C0183B8318>\n",
      "{}\n",
      "\n"
     ]
    }
   ],
   "source": [
    "data3d = testdata_3d(3, 5, 5)\n",
    "data1d = testdata_1d(10)\n",
    "\n",
    "datasrc = Node()\n",
    "datasrc.data = data3d\n",
    "\n",
    "w = DataSelectorWidget()\n",
    "w.show()\n",
    "w.node.verbose = True\n",
    "w.node.setInput(datasrc)"
   ]
  },
  {
   "cell_type": "code",
   "execution_count": 83,
   "metadata": {
    "ExecuteTime": {
     "end_time": "2018-07-08T06:56:55.915582Z",
     "start_time": "2018-07-08T06:56:55.899936Z"
    }
   },
   "outputs": [
    {
     "name": "stdout",
     "output_type": "stream",
     "text": [
      "<plottr.node.DataSelector object at 0x000001C0183B8318> data set from input\n",
      "got new data from input\n",
      "New selection for 'x': ''\n",
      "processed data: <plottr.node.DataSelector object at 0x000001C0183B8318>\n",
      "{}\n",
      "\n",
      "New axes choices: , \n",
      "New selection for 'x': ''\n",
      "processed data: <plottr.node.DataSelector object at 0x000001C0183B8318>\n",
      "{}\n",
      "\n",
      "New axes choices: , \n",
      "New selection for 'y': ''\n",
      "processed data: <plottr.node.DataSelector object at 0x000001C0183B8318>\n",
      "{}\n",
      "\n",
      "New axes choices: , \n",
      "New selection for 'y': ''\n",
      "processed data: <plottr.node.DataSelector object at 0x000001C0183B8318>\n",
      "{}\n",
      "\n",
      "New axes choices: , \n",
      "processed data: <plottr.node.DataSelector object at 0x000001C0183B8318>\n",
      "{}\n",
      "\n"
     ]
    }
   ],
   "source": [
    "datasrc.data = data1d"
   ]
  },
  {
   "cell_type": "markdown",
   "metadata": {},
   "source": [
    "# Updating a 1D plot"
   ]
  },
  {
   "cell_type": "code",
   "execution_count": null,
   "metadata": {},
   "outputs": [],
   "source": [
    "data1 = testdata_1d(21)\n",
    "datasrc = Node()\n",
    "datasrc.data = data1\n",
    "\n",
    "lineplotdata = LinePlotData()\n",
    "lineplotdata.setInput(datasrc)\n",
    "\n",
    "lp = LinePlot(None)\n",
    "lp.setInput(lineplotdata)\n",
    "lp.show()"
   ]
  },
  {
   "cell_type": "code",
   "execution_count": null,
   "metadata": {},
   "outputs": [],
   "source": [
    "lineplotdata.xaxisName = 'x'\n",
    "lineplotdata.traceNames = ['z']"
   ]
  },
  {
   "cell_type": "code",
   "execution_count": null,
   "metadata": {},
   "outputs": [],
   "source": []
  }
 ],
 "metadata": {
  "hide_input": false,
  "kernelspec": {
   "display_name": "Python 3",
   "language": "python",
   "name": "python3"
  },
  "language_info": {
   "codemirror_mode": {
    "name": "ipython",
    "version": 3
   },
   "file_extension": ".py",
   "mimetype": "text/x-python",
   "name": "python",
   "nbconvert_exporter": "python",
   "pygments_lexer": "ipython3",
   "version": "3.6.5"
  },
  "toc": {
   "base_numbering": 1,
   "nav_menu": {},
   "number_sections": true,
   "sideBar": true,
   "skip_h1_title": false,
   "title_cell": "Table of Contents",
   "title_sidebar": "Contents",
   "toc_cell": false,
   "toc_position": {
    "height": "calc(100% - 180px)",
    "left": "10px",
    "top": "150px",
    "width": "255px"
   },
   "toc_section_display": true,
   "toc_window_display": true
  }
 },
 "nbformat": 4,
 "nbformat_minor": 2
}
