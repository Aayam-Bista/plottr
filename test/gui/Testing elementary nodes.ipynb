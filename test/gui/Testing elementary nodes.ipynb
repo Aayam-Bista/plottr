{
 "cells": [
  {
   "cell_type": "code",
   "execution_count": 1,
   "metadata": {},
   "outputs": [],
   "source": [
    "%gui qt\n",
    "%matplotlib qt\n",
    "\n",
    "import numpy as np\n",
    "from pprint import pprint\n",
    "from importlib import reload"
   ]
  },
  {
   "cell_type": "code",
   "execution_count": 17,
   "metadata": {},
   "outputs": [],
   "source": [
    "from plottr.data.datadict import DataDict\n",
    "\n",
    "import lineplot; reload(lineplot)\n",
    "from lineplot import Node, DataSelector, LinePlotData, LinePlot"
   ]
  },
  {
   "cell_type": "markdown",
   "metadata": {},
   "source": [
    "# Tool functions"
   ]
  },
  {
   "cell_type": "code",
   "execution_count": 3,
   "metadata": {},
   "outputs": [],
   "source": [
    "def testdata_1d(nvals):\n",
    "    x = np.linspace(0, 10, nvals)\n",
    "    y = np.cos(x)\n",
    "    z = np.cos(x)**2\n",
    "    d = DataDict(\n",
    "        x = {'values' : x},\n",
    "        y = {'values' : y, 'axes' : ['x']},\n",
    "        z = {'values' : z, 'axes' : ['x']},\n",
    "    )\n",
    "    return d\n",
    "\n",
    "def testdata_3d(nx, ny, nz):\n",
    "    x = np.linspace(0, 10, nx)\n",
    "    y = np.linspace(-5, 5, ny)\n",
    "    z = np.arange(nz)\n",
    "    xx, yy, zz = np.meshgrid(x, y, z, indexing='ij')\n",
    "    dd = np.cos(xx) * np.sin(yy) + np.random.rand(*zz.shape)\n",
    "    dd2 = np.sin(xx) * np.cos(yy) + np.random.rand(*zz.shape)\n",
    "    d = DataDict(\n",
    "        x = dict(values=xx.reshape(-1)),\n",
    "        y = dict(values=yy.reshape(-1)),\n",
    "        z = dict(values=zz.reshape(-1)),\n",
    "        data = dict(values=dd.reshape(-1), axes=['x', 'y', 'z']),\n",
    "        more_data = dict(values=dd2.reshape(-1), axes=['x', 'y', 'z']),\n",
    "    )\n",
    "    return d"
   ]
  },
  {
   "cell_type": "markdown",
   "metadata": {},
   "source": [
    "# Basic data selection"
   ]
  },
  {
   "cell_type": "code",
   "execution_count": 11,
   "metadata": {
    "scrolled": false
   },
   "outputs": [],
   "source": [
    "data1 = testdata_3d(3, 5, 5)\n",
    "datasrc = Node()\n",
    "datasrc.data = data1\n",
    "\n",
    "datasel = DataSelector()\n",
    "datasel.setInput(datasrc)"
   ]
  },
  {
   "cell_type": "code",
   "execution_count": 12,
   "metadata": {
    "scrolled": false
   },
   "outputs": [
    {
     "name": "stdout",
     "output_type": "stream",
     "text": [
      "{'more_data': {'axes': ['y', 'x', 'z'],\n",
      "               'unit': '',\n",
      "               'values': array([[[ 0.25549263,  0.08707798,  0.50558062,  0.05700961,  0.24516184],\n",
      "        [ 0.33997452, -0.0289783 ,  0.43287637, -0.21753535,  0.36390031]],\n",
      "\n",
      "       [[ 0.25480521,  0.99405352,  0.94664024,  0.07194951,  0.90065321],\n",
      "        [-0.0560777 , -0.41640313, -0.44577426, -0.64156591, -0.35092343]],\n",
      "\n",
      "       [[ 0.31676762,  0.52093467,  0.40754972,  0.20646386,  0.68495917],\n",
      "        [ 0.72196972, -0.12878055,  0.25144121, -0.0975066 ,  0.18773861]]])},\n",
      " 'x': {'unit': '', 'values': array([ 0.,  5.])},\n",
      " 'y': {'unit': '', 'values': array([-5.,  0.,  5.])},\n",
      " 'z': {'unit': '', 'values': array([0, 1, 2, 3, 4], dtype=int64)}}\n"
     ]
    }
   ],
   "source": [
    "datasel.dataName = 'more_data'\n",
    "datasel.slices = dict(y=np.s_[::2], x=np.s_[:2:])\n",
    "datasel.axesOrder = dict(x=1,y=0,z=2)\n",
    "\n",
    "pprint(datasel.data)"
   ]
  },
  {
   "cell_type": "markdown",
   "metadata": {},
   "source": [
    "# Updating a 1D plot"
   ]
  },
  {
   "cell_type": "code",
   "execution_count": 18,
   "metadata": {},
   "outputs": [
    {
     "name": "stdout",
     "output_type": "stream",
     "text": [
      "yay!\n"
     ]
    }
   ],
   "source": [
    "data1 = testdata_1d(21)\n",
    "datasrc = Node()\n",
    "datasrc.data = data1\n",
    "\n",
    "lineplotdata = LinePlotData()\n",
    "lineplotdata.setInput(datasrc)\n",
    "\n",
    "lp = LinePlot(None)\n",
    "lp.setInput(lineplotdata)\n",
    "lp.show()"
   ]
  },
  {
   "cell_type": "code",
   "execution_count": 20,
   "metadata": {},
   "outputs": [
    {
     "name": "stdout",
     "output_type": "stream",
     "text": [
      "yay!\n",
      "yay!\n"
     ]
    }
   ],
   "source": [
    "lineplotdata.xaxisName = 'x'\n",
    "lineplotdata.traceNames = ['z']"
   ]
  },
  {
   "cell_type": "code",
   "execution_count": null,
   "metadata": {},
   "outputs": [],
   "source": []
  }
 ],
 "metadata": {
  "hide_input": false,
  "kernelspec": {
   "display_name": "Python 3",
   "language": "python",
   "name": "python3"
  },
  "language_info": {
   "codemirror_mode": {
    "name": "ipython",
    "version": 3
   },
   "file_extension": ".py",
   "mimetype": "text/x-python",
   "name": "python",
   "nbconvert_exporter": "python",
   "pygments_lexer": "ipython3",
   "version": "3.6.5"
  },
  "toc": {
   "base_numbering": 1,
   "nav_menu": {},
   "number_sections": true,
   "sideBar": true,
   "skip_h1_title": false,
   "title_cell": "Table of Contents",
   "title_sidebar": "Contents",
   "toc_cell": false,
   "toc_position": {},
   "toc_section_display": true,
   "toc_window_display": true
  }
 },
 "nbformat": 4,
 "nbformat_minor": 2
}
