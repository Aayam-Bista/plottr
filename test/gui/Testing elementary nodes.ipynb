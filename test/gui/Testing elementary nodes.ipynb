{
 "cells": [
  {
   "cell_type": "code",
   "execution_count": 2,
   "metadata": {},
   "outputs": [],
   "source": [
    "%gui qt\n",
    "%matplotlib qt\n",
    "\n",
    "import numpy as np\n",
    "from pprint import pprint\n",
    "from importlib import reload"
   ]
  },
  {
   "cell_type": "code",
   "execution_count": 3,
   "metadata": {},
   "outputs": [],
   "source": [
    "from plottr.data.datadict import DataDict\n",
    "\n",
    "from plottr import node; reload(node)\n",
    "from plottr.node import Node, NodeWidget, DataSelector"
   ]
  },
  {
   "cell_type": "markdown",
   "metadata": {},
   "source": [
    "# Tool functions"
   ]
  },
  {
   "cell_type": "code",
   "execution_count": 4,
   "metadata": {},
   "outputs": [],
   "source": [
    "def testdata_1d(nvals):\n",
    "    x = np.linspace(0, 10, nvals)\n",
    "    y = np.cos(x)\n",
    "    z = np.cos(x)**2\n",
    "    d = DataDict(\n",
    "        x = {'values' : x},\n",
    "        y = {'values' : y, 'axes' : ['x']},\n",
    "        z = {'values' : z, 'axes' : ['x']},\n",
    "    )\n",
    "    return d\n",
    "\n",
    "def testdata_3d(nx, ny, nz):\n",
    "    x = np.linspace(0, 10, nx)\n",
    "    y = np.linspace(-5, 5, ny)\n",
    "    z = np.arange(nz)\n",
    "    xx, yy, zz = np.meshgrid(x, y, z, indexing='ij')\n",
    "    dd = np.cos(xx) * np.sin(yy) + np.random.rand(*zz.shape)\n",
    "    dd2 = np.sin(xx) * np.cos(yy) + np.random.rand(*zz.shape)\n",
    "    d = DataDict(\n",
    "        x = dict(values=xx.reshape(-1)),\n",
    "        y = dict(values=yy.reshape(-1)),\n",
    "        z = dict(values=zz.reshape(-1)),\n",
    "        data = dict(values=dd.reshape(-1), axes=['x', 'y', 'z']),\n",
    "        more_data = dict(values=dd2.reshape(-1), axes=['x', 'y', 'z']),\n",
    "    )\n",
    "    return d"
   ]
  },
  {
   "cell_type": "markdown",
   "metadata": {},
   "source": [
    "# Basic data selection"
   ]
  },
  {
   "cell_type": "code",
   "execution_count": 5,
   "metadata": {
    "scrolled": false
   },
   "outputs": [],
   "source": [
    "data1 = testdata_3d(3, 5, 5)\n",
    "datasrc = Node()\n",
    "datasrc.verbose = True\n",
    "datasrc.data = data1"
   ]
  },
  {
   "cell_type": "code",
   "execution_count": 6,
   "metadata": {},
   "outputs": [
    {
     "name": "stdout",
     "output_type": "stream",
     "text": [
      "<plottr.node.DataSelector object at 0x00000155F4B3D798> data set from input\n",
      "<plottr.node.DataSelector object at 0x00000155F4B3D798> data set from input\n",
      "processed data: <plottr.node.Node object at 0x00000155F4B3DDC8>\n",
      "{'data': {'axes': ['x', 'y', 'z'],\n",
      "          'values': array([ 1.20413771,  1.35321596,  1.36415662,  1.76876226,  1.35501368,\n",
      "        0.08318783,  0.1912994 ,  0.35508336,  0.22258349, -0.42328301,\n",
      "        0.1478707 ,  0.35238794,  0.6820401 ,  0.35751791,  0.02209976,\n",
      "        1.18783574,  0.6011881 ,  0.98757398,  0.64918603,  1.13977852,\n",
      "       -0.78902333, -0.87416638, -0.86426242, -0.70160549, -0.74840223,\n",
      "        0.66182166,  1.20300733,  1.16446135,  0.54295047,  0.88070245,\n",
      "        0.27543265,  0.69916753,  0.43579023,  0.70543802,  0.03272451,\n",
      "        0.58195127,  0.42731828,  0.37028926,  0.66883301,  0.43563214,\n",
      "        0.47129377,  0.40867248,  0.23557485,  0.90326541,  1.1626792 ,\n",
      "        0.42851872,  0.71325511,  0.68122003,  0.05033716,  0.61349076,\n",
      "       -0.06570458,  0.18369506, -0.01531985,  0.06818545, -0.74766689,\n",
      "        1.02034183,  0.95290318,  0.87528178,  1.31188828,  0.55878894,\n",
      "        0.17469727,  0.1635503 ,  0.02044129,  0.74693415,  0.55291074,\n",
      "       -0.32017583, -0.25016165, -0.29548322, -0.41648283, -0.22684372,\n",
      "        1.07181327,  1.00096103,  0.96687252,  1.7285041 ,  1.76023372])},\n",
      " 'more_data': {'axes': ['x', 'y', 'z'],\n",
      "               'values': array([ 0.43859495,  0.12572488,  0.49363078,  0.75279855,  0.27463825,\n",
      "        0.38127568,  0.81931743,  0.95023879,  0.05978246,  0.73841893,\n",
      "        0.90930332,  0.5822895 ,  0.16192928,  0.08391947,  0.86354906,\n",
      "        0.25561201,  0.8964962 ,  0.41229234,  0.1018235 ,  0.55723414,\n",
      "        0.48644704,  0.30157764,  0.96345729,  0.69486335,  0.0993318 ,\n",
      "        0.57737076, -0.24006065,  0.45111964,  0.67815234,  0.11826624,\n",
      "        1.4000911 ,  1.16686581,  0.95093826,  1.68652956,  0.96041955,\n",
      "       -0.45558183, -0.75784806, -0.78396614, -0.20738847, -0.61371775,\n",
      "        1.74891368,  1.0896587 ,  1.51565099,  1.49327347,  1.59350317,\n",
      "       -0.21220268,  0.5897745 ,  0.52863411, -0.12512762,  0.04445634,\n",
      "        0.0296911 ,  0.19516539,  0.34180792,  0.7250411 ,  0.42868412,\n",
      "        1.03281148,  1.38466329,  0.83121738,  1.41033845,  0.7786838 ,\n",
      "       -0.46091735, -0.3059781 , -0.4304866 , -0.26604872,  0.0398778 ,\n",
      "        1.07826329,  1.20259237,  1.2924673 ,  0.51509839,  0.46382064,\n",
      "       -0.15039012,  0.40031598,  0.46995553,  0.77449854,  0.39788727])},\n",
      " 'x': {'values': array([  0.,   0.,   0.,   0.,   0.,   0.,   0.,   0.,   0.,   0.,   0.,\n",
      "         0.,   0.,   0.,   0.,   0.,   0.,   0.,   0.,   0.,   0.,   0.,\n",
      "         0.,   0.,   0.,   5.,   5.,   5.,   5.,   5.,   5.,   5.,   5.,\n",
      "         5.,   5.,   5.,   5.,   5.,   5.,   5.,   5.,   5.,   5.,   5.,\n",
      "         5.,   5.,   5.,   5.,   5.,   5.,  10.,  10.,  10.,  10.,  10.,\n",
      "        10.,  10.,  10.,  10.,  10.,  10.,  10.,  10.,  10.,  10.,  10.,\n",
      "        10.,  10.,  10.,  10.,  10.,  10.,  10.,  10.,  10.])},\n",
      " 'y': {'values': array([-5. , -5. , -5. , -5. , -5. , -2.5, -2.5, -2.5, -2.5, -2.5,  0. ,\n",
      "        0. ,  0. ,  0. ,  0. ,  2.5,  2.5,  2.5,  2.5,  2.5,  5. ,  5. ,\n",
      "        5. ,  5. ,  5. , -5. , -5. , -5. , -5. , -5. , -2.5, -2.5, -2.5,\n",
      "       -2.5, -2.5,  0. ,  0. ,  0. ,  0. ,  0. ,  2.5,  2.5,  2.5,  2.5,\n",
      "        2.5,  5. ,  5. ,  5. ,  5. ,  5. , -5. , -5. , -5. , -5. , -5. ,\n",
      "       -2.5, -2.5, -2.5, -2.5, -2.5,  0. ,  0. ,  0. ,  0. ,  0. ,  2.5,\n",
      "        2.5,  2.5,  2.5,  2.5,  5. ,  5. ,  5. ,  5. ,  5. ])},\n",
      " 'z': {'values': array([0, 1, 2, 3, 4, 0, 1, 2, 3, 4, 0, 1, 2, 3, 4, 0, 1, 2, 3, 4, 0, 1, 2,\n",
      "       3, 4, 0, 1, 2, 3, 4, 0, 1, 2, 3, 4, 0, 1, 2, 3, 4, 0, 1, 2, 3, 4, 0,\n",
      "       1, 2, 3, 4, 0, 1, 2, 3, 4, 0, 1, 2, 3, 4, 0, 1, 2, 3, 4, 0, 1, 2, 3,\n",
      "       4, 0, 1, 2, 3, 4])}}\n",
      "\n",
      "processed data: <plottr.node.DataSelector object at 0x00000155F4B3D798>\n",
      "{}\n",
      "\n"
     ]
    }
   ],
   "source": [
    "datasel = DataSelector()\n",
    "datasel.verbose = True\n",
    "datasel.setInput(datasrc)"
   ]
  },
  {
   "cell_type": "code",
   "execution_count": 7,
   "metadata": {},
   "outputs": [
    {
     "name": "stdout",
     "output_type": "stream",
     "text": [
      "processed data: <plottr.node.DataSelector object at 0x00000155F4B3D798>\n",
      "{'more_data': {'axes': ['x', 'y', 'z'],\n",
      "               'unit': '',\n",
      "               'values': array([[[ 0.43859495,  0.12572488,  0.49363078,  0.75279855,  0.27463825],\n",
      "        [ 0.38127568,  0.81931743,  0.95023879,  0.05978246,  0.73841893],\n",
      "        [ 0.90930332,  0.5822895 ,  0.16192928,  0.08391947,  0.86354906],\n",
      "        [ 0.25561201,  0.8964962 ,  0.41229234,  0.1018235 ,  0.55723414],\n",
      "        [ 0.48644704,  0.30157764,  0.96345729,  0.69486335,  0.0993318 ]],\n",
      "\n",
      "       [[ 0.57737076, -0.24006065,  0.45111964,  0.67815234,  0.11826624],\n",
      "        [ 1.4000911 ,  1.16686581,  0.95093826,  1.68652956,  0.96041955],\n",
      "        [-0.45558183, -0.75784806, -0.78396614, -0.20738847, -0.61371775],\n",
      "        [ 1.74891368,  1.0896587 ,  1.51565099,  1.49327347,  1.59350317],\n",
      "        [-0.21220268,  0.5897745 ,  0.52863411, -0.12512762,  0.04445634]],\n",
      "\n",
      "       [[ 0.0296911 ,  0.19516539,  0.34180792,  0.7250411 ,  0.42868412],\n",
      "        [ 1.03281148,  1.38466329,  0.83121738,  1.41033845,  0.7786838 ],\n",
      "        [-0.46091735, -0.3059781 , -0.4304866 , -0.26604872,  0.0398778 ],\n",
      "        [ 1.07826329,  1.20259237,  1.2924673 ,  0.51509839,  0.46382064],\n",
      "        [-0.15039012,  0.40031598,  0.46995553,  0.77449854,  0.39788727]]])},\n",
      " 'x': {'unit': '', 'values': array([  0.,   5.,  10.])},\n",
      " 'y': {'unit': '', 'values': array([-5. , -2.5,  0. ,  2.5,  5. ])},\n",
      " 'z': {'unit': '', 'values': array([0, 1, 2, 3, 4], dtype=int64)}}\n",
      "\n",
      "processed data: <plottr.node.DataSelector object at 0x00000155F4B3D798>\n",
      "{'more_data': {'axes': ['x', 'y', 'z'],\n",
      "               'unit': '',\n",
      "               'values': array([[[ 0.43859495,  0.12572488,  0.49363078,  0.75279855,  0.27463825],\n",
      "        [ 0.90930332,  0.5822895 ,  0.16192928,  0.08391947,  0.86354906],\n",
      "        [ 0.48644704,  0.30157764,  0.96345729,  0.69486335,  0.0993318 ]],\n",
      "\n",
      "       [[ 0.57737076, -0.24006065,  0.45111964,  0.67815234,  0.11826624],\n",
      "        [-0.45558183, -0.75784806, -0.78396614, -0.20738847, -0.61371775],\n",
      "        [-0.21220268,  0.5897745 ,  0.52863411, -0.12512762,  0.04445634]]])},\n",
      " 'x': {'unit': '', 'values': array([ 0.,  5.])},\n",
      " 'y': {'unit': '', 'values': array([-5.,  0.,  5.])},\n",
      " 'z': {'unit': '', 'values': array([0, 1, 2, 3, 4], dtype=int64)}}\n",
      "\n",
      "processed data: <plottr.node.DataSelector object at 0x00000155F4B3D798>\n",
      "{'more_data': {'axes': ['y', 'x', 'z'],\n",
      "               'unit': '',\n",
      "               'values': array([[[ 0.43859495,  0.12572488,  0.49363078,  0.75279855,  0.27463825],\n",
      "        [ 0.57737076, -0.24006065,  0.45111964,  0.67815234,  0.11826624]],\n",
      "\n",
      "       [[ 0.90930332,  0.5822895 ,  0.16192928,  0.08391947,  0.86354906],\n",
      "        [-0.45558183, -0.75784806, -0.78396614, -0.20738847, -0.61371775]],\n",
      "\n",
      "       [[ 0.48644704,  0.30157764,  0.96345729,  0.69486335,  0.0993318 ],\n",
      "        [-0.21220268,  0.5897745 ,  0.52863411, -0.12512762,  0.04445634]]])},\n",
      " 'x': {'unit': '', 'values': array([ 0.,  5.])},\n",
      " 'y': {'unit': '', 'values': array([-5.,  0.,  5.])},\n",
      " 'z': {'unit': '', 'values': array([0, 1, 2, 3, 4], dtype=int64)}}\n",
      "\n"
     ]
    }
   ],
   "source": [
    "datasel.dataName = 'more_data'\n",
    "datasel.slices = dict(y=np.s_[::2], x=np.s_[:2:])\n",
    "datasel.axesOrder = dict(x=1,z=2,y=0)"
   ]
  },
  {
   "cell_type": "code",
   "execution_count": null,
   "metadata": {},
   "outputs": [],
   "source": []
  },
  {
   "cell_type": "code",
   "execution_count": null,
   "metadata": {},
   "outputs": [],
   "source": []
  },
  {
   "cell_type": "code",
   "execution_count": null,
   "metadata": {},
   "outputs": [],
   "source": []
  },
  {
   "cell_type": "code",
   "execution_count": null,
   "metadata": {},
   "outputs": [],
   "source": []
  },
  {
   "cell_type": "markdown",
   "metadata": {},
   "source": [
    "# Updating a 1D plot"
   ]
  },
  {
   "cell_type": "code",
   "execution_count": null,
   "metadata": {},
   "outputs": [],
   "source": [
    "data1 = testdata_1d(21)\n",
    "datasrc = Node()\n",
    "datasrc.data = data1\n",
    "\n",
    "lineplotdata = LinePlotData()\n",
    "lineplotdata.setInput(datasrc)\n",
    "\n",
    "lp = LinePlot(None)\n",
    "lp.setInput(lineplotdata)\n",
    "lp.show()"
   ]
  },
  {
   "cell_type": "code",
   "execution_count": null,
   "metadata": {},
   "outputs": [],
   "source": [
    "lineplotdata.xaxisName = 'x'\n",
    "lineplotdata.traceNames = ['z']"
   ]
  },
  {
   "cell_type": "code",
   "execution_count": null,
   "metadata": {},
   "outputs": [],
   "source": []
  }
 ],
 "metadata": {
  "hide_input": false,
  "kernelspec": {
   "display_name": "Python 3",
   "language": "python",
   "name": "python3"
  },
  "language_info": {
   "codemirror_mode": {
    "name": "ipython",
    "version": 3
   },
   "file_extension": ".py",
   "mimetype": "text/x-python",
   "name": "python",
   "nbconvert_exporter": "python",
   "pygments_lexer": "ipython3",
   "version": "3.6.5"
  },
  "toc": {
   "base_numbering": 1,
   "nav_menu": {},
   "number_sections": true,
   "sideBar": true,
   "skip_h1_title": false,
   "title_cell": "Table of Contents",
   "title_sidebar": "Contents",
   "toc_cell": false,
   "toc_position": {},
   "toc_section_display": true,
   "toc_window_display": true
  }
 },
 "nbformat": 4,
 "nbformat_minor": 2
}
