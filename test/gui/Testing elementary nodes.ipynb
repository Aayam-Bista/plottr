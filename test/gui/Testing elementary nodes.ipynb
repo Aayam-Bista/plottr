{
 "cells": [
  {
   "cell_type": "code",
   "execution_count": 1,
   "metadata": {},
   "outputs": [],
   "source": [
    "%gui qt\n",
    "%matplotlib qt\n",
    "\n",
    "import numpy as np\n",
    "from pprint import pprint\n",
    "from importlib import reload"
   ]
  },
  {
   "cell_type": "code",
   "execution_count": 7,
   "metadata": {},
   "outputs": [],
   "source": [
    "from plottr.data.datadict import DataDict\n",
    "\n",
    "from plottr import node; reload(node)\n",
    "from plottr.node import Node, NodeWidget, DataSelector"
   ]
  },
  {
   "cell_type": "markdown",
   "metadata": {},
   "source": [
    "# Tool functions"
   ]
  },
  {
   "cell_type": "code",
   "execution_count": 3,
   "metadata": {},
   "outputs": [],
   "source": [
    "def testdata_1d(nvals):\n",
    "    x = np.linspace(0, 10, nvals)\n",
    "    y = np.cos(x)\n",
    "    z = np.cos(x)**2\n",
    "    d = DataDict(\n",
    "        x = {'values' : x},\n",
    "        y = {'values' : y, 'axes' : ['x']},\n",
    "        z = {'values' : z, 'axes' : ['x']},\n",
    "    )\n",
    "    return d\n",
    "\n",
    "def testdata_3d(nx, ny, nz):\n",
    "    x = np.linspace(0, 10, nx)\n",
    "    y = np.linspace(-5, 5, ny)\n",
    "    z = np.arange(nz)\n",
    "    xx, yy, zz = np.meshgrid(x, y, z, indexing='ij')\n",
    "    dd = np.cos(xx) * np.sin(yy) + np.random.rand(*zz.shape)\n",
    "    dd2 = np.sin(xx) * np.cos(yy) + np.random.rand(*zz.shape)\n",
    "    d = DataDict(\n",
    "        x = dict(values=xx.reshape(-1)),\n",
    "        y = dict(values=yy.reshape(-1)),\n",
    "        z = dict(values=zz.reshape(-1)),\n",
    "        data = dict(values=dd.reshape(-1), axes=['x', 'y', 'z']),\n",
    "        more_data = dict(values=dd2.reshape(-1), axes=['x', 'y', 'z']),\n",
    "        different_data = dict(values=dd2.T.reshape(-1), axes=['z', 'y', 'x'])\n",
    "    )\n",
    "    return d"
   ]
  },
  {
   "cell_type": "markdown",
   "metadata": {
    "heading_collapsed": true
   },
   "source": [
    "# Basic data selection"
   ]
  },
  {
   "cell_type": "code",
   "execution_count": null,
   "metadata": {
    "hidden": true,
    "scrolled": false
   },
   "outputs": [],
   "source": [
    "data1 = testdata_3d(3, 5, 5)\n",
    "datasrc = Node()\n",
    "datasrc.verbose = True\n",
    "datasrc.data = data1"
   ]
  },
  {
   "cell_type": "code",
   "execution_count": null,
   "metadata": {
    "hidden": true,
    "scrolled": true
   },
   "outputs": [],
   "source": [
    "datasel = DataSelector()\n",
    "datasel.verbose = True\n",
    "datasel.setInput(datasrc)"
   ]
  },
  {
   "cell_type": "code",
   "execution_count": null,
   "metadata": {
    "hidden": true
   },
   "outputs": [],
   "source": [
    "datasel.dataName = 'more_data'\n",
    "datasel.slices = dict(y=np.s_[::2], x=np.s_[:2:])\n",
    "datasel.axesOrder = dict(x=1,z=2,y=0)"
   ]
  },
  {
   "cell_type": "markdown",
   "metadata": {
    "heading_collapsed": true
   },
   "source": [
    "# Basic checking"
   ]
  },
  {
   "cell_type": "code",
   "execution_count": null,
   "metadata": {
    "hidden": true
   },
   "outputs": [],
   "source": [
    "data1 = testdata_3d(3, 5, 5)\n",
    "\n",
    "datasrc = Node()\n",
    "datasrc.verbose = False\n",
    "\n",
    "datasel = DataSelector()\n",
    "datasel.verbose = False\n",
    "datasel.setInput(datasrc)"
   ]
  },
  {
   "cell_type": "code",
   "execution_count": null,
   "metadata": {
    "hidden": true,
    "scrolled": false
   },
   "outputs": [],
   "source": [
    "datasrc.data = data1\n",
    "datasel.dataName = ['data', 'more_data']"
   ]
  },
  {
   "cell_type": "code",
   "execution_count": null,
   "metadata": {
    "hidden": true
   },
   "outputs": [],
   "source": [
    "datasel.data"
   ]
  },
  {
   "cell_type": "markdown",
   "metadata": {},
   "source": [
    "# Data Selector Widget"
   ]
  },
  {
   "cell_type": "code",
   "execution_count": 19,
   "metadata": {},
   "outputs": [],
   "source": [
    "from PyQt5.QtWidgets import QWidget, QVBoxLayout, QFormLayout\n",
    "from PyQt5.QtCore import QObject, QThread, pyqtSignal, pyqtSlot\n",
    "\n",
    "\n",
    "class NodeControlWidget(QWidget):\n",
    "    \n",
    "    def __init__(self, parent=None, **kw):\n",
    "        super().__init__(parent=parent, **kw)\n",
    "\n",
    "\n",
    "class DataSelectorWidget(NodeControlWidget):\n",
    "    \n",
    "    newDataStructure = pyqtSignal()\n",
    "    \n",
    "    def __init__(self, parent=None, node=None, **kw):\n",
    "        super().__init__(parent=parent, **kw)\n",
    "        \n",
    "        # this is more general!\n",
    "        if node is None:\n",
    "            self.node = DataSelector()\n",
    "        else:\n",
    "            self.node = node\n",
    "        self.node.dataProcessed.connect(self.dataUpdate)\n",
    "        \n",
    "        self._axes = []\n",
    "                \n",
    "        axLayout = QFormLayout(self)\n",
    "        \n",
    "        \n",
    "        \n",
    "    def dataUpdate(self):\n",
    "        # TODO: is this too agressive?\n",
    "        newAxes = self.node.axesList(self.node.data, self.node.dataName)\n",
    "        if newAxes != self._axes:\n",
    "            self._axes = newAxes\n",
    "            self.newDataStructure.emit()"
   ]
  },
  {
   "cell_type": "code",
   "execution_count": 20,
   "metadata": {},
   "outputs": [],
   "source": [
    "data1 = testdata_3d(3, 5, 5)\n",
    "\n",
    "datasrc = Node()\n",
    "datasrc.data = data1\n",
    "\n",
    "w = DataSelectorWidget()\n",
    "w.show()\n",
    "\n",
    "w.node.setInput(datasrc)"
   ]
  },
  {
   "cell_type": "code",
   "execution_count": 16,
   "metadata": {},
   "outputs": [
    {
     "name": "stdout",
     "output_type": "stream",
     "text": [
      "['x', 'y', 'z']\n"
     ]
    }
   ],
   "source": [
    "w.node.dataName = ['data', 'more_data']"
   ]
  },
  {
   "cell_type": "markdown",
   "metadata": {},
   "source": [
    "# Updating a 1D plot"
   ]
  },
  {
   "cell_type": "code",
   "execution_count": null,
   "metadata": {},
   "outputs": [],
   "source": [
    "data1 = testdata_1d(21)\n",
    "datasrc = Node()\n",
    "datasrc.data = data1\n",
    "\n",
    "lineplotdata = LinePlotData()\n",
    "lineplotdata.setInput(datasrc)\n",
    "\n",
    "lp = LinePlot(None)\n",
    "lp.setInput(lineplotdata)\n",
    "lp.show()"
   ]
  },
  {
   "cell_type": "code",
   "execution_count": null,
   "metadata": {},
   "outputs": [],
   "source": [
    "lineplotdata.xaxisName = 'x'\n",
    "lineplotdata.traceNames = ['z']"
   ]
  },
  {
   "cell_type": "code",
   "execution_count": null,
   "metadata": {},
   "outputs": [],
   "source": []
  }
 ],
 "metadata": {
  "hide_input": false,
  "kernelspec": {
   "display_name": "Python 3",
   "language": "python",
   "name": "python3"
  },
  "language_info": {
   "codemirror_mode": {
    "name": "ipython",
    "version": 3
   },
   "file_extension": ".py",
   "mimetype": "text/x-python",
   "name": "python",
   "nbconvert_exporter": "python",
   "pygments_lexer": "ipython3",
   "version": "3.6.4"
  },
  "toc": {
   "nav_menu": {},
   "number_sections": true,
   "sideBar": true,
   "skip_h1_title": false,
   "title_cell": "Table of Contents",
   "title_sidebar": "Contents",
   "toc_cell": false,
   "toc_position": {},
   "toc_section_display": true,
   "toc_window_display": true
  }
 },
 "nbformat": 4,
 "nbformat_minor": 2
}
