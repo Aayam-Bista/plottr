{
 "cells": [
  {
   "cell_type": "code",
   "execution_count": 1,
   "metadata": {
    "ExecuteTime": {
     "end_time": "2018-10-14T20:07:24.150955Z",
     "start_time": "2018-10-14T20:07:24.129982Z"
    }
   },
   "outputs": [],
   "source": [
    "%gui qt"
   ]
  },
  {
   "cell_type": "code",
   "execution_count": 2,
   "metadata": {
    "ExecuteTime": {
     "end_time": "2018-10-14T20:07:27.337057Z",
     "start_time": "2018-10-14T20:07:25.016423Z"
    }
   },
   "outputs": [],
   "source": [
    "from importlib import reload\n",
    "from pprint import pprint\n",
    "\n",
    "import numpy as np\n",
    "from matplotlib import pyplot as plt\n",
    "\n",
    "import pyqtgraph as pg\n",
    "from pyqtgraph.flowchart import Flowchart\n",
    "from pyqtgraph import Qt\n",
    "from pyqtgraph.Qt import QtGui, QtCore\n",
    "from pyqtgraph.flowchart import library as fclib"
   ]
  },
  {
   "cell_type": "code",
   "execution_count": 3,
   "metadata": {
    "ExecuteTime": {
     "end_time": "2018-10-14T10:14:51.331789Z",
     "start_time": "2018-10-14T10:14:51.323832Z"
    }
   },
   "outputs": [],
   "source": [
    "# %qtconsole"
   ]
  },
  {
   "cell_type": "code",
   "execution_count": null,
   "metadata": {},
   "outputs": [],
   "source": []
  },
  {
   "cell_type": "code",
   "execution_count": 5,
   "metadata": {
    "ExecuteTime": {
     "end_time": "2018-10-14T20:32:17.166078Z",
     "start_time": "2018-10-14T20:32:17.162090Z"
    }
   },
   "outputs": [],
   "source": [
    "from plottr.data import datadict; reload(datadict)\n",
    "from plottr.data.datadict import togrid, DataDict, GridDataDict\n",
    "from plottr.node.node import NodesWidget"
   ]
  },
  {
   "cell_type": "code",
   "execution_count": null,
   "metadata": {},
   "outputs": [],
   "source": []
  },
  {
   "cell_type": "markdown",
   "metadata": {},
   "source": [
    "# Logging"
   ]
  },
  {
   "cell_type": "code",
   "execution_count": 4,
   "metadata": {
    "ExecuteTime": {
     "end_time": "2018-10-14T10:14:51.344778Z",
     "start_time": "2018-10-14T10:14:51.333785Z"
    }
   },
   "outputs": [],
   "source": [
    "\n",
    "logDialog = plottrlog.setupLogging()\n"
   ]
  },
  {
   "cell_type": "code",
   "execution_count": null,
   "metadata": {},
   "outputs": [],
   "source": []
  },
  {
   "cell_type": "markdown",
   "metadata": {
    "ExecuteTime": {
     "end_time": "2018-07-22T11:49:46.637513Z",
     "start_time": "2018-07-22T11:49:46.624562Z"
    }
   },
   "source": [
    "# DataSelector"
   ]
  },
  {
   "cell_type": "code",
   "execution_count": 13,
   "metadata": {
    "ExecuteTime": {
     "end_time": "2018-10-14T21:58:49.834670Z",
     "start_time": "2018-10-14T21:58:49.786799Z"
    }
   },
   "outputs": [],
   "source": [
    "import logging; reload(logging)\n",
    "from plottr import log as plottrlog; reload(plottrlog)\n",
    "\n",
    "from plottr.node import data_selector; reload(data_selector)\n",
    "from plottr.node.data_selector import DataSelector\n",
    "\n",
    "DataSelector.debug = True\n",
    "DataSelector.useUi = True\n",
    "\n",
    "nodelib = fclib.NodeLibrary()\n",
    "nodelib.addNodeType(DataSelector, [('Basic')])\n",
    "\n",
    "### Setting up the flowchart\n",
    "# library\n",
    "fc = Flowchart(terminals={\n",
    "    'dataIn': {'io': 'in'},\n",
    "    'dataOut': {'io': 'out'}\n",
    "})\n",
    "fc.library = nodelib\n",
    "\n",
    "# flowchart for this example\n",
    "selector = fc.createNode('DataSelector')\n",
    "fc.connectTerminals(fc['dataIn'], selector['dataIn'])\n",
    "fc.connectTerminals(selector['dataOut'], fc['dataOut'])\n",
    "\n",
    "### Setting up the GUI\n",
    "win = QtGui.QMainWindow()\n",
    "area = DockArea()\n",
    "win.setCentralWidget(area)\n",
    "\n",
    "# data selector\n",
    "selectorDock = Dock('Data Selector')\n",
    "selectorDock.addWidget(selector.ui)\n",
    "area.addDock(selectorDock)\n",
    "\n",
    "# logger\n",
    "logDock = Dock('Log')\n",
    "logDock.addWidget(plottrlog.setupLogging(makeDialog=False))\n",
    "area.addDock(logDock, 'bottom', selectorDock)\n",
    "\n",
    "win.show()\n",
    "\n",
    "### Logging\n",
    "logger = logging.getLogger('plottr.interactive')\n",
    "plottrlog.LEVEL = logging.DEBUG"
   ]
  },
  {
   "cell_type": "code",
   "execution_count": 7,
   "metadata": {
    "ExecuteTime": {
     "end_time": "2018-10-14T10:14:51.654925Z",
     "start_time": "2018-10-14T10:14:51.636974Z"
    }
   },
   "outputs": [],
   "source": []
  },
  {
   "cell_type": "code",
   "execution_count": null,
   "metadata": {},
   "outputs": [],
   "source": []
  },
  {
   "cell_type": "code",
   "execution_count": null,
   "metadata": {},
   "outputs": [],
   "source": []
  },
  {
   "cell_type": "code",
   "execution_count": null,
   "metadata": {},
   "outputs": [],
   "source": []
  },
  {
   "cell_type": "markdown",
   "metadata": {},
   "source": [
    "# Scribbles"
   ]
  },
  {
   "cell_type": "code",
   "execution_count": 8,
   "metadata": {
    "ExecuteTime": {
     "end_time": "2018-10-14T20:46:10.650928Z",
     "start_time": "2018-10-14T20:46:10.647958Z"
    }
   },
   "outputs": [],
   "source": [
    "from pyqtgraph.dockarea import Dock, DockArea"
   ]
  },
  {
   "cell_type": "code",
   "execution_count": 10,
   "metadata": {
    "ExecuteTime": {
     "end_time": "2018-10-14T21:52:11.110263Z",
     "start_time": "2018-10-14T21:52:11.093308Z"
    }
   },
   "outputs": [],
   "source": []
  },
  {
   "cell_type": "code",
   "execution_count": null,
   "metadata": {},
   "outputs": [],
   "source": []
  },
  {
   "cell_type": "code",
   "execution_count": null,
   "metadata": {},
   "outputs": [],
   "source": []
  },
  {
   "cell_type": "code",
   "execution_count": null,
   "metadata": {},
   "outputs": [],
   "source": []
  }
 ],
 "metadata": {
  "hide_input": false,
  "kernelspec": {
   "display_name": "Python 3",
   "language": "python",
   "name": "python3"
  },
  "language_info": {
   "codemirror_mode": {
    "name": "ipython",
    "version": 3
   },
   "file_extension": ".py",
   "mimetype": "text/x-python",
   "name": "python",
   "nbconvert_exporter": "python",
   "pygments_lexer": "ipython3",
   "version": "3.6.6"
  },
  "toc": {
   "base_numbering": 1,
   "nav_menu": {},
   "number_sections": true,
   "sideBar": true,
   "skip_h1_title": false,
   "title_cell": "Table of Contents",
   "title_sidebar": "Contents",
   "toc_cell": false,
   "toc_position": {},
   "toc_section_display": true,
   "toc_window_display": true
  }
 },
 "nbformat": 4,
 "nbformat_minor": 2
}
