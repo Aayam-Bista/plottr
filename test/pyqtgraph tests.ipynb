{
 "cells": [
  {
   "cell_type": "code",
   "execution_count": 2,
   "metadata": {},
   "outputs": [],
   "source": [
    "%gui qt\n",
    "\n",
    "import numpy as np\n",
    "import xarray as xr\n",
    "import pandas as pd\n",
    "import sqlite3 as sql"
   ]
  },
  {
   "cell_type": "code",
   "execution_count": null,
   "metadata": {},
   "outputs": [],
   "source": []
  },
  {
   "cell_type": "code",
   "execution_count": 13,
   "metadata": {},
   "outputs": [],
   "source": [
    "import pyqtgraph as pg\n",
    "from pyqtgraph import metaarray as ma\n",
    "\n",
    "from pyqtgraph.metaarray import MetaArray\n",
    "from pyqtgraph.flowchart.library.Filters import Gaussian, Mean"
   ]
  },
  {
   "cell_type": "code",
   "execution_count": 4,
   "metadata": {},
   "outputs": [],
   "source": [
    "pg.setConfigOptions(background='w', foreground='k', antialias=False)"
   ]
  },
  {
   "cell_type": "code",
   "execution_count": null,
   "metadata": {},
   "outputs": [],
   "source": []
  },
  {
   "cell_type": "markdown",
   "metadata": {},
   "source": [
    "# Messing around"
   ]
  },
  {
   "cell_type": "markdown",
   "metadata": {},
   "source": [
    "## Elementary plotting"
   ]
  },
  {
   "cell_type": "code",
   "execution_count": 44,
   "metadata": {},
   "outputs": [],
   "source": [
    "pw = pg.plot(title='a plot')\n",
    "pw.plot(x, y[0,:], \n",
    "        pen=pg.mkPen('k', width=2), \n",
    "        symbol='o', symbolBrush='k', symbolPen='w')\n",
    "pw.plot(x, y[0,:]**2, pen=pg.mkPen('r', width=2), \n",
    "        symbol='o', symbolBrush='r', symbolPen='w')\n",
    "\n",
    "pw.setLabel('left', 'y axis')\n",
    "pw.setLabel('bottom', 'x axis')\n",
    "# pw.showGrid(x=True, y=True)"
   ]
  },
  {
   "cell_type": "markdown",
   "metadata": {},
   "source": [
    "## How to use MetaArray"
   ]
  },
  {
   "cell_type": "code",
   "execution_count": 39,
   "metadata": {},
   "outputs": [
    {
     "data": {
      "text/plain": [
       "array([[ 1.        ,  0.97810035,  0.91336058,  0.80861625,  0.66845509,\n",
       "         0.49901606,  0.30772048,  0.10294695, -0.10633559, -0.31096069,\n",
       "        -0.50196594, -0.67098543, -0.81061622, -0.91474258, -0.97880385,\n",
       "        -0.9999942 , -0.97738549, -0.91196797, -0.80660689, -0.66591699,\n",
       "        -0.49606039, -0.30447669, -0.09955711,  0.10972299,  0.3141973 ,\n",
       "         0.50490999,  0.67350797,  0.81260677,  0.91611396,  0.97949599,\n",
       "         0.99997678]])\n",
       "-----------------------------------------------\n",
       "\"y\"             [1] : columns: [y no.1 (a.u.)]\n",
       "\"x\" (scalar)   [31] :  values: [0 ... 6.29] (step 0.209667)\n",
       "{}"
      ]
     },
     "execution_count": 39,
     "metadata": {},
     "output_type": "execute_result"
    }
   ],
   "source": [
    "x = np.linspace(0, 6.29, 31)\n",
    "y = np.cos(x).reshape(1,-1)\n",
    "\n",
    "data = ma.MetaArray(y, info=[\n",
    "    {'name' : 'y', 'cols' : [\n",
    "       {'name' : 'y no.1', 'units' : 'a.u.'}, \n",
    "    ]},\n",
    "    {'name' : 'x', 'units' : 'scalar', 'values' : x},\n",
    "#     {'name' : 'ARR'},\n",
    "])\n",
    "data"
   ]
  },
  {
   "cell_type": "code",
   "execution_count": 40,
   "metadata": {},
   "outputs": [
    {
     "data": {
      "text/plain": [
       "array([[-0.9999942 , -0.97738549, -0.91196797, -0.80660689, -0.66591699,\n",
       "        -0.49606039, -0.30447669, -0.09955711,  0.10972299,  0.3141973 ,\n",
       "         0.50490999,  0.67350797,  0.81260677,  0.91611396,  0.97949599,\n",
       "         0.99997678]])\n",
       "-----------------------------------------------\n",
       "\"y\"             [1] : columns: [y no.1 (a.u.)]\n",
       "\"x\" (scalar)   [16] :  values: [3.145 ... 6.29] (step 0.209667)\n",
       "{}"
      ]
     },
     "execution_count": 40,
     "metadata": {},
     "output_type": "execute_result"
    }
   ],
   "source": [
    "data['x':data.xvals('x') > 3.13]"
   ]
  },
  {
   "cell_type": "code",
   "execution_count": 41,
   "metadata": {},
   "outputs": [
    {
     "data": {
      "text/plain": [
       "(31,)"
      ]
     },
     "execution_count": 41,
     "metadata": {},
     "output_type": "execute_result"
    }
   ],
   "source": [
    "data['y no.1'].shape"
   ]
  },
  {
   "cell_type": "code",
   "execution_count": 43,
   "metadata": {},
   "outputs": [
    {
     "data": {
      "text/plain": [
       "2"
      ]
     },
     "execution_count": 43,
     "metadata": {},
     "output_type": "execute_result"
    }
   ],
   "source": [
    "data.axisName(2)"
   ]
  },
  {
   "cell_type": "code",
   "execution_count": null,
   "metadata": {},
   "outputs": [],
   "source": []
  },
  {
   "cell_type": "code",
   "execution_count": null,
   "metadata": {},
   "outputs": [],
   "source": []
  },
  {
   "cell_type": "code",
   "execution_count": null,
   "metadata": {},
   "outputs": [],
   "source": []
  },
  {
   "cell_type": "code",
   "execution_count": 25,
   "metadata": {},
   "outputs": [],
   "source": [
    "x = np.linspace(0, np.pi*2, 37)\n",
    "y = np.linspace(-3, 3, 31)\n",
    "xx, yy = np.meshgrid(x, y, indexing='ij')\n",
    "zz = np.cos(xx) * np.exp(-yy**2/2.)\n",
    "data = MetaArray(zz, info=[\n",
    "    {'name' : 'cosine axis', 'values' : x},\n",
    "    {'name' : 'gaussian axis', 'values' : y},\n",
    "])"
   ]
  },
  {
   "cell_type": "code",
   "execution_count": 27,
   "metadata": {},
   "outputs": [
    {
     "data": {
      "text/plain": [
       "False"
      ]
     },
     "execution_count": 27,
     "metadata": {},
     "output_type": "execute_result"
    }
   ],
   "source": [
    "data.c"
   ]
  },
  {
   "cell_type": "code",
   "execution_count": null,
   "metadata": {},
   "outputs": [],
   "source": []
  },
  {
   "cell_type": "code",
   "execution_count": null,
   "metadata": {},
   "outputs": [],
   "source": []
  },
  {
   "cell_type": "markdown",
   "metadata": {},
   "source": [
    "## How nodes work"
   ]
  },
  {
   "cell_type": "markdown",
   "metadata": {},
   "source": [
    "### Using a node by hand"
   ]
  },
  {
   "cell_type": "code",
   "execution_count": 9,
   "metadata": {},
   "outputs": [],
   "source": [
    "x = np.linspace(0, 4 * np.pi, 1001)\n",
    "y = np.cos(x) + (np.random.rand(x.size) - 0.5)\n",
    "\n",
    "sigma = 20\n",
    "gf = Gaussian(name='smooth')\n",
    "gf.ctrls['sigma'].setValue(sigma)\n",
    "yf = gf.process(y)['Out']\n",
    "\n",
    "pw = pg.plot(title='noise')\n",
    "pw.plot(x, y, \n",
    "        pen=pg.mkPen((0, 0, 0, 100), width=2),)\n",
    "pw.plot(x, yf, \n",
    "        pen=pg.mkPen('b', width=2),)\n",
    "pw.showGrid(x=True, y=True)"
   ]
  },
  {
   "cell_type": "code",
   "execution_count": null,
   "metadata": {},
   "outputs": [],
   "source": []
  },
  {
   "cell_type": "code",
   "execution_count": null,
   "metadata": {},
   "outputs": [],
   "source": []
  },
  {
   "cell_type": "markdown",
   "metadata": {},
   "source": [
    "# Data selector"
   ]
  },
  {
   "cell_type": "code",
   "execution_count": 11,
   "metadata": {},
   "outputs": [],
   "source": [
    "import pyqtgraph as pg\n",
    "from pyqtgraph.Qt import QtCore, QtGui\n",
    "import numpy as np\n",
    "\n",
    "\n",
    "app = QtGui.QApplication([])"
   ]
  },
  {
   "cell_type": "code",
   "execution_count": null,
   "metadata": {},
   "outputs": [],
   "source": []
  }
 ],
 "metadata": {
  "kernelspec": {
   "display_name": "Python 3",
   "language": "python",
   "name": "python3"
  },
  "language_info": {
   "codemirror_mode": {
    "name": "ipython",
    "version": 3
   },
   "file_extension": ".py",
   "mimetype": "text/x-python",
   "name": "python",
   "nbconvert_exporter": "python",
   "pygments_lexer": "ipython3",
   "version": "3.6.6"
  },
  "toc": {
   "base_numbering": 1,
   "nav_menu": {},
   "number_sections": true,
   "sideBar": true,
   "skip_h1_title": false,
   "title_cell": "Table of Contents",
   "title_sidebar": "Contents",
   "toc_cell": false,
   "toc_position": {},
   "toc_section_display": true,
   "toc_window_display": false
  }
 },
 "nbformat": 4,
 "nbformat_minor": 2
}
