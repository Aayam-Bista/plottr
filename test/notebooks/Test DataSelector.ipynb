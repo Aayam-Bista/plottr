{
 "cells": [
  {
   "cell_type": "markdown",
   "metadata": {},
   "source": [
    "# Init notebook"
   ]
  },
  {
   "cell_type": "code",
   "execution_count": null,
   "metadata": {
    "ExecuteTime": {
     "end_time": "2018-12-31T09:39:33.845463Z",
     "start_time": "2018-12-31T09:39:33.215Z"
    },
    "init_cell": true
   },
   "outputs": [],
   "source": [
    "%gui qt\n",
    "\n",
    "import os\n",
    "import sys\n",
    "import logging\n",
    "from importlib import reload\n",
    "\n",
    "from plottr import log as plottrlog\n",
    "from plottr.data import datadict as dd\n",
    "from plottr.node import data_selector\n",
    "from plottr.node.data_selector import DataSelector\n",
    "from plottr.apps.tools import make_sequential_flowchart, make_sequential_flowchart_with_gui\n",
    "\n",
    "sys.path.append(\n",
    "    os.path.split(os.getcwd())[0]\n",
    ")\n",
    "\n",
    "from common import data as testdata"
   ]
  },
  {
   "cell_type": "code",
   "execution_count": null,
   "metadata": {},
   "outputs": [],
   "source": []
  },
  {
   "cell_type": "code",
   "execution_count": null,
   "metadata": {},
   "outputs": [],
   "source": []
  },
  {
   "cell_type": "markdown",
   "metadata": {},
   "source": [
    "# Test"
   ]
  },
  {
   "cell_type": "markdown",
   "metadata": {},
   "source": [
    "## make test data"
   ]
  },
  {
   "cell_type": "code",
   "execution_count": 2,
   "metadata": {
    "ExecuteTime": {
     "end_time": "2018-12-31T09:39:37.313190Z",
     "start_time": "2018-12-31T09:39:37.304213Z"
    }
   },
   "outputs": [
    {
     "data": {
      "text/plain": [
       "True"
      ]
     },
     "execution_count": 2,
     "metadata": {},
     "output_type": "execute_result"
    }
   ],
   "source": [
    "# data = dd.datadict_to_meshgrid(testdata.three_compatible_3d_sets())\n",
    "data = testdata.three_incompatible_3d_sets()\n",
    "data.validate()"
   ]
  },
  {
   "cell_type": "markdown",
   "metadata": {},
   "source": [
    "## make flowchart"
   ]
  },
  {
   "cell_type": "code",
   "execution_count": 3,
   "metadata": {
    "ExecuteTime": {
     "end_time": "2018-12-31T09:39:40.178527Z",
     "start_time": "2018-12-31T09:39:39.811509Z"
    }
   },
   "outputs": [],
   "source": [
    "nodes, fc, win = make_sequential_flowchart_with_gui([DataSelector])\n",
    "fc.setInput(dataIn=data)\n",
    "\n",
    "logger = plottrlog.getLogger()\n",
    "logger.setLevel(logging.DEBUG)\n",
    "plottrlog.enableStreamHandler(False)"
   ]
  },
  {
   "cell_type": "code",
   "execution_count": null,
   "metadata": {
    "ExecuteTime": {
     "end_time": "2018-12-30T13:50:55.051901Z",
     "start_time": "2018-12-30T13:50:55.047913Z"
    }
   },
   "outputs": [],
   "source": []
  },
  {
   "cell_type": "code",
   "execution_count": 4,
   "metadata": {
    "ExecuteTime": {
     "end_time": "2018-12-31T09:39:51.502292Z",
     "start_time": "2018-12-31T09:39:51.498319Z"
    }
   },
   "outputs": [],
   "source": [
    "datasel = nodes[0]\n",
    "datasel.selectedData = ['data', 'different_data']"
   ]
  },
  {
   "cell_type": "code",
   "execution_count": null,
   "metadata": {
    "ExecuteTime": {
     "end_time": "2018-12-31T09:37:57.023809Z",
     "start_time": "2018-12-31T09:37:57.018816Z"
    }
   },
   "outputs": [],
   "source": [
    "fc.output()"
   ]
  },
  {
   "cell_type": "code",
   "execution_count": null,
   "metadata": {},
   "outputs": [],
   "source": []
  }
 ],
 "metadata": {
  "celltoolbar": "Initialization Cell",
  "hide_input": false,
  "kernelspec": {
   "display_name": "Python 3",
   "language": "python",
   "name": "python3"
  },
  "language_info": {
   "codemirror_mode": {
    "name": "ipython",
    "version": 3
   },
   "file_extension": ".py",
   "mimetype": "text/x-python",
   "name": "python",
   "nbconvert_exporter": "python",
   "pygments_lexer": "ipython3",
   "version": "3.6.7"
  },
  "toc": {
   "base_numbering": 1,
   "nav_menu": {},
   "number_sections": true,
   "sideBar": true,
   "skip_h1_title": false,
   "title_cell": "Table of Contents",
   "title_sidebar": "Contents",
   "toc_cell": false,
   "toc_position": {
    "height": "1298.47px",
    "left": "43px",
    "top": "111.483px",
    "width": "181.75px"
   },
   "toc_section_display": true,
   "toc_window_display": true
  },
  "varInspector": {
   "cols": {
    "lenName": 16,
    "lenType": 16,
    "lenVar": 40
   },
   "kernels_config": {
    "python": {
     "delete_cmd_postfix": "",
     "delete_cmd_prefix": "del ",
     "library": "var_list.py",
     "varRefreshCmd": "print(var_dic_list())"
    },
    "r": {
     "delete_cmd_postfix": ") ",
     "delete_cmd_prefix": "rm(",
     "library": "var_list.r",
     "varRefreshCmd": "cat(var_dic_list()) "
    }
   },
   "types_to_exclude": [
    "module",
    "function",
    "builtin_function_or_method",
    "instance",
    "_Feature"
   ],
   "window_display": false
  }
 },
 "nbformat": 4,
 "nbformat_minor": 2
}
