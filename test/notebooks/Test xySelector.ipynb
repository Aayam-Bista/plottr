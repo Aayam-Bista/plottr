{
 "cells": [
  {
   "cell_type": "code",
   "execution_count": 1,
   "metadata": {
    "ExecuteTime": {
     "end_time": "2018-11-10T21:43:59.988480Z",
     "start_time": "2018-11-10T21:43:59.784904Z"
    }
   },
   "outputs": [],
   "source": [
    "%gui qt\n",
    "# %matplotlib notebook\n",
    "\n",
    "from importlib import reload\n",
    "from pprint import pprint\n",
    "\n",
    "import numpy as np\n",
    "from matplotlib import pyplot as plt"
   ]
  },
  {
   "cell_type": "code",
   "execution_count": 2,
   "metadata": {
    "ExecuteTime": {
     "end_time": "2018-11-10T21:44:01.286000Z",
     "start_time": "2018-11-10T21:44:01.147340Z"
    }
   },
   "outputs": [],
   "source": [
    "import common; reload(common)\n",
    "from common import make_sequential_flowchart, make_sequential_flowchart_with_gui"
   ]
  },
  {
   "cell_type": "code",
   "execution_count": 3,
   "metadata": {
    "ExecuteTime": {
     "end_time": "2018-11-10T21:44:02.591959Z",
     "start_time": "2018-11-10T21:44:02.051405Z"
    }
   },
   "outputs": [
    {
     "name": "stdout",
     "output_type": "stream",
     "text": [
      "{'a': {'axes': [],\n",
      "       'unit': '',\n",
      "       'values': array([[[0, 0, 0, 0],\n",
      "        [0, 0, 0, 0],\n",
      "        [0, 0, 0, 0]],\n",
      "\n",
      "       [[1, 1, 1, 1],\n",
      "        [1, 1, 1, 1],\n",
      "        [1, 1, 1, 1]]])},\n",
      " 'x': {'axes': [],\n",
      "       'unit': '',\n",
      "       'values': array([[[0., 0., 0., 0.],\n",
      "        [1., 1., 1., 1.],\n",
      "        [2., 2., 2., 2.]],\n",
      "\n",
      "       [[0., 0., 0., 0.],\n",
      "        [1., 1., 1., 1.],\n",
      "        [2., 2., 2., 2.]]])},\n",
      " 'y': {'axes': [],\n",
      "       'unit': '',\n",
      "       'values': array([[[0. , 0.1, 0.2, 0.3],\n",
      "        [0. , 0.1, 0.2, 0.3],\n",
      "        [0. , 0.1, 0.2, 0.3]],\n",
      "\n",
      "       [[0. , 0.1, 0.2, 0.3],\n",
      "        [0. , 0.1, 0.2, 0.3],\n",
      "        [0. , 0.1, 0.2, 0.3]]])},\n",
      " 'z': {'axes': ['a', 'x', 'y'],\n",
      "       'unit': '',\n",
      "       'values': array([[[ 0.,  1.,  2.,  3.],\n",
      "        [ 4.,  5.,  6.,  7.],\n",
      "        [ 8.,  9., 10., 11.]],\n",
      "\n",
      "       [[ 0.,  1.,  2.,  3.],\n",
      "        [ 4.,  5.,  6.,  7.],\n",
      "        [ 8.,  9., 10., 11.]]])}}\n"
     ]
    }
   ],
   "source": [
    "from plottr.data import datadict as dd; reload(dd)\n",
    "from plottr.node import dim_reducer; reload(dim_reducer)\n",
    "from plottr.node.dim_reducer import XYAxesSelector\n",
    "\n",
    "XYAxesSelector.useUi = True\n",
    "XYAxesSelector.raiseExceptions = True\n",
    "XYAxesSelector.debug = True\n",
    "\n",
    "_a = np.arange(2)\n",
    "_x = np.arange(3.)\n",
    "_y = np.arange(4.) * 0.1\n",
    "aa, xx, yy = np.meshgrid(_a, _x, _y, indexing='ij')\n",
    "a = aa.reshape(-1)\n",
    "x = xx.reshape(-1)\n",
    "y = yy.reshape(-1)\n",
    "z = np.arange(3*4.0).reshape(-1)\n",
    "z = np.append(z, z)\n",
    "\n",
    "testData = dd.DataDict(\n",
    "    a = dict(values=a),\n",
    "    x = dict(values=x),\n",
    "    y = dict(values=y),\n",
    "    z = dict(values=z, axes=['a', 'x', 'y']),\n",
    ")\n",
    "testData.validate()\n",
    "testData = dd.datadict_to_meshgrid(testData)\n",
    "\n",
    "nodes, fc, win = make_sequential_flowchart_with_gui([XYAxesSelector])\n",
    "fc.setInput(dataIn=testData)\n",
    "\n",
    "xysel = nodes[0]\n",
    "\n",
    "pprint(testData)"
   ]
  },
  {
   "cell_type": "code",
   "execution_count": 4,
   "metadata": {
    "ExecuteTime": {
     "end_time": "2018-11-10T21:44:22.959513Z",
     "start_time": "2018-11-10T21:44:22.953537Z"
    }
   },
   "outputs": [
    {
     "data": {
      "text/plain": [
       "{'dataOut': {'x': {'axes': [], 'unit': '', 'values': array([[0., 0., 0., 0.],\n",
       "          [1., 1., 1., 1.],\n",
       "          [2., 2., 2., 2.]])},\n",
       "  'y': {'axes': [], 'unit': '', 'values': array([[0. , 0.1, 0.2, 0.3],\n",
       "          [0. , 0.1, 0.2, 0.3],\n",
       "          [0. , 0.1, 0.2, 0.3]])},\n",
       "  'z': {'axes': ['x', 'y'], 'unit': '', 'values': array([[ 0.,  1.,  2.,  3.],\n",
       "          [ 4.,  5.,  6.,  7.],\n",
       "          [ 8.,  9., 10., 11.]])}}}"
      ]
     },
     "execution_count": 4,
     "metadata": {},
     "output_type": "execute_result"
    }
   ],
   "source": [
    "fc.output()"
   ]
  },
  {
   "cell_type": "code",
   "execution_count": null,
   "metadata": {
    "ExecuteTime": {
     "end_time": "2018-11-07T07:49:32.757290Z",
     "start_time": "2018-11-07T07:49:32.749310Z"
    }
   },
   "outputs": [],
   "source": [
    "xysel.xyAxes = ('a', 'y')\n",
    "xysel.reductions = {'x' : (dim_reducer.selectAxisElement, list(), dict(index=0))}\n",
    "fc.output()"
   ]
  },
  {
   "cell_type": "code",
   "execution_count": null,
   "metadata": {
    "ExecuteTime": {
     "end_time": "2018-11-06T22:31:19.377578Z",
     "start_time": "2018-11-06T22:31:19.372592Z"
    }
   },
   "outputs": [],
   "source": []
  },
  {
   "cell_type": "code",
   "execution_count": null,
   "metadata": {},
   "outputs": [],
   "source": []
  }
 ],
 "metadata": {
  "kernelspec": {
   "display_name": "Python 3",
   "language": "python",
   "name": "python3"
  },
  "language_info": {
   "codemirror_mode": {
    "name": "ipython",
    "version": 3
   },
   "file_extension": ".py",
   "mimetype": "text/x-python",
   "name": "python",
   "nbconvert_exporter": "python",
   "pygments_lexer": "ipython3",
   "version": "3.6.7"
  },
  "toc": {
   "base_numbering": 1,
   "nav_menu": {},
   "number_sections": true,
   "sideBar": true,
   "skip_h1_title": false,
   "title_cell": "Table of Contents",
   "title_sidebar": "Contents",
   "toc_cell": false,
   "toc_position": {},
   "toc_section_display": true,
   "toc_window_display": false
  }
 },
 "nbformat": 4,
 "nbformat_minor": 2
}
