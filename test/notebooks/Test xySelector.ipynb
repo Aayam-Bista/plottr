{
 "cells": [
  {
   "cell_type": "code",
   "execution_count": null,
   "metadata": {
    "ExecuteTime": {
     "end_time": "2018-12-24T23:02:01.045905Z",
     "start_time": "2018-12-24T23:02:00.627933Z"
    }
   },
   "outputs": [],
   "source": [
    "%gui qt\n",
    "\n",
    "import os\n",
    "import sys\n",
    "\n",
    "from plottr.data import datadict as dd\n",
    "from plottr.node.node import Node\n",
    "from plottr.node.dim_reducer import XYAxesSelector\n",
    "from plottr.apps.tools import make_sequential_flowchart, make_sequential_flowchart_with_gui\n",
    "\n",
    "sys.path.append(\n",
    "    os.path.split(os.getcwd())[0]\n",
    ")\n",
    "\n",
    "from common import data as testdata"
   ]
  },
  {
   "cell_type": "code",
   "execution_count": null,
   "metadata": {},
   "outputs": [],
   "source": []
  },
  {
   "cell_type": "code",
   "execution_count": null,
   "metadata": {
    "ExecuteTime": {
     "end_time": "2018-12-24T23:03:08.293025Z",
     "start_time": "2018-12-24T23:03:08.280062Z"
    }
   },
   "outputs": [],
   "source": [
    "### make an incomplete grid\n",
    "\n",
    "x = np.arange(4).astype(float)\n",
    "y = np.arange(4).astype(float)\n",
    "xx, yy = np.meshgrid(x, y, indexing='ij')\n",
    "zz = xx + yy\n",
    "\n",
    "x = xx.reshape(-1)\n",
    "y = yy.reshape(-1)\n",
    "z = zz.reshape(-1)\n",
    "\n",
    "x[10:] = np.nan\n",
    "y[10:] = np.nan\n",
    "z[10:] = np.nan\n",
    "\n",
    "data = dd.DataDict(\n",
    "    x=dict(values=xx.reshape(-1)),\n",
    "    y=dict(values=yy.reshape(-1)),\n",
    "    z=dict(values=zz.reshape(-1), axes=['x', 'y'])\n",
    ")\n",
    "data.validate()\n",
    "data = dd.datadict_to_meshgrid(data)\n",
    "data"
   ]
  },
  {
   "cell_type": "code",
   "execution_count": null,
   "metadata": {},
   "outputs": [],
   "source": []
  },
  {
   "cell_type": "code",
   "execution_count": null,
   "metadata": {},
   "outputs": [],
   "source": []
  },
  {
   "cell_type": "code",
   "execution_count": null,
   "metadata": {
    "ExecuteTime": {
     "end_time": "2018-12-24T23:03:47.080112Z",
     "start_time": "2018-12-24T23:03:46.728054Z"
    }
   },
   "outputs": [],
   "source": [
    "nodes, fc, win = make_sequential_flowchart_with_gui([XYAxesSelector])\n",
    "fc.setInput(dataIn=data)"
   ]
  },
  {
   "cell_type": "code",
   "execution_count": null,
   "metadata": {
    "ExecuteTime": {
     "end_time": "2018-12-24T23:04:43.399844Z",
     "start_time": "2018-12-24T23:04:43.394856Z"
    }
   },
   "outputs": [],
   "source": [
    "fc.output()"
   ]
  },
  {
   "cell_type": "code",
   "execution_count": null,
   "metadata": {
    "ExecuteTime": {
     "end_time": "2018-11-10T21:44:22.959513Z",
     "start_time": "2018-11-10T21:44:22.953537Z"
    }
   },
   "outputs": [],
   "source": []
  },
  {
   "cell_type": "code",
   "execution_count": null,
   "metadata": {
    "ExecuteTime": {
     "end_time": "2018-11-07T07:49:32.757290Z",
     "start_time": "2018-11-07T07:49:32.749310Z"
    }
   },
   "outputs": [],
   "source": []
  },
  {
   "cell_type": "code",
   "execution_count": null,
   "metadata": {
    "ExecuteTime": {
     "end_time": "2018-11-06T22:31:19.377578Z",
     "start_time": "2018-11-06T22:31:19.372592Z"
    }
   },
   "outputs": [],
   "source": []
  },
  {
   "cell_type": "code",
   "execution_count": null,
   "metadata": {},
   "outputs": [],
   "source": []
  }
 ],
 "metadata": {
  "kernelspec": {
   "display_name": "Python 3",
   "language": "python",
   "name": "python3"
  },
  "language_info": {
   "codemirror_mode": {
    "name": "ipython",
    "version": 3
   },
   "file_extension": ".py",
   "mimetype": "text/x-python",
   "name": "python",
   "nbconvert_exporter": "python",
   "pygments_lexer": "ipython3",
   "version": "3.6.7"
  },
  "toc": {
   "base_numbering": 1,
   "nav_menu": {},
   "number_sections": true,
   "sideBar": true,
   "skip_h1_title": false,
   "title_cell": "Table of Contents",
   "title_sidebar": "Contents",
   "toc_cell": false,
   "toc_position": {},
   "toc_section_display": true,
   "toc_window_display": false
  },
  "varInspector": {
   "cols": {
    "lenName": 16,
    "lenType": 16,
    "lenVar": 40
   },
   "kernels_config": {
    "python": {
     "delete_cmd_postfix": "",
     "delete_cmd_prefix": "del ",
     "library": "var_list.py",
     "varRefreshCmd": "print(var_dic_list())"
    },
    "r": {
     "delete_cmd_postfix": ") ",
     "delete_cmd_prefix": "rm(",
     "library": "var_list.r",
     "varRefreshCmd": "cat(var_dic_list()) "
    }
   },
   "types_to_exclude": [
    "module",
    "function",
    "builtin_function_or_method",
    "instance",
    "_Feature"
   ],
   "window_display": false
  }
 },
 "nbformat": 4,
 "nbformat_minor": 2
}
