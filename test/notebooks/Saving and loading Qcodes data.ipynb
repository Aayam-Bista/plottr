{
 "cells": [
  {
   "cell_type": "code",
   "execution_count": 29,
   "metadata": {
    "ExecuteTime": {
     "end_time": "2018-11-17T13:33:09.879111Z",
     "start_time": "2018-11-17T13:33:09.867145Z"
    }
   },
   "outputs": [],
   "source": [
    "%gui qt\n",
    "%matplotlib qt\n",
    "\n",
    "import numpy as np\n",
    "from matplotlib import pyplot as plt\n",
    "from importlib import reload\n",
    "\n",
    "import qcodes as qc\n",
    "from qcodes import ParamSpec, new_data_set\n",
    "from qcodes.dataset.database import initialise_database\n",
    "from qcodes.dataset.data_set import DataSet\n",
    "from qcodes.dataset.measurements import Measurement\n",
    "from qcodes.dataset.experiment_container import load_or_create_experiment\n",
    "\n",
    "from plottr.data.datadict import DataDict\n",
    "from plottr.data.qcodes_dataset import datadict_from_path_and_run_id\n",
    "from plottr.apps.tools import make_sequential_flowchart"
   ]
  },
  {
   "cell_type": "code",
   "execution_count": 2,
   "metadata": {
    "ExecuteTime": {
     "end_time": "2018-11-17T13:25:30.243008Z",
     "start_time": "2018-11-17T13:25:30.239026Z"
    }
   },
   "outputs": [],
   "source": [
    "DBPATH = './test_qc_saveandload.db'"
   ]
  },
  {
   "cell_type": "code",
   "execution_count": null,
   "metadata": {},
   "outputs": [],
   "source": []
  },
  {
   "cell_type": "markdown",
   "metadata": {},
   "source": [
    "# Make 2D softsweep data"
   ]
  },
  {
   "cell_type": "markdown",
   "metadata": {},
   "source": [
    "## define sweep"
   ]
  },
  {
   "cell_type": "code",
   "execution_count": 3,
   "metadata": {
    "ExecuteTime": {
     "end_time": "2018-11-17T13:25:34.214303Z",
     "start_time": "2018-11-17T13:25:34.205321Z"
    }
   },
   "outputs": [],
   "source": [
    "qc.config.core.db_location = DBPATH\n",
    "initialise_database()\n",
    "exp = load_or_create_experiment('2d_softsweep', sample_name='no sample')\n",
    "\n",
    "x = np.linspace(0, 1., 11)\n",
    "y = np.linspace(0, 1., 11)\n",
    "xx, yy = np.meshgrid(x, y, indexing='ij')\n",
    "zz = np.random.rand(*xx.shape)\n",
    "\n",
    "def get_2dsoftsweep_results():\n",
    "    for x, y, z in zip(xx.reshape(-1), yy.reshape(-1), zz.reshape(-1)):\n",
    "        yield dict(x=x, y=y, z=z)"
   ]
  },
  {
   "cell_type": "markdown",
   "metadata": {
    "heading_collapsed": true
   },
   "source": [
    "## dummy measurement and retrieve as ddict"
   ]
  },
  {
   "cell_type": "code",
   "execution_count": null,
   "metadata": {
    "ExecuteTime": {
     "end_time": "2018-11-17T13:17:09.755792Z",
     "start_time": "2018-11-17T13:16:57.140226Z"
    },
    "hidden": true
   },
   "outputs": [],
   "source": [
    "ds = new_data_set('2d_softsweep', exp_id=exp.exp_id,\n",
    "                  specs=[ParamSpec('x', 'numeric', unit='A'),\n",
    "                         ParamSpec('y', 'numeric', unit='B'),\n",
    "                         ParamSpec('z', 'numeric', unit='C', depends_on=['x', 'y']), ], )\n",
    "\n",
    "results = get_2dsoftsweep_results()\n",
    "for r in results:\n",
    "    ds.add_result(r)\n",
    "ds.mark_complete()\n",
    "\n",
    "run_id = ds.run_id\n",
    "ddict = datadict_from_path_and_run_id(DBPATH, run_id)"
   ]
  },
  {
   "cell_type": "code",
   "execution_count": null,
   "metadata": {
    "ExecuteTime": {
     "end_time": "2018-11-17T13:17:17.092314Z",
     "start_time": "2018-11-17T13:17:17.089323Z"
    },
    "hidden": true
   },
   "outputs": [],
   "source": [
    "# ddict"
   ]
  },
  {
   "cell_type": "markdown",
   "metadata": {},
   "source": [
    "## Manual insertion and retrieval of updates"
   ]
  },
  {
   "cell_type": "code",
   "execution_count": 33,
   "metadata": {
    "ExecuteTime": {
     "end_time": "2018-11-17T14:31:29.165700Z",
     "start_time": "2018-11-17T14:31:15.896720Z"
    }
   },
   "outputs": [
    {
     "name": "stdout",
     "output_type": "stream",
     "text": [
      "1\n",
      "4\n",
      "8\n",
      "8\n",
      "10\n",
      "10\n",
      "14\n",
      "14\n",
      "16\n",
      "19\n",
      "19\n",
      "22\n",
      "24\n",
      "27\n",
      "29\n",
      "33\n",
      "33\n",
      "33\n",
      "36\n",
      "39\n",
      "43\n",
      "43\n",
      "45\n",
      "47\n",
      "51\n",
      "53\n",
      "55\n",
      "58\n",
      "61\n",
      "65\n",
      "69\n",
      "71\n",
      "73\n",
      "74\n",
      "78\n",
      "81\n",
      "81\n",
      "83\n",
      "87\n",
      "88\n",
      "88\n",
      "88\n",
      "89\n",
      "91\n",
      "91\n",
      "92\n",
      "93\n",
      "97\n",
      "98\n",
      "98\n",
      "98\n",
      "98\n",
      "98\n",
      "102\n",
      "102\n",
      "103\n",
      "107\n",
      "109\n",
      "113\n",
      "115\n",
      "116\n",
      "116\n",
      "118\n",
      "121\n"
     ]
    }
   ],
   "source": [
    "from plottr.data import qcodes_dataset; reload(qcodes_dataset)\n",
    "from plottr.data.qcodes_dataset import QCodesDSLoader\n",
    "\n",
    "### setting up the data\n",
    "# ref_ddict = DataDict(x=dict(values=xx.reshape(-1)),\n",
    "#                      y=dict(values=yy.reshape(-1)),\n",
    "#                      z=dict(values=zz.reshape(-1), axes=['x', 'y']))\n",
    "\n",
    "qc.config.core.db_location = DBPATH\n",
    "initialise_database()\n",
    "exp = load_or_create_experiment('2d_softsweep', sample_name='no sample')\n",
    "\n",
    "_ds = new_data_set('2d_softsweep', exp_id=exp.exp_id,\n",
    "                   specs=[ParamSpec('x', 'numeric', unit='A'),\n",
    "                          ParamSpec('y', 'numeric', unit='B'),\n",
    "                          ParamSpec('z', 'numeric', unit='C', depends_on=['x', 'y']), ], )\n",
    "\n",
    "run_id = _ds.run_id\n",
    "results = get_2dsoftsweep_results()\n",
    "\n",
    "### setting up the flowchart\n",
    "nodes, fc = make_sequential_flowchart([QCodesDSLoader])\n",
    "loader = nodes[0]\n",
    "loader.pathAndId = DBPATH, run_id\n",
    "\n",
    "def check():\n",
    "    nresults = _ds.number_of_results\n",
    "    print(nresults)\n",
    "    loader.update()\n",
    "    ddict = fc.output()['dataOut']\n",
    "\n",
    "    z_in = zz.reshape(-1)[:nresults]\n",
    "    z_out = ddict.data_vals('z')\n",
    "    assert z_in.size == z_out.size\n",
    "    assert np.allclose(z_in, z_out, atol=1e-15)\n",
    "\n",
    "### insert data in small chunks, and check\n",
    "while True:\n",
    "    try:\n",
    "        ninsertions = np.random.randint(0, 5)\n",
    "        for n in range(ninsertions):\n",
    "            _ds.add_result(next(results))\n",
    "    except StopIteration:\n",
    "        _ds.mark_complete()\n",
    "        break\n",
    "    check()\n",
    "check()"
   ]
  },
  {
   "cell_type": "code",
   "execution_count": 23,
   "metadata": {
    "ExecuteTime": {
     "end_time": "2018-11-17T13:31:06.379608Z",
     "start_time": "2018-11-17T13:31:06.353678Z"
    }
   },
   "outputs": [],
   "source": []
  },
  {
   "cell_type": "code",
   "execution_count": null,
   "metadata": {},
   "outputs": [],
   "source": []
  }
 ],
 "metadata": {
  "kernelspec": {
   "display_name": "Python 3",
   "language": "python",
   "name": "python3"
  },
  "language_info": {
   "codemirror_mode": {
    "name": "ipython",
    "version": 3
   },
   "file_extension": ".py",
   "mimetype": "text/x-python",
   "name": "python",
   "nbconvert_exporter": "python",
   "pygments_lexer": "ipython3",
   "version": "3.6.7"
  },
  "toc": {
   "base_numbering": 1,
   "nav_menu": {},
   "number_sections": true,
   "sideBar": true,
   "skip_h1_title": false,
   "title_cell": "Table of Contents",
   "title_sidebar": "Contents",
   "toc_cell": false,
   "toc_position": {},
   "toc_section_display": true,
   "toc_window_display": false
  }
 },
 "nbformat": 4,
 "nbformat_minor": 2
}
