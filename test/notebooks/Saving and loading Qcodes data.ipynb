{
 "cells": [
  {
   "cell_type": "markdown",
   "metadata": {},
   "source": [
    "# Init"
   ]
  },
  {
   "cell_type": "code",
   "execution_count": null,
   "metadata": {
    "ExecuteTime": {
     "end_time": "2018-12-24T19:48:38.321928Z",
     "start_time": "2018-12-24T19:48:32.088324Z"
    },
    "hide_input": false,
    "init_cell": true
   },
   "outputs": [],
   "source": [
    "%gui qt\n",
    "%matplotlib qt\n",
    "\n",
    "import os\n",
    "\n",
    "import numpy as np\n",
    "from matplotlib import pyplot as plt\n",
    "from importlib import reload\n",
    "\n",
    "import qcodes as qc\n",
    "from qcodes import ParamSpec, new_data_set\n",
    "from qcodes.dataset.database import initialise_database\n",
    "from qcodes.dataset.data_set import DataSet\n",
    "from qcodes.dataset.measurements import Measurement\n",
    "from qcodes.dataset.experiment_container import load_or_create_experiment\n",
    "\n",
    "from plottr.data.datadict import DataDict\n",
    "from plottr.data.qcodes_dataset import datadict_from_path_and_run_id\n",
    "from plottr.apps.tools import make_sequential_flowchart\n",
    "from plottr.apps import inspectr"
   ]
  },
  {
   "cell_type": "code",
   "execution_count": null,
   "metadata": {
    "ExecuteTime": {
     "end_time": "2018-12-23T14:14:25.089093Z",
     "start_time": "2018-12-23T14:14:25.084122Z"
    },
    "init_cell": true
   },
   "outputs": [],
   "source": []
  },
  {
   "cell_type": "code",
   "execution_count": null,
   "metadata": {},
   "outputs": [],
   "source": []
  },
  {
   "cell_type": "markdown",
   "metadata": {
    "heading_collapsed": true
   },
   "source": [
    "# Make 2D softsweep data"
   ]
  },
  {
   "cell_type": "code",
   "execution_count": null,
   "metadata": {
    "ExecuteTime": {
     "end_time": "2018-12-23T13:34:52.003624Z",
     "start_time": "2018-12-23T13:34:51.999657Z"
    },
    "hidden": true
   },
   "outputs": [],
   "source": [
    "DBPATH = './test_qc_saveandload.db'"
   ]
  },
  {
   "cell_type": "markdown",
   "metadata": {
    "hidden": true
   },
   "source": [
    "## define sweep"
   ]
  },
  {
   "cell_type": "code",
   "execution_count": null,
   "metadata": {
    "ExecuteTime": {
     "end_time": "2018-11-17T13:25:34.214303Z",
     "start_time": "2018-11-17T13:25:34.205321Z"
    },
    "hidden": true
   },
   "outputs": [],
   "source": [
    "qc.config.core.db_location = DBPATH\n",
    "initialise_database()\n",
    "exp = load_or_create_experiment('2d_softsweep', sample_name='no sample')\n",
    "\n",
    "x = np.linspace(0, 1., 11)\n",
    "y = np.linspace(0, 1., 11)\n",
    "xx, yy = np.meshgrid(x, y, indexing='ij')\n",
    "zz = np.random.rand(*xx.shape)\n",
    "\n",
    "def get_2dsoftsweep_results():\n",
    "    for x, y, z in zip(xx.reshape(-1), yy.reshape(-1), zz.reshape(-1)):\n",
    "        yield dict(x=x, y=y, z=z)"
   ]
  },
  {
   "cell_type": "markdown",
   "metadata": {
    "hidden": true
   },
   "source": [
    "## dummy measurement and retrieve as ddict"
   ]
  },
  {
   "cell_type": "code",
   "execution_count": null,
   "metadata": {
    "ExecuteTime": {
     "end_time": "2018-11-17T13:17:09.755792Z",
     "start_time": "2018-11-17T13:16:57.140226Z"
    },
    "hidden": true
   },
   "outputs": [],
   "source": [
    "ds = new_data_set('2d_softsweep', exp_id=exp.exp_id,\n",
    "                  specs=[ParamSpec('x', 'numeric', unit='A'),\n",
    "                         ParamSpec('y', 'numeric', unit='B'),\n",
    "                         ParamSpec('z', 'numeric', unit='C', depends_on=['x', 'y']), ], )\n",
    "\n",
    "results = get_2dsoftsweep_results()\n",
    "for r in results:\n",
    "    ds.add_result(r)\n",
    "ds.mark_complete()\n",
    "\n",
    "run_id = ds.run_id\n",
    "ddict = datadict_from_path_and_run_id(DBPATH, run_id)"
   ]
  },
  {
   "cell_type": "code",
   "execution_count": null,
   "metadata": {
    "ExecuteTime": {
     "end_time": "2018-11-17T13:17:17.092314Z",
     "start_time": "2018-11-17T13:17:17.089323Z"
    },
    "hidden": true
   },
   "outputs": [],
   "source": []
  },
  {
   "cell_type": "code",
   "execution_count": null,
   "metadata": {
    "ExecuteTime": {
     "end_time": "2018-11-17T13:31:06.379608Z",
     "start_time": "2018-11-17T13:31:06.353678Z"
    },
    "hidden": true
   },
   "outputs": [],
   "source": []
  },
  {
   "cell_type": "markdown",
   "metadata": {},
   "source": [
    "# Continously add data to a database"
   ]
  },
  {
   "cell_type": "code",
   "execution_count": null,
   "metadata": {
    "ExecuteTime": {
     "end_time": "2018-12-24T19:48:38.442490Z",
     "start_time": "2018-12-24T19:48:38.439498Z"
    }
   },
   "outputs": [],
   "source": [
    "DBPATH = './test_keep_adding_data.db'"
   ]
  },
  {
   "cell_type": "markdown",
   "metadata": {},
   "source": [
    "## Define data sweep"
   ]
  },
  {
   "cell_type": "code",
   "execution_count": null,
   "metadata": {
    "ExecuteTime": {
     "end_time": "2018-12-23T19:38:54.813717Z",
     "start_time": "2018-12-23T19:38:54.801768Z"
    }
   },
   "outputs": [],
   "source": [
    "# def specs_from_ddict(ddict):\n",
    "#     specs = []\n",
    "#     for ax in ddict.axes():\n",
    "    \n",
    "# def ddict_to_results(ddict, ds_name=None, exp_id=None):        "
   ]
  },
  {
   "cell_type": "code",
   "execution_count": null,
   "metadata": {
    "ExecuteTime": {
     "end_time": "2018-12-24T19:48:43.338221Z",
     "start_time": "2018-12-24T19:48:43.259919Z"
    }
   },
   "outputs": [],
   "source": [
    "qc.config.core.db_location = DBPATH\n",
    "initialise_database()\n",
    "exp = load_or_create_experiment('2d_softsweep', sample_name='no sample')\n",
    "\n",
    "x = np.linspace(0, 1., 11)\n",
    "y = np.linspace(0, 1., 11)\n",
    "xx, yy = np.meshgrid(x, y, indexing='ij')\n",
    "zz = np.random.rand(*xx.shape)\n",
    "\n",
    "def get_2dsoftsweep_results():\n",
    "    for x, y, z in zip(xx.reshape(-1), yy.reshape(-1), zz.reshape(-1)):\n",
    "        yield dict(x=x, y=y, z=z)"
   ]
  },
  {
   "cell_type": "markdown",
   "metadata": {},
   "source": [
    "## create data set"
   ]
  },
  {
   "cell_type": "code",
   "execution_count": null,
   "metadata": {
    "ExecuteTime": {
     "end_time": "2018-12-24T19:48:46.966213Z",
     "start_time": "2018-12-24T19:48:46.634706Z"
    }
   },
   "outputs": [],
   "source": [
    "ds = new_data_set('2d_softsweep', exp_id=exp.exp_id,\n",
    "                  specs=[ParamSpec('x', 'numeric', unit='A'),\n",
    "                         ParamSpec('y', 'numeric', unit='B'),\n",
    "                         ParamSpec('z', 'numeric', unit='C', depends_on=['x', 'y']), ], )\n",
    "\n",
    "results = get_2dsoftsweep_results()"
   ]
  },
  {
   "cell_type": "markdown",
   "metadata": {},
   "source": [
    "## add data row by row"
   ]
  },
  {
   "cell_type": "code",
   "execution_count": null,
   "metadata": {
    "ExecuteTime": {
     "end_time": "2018-12-24T19:51:36.423358Z",
     "start_time": "2018-12-24T19:51:36.257156Z"
    }
   },
   "outputs": [],
   "source": [
    "try:\n",
    "    res = next(results)\n",
    "    ds.add_result(res)\n",
    "except StopIteration:\n",
    "    ds.mark_complete()\n",
    "    \n",
    "print('number of results:', ds.number_of_results)\n",
    "print('completed:', ds.completed)"
   ]
  },
  {
   "cell_type": "code",
   "execution_count": null,
   "metadata": {
    "ExecuteTime": {
     "end_time": "2018-12-24T19:48:50.299583Z",
     "start_time": "2018-12-24T19:48:49.777872Z"
    }
   },
   "outputs": [],
   "source": [
    "win = inspectr.inspectr(DBPATH)\n",
    "win.show()"
   ]
  },
  {
   "cell_type": "code",
   "execution_count": null,
   "metadata": {},
   "outputs": [],
   "source": []
  }
 ],
 "metadata": {
  "celltoolbar": "Initialization Cell",
  "kernelspec": {
   "display_name": "Python 3",
   "language": "python",
   "name": "python3"
  },
  "language_info": {
   "codemirror_mode": {
    "name": "ipython",
    "version": 3
   },
   "file_extension": ".py",
   "mimetype": "text/x-python",
   "name": "python",
   "nbconvert_exporter": "python",
   "pygments_lexer": "ipython3",
   "version": "3.6.7"
  },
  "toc": {
   "base_numbering": 1,
   "nav_menu": {},
   "number_sections": true,
   "sideBar": true,
   "skip_h1_title": false,
   "title_cell": "Table of Contents",
   "title_sidebar": "Contents",
   "toc_cell": false,
   "toc_position": {},
   "toc_section_display": true,
   "toc_window_display": false
  },
  "varInspector": {
   "cols": {
    "lenName": 16,
    "lenType": 16,
    "lenVar": 40
   },
   "kernels_config": {
    "python": {
     "delete_cmd_postfix": "",
     "delete_cmd_prefix": "del ",
     "library": "var_list.py",
     "varRefreshCmd": "print(var_dic_list())"
    },
    "r": {
     "delete_cmd_postfix": ") ",
     "delete_cmd_prefix": "rm(",
     "library": "var_list.r",
     "varRefreshCmd": "cat(var_dic_list()) "
    }
   },
   "position": {
    "height": "145.083px",
    "left": "1463.8px",
    "right": "22px",
    "top": "118px",
    "width": "350px"
   },
   "types_to_exclude": [
    "module",
    "function",
    "builtin_function_or_method",
    "instance",
    "_Feature"
   ],
   "window_display": false
  }
 },
 "nbformat": 4,
 "nbformat_minor": 2
}
