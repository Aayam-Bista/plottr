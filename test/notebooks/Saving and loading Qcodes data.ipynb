{
 "cells": [
  {
   "cell_type": "code",
   "execution_count": 1,
   "metadata": {
    "ExecuteTime": {
     "end_time": "2018-11-15T12:08:25.631736Z",
     "start_time": "2018-11-15T12:08:24.011822Z"
    }
   },
   "outputs": [],
   "source": [
    "%matplotlib notebook\n",
    "import numpy as np\n",
    "from matplotlib import pyplot as plt\n",
    "\n",
    "import qcodes as qc\n",
    "from qcodes import ParamSpec, new_data_set\n",
    "from qcodes.dataset.database import initialise_database\n",
    "from qcodes.dataset.data_set import DataSet\n",
    "from qcodes.dataset.measurements import Measurement\n",
    "from qcodes.dataset.experiment_container import load_or_create_experiment\n",
    "\n",
    "from plottr.data.qcodes_dataset import datadict_from_path_and_run_id"
   ]
  },
  {
   "cell_type": "code",
   "execution_count": 2,
   "metadata": {
    "ExecuteTime": {
     "end_time": "2018-11-15T12:08:26.134114Z",
     "start_time": "2018-11-15T12:08:26.118633Z"
    }
   },
   "outputs": [],
   "source": [
    "DBPATH = './test_qc_saveandload.db'"
   ]
  },
  {
   "cell_type": "code",
   "execution_count": null,
   "metadata": {},
   "outputs": [],
   "source": []
  },
  {
   "cell_type": "markdown",
   "metadata": {},
   "source": [
    "# Make 2D softsweep data"
   ]
  },
  {
   "cell_type": "markdown",
   "metadata": {},
   "source": [
    "## define sweep"
   ]
  },
  {
   "cell_type": "code",
   "execution_count": 7,
   "metadata": {
    "ExecuteTime": {
     "end_time": "2018-11-15T12:19:51.986663Z",
     "start_time": "2018-11-15T12:19:51.970179Z"
    }
   },
   "outputs": [],
   "source": [
    "qc.config.core.db_location = DBPATH\n",
    "initialise_database()\n",
    "exp = load_or_create_experiment('2d_softsweep', sample_name='no sample')\n",
    "\n",
    "x = np.linspace(0, 1., 11)\n",
    "y = np.linspace(0, 1., 11)\n",
    "xx, yy = np.meshgrid(x, y, indexing='ij')\n",
    "zz = np.random.rand(*xx.shape)\n",
    "\n",
    "def get_results():\n",
    "    for x, y, z in zip(xx.reshape(-1), yy.reshape(-1), zz.reshape(-1)):\n",
    "        yield dict(x=x, y=y, z=z)"
   ]
  },
  {
   "cell_type": "markdown",
   "metadata": {},
   "source": [
    "## dummy measurement and retrieve as ddict"
   ]
  },
  {
   "cell_type": "code",
   "execution_count": 5,
   "metadata": {
    "ExecuteTime": {
     "end_time": "2018-11-15T12:11:13.916201Z",
     "start_time": "2018-11-15T12:11:11.118708Z"
    }
   },
   "outputs": [],
   "source": [
    "ds = new_data_set('2d_softsweep', exp_id=exp.exp_id,\n",
    "                  specs=[ParamSpec('x', 'numeric', unit='A'),\n",
    "                         ParamSpec('y', 'numeric', unit='B'),\n",
    "                         ParamSpec('z', 'numeric', unit='C', depends_on=['x', 'y']), ], )\n",
    "\n",
    "results = get_results()\n",
    "for r in results:\n",
    "    ds.add_result(r)\n",
    "ds.mark_complete()\n",
    "\n",
    "run_id = ds.run_id\n",
    "ddict = datadict_from_path_and_run_id(DBPATH, run_id)"
   ]
  },
  {
   "cell_type": "markdown",
   "metadata": {},
   "source": [
    "## Manual insertion and retrieval of updates"
   ]
  },
  {
   "cell_type": "code",
   "execution_count": 9,
   "metadata": {
    "ExecuteTime": {
     "end_time": "2018-11-15T13:39:52.281408Z",
     "start_time": "2018-11-15T13:39:52.165516Z"
    }
   },
   "outputs": [],
   "source": [
    "_ds = new_data_set('2d_softsweep', exp_id=exp.exp_id,\n",
    "                  specs=[ParamSpec('x', 'numeric', unit='A'),\n",
    "                         ParamSpec('y', 'numeric', unit='B'),\n",
    "                         ParamSpec('z', 'numeric', unit='C', depends_on=['x', 'y']), ], )\n",
    "\n",
    "run_id = _ds.run_id\n",
    "results = get_next_result()"
   ]
  },
  {
   "cell_type": "code",
   "execution_count": 15,
   "metadata": {
    "ExecuteTime": {
     "end_time": "2018-11-15T13:50:37.838129Z",
     "start_time": "2018-11-15T13:50:37.784508Z"
    }
   },
   "outputs": [
    {
     "data": {
      "text/plain": [
       "2"
      ]
     },
     "execution_count": 15,
     "metadata": {},
     "output_type": "execute_result"
    }
   ],
   "source": [
    "_ds.add_result(next(results))\n",
    "\n",
    "ds = DataSet(path_to_db=DBPATH, run_id=run_id)\n",
    "ds.number_of_results"
   ]
  },
  {
   "cell_type": "code",
   "execution_count": 20,
   "metadata": {
    "ExecuteTime": {
     "end_time": "2018-11-15T13:51:58.468120Z",
     "start_time": "2018-11-15T13:51:58.436471Z"
    }
   },
   "outputs": [
    {
     "data": {
      "text/plain": [
       "[[0, 0.1, 0.769212716898808]]"
      ]
     },
     "execution_count": 20,
     "metadata": {},
     "output_type": "execute_result"
    }
   ],
   "source": [
    "ds.get_data('x', 'y', 'z', start=2)"
   ]
  },
  {
   "cell_type": "code",
   "execution_count": null,
   "metadata": {},
   "outputs": [],
   "source": []
  },
  {
   "cell_type": "code",
   "execution_count": null,
   "metadata": {},
   "outputs": [],
   "source": []
  },
  {
   "cell_type": "code",
   "execution_count": 17,
   "metadata": {
    "ExecuteTime": {
     "end_time": "2018-11-15T13:51:10.477508Z",
     "start_time": "2018-11-15T13:51:10.393070Z"
    }
   },
   "outputs": [],
   "source": [
    "ds.get_data?"
   ]
  },
  {
   "cell_type": "code",
   "execution_count": null,
   "metadata": {},
   "outputs": [],
   "source": []
  },
  {
   "cell_type": "code",
   "execution_count": null,
   "metadata": {},
   "outputs": [],
   "source": []
  },
  {
   "cell_type": "code",
   "execution_count": 22,
   "metadata": {
    "ExecuteTime": {
     "end_time": "2018-11-15T13:54:13.488591Z",
     "start_time": "2018-11-15T13:54:13.465253Z"
    }
   },
   "outputs": [
    {
     "ename": "ImportError",
     "evalue": "cannot import name 'NoneType'",
     "output_type": "error",
     "traceback": [
      "\u001b[1;31m---------------------------------------------------------------------------\u001b[0m",
      "\u001b[1;31mImportError\u001b[0m                               Traceback (most recent call last)",
      "\u001b[1;32m<ipython-input-22-12080f0f39bf>\u001b[0m in \u001b[0;36m<module>\u001b[1;34m\u001b[0m\n\u001b[1;32m----> 1\u001b[1;33m \u001b[1;32mfrom\u001b[0m \u001b[0mtyping\u001b[0m \u001b[1;32mimport\u001b[0m \u001b[0mNoneType\u001b[0m\u001b[1;33m\u001b[0m\u001b[0m\n\u001b[0m",
      "\u001b[1;31mImportError\u001b[0m: cannot import name 'NoneType'"
     ]
    }
   ],
   "source": []
  },
  {
   "cell_type": "code",
   "execution_count": null,
   "metadata": {},
   "outputs": [],
   "source": []
  },
  {
   "cell_type": "code",
   "execution_count": null,
   "metadata": {},
   "outputs": [],
   "source": []
  }
 ],
 "metadata": {
  "kernelspec": {
   "display_name": "Python 3",
   "language": "python",
   "name": "python3"
  },
  "language_info": {
   "codemirror_mode": {
    "name": "ipython",
    "version": 3
   },
   "file_extension": ".py",
   "mimetype": "text/x-python",
   "name": "python",
   "nbconvert_exporter": "python",
   "pygments_lexer": "ipython3",
   "version": "3.6.6"
  },
  "toc": {
   "base_numbering": 1,
   "nav_menu": {},
   "number_sections": true,
   "sideBar": true,
   "skip_h1_title": false,
   "title_cell": "Table of Contents",
   "title_sidebar": "Contents",
   "toc_cell": false,
   "toc_position": {},
   "toc_section_display": true,
   "toc_window_display": false
  }
 },
 "nbformat": 4,
 "nbformat_minor": 2
}
