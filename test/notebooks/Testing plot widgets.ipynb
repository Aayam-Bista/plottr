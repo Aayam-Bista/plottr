{
 "cells": [
  {
   "cell_type": "code",
   "execution_count": 2,
   "metadata": {
    "ExecuteTime": {
     "end_time": "2018-10-28T17:35:08.152163Z",
     "start_time": "2018-10-28T17:35:07.676934Z"
    }
   },
   "outputs": [
    {
     "data": {
      "text/plain": [
       "<module 'plottr.test_data' from 'd:\\\\dropbox\\\\code\\\\labpydesktop\\\\plottr\\\\plottr\\\\test_data.py'>"
      ]
     },
     "execution_count": 2,
     "metadata": {},
     "output_type": "execute_result"
    }
   ],
   "source": [
    "%gui qt\n",
    "\n",
    "from importlib import reload\n",
    " \n",
    "import numpy as np\n",
    "from matplotlib import pyplot as plt\n",
    "from mpl_toolkits.axes_grid1 import make_axes_locatable\n",
    "\n",
    "from pyqtgraph.flowchart import Flowchart\n",
    "from pyqtgraph.Qt import QtGui, QtCore\n",
    "from pyqtgraph.flowchart import library as fclib\n",
    "from pyqtgraph.dockarea import Dock, DockArea\n",
    "\n",
    "from plottr.data.datadict import togrid, DataDict, GridDataDict\n",
    "from plottr.plot import mpl; reload(mpl)\n",
    "from plottr.plot.mpl import ppcolormesh, PlotNode, MPLPlot, MPLPlotWidget\n",
    "from plottr import test_data; reload(test_data)"
   ]
  },
  {
   "cell_type": "markdown",
   "metadata": {},
   "source": [
    "# Notes\n",
    "\n",
    "Developing a plotting window that has various analysis tools included (line cuts, and the like)\n",
    "\n",
    "for mpl widgets, see:\n",
    "* https://matplotlib.org/api/widgets_api.html\n",
    "* https://matplotlib.org/_modules/matplotlib/widgets.html#PolygonSelector\n",
    "* https://matplotlib.org/_modules/matplotlib/widgets.html"
   ]
  },
  {
   "cell_type": "markdown",
   "metadata": {},
   "source": [
    "# Prototyping"
   ]
  },
  {
   "cell_type": "code",
   "execution_count": 20,
   "metadata": {
    "ExecuteTime": {
     "end_time": "2018-10-28T18:13:05.684858Z",
     "start_time": "2018-10-28T18:13:05.672872Z"
    }
   },
   "outputs": [],
   "source": [
    "from matplotlib.lines import Line2D\n",
    "from matplotlib.widgets import _SelectorWidget, ToolHandles, Cursor, AxesWidget\n",
    "\n",
    "class Line(_SelectorWidget):\n",
    "    \n",
    "    def __init__(self, ax, onselect, useblit=True):\n",
    "        \n",
    "        state_modifier_keys = dict(clear='c', move_vertex='control',\n",
    "                                   move_all='not-applicable', \n",
    "                                   move='not-applicable',\n",
    "                                   square='not-applicable',\n",
    "                                   center='not-applicable')\n",
    "        \n",
    "        super().__init__(ax, onselect, useblit=useblit,\n",
    "                         state_modifier_keys=state_modifier_keys)\n",
    "        \n",
    "        self._xs, self._ys = [], []\n",
    "        \n",
    "        lineprops = dict(color='k', linestyle='-', linewidth=2, alpha=0.5)\n",
    "        lineprops['animated'] = self.useblit\n",
    "        self.line = Line2D(self._xs, self._ys, **lineprops)\n",
    "        self.ax.add_line(self.line)\n",
    "        \n",
    "        markerprops = dict(mec='k', mfc=lineprops.get('color', 'k'))\n",
    "        self._handles = ToolHandles(self.ax, self._xs, self._ys,\n",
    "                                    useblit=self.useblit,\n",
    "                                    marker_props=markerprops)\n",
    "\n",
    "        self._active_handle_idx = -1\n",
    "#         self.vertex_select_radius = 15\n",
    "\n",
    "        self.artists = [self.line, self._handles.artist]\n",
    "        self.set_visible(True)\n",
    "        \n",
    "    def _press(self, event):\n",
    "        pass\n",
    "        \n",
    "    def _release(self, event):\n",
    "    \n",
    "        if len(self._xs) == 2:\n",
    "            for i in range(2):\n",
    "                self._xs.pop(0)\n",
    "                self._ys.pop(0)\n",
    "\n",
    "        self._xs.insert(-1, event.x)\n",
    "        self._ys.insert(-1, event.y)\n",
    "            \n",
    "        if len(self._xs) == 2:\n",
    "            self.onselect(self.verts)\n",
    "        \n",
    "    def onmove(self, event):\n",
    "        if not self.ignore(event):\n",
    "            event = self._clean_event(event)\n",
    "            self._onmove(event)\n",
    "            return True\n",
    "        return False\n",
    "    \n",
    "    def _onmove(self, event):\n",
    "        pass\n",
    "    \n",
    "    \n",
    "        \n",
    "    @property\n",
    "    def verts(self):\n",
    "        \"\"\"Get the line vertices.\n",
    "\n",
    "        Returns\n",
    "        -------\n",
    "        list\n",
    "            A list of the endpoints as ``(xdata, ydata)`` tuples.\n",
    "        \"\"\"\n",
    "        return list(zip(self._xs, self._ys))\n",
    "\n",
    "\n",
    "class ToolsPlot(MPLPlotWidget):\n",
    "    \n",
    "    def _plot2d(self, data, ax, xName, yName, dName):\n",
    "        x = data[xName]['values']\n",
    "        y = data[yName]['values']\n",
    "        z = data[dName]['values']\n",
    "        if isinstance(data, GridDataDict):\n",
    "            z = z.T\n",
    "            im = ppcolormesh(ax, x, y, z)\n",
    "        else:\n",
    "            im = ax.scatter(x, y, c=z)\n",
    "\n",
    "        div = make_axes_locatable(ax)\n",
    "        cax = div.append_axes(\"right\", size=\"5%\", pad=0.05)\n",
    "        self.plot.fig.colorbar(im, cax=cax)\n",
    "\n",
    "        ax.set_title(dName, size='small')\n",
    "        ax.set_ylabel(data.label(yName))\n",
    "        ax.set_xlabel(data.label(xName))\n",
    "        cax.set_ylabel(data.label(dName))\n",
    "    \n",
    "    def setData(self, data):\n",
    "        deps = data.dependents()\n",
    "        axes = data.axes_list()\n",
    "        \n",
    "        if len(deps) != 1 or len(axes) != 2:\n",
    "            raise ValueError(\"Incorrect data shape\")\n",
    "        \n",
    "        self.ax = self.plot.clearFig(naxes=1)[0]\n",
    "        \n",
    "        self._plot2d(data, self.ax, axes[0], axes[1], deps[0])\n",
    "        \n",
    "        self.linetool = Line(self.ax, self.lineDrawn)\n",
    "        \n",
    "        \n",
    "    def lineDrawn(self, verts):\n",
    "        print(type(verts), verts)\n",
    "        self.ax.figure.canvas.draw_idle()"
   ]
  },
  {
   "cell_type": "code",
   "execution_count": null,
   "metadata": {},
   "outputs": [],
   "source": []
  },
  {
   "cell_type": "code",
   "execution_count": 21,
   "metadata": {
    "ExecuteTime": {
     "end_time": "2018-10-28T18:13:08.672159Z",
     "start_time": "2018-10-28T18:13:08.496448Z"
    }
   },
   "outputs": [
    {
     "name": "stdout",
     "output_type": "stream",
     "text": [
      "<class 'list'> [(297, 256), (192, 152)]\n",
      "<class 'list'> [(373, 121), (133, 308)]\n"
     ]
    }
   ],
   "source": [
    "nodelib = fclib.NodeLibrary()\n",
    "nodelib.addNodeType(PlotNode, [('Plot')])\n",
    "\n",
    "# library\n",
    "fc = Flowchart(terminals={\n",
    "    'dataIn': {'io': 'in'},\n",
    "    'dataOut': {'io': 'out'}\n",
    "})\n",
    "fc.library = nodelib\n",
    "\n",
    "plot = fc.createNode('Plot')\n",
    "fc.connectTerminals(fc['dataIn'], plot['dataIn'])\n",
    "fc.connectTerminals(plot['dataOut'], fc['dataOut'])\n",
    "\n",
    "\n",
    "### Setting up the GUI\n",
    "\n",
    "# plot\n",
    "plotWidget = ToolsPlot()\n",
    "plot.setPlotWidget(plotWidget)\n",
    "\n",
    "# window\n",
    "win = QtGui.QDialog()\n",
    "area = DockArea()\n",
    "layout = QtGui.QVBoxLayout()\n",
    "layout.addWidget(area)\n",
    "win.setLayout(layout)\n",
    "\n",
    "# plot\n",
    "plotDock = Dock('Plot')\n",
    "plotDock.addWidget(plotWidget)\n",
    "area.addDock(plotDock)\n",
    "\n",
    "# show\n",
    "win.show()\n",
    "\n",
    "fc.setInput(dataIn=test_data.one_2d_set(51, 51).get_grid())"
   ]
  },
  {
   "cell_type": "code",
   "execution_count": null,
   "metadata": {},
   "outputs": [],
   "source": []
  }
 ],
 "metadata": {
  "kernelspec": {
   "display_name": "Python 3",
   "language": "python",
   "name": "python3"
  },
  "language_info": {
   "codemirror_mode": {
    "name": "ipython",
    "version": 3
   },
   "file_extension": ".py",
   "mimetype": "text/x-python",
   "name": "python",
   "nbconvert_exporter": "python",
   "pygments_lexer": "ipython3",
   "version": "3.6.6"
  },
  "toc": {
   "base_numbering": 1,
   "nav_menu": {},
   "number_sections": true,
   "sideBar": true,
   "skip_h1_title": false,
   "title_cell": "Table of Contents",
   "title_sidebar": "Contents",
   "toc_cell": false,
   "toc_position": {
    "height": "calc(100% - 180px)",
    "left": "10px",
    "top": "150px",
    "width": "216.567px"
   },
   "toc_section_display": true,
   "toc_window_display": true
  }
 },
 "nbformat": 4,
 "nbformat_minor": 2
}
