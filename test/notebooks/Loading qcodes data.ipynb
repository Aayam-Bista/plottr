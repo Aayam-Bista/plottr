{
 "cells": [
  {
   "cell_type": "code",
   "execution_count": null,
   "metadata": {
    "ExecuteTime": {
     "end_time": "2018-11-11T17:25:52.284584Z",
     "start_time": "2018-11-11T17:25:51.708126Z"
    }
   },
   "outputs": [],
   "source": [
    "%gui qt\n",
    "%matplotlib qt\n",
    "\n",
    "import os\n",
    "from pprint import pprint\n",
    "from importlib import reload\n",
    "\n",
    "import numpy as np\n",
    "from matplotlib import pyplot as plt\n",
    "import pandas as pd\n",
    "\n",
    "from pyqtgraph.Qt import QtGui, QtCore"
   ]
  },
  {
   "cell_type": "code",
   "execution_count": null,
   "metadata": {
    "ExecuteTime": {
     "end_time": "2018-11-11T17:25:53.475398Z",
     "start_time": "2018-11-11T17:25:52.811176Z"
    }
   },
   "outputs": [],
   "source": [
    "import qcodes as qc\n",
    "from qcodes import ParamSpec, new_data_set\n",
    "from qcodes.dataset.data_set import DataSet\n",
    "from qcodes.dataset.measurements import Measurement\n",
    "from qcodes.dataset.experiment_container import (Experiment,\n",
    "                                                 load_last_experiment,\n",
    "                                                 new_experiment)\n",
    "from qcodes.dataset.database import initialise_database"
   ]
  },
  {
   "cell_type": "code",
   "execution_count": null,
   "metadata": {
    "ExecuteTime": {
     "end_time": "2018-11-11T17:25:54.261298Z",
     "start_time": "2018-11-11T17:25:54.171538Z"
    }
   },
   "outputs": [],
   "source": [
    "from plottr.apps import autoplot\n",
    "\n",
    "from plottr.data import qcodes_dataset; reload(qcodes_dataset)\n",
    "from plottr.data.qcodes_dataset import (get_runs_from_db_as_dataframe,\n",
    "                                        get_ds_info_from_path,\n",
    "                                        datadict_from_path_and_run_id,\n",
    "                                        QCodesDBInspector)"
   ]
  },
  {
   "cell_type": "code",
   "execution_count": null,
   "metadata": {
    "ExecuteTime": {
     "end_time": "2018-11-11T17:25:57.153562Z",
     "start_time": "2018-11-11T17:25:57.149572Z"
    }
   },
   "outputs": [],
   "source": [
    "# DB_PATH = \"./test_10k_sets.db\"\n",
    "DB_PATH = \"../testdata/experiments_BF2.db\""
   ]
  },
  {
   "cell_type": "markdown",
   "metadata": {},
   "source": [
    "# Creating qcodes test data"
   ]
  },
  {
   "cell_type": "markdown",
   "metadata": {},
   "source": [
    "## make large number of datasets"
   ]
  },
  {
   "cell_type": "code",
   "execution_count": null,
   "metadata": {
    "ExecuteTime": {
     "end_time": "2018-10-30T21:12:08.362890Z",
     "start_time": "2018-10-30T21:12:08.350922Z"
    }
   },
   "outputs": [],
   "source": [
    "def test_data(nx, ny):\n",
    "    x = np.arange(nx, dtype=np.float64)\n",
    "    y = np.arange(ny, dtype=np.float64)\n",
    "    xx, yy = np.meshgrid(x, y)\n",
    "    zz = xx * yy\n",
    "    \n",
    "    return xx.reshape(-1), yy.reshape(-1), zz.reshape(-1)\n",
    "\n",
    "def insert_data(name='dummy_data', nx=10, ny=10):\n",
    "    ds = new_data_set('dummy_data', \n",
    "                      specs=[ParamSpec('x', 'array', unit='V'),\n",
    "                             ParamSpec('y', 'array', unit='A'),\n",
    "                             ParamSpec('z1', 'array', unit='C', depends_on=['x', 'y']),\n",
    "                             ParamSpec('z2', 'array', unit='C', depends_on=['x', 'y'])])\n",
    "    x, y, z = test_data(nx, ny)\n",
    "    ds.add_result(dict(x=x, y=y, z1=z, z2=z))\n",
    "    ds.mark_complete()\n",
    "    \n",
    "    return ds.run_id\n",
    "\n",
    "def make_test_db(nruns=100, nx=100, ny=100):\n",
    "    qc.config.core.db_location = DB_PATH\n",
    "    initialise_database()\n",
    "    \n",
    "    for i in range(nruns):\n",
    "        print(f'Inserting run {i+1}/{nruns}' + 10*' ', end='\\r')\n",
    "        if not i%25:\n",
    "            new_experiment(name=f'test_exp_{i//25}', sample_name=\"no sample\")\n",
    "    \n",
    "        insert_data(nx, ny)"
   ]
  },
  {
   "cell_type": "code",
   "execution_count": null,
   "metadata": {
    "ExecuteTime": {
     "end_time": "2018-10-30T21:12:08.371867Z",
     "start_time": "2018-10-30T21:12:08.363888Z"
    }
   },
   "outputs": [],
   "source": [
    "# make_test_db(nruns=10000)"
   ]
  },
  {
   "cell_type": "markdown",
   "metadata": {},
   "source": [
    "## Make and retrieve data"
   ]
  },
  {
   "cell_type": "markdown",
   "metadata": {},
   "source": [
    "### Trivial case. softsweep with very simple shape."
   ]
  },
  {
   "cell_type": "code",
   "execution_count": null,
   "metadata": {
    "ExecuteTime": {
     "end_time": "2018-11-01T22:53:04.257454Z",
     "start_time": "2018-11-01T22:53:01.160519Z"
    }
   },
   "outputs": [],
   "source": [
    "def make_numeric_test_ds():\n",
    "    ds = new_data_set(\n",
    "        'dummy_data', \n",
    "        specs=[ParamSpec('x', 'numeric', unit='V'),\n",
    "               ParamSpec('y', 'numeric', unit='A'),\n",
    "               ParamSpec('z1', 'numeric', unit='C', depends_on=['x', 'y']),\n",
    "               ParamSpec('z2', 'numeric', unit='C', depends_on=['x', 'y'])])\n",
    "    \n",
    "    for x in range(5):\n",
    "        for y in range(5):\n",
    "            ds.add_result(dict(x=x, y=y, z1=np.random.rand(), z2=np.random.rand()))\n",
    "    ds.mark_complete()\n",
    "    return ds.run_id\n",
    "\n",
    "DB_PATH = \"./testing.db\"\n",
    "qc.config.core.db_location = DB_PATH\n",
    "initialise_database()\n",
    "new_experiment(name='test_trivial_insertion', sample_name='no sample')\n",
    "run_id = make_numeric_test_ds()"
   ]
  },
  {
   "cell_type": "code",
   "execution_count": null,
   "metadata": {
    "ExecuteTime": {
     "end_time": "2018-11-01T22:53:04.289369Z",
     "start_time": "2018-11-01T22:53:04.259449Z"
    }
   },
   "outputs": [],
   "source": [
    "ds = DataSet(path_to_db=DB_PATH, run_id=run_id)\n",
    "pprint(ds.get_data('x', 'y', 'z1', 'z2'))"
   ]
  },
  {
   "cell_type": "code",
   "execution_count": null,
   "metadata": {
    "ExecuteTime": {
     "end_time": "2018-11-01T22:50:35.004605Z",
     "start_time": "2018-11-01T22:50:35.001614Z"
    }
   },
   "outputs": [],
   "source": []
  },
  {
   "cell_type": "markdown",
   "metadata": {},
   "source": [
    "### Two dependents, but one only dependent on the outer axis."
   ]
  },
  {
   "cell_type": "code",
   "execution_count": null,
   "metadata": {
    "ExecuteTime": {
     "end_time": "2018-11-01T23:07:26.469826Z",
     "start_time": "2018-11-01T23:07:23.127926Z"
    }
   },
   "outputs": [],
   "source": [
    "def make_numeric_test_ds():\n",
    "    ds = new_data_set(\n",
    "        'dummy_data', \n",
    "        specs=[ParamSpec('x', 'numeric', unit='V'),\n",
    "               ParamSpec('y', 'numeric', unit='A'),\n",
    "               ParamSpec('z1', 'numeric', unit='C', depends_on=['x', 'y']),\n",
    "               ParamSpec('z2', 'numeric', unit='C', depends_on=['x'])])\n",
    "    \n",
    "    for x in range(5):\n",
    "        for y in range(5):\n",
    "            results = dict(x=x, y=y, z1=np.random.rand())\n",
    "            if y%5 == 0:\n",
    "                results['z2'] = np.random.rand()\n",
    "            ds.add_result(results)\n",
    "    \n",
    "    ds.mark_complete()\n",
    "    return ds.run_id\n",
    "\n",
    "DB_PATH = \"./testing.db\"\n",
    "qc.config.core.db_location = DB_PATH\n",
    "initialise_database()\n",
    "new_experiment(name='test_insertion_with_different_frequency', sample_name='no sample')\n",
    "run_id = make_numeric_test_ds()"
   ]
  },
  {
   "cell_type": "code",
   "execution_count": null,
   "metadata": {
    "ExecuteTime": {
     "end_time": "2018-11-01T23:07:33.438319Z",
     "start_time": "2018-11-01T23:07:33.414411Z"
    }
   },
   "outputs": [],
   "source": [
    "ds = DataSet(path_to_db=DB_PATH, run_id=run_id)\n",
    "pprint(ds.get_data('x', 'y', 'z1', 'z2'))"
   ]
  },
  {
   "cell_type": "code",
   "execution_count": null,
   "metadata": {
    "ExecuteTime": {
     "end_time": "2018-11-01T22:57:22.089416Z",
     "start_time": "2018-11-01T22:57:22.085412Z"
    }
   },
   "outputs": [],
   "source": []
  },
  {
   "cell_type": "markdown",
   "metadata": {},
   "source": [
    "### Array data for z1 and the inner sweep param"
   ]
  },
  {
   "cell_type": "code",
   "execution_count": null,
   "metadata": {
    "ExecuteTime": {
     "end_time": "2018-11-03T11:03:02.868753Z",
     "start_time": "2018-11-03T11:03:01.542056Z"
    }
   },
   "outputs": [],
   "source": [
    "def make_numeric_test_ds():\n",
    "    ds = new_data_set(\n",
    "        'dummy_data', \n",
    "        specs=[ParamSpec('x', 'numeric', unit='V'),\n",
    "               ParamSpec('y', 'array', unit='A'),\n",
    "               ParamSpec('z1', 'array', unit='C', depends_on=['x', 'y']),\n",
    "               ParamSpec('z2', 'numeric', unit='C', depends_on=['x'])])\n",
    "    \n",
    "    for x in range(5):\n",
    "        y = np.arange(5.0)\n",
    "        results = dict(x=x, y=y, z1=np.random.rand(5), z2=np.random.rand())\n",
    "        ds.add_result(results)\n",
    "    \n",
    "    ds.mark_complete()\n",
    "    return ds.run_id\n",
    "\n",
    "DB_PATH = \"./testing.db\"\n",
    "qc.config.core.db_location = DB_PATH\n",
    "initialise_database()\n",
    "new_experiment(name='test_insertion_with_both_array_and_numeric', sample_name='no sample')\n",
    "run_id = make_numeric_test_ds()"
   ]
  },
  {
   "cell_type": "code",
   "execution_count": null,
   "metadata": {
    "ExecuteTime": {
     "end_time": "2018-11-03T11:50:38.895843Z",
     "start_time": "2018-11-03T11:50:38.885870Z"
    }
   },
   "outputs": [],
   "source": [
    "ds = DataSet(path_to_db=DB_PATH, run_id=run_id)\n",
    "data = qcodes_dataset.ds_to_datadict(ds)"
   ]
  },
  {
   "cell_type": "code",
   "execution_count": null,
   "metadata": {
    "ExecuteTime": {
     "end_time": "2018-11-03T11:50:44.929783Z",
     "start_time": "2018-11-03T11:50:44.894876Z"
    }
   },
   "outputs": [],
   "source": [
    "pprint(data)"
   ]
  },
  {
   "cell_type": "code",
   "execution_count": null,
   "metadata": {},
   "outputs": [],
   "source": []
  },
  {
   "cell_type": "code",
   "execution_count": null,
   "metadata": {},
   "outputs": [],
   "source": []
  },
  {
   "cell_type": "code",
   "execution_count": null,
   "metadata": {},
   "outputs": [],
   "source": []
  },
  {
   "cell_type": "code",
   "execution_count": null,
   "metadata": {},
   "outputs": [],
   "source": []
  },
  {
   "cell_type": "markdown",
   "metadata": {
    "ExecuteTime": {
     "end_time": "2018-10-28T11:50:14.850083Z",
     "start_time": "2018-10-28T11:50:14.550427Z"
    }
   },
   "source": [
    "# DB Inspector"
   ]
  },
  {
   "cell_type": "code",
   "execution_count": null,
   "metadata": {
    "ExecuteTime": {
     "end_time": "2018-11-11T17:32:08.180211Z",
     "start_time": "2018-11-11T17:32:08.036616Z"
    }
   },
   "outputs": [],
   "source": [
    "win = QCodesDBInspector(dbPath=DB_PATH)\n",
    "win.show()"
   ]
  },
  {
   "cell_type": "markdown",
   "metadata": {},
   "source": [
    "# Autoplotting a qcodes dataset"
   ]
  },
  {
   "cell_type": "code",
   "execution_count": null,
   "metadata": {
    "ExecuteTime": {
     "end_time": "2018-11-11T17:15:27.191497Z",
     "start_time": "2018-11-11T17:15:23.937200Z"
    }
   },
   "outputs": [],
   "source": [
    "data = datadict_from_path_and_run_id(path=DB_PATH, run_id=90)\n",
    "fc, plotwin = autoplot.autoplot(inputData=data, log=True)"
   ]
  },
  {
   "cell_type": "markdown",
   "metadata": {
    "ExecuteTime": {
     "end_time": "2018-11-03T12:07:02.522563Z",
     "start_time": "2018-11-03T12:07:02.292723Z"
    }
   },
   "source": [
    "# Autoplotting with qcodes loader node"
   ]
  },
  {
   "cell_type": "code",
   "execution_count": null,
   "metadata": {
    "ExecuteTime": {
     "end_time": "2018-11-11T17:33:44.054086Z",
     "start_time": "2018-11-11T17:33:40.961749Z"
    }
   },
   "outputs": [],
   "source": [
    "fc, plotwin = autoplot.autoplotQcodesDataset(log=True)\n",
    "dsloader = fc.nodes()['QCodesDSLoader.0']\n",
    "dsloader.pathAndId = DB_PATH, 90"
   ]
  },
  {
   "cell_type": "code",
   "execution_count": null,
   "metadata": {
    "ExecuteTime": {
     "end_time": "2018-11-11T17:28:57.669691Z",
     "start_time": "2018-11-11T17:28:54.687655Z"
    }
   },
   "outputs": [],
   "source": []
  },
  {
   "cell_type": "code",
   "execution_count": null,
   "metadata": {
    "ExecuteTime": {
     "end_time": "2018-11-11T17:34:51.552370Z",
     "start_time": "2018-11-11T17:34:51.263113Z"
    }
   },
   "outputs": [],
   "source": [
    "fc2, plotwin2 = autoplot.autoplotQcodesDataset(log=True)\n",
    "dsloader = fc2.nodes()['QCodesDSLoader.0']\n",
    "dsloader.pathAndId = DB_PATH, 115"
   ]
  },
  {
   "cell_type": "code",
   "execution_count": null,
   "metadata": {},
   "outputs": [],
   "source": []
  },
  {
   "cell_type": "code",
   "execution_count": null,
   "metadata": {
    "ExecuteTime": {
     "end_time": "2018-11-11T17:17:51.124145Z",
     "start_time": "2018-11-11T17:17:51.120134Z"
    }
   },
   "outputs": [],
   "source": []
  },
  {
   "cell_type": "code",
   "execution_count": null,
   "metadata": {},
   "outputs": [],
   "source": []
  },
  {
   "cell_type": "code",
   "execution_count": null,
   "metadata": {},
   "outputs": [],
   "source": []
  },
  {
   "cell_type": "markdown",
   "metadata": {},
   "source": [
    "# Scratch"
   ]
  },
  {
   "cell_type": "code",
   "execution_count": null,
   "metadata": {
    "ExecuteTime": {
     "end_time": "2018-10-30T21:56:50.445454Z",
     "start_time": "2018-10-30T21:56:50.440469Z"
    }
   },
   "outputs": [],
   "source": [
    "np.product((1,2,3))"
   ]
  },
  {
   "cell_type": "code",
   "execution_count": null,
   "metadata": {
    "ExecuteTime": {
     "end_time": "2018-10-30T21:57:36.253126Z",
     "start_time": "2018-10-30T21:57:36.249137Z"
    }
   },
   "outputs": [],
   "source": [
    "np.arange(27).reshape(3,3,3).reshape(-1)"
   ]
  },
  {
   "cell_type": "code",
   "execution_count": null,
   "metadata": {},
   "outputs": [],
   "source": []
  }
 ],
 "metadata": {
  "kernelspec": {
   "display_name": "Python 3",
   "language": "python",
   "name": "python3"
  },
  "language_info": {
   "codemirror_mode": {
    "name": "ipython",
    "version": 3
   },
   "file_extension": ".py",
   "mimetype": "text/x-python",
   "name": "python",
   "nbconvert_exporter": "python",
   "pygments_lexer": "ipython3",
   "version": "3.6.7"
  },
  "toc": {
   "base_numbering": 1,
   "nav_menu": {},
   "number_sections": true,
   "sideBar": true,
   "skip_h1_title": false,
   "title_cell": "Table of Contents",
   "title_sidebar": "Contents",
   "toc_cell": false,
   "toc_position": {},
   "toc_section_display": true,
   "toc_window_display": true
  },
  "varInspector": {
   "cols": {
    "lenName": 16,
    "lenType": 16,
    "lenVar": 40
   },
   "kernels_config": {
    "python": {
     "delete_cmd_postfix": "",
     "delete_cmd_prefix": "del ",
     "library": "var_list.py",
     "varRefreshCmd": "print(var_dic_list())"
    },
    "r": {
     "delete_cmd_postfix": ") ",
     "delete_cmd_prefix": "rm(",
     "library": "var_list.r",
     "varRefreshCmd": "cat(var_dic_list()) "
    }
   },
   "types_to_exclude": [
    "module",
    "function",
    "builtin_function_or_method",
    "instance",
    "_Feature"
   ],
   "window_display": false
  }
 },
 "nbformat": 4,
 "nbformat_minor": 2
}
