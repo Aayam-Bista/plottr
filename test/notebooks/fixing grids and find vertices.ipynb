{
 "cells": [
  {
   "cell_type": "code",
   "execution_count": null,
   "metadata": {
    "ExecuteTime": {
     "end_time": "2018-12-25T19:04:50.010501Z",
     "start_time": "2018-12-25T19:04:48.667766Z"
    }
   },
   "outputs": [],
   "source": [
    "import numpy as np\n",
    "import pandas as pd"
   ]
  },
  {
   "cell_type": "markdown",
   "metadata": {},
   "source": [
    "# Test interpolating missing coordinates"
   ]
  },
  {
   "cell_type": "markdown",
   "metadata": {},
   "source": [
    "## make an incomplete grid"
   ]
  },
  {
   "cell_type": "code",
   "execution_count": null,
   "metadata": {
    "ExecuteTime": {
     "end_time": "2018-12-26T22:06:45.867434Z",
     "start_time": "2018-12-26T22:06:45.860446Z"
    }
   },
   "outputs": [],
   "source": [
    "# make an incomplete grid\n",
    "x = np.arange(4).astype(float)\n",
    "y = np.arange(4).astype(float)\n",
    "xx, yy = np.meshgrid(x, y, indexing='ij')\n",
    "zz = xx + yy\n",
    "\n",
    "x = xx.reshape(-1)\n",
    "y = yy.reshape(-1)\n",
    "z = zz.reshape(-1)\n",
    "\n",
    "x[10:] = np.nan\n",
    "y[10:] = np.nan\n",
    "z[10:] = np.nan\n",
    "\n",
    "xx = x.reshape(xx.shape)\n",
    "yy = y.reshape(yy.shape)\n",
    "\n",
    "xx, yy"
   ]
  },
  {
   "cell_type": "markdown",
   "metadata": {},
   "source": [
    "## find missing values in x and y"
   ]
  },
  {
   "cell_type": "code",
   "execution_count": null,
   "metadata": {
    "ExecuteTime": {
     "end_time": "2018-12-26T22:06:47.957082Z",
     "start_time": "2018-12-26T22:06:47.935140Z"
    }
   },
   "outputs": [],
   "source": [
    "## find missing values in the x axis\n",
    "pd.DataFrame(xx).interpolate(axis=1)"
   ]
  },
  {
   "cell_type": "code",
   "execution_count": null,
   "metadata": {
    "ExecuteTime": {
     "end_time": "2018-12-26T22:06:48.345522Z",
     "start_time": "2018-12-26T22:06:48.338540Z"
    }
   },
   "outputs": [],
   "source": [
    "## find missing values in the y axis\n",
    "pd.DataFrame(yy).interpolate(axis=0).values"
   ]
  },
  {
   "cell_type": "markdown",
   "metadata": {},
   "source": [
    "## missing values in the other 'direction'"
   ]
  },
  {
   "cell_type": "code",
   "execution_count": null,
   "metadata": {
    "ExecuteTime": {
     "end_time": "2018-12-26T22:06:49.959444Z",
     "start_time": "2018-12-26T22:06:49.952482Z"
    }
   },
   "outputs": [],
   "source": [
    "## make an incomplete grid the other 'direction'\n",
    "x = np.arange(4).astype(float)\n",
    "y = np.arange(4).astype(float)\n",
    "xx, yy = np.meshgrid(x, y, indexing='ij')\n",
    "zz = xx + yy\n",
    "\n",
    "x = xx.T.reshape(-1)\n",
    "y = yy.T.reshape(-1)\n",
    "z = zz.T.reshape(-1)\n",
    "\n",
    "x[10:] = np.nan\n",
    "y[10:] = np.nan\n",
    "z[10:] = np.nan\n",
    "\n",
    "xx = x.reshape(xx.shape).T\n",
    "yy = y.reshape(yy.shape).T\n",
    "\n",
    "xx, yy"
   ]
  },
  {
   "cell_type": "markdown",
   "metadata": {},
   "source": [
    "## finding the missing values"
   ]
  },
  {
   "cell_type": "code",
   "execution_count": null,
   "metadata": {
    "ExecuteTime": {
     "end_time": "2018-12-26T22:07:01.032763Z",
     "start_time": "2018-12-26T22:07:01.023799Z"
    }
   },
   "outputs": [],
   "source": [
    "## find missing values in the x axis\n",
    "pd.DataFrame(xx).interpolate(axis=1)"
   ]
  },
  {
   "cell_type": "code",
   "execution_count": null,
   "metadata": {
    "ExecuteTime": {
     "end_time": "2018-12-26T22:07:12.242604Z",
     "start_time": "2018-12-26T22:07:12.236619Z"
    }
   },
   "outputs": [],
   "source": [
    "## find missing values in the y axis\n",
    "pd.DataFrame(yy).interpolate(axis=0).values"
   ]
  },
  {
   "cell_type": "code",
   "execution_count": null,
   "metadata": {},
   "outputs": [],
   "source": []
  },
  {
   "cell_type": "markdown",
   "metadata": {},
   "source": [
    "# making vertices from grid centers"
   ]
  },
  {
   "cell_type": "code",
   "execution_count": null,
   "metadata": {
    "ExecuteTime": {
     "end_time": "2018-12-26T22:28:20.086947Z",
     "start_time": "2018-12-26T22:28:20.080963Z"
    }
   },
   "outputs": [],
   "source": [
    "### make vertices from grid centers (for pcolormesh)\n",
    "x = np.arange(4).astype(float)\n",
    "y = np.arange(4).astype(float)\n",
    "xx, yy = np.meshgrid(x, y, indexing='ij')\n",
    "zz = xx + yy\n",
    "\n",
    "xx"
   ]
  },
  {
   "cell_type": "code",
   "execution_count": null,
   "metadata": {
    "ExecuteTime": {
     "end_time": "2018-12-26T22:42:08.089043Z",
     "start_time": "2018-12-26T22:42:08.084055Z"
    }
   },
   "outputs": [],
   "source": [
    "ecenter = (xx[1:,1:] + xx[:-1,:-1])/2.\n",
    "# ex = np.concatenate((2 * xx[0:1,1:-1] - ex[0:1,1:-1], ex), axis=0)\n",
    "# ex = np.concatenate((ex, 2 * xx[-1:,:] - ex[-1:,:]), axis=0)\n",
    "ecenter"
   ]
  },
  {
   "cell_type": "code",
   "execution_count": null,
   "metadata": {
    "ExecuteTime": {
     "end_time": "2018-12-26T22:42:08.488843Z",
     "start_time": "2018-12-26T22:42:08.483856Z"
    }
   },
   "outputs": [],
   "source": [
    "xleft = (xx[0,1:] + xx[0,:-1])/2.\n",
    "eleft = 2 * xleft - ecenter[0,:]\n",
    "eleft"
   ]
  },
  {
   "cell_type": "code",
   "execution_count": null,
   "metadata": {
    "ExecuteTime": {
     "end_time": "2018-12-26T22:42:08.902924Z",
     "start_time": "2018-12-26T22:42:08.897914Z"
    }
   },
   "outputs": [],
   "source": [
    "xright = (xx[-1,1:] + xx[-1,:-1])/2.\n",
    "eright = 2 * xright - ecenter[-1,:]\n",
    "eright"
   ]
  },
  {
   "cell_type": "code",
   "execution_count": null,
   "metadata": {
    "ExecuteTime": {
     "end_time": "2018-12-26T22:43:28.134418Z",
     "start_time": "2018-12-26T22:43:28.129430Z"
    }
   },
   "outputs": [],
   "source": [
    "xtop = (xx[1:,0] + xx[:-1,0])/2.\n",
    "etop = 2 * xtop - ecenter[:,0]\n",
    "etop"
   ]
  },
  {
   "cell_type": "code",
   "execution_count": null,
   "metadata": {
    "ExecuteTime": {
     "end_time": "2018-12-26T22:53:13.812873Z",
     "start_time": "2018-12-26T22:53:13.806867Z"
    }
   },
   "outputs": [],
   "source": [
    "def centers2edges2d(centers):\n",
    "    shp = centers.shape\n",
    "    edges = np.zeros((shp[0]+1, shp[1]+1))\n",
    "    \n",
    "    # the central vertices are easy -- follow just from the means of the neighboring centers\n",
    "    center = (centers[1:,1:] + centers[:-1,:-1] + centers[:-1,1:] + centers[1:,:-1])/4.\n",
    "    edges[1:-1, 1:-1] = center\n",
    "    \n",
    "    # for the outer edges we just make the vertices such that the points are pretty much in the center\n",
    "    # first average over neighbor centers to get the 'vertical' right\n",
    "    _left = (centers[0,1:] + centers[0,:-1])/2.\n",
    "    # then extrapolate to the left of the centers\n",
    "    left = 2 * _left - center[0,:]\n",
    "    edges[0, 1:-1] = left\n",
    "    \n",
    "    # and same for the other three sides\n",
    "    _right = (centers[-1,1:] + centers[-1,:-1])/2.\n",
    "    right = 2 * _right - center[-1,:]\n",
    "    edges[-1, 1:-1] = right\n",
    "    \n",
    "    ...\n",
    "    \n",
    "    return edges"
   ]
  },
  {
   "cell_type": "code",
   "execution_count": null,
   "metadata": {
    "ExecuteTime": {
     "end_time": "2018-12-26T22:53:14.083663Z",
     "start_time": "2018-12-26T22:53:14.079699Z"
    }
   },
   "outputs": [],
   "source": [
    "centers2edges2d(xx)"
   ]
  },
  {
   "cell_type": "code",
   "execution_count": null,
   "metadata": {
    "ExecuteTime": {
     "end_time": "2018-12-26T22:14:10.237616Z",
     "start_time": "2018-12-26T22:14:10.232630Z"
    }
   },
   "outputs": [],
   "source": []
  },
  {
   "cell_type": "code",
   "execution_count": null,
   "metadata": {},
   "outputs": [],
   "source": []
  }
 ],
 "metadata": {
  "kernelspec": {
   "display_name": "Python 3",
   "language": "python",
   "name": "python3"
  },
  "language_info": {
   "codemirror_mode": {
    "name": "ipython",
    "version": 3
   },
   "file_extension": ".py",
   "mimetype": "text/x-python",
   "name": "python",
   "nbconvert_exporter": "python",
   "pygments_lexer": "ipython3",
   "version": "3.6.7"
  },
  "toc": {
   "base_numbering": 1,
   "nav_menu": {},
   "number_sections": true,
   "sideBar": true,
   "skip_h1_title": false,
   "title_cell": "Table of Contents",
   "title_sidebar": "Contents",
   "toc_cell": false,
   "toc_position": {},
   "toc_section_display": true,
   "toc_window_display": false
  },
  "varInspector": {
   "cols": {
    "lenName": 16,
    "lenType": 16,
    "lenVar": 40
   },
   "kernels_config": {
    "python": {
     "delete_cmd_postfix": "",
     "delete_cmd_prefix": "del ",
     "library": "var_list.py",
     "varRefreshCmd": "print(var_dic_list())"
    },
    "r": {
     "delete_cmd_postfix": ") ",
     "delete_cmd_prefix": "rm(",
     "library": "var_list.r",
     "varRefreshCmd": "cat(var_dic_list()) "
    }
   },
   "types_to_exclude": [
    "module",
    "function",
    "builtin_function_or_method",
    "instance",
    "_Feature"
   ],
   "window_display": false
  }
 },
 "nbformat": 4,
 "nbformat_minor": 2
}
