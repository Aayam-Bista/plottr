{
 "cells": [
  {
   "cell_type": "code",
   "execution_count": null,
   "metadata": {
    "ExecuteTime": {
     "end_time": "2018-12-28T10:56:56.758081Z",
     "start_time": "2018-12-28T10:56:56.737133Z"
    }
   },
   "outputs": [],
   "source": [
    "%matplotlib notebook\n",
    "\n",
    "import numpy as np\n",
    "import pandas as pd\n",
    "from matplotlib import pyplot as plt"
   ]
  },
  {
   "cell_type": "markdown",
   "metadata": {},
   "source": [
    "# Test interpolating missing coordinates"
   ]
  },
  {
   "cell_type": "markdown",
   "metadata": {},
   "source": [
    "## make an incomplete grid"
   ]
  },
  {
   "cell_type": "code",
   "execution_count": null,
   "metadata": {
    "ExecuteTime": {
     "end_time": "2018-12-26T22:06:45.867434Z",
     "start_time": "2018-12-26T22:06:45.860446Z"
    }
   },
   "outputs": [],
   "source": [
    "# make an incomplete grid\n",
    "x = np.arange(4).astype(float)\n",
    "y = np.arange(4).astype(float)\n",
    "xx, yy = np.meshgrid(x, y, indexing='ij')\n",
    "zz = xx + yy\n",
    "\n",
    "x = xx.reshape(-1)\n",
    "y = yy.reshape(-1)\n",
    "z = zz.reshape(-1)\n",
    "\n",
    "x[10:] = np.nan\n",
    "y[10:] = np.nan\n",
    "z[10:] = np.nan\n",
    "\n",
    "xx = x.reshape(xx.shape)\n",
    "yy = y.reshape(yy.shape)\n",
    "\n",
    "xx, yy"
   ]
  },
  {
   "cell_type": "markdown",
   "metadata": {},
   "source": [
    "## find missing values in x and y"
   ]
  },
  {
   "cell_type": "code",
   "execution_count": null,
   "metadata": {
    "ExecuteTime": {
     "end_time": "2018-12-26T22:06:47.957082Z",
     "start_time": "2018-12-26T22:06:47.935140Z"
    }
   },
   "outputs": [],
   "source": [
    "## find missing values in the x axis\n",
    "pd.DataFrame(xx).interpolate(axis=1)"
   ]
  },
  {
   "cell_type": "code",
   "execution_count": null,
   "metadata": {
    "ExecuteTime": {
     "end_time": "2018-12-26T22:06:48.345522Z",
     "start_time": "2018-12-26T22:06:48.338540Z"
    }
   },
   "outputs": [],
   "source": [
    "## find missing values in the y axis\n",
    "pd.DataFrame(yy).interpolate(axis=0).values"
   ]
  },
  {
   "cell_type": "markdown",
   "metadata": {},
   "source": [
    "## missing values in the other 'direction'"
   ]
  },
  {
   "cell_type": "code",
   "execution_count": null,
   "metadata": {
    "ExecuteTime": {
     "end_time": "2018-12-26T22:06:49.959444Z",
     "start_time": "2018-12-26T22:06:49.952482Z"
    }
   },
   "outputs": [],
   "source": [
    "## make an incomplete grid the other 'direction'\n",
    "x = np.arange(4).astype(float)\n",
    "y = np.arange(4).astype(float)\n",
    "xx, yy = np.meshgrid(x, y, indexing='ij')\n",
    "zz = xx + yy\n",
    "\n",
    "x = xx.T.reshape(-1)\n",
    "y = yy.T.reshape(-1)\n",
    "z = zz.T.reshape(-1)\n",
    "\n",
    "x[10:] = np.nan\n",
    "y[10:] = np.nan\n",
    "z[10:] = np.nan\n",
    "\n",
    "xx = x.reshape(xx.shape).T\n",
    "yy = y.reshape(yy.shape).T\n",
    "\n",
    "xx, yy"
   ]
  },
  {
   "cell_type": "markdown",
   "metadata": {},
   "source": [
    "## finding the missing values"
   ]
  },
  {
   "cell_type": "code",
   "execution_count": null,
   "metadata": {
    "ExecuteTime": {
     "end_time": "2018-12-26T22:07:01.032763Z",
     "start_time": "2018-12-26T22:07:01.023799Z"
    }
   },
   "outputs": [],
   "source": [
    "## find missing values in the x axis\n",
    "pd.DataFrame(xx).interpolate(axis=1)"
   ]
  },
  {
   "cell_type": "code",
   "execution_count": null,
   "metadata": {
    "ExecuteTime": {
     "end_time": "2018-12-26T22:07:12.242604Z",
     "start_time": "2018-12-26T22:07:12.236619Z"
    }
   },
   "outputs": [],
   "source": [
    "## find missing values in the y axis\n",
    "pd.DataFrame(yy).interpolate(axis=0).values"
   ]
  },
  {
   "cell_type": "code",
   "execution_count": null,
   "metadata": {},
   "outputs": [],
   "source": []
  },
  {
   "cell_type": "markdown",
   "metadata": {},
   "source": [
    "# making vertices from grid centers"
   ]
  },
  {
   "cell_type": "code",
   "execution_count": null,
   "metadata": {
    "ExecuteTime": {
     "end_time": "2018-12-28T09:32:18.329156Z",
     "start_time": "2018-12-28T09:32:18.318170Z"
    }
   },
   "outputs": [],
   "source": [
    "### make vertices from grid centers (for pcolormesh)\n",
    "x = np.arange(4).astype(float)\n",
    "y = np.arange(4).astype(float)\n",
    "xx, yy = np.meshgrid(x, y, indexing='ij')\n",
    "zz = xx + yy\n",
    "\n",
    "xx"
   ]
  },
  {
   "cell_type": "code",
   "execution_count": null,
   "metadata": {
    "ExecuteTime": {
     "end_time": "2018-12-28T10:47:32.514785Z",
     "start_time": "2018-12-28T10:47:32.498804Z"
    }
   },
   "outputs": [],
   "source": [
    "def centers2edges_2d(centers):\n",
    "    \"\"\"\n",
    "    Given a 2d array of coordinates, return the array of bounding vertices for\n",
    "    the mesh that is defined by the coordinates.\n",
    "    This is useful for methods like pcolor(mesh).\n",
    "    Done by very simple linear interpolation.\n",
    "    \n",
    "    To illustrate: if x are the centers, we return the inferred o's:\n",
    "\n",
    "    o   o   o   o\n",
    "      x---x---x\n",
    "    o | o | o | o\n",
    "      x---x---x\n",
    "    o   o   o   o\n",
    "    \"\"\"\n",
    "    shp = centers.shape\n",
    "    edges = np.zeros((shp[0]+1, shp[1]+1))\n",
    "    \n",
    "    # the central vertices are easy -- follow just from the means of the neighboring centers\n",
    "    center = (centers[1:,1:] + centers[:-1,:-1] + centers[:-1,1:] + centers[1:,:-1])/4.\n",
    "    edges[1:-1, 1:-1] = center\n",
    "    \n",
    "    # for the outer edges we just make the vertices such that the points are pretty much in the center\n",
    "    # first average over neighbor centers to get the 'vertical' right\n",
    "    _left = (centers[0,1:] + centers[0,:-1])/2.\n",
    "    # then extrapolate to the left of the centers\n",
    "    left = 2 * _left - center[0,:]\n",
    "    edges[0, 1:-1] = left\n",
    "    \n",
    "    # and same for the other three sides\n",
    "    _right = (centers[-1,1:] + centers[-1,:-1])/2.\n",
    "    right = 2 * _right - center[-1,:]\n",
    "    edges[-1, 1:-1] = right\n",
    "    \n",
    "    _top = (centers[1:,0] + centers[:-1,0])/2.\n",
    "    top = 2 * _top - center[:,0]\n",
    "    edges[1:-1, 0] = top\n",
    "    \n",
    "    _bottom = (centers[1:,-1] + centers[:-1,-1])/2.\n",
    "    bottom = 2 * _bottom - center[:,-1]\n",
    "    edges[1:-1, -1] = bottom\n",
    "    \n",
    "    # only thing remaining now is the corners of the grid.\n",
    "    # this is a bit simplistic, but will be fine for now.\n",
    "    # (mirror the vertex (1,1) of the diagonal at the outermost center)\n",
    "    edges[0,0] = 2 * centers[0,0] - edges[1,1]\n",
    "    edges[0,-1] = 2 * centers[0,-1] - edges[1,-2]\n",
    "    edges[-1,0] = 2 * centers[-1,0] - edges[-2,1]\n",
    "    edges[-1,-1] = 2 * centers[-1,-1] - edges[-2,-2]\n",
    "    \n",
    "    return edges"
   ]
  },
  {
   "cell_type": "markdown",
   "metadata": {
    "ExecuteTime": {
     "end_time": "2018-12-28T10:25:15.672069Z",
     "start_time": "2018-12-28T10:25:15.667082Z"
    }
   },
   "source": [
    "## Testing"
   ]
  },
  {
   "cell_type": "code",
   "execution_count": null,
   "metadata": {
    "ExecuteTime": {
     "end_time": "2018-12-28T11:09:18.413426Z",
     "start_time": "2018-12-28T11:09:18.385503Z"
    }
   },
   "outputs": [],
   "source": [
    "### make vertices from grid centers (for pcolormesh)\n",
    "x = np.arange(5, 15).astype(float)\n",
    "y = np.arange(-4, 5).astype(float)\n",
    "\n",
    "\n",
    "xx, yy = np.meshgrid(x, y, indexing='ij')\n",
    "zz = np.random.random(xx.shape)\n",
    "\n",
    "xx1d = xx.reshape(-1)\n",
    "yy1d = yy.reshape(-1)\n",
    "xx1d += (np.random.rand(xx1d.size)* 0.5 - 0.25)\n",
    "yy1d += (np.random.rand(yy1d.size)* 0.5 - 0.25)\n",
    "xx, yy = xx1d.reshape(xx.shape), yy1d.reshape(yy.shape)\n",
    "\n",
    "xx2 = centers2edges_2d(xx)\n",
    "yy2 = centers2edges_2d(yy)\n",
    "\n",
    "fig, ax = plt.subplots(1,1)\n",
    "ax.pcolormesh(xx2, yy2, zz)\n",
    "ax.plot(xx1d, yy1d, 'o', ms=4, mew=1, mec='k', mfc='w')"
   ]
  },
  {
   "cell_type": "code",
   "execution_count": null,
   "metadata": {
    "ExecuteTime": {
     "end_time": "2018-12-28T10:53:58.525017Z",
     "start_time": "2018-12-28T10:53:58.521028Z"
    }
   },
   "outputs": [],
   "source": []
  },
  {
   "cell_type": "code",
   "execution_count": null,
   "metadata": {
    "ExecuteTime": {
     "end_time": "2018-12-28T11:05:06.436213Z",
     "start_time": "2018-12-28T11:05:06.433213Z"
    }
   },
   "outputs": [],
   "source": []
  },
  {
   "cell_type": "code",
   "execution_count": null,
   "metadata": {},
   "outputs": [],
   "source": []
  }
 ],
 "metadata": {
  "kernelspec": {
   "display_name": "Python 3",
   "language": "python",
   "name": "python3"
  },
  "language_info": {
   "codemirror_mode": {
    "name": "ipython",
    "version": 3
   },
   "file_extension": ".py",
   "mimetype": "text/x-python",
   "name": "python",
   "nbconvert_exporter": "python",
   "pygments_lexer": "ipython3",
   "version": "3.6.7"
  },
  "toc": {
   "base_numbering": 1,
   "nav_menu": {},
   "number_sections": true,
   "sideBar": true,
   "skip_h1_title": false,
   "title_cell": "Table of Contents",
   "title_sidebar": "Contents",
   "toc_cell": false,
   "toc_position": {},
   "toc_section_display": true,
   "toc_window_display": false
  },
  "varInspector": {
   "cols": {
    "lenName": 16,
    "lenType": 16,
    "lenVar": 40
   },
   "kernels_config": {
    "python": {
     "delete_cmd_postfix": "",
     "delete_cmd_prefix": "del ",
     "library": "var_list.py",
     "varRefreshCmd": "print(var_dic_list())"
    },
    "r": {
     "delete_cmd_postfix": ") ",
     "delete_cmd_prefix": "rm(",
     "library": "var_list.r",
     "varRefreshCmd": "cat(var_dic_list()) "
    }
   },
   "types_to_exclude": [
    "module",
    "function",
    "builtin_function_or_method",
    "instance",
    "_Feature"
   ],
   "window_display": false
  }
 },
 "nbformat": 4,
 "nbformat_minor": 2
}
