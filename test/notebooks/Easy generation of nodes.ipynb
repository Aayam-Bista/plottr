{
 "cells": [
  {
   "cell_type": "code",
   "execution_count": null,
   "metadata": {
    "ExecuteTime": {
     "end_time": "2019-01-03T21:59:51.480114Z",
     "start_time": "2019-01-03T21:59:50.924Z"
    },
    "init_cell": true
   },
   "outputs": [],
   "source": [
    "%gui qt\n",
    "\n",
    "import copy\n",
    "import numpy as np\n",
    "\n",
    "from pyqtgraph.Qt import QtGui, QtCore\n",
    "\n",
    "from plottr.data import datadict as dd\n",
    "from plottr.node import node\n",
    "from plottr.apps.tools import make_sequential_flowchart, make_sequential_flowchart_with_gui"
   ]
  },
  {
   "cell_type": "code",
   "execution_count": null,
   "metadata": {},
   "outputs": [],
   "source": []
  },
  {
   "cell_type": "code",
   "execution_count": null,
   "metadata": {},
   "outputs": [],
   "source": []
  },
  {
   "cell_type": "code",
   "execution_count": 87,
   "metadata": {
    "ExecuteTime": {
     "end_time": "2019-01-04T14:53:32.461682Z",
     "start_time": "2019-01-04T14:53:32.437747Z"
    }
   },
   "outputs": [],
   "source": [
    "def err(*x):\n",
    "    raise ValueError(x)\n",
    "\n",
    "class AutoNodeGuiTemplate(node.NodeWidget):\n",
    "    \n",
    "    optionToNode = QtCore.pyqtSignal(object)\n",
    "    allOptionsToNode = QtCore.pyqtSignal(object)\n",
    "    \n",
    "    def __init__(self, parent=None):\n",
    "        super().__init__(parent)\n",
    "        self.layout = QtGui.QFormLayout()\n",
    "        self.setLayout(self.layout)\n",
    "        \n",
    "        self.optGetters = {}\n",
    "        self.optSetters = {}\n",
    "    \n",
    "    def getAllOptions(self):\n",
    "        ret = {}\n",
    "        for n, f in self.optGetters.items():\n",
    "            ret[n] = f()\n",
    "            \n",
    "        return ret\n",
    "    \n",
    "    def addOption(self, name, specs, confirm=True):\n",
    "        optType = specs.get('type', None)\n",
    "        widget = None\n",
    "        \n",
    "        if optType == int:\n",
    "            widget = QtGui.QSpinBox()\n",
    "            widget.setValue(specs.get('initialValue', 1))\n",
    "            if not confirm:\n",
    "                widget.valueChanged.connect(lambda x: self.optionChangeWrapper(name, x))\n",
    "            self.optGetters[name] = widget.value\n",
    "            self.optSetters[name] = widget.setValue\n",
    "            \n",
    "        elif optType == float:\n",
    "            widget = QtGui.QDoubleSpinBox()\n",
    "            widget.setValue(specs.get('initialValue', 1))\n",
    "            if not confirm:\n",
    "                widget.valueChanged.connect(lambda x: self.optionChangeWrapper(name, x))\n",
    "            self.optGetters[name] = widget.value\n",
    "            self.optSetters[name] = widget.setValue\n",
    "            \n",
    "        elif optType == str:\n",
    "            widget = QtGui.QLineEdit()\n",
    "            widget.setText(specs.get('initialValue', ''))\n",
    "            if not confirm:\n",
    "                widget.textChanged.connect(lambda x: self.optionChangeWrapper(name, x))\n",
    "            self.optGetters[name] = widget.text\n",
    "            self.optSetters[name] = widget.setText\n",
    "            \n",
    "        if widget is not None:\n",
    "            self.layout.addRow(name, widget)\n",
    "            \n",
    "    \n",
    "    def addConfirm(self):\n",
    "        widget = QtGui.QPushButton('Confirm')\n",
    "        widget.pressed.connect(self.allOptionsWrapper)\n",
    "        self.layout.addRow('', widget)\n",
    "    \n",
    "    @node.NodeWidget.emitGuiUpdate('optionToNode')\n",
    "    def optionChangeWrapper(self, name, value):\n",
    "        return name, value\n",
    "    \n",
    "    @node.NodeWidget.emitGuiUpdate('allOptionsToNode')\n",
    "    def allOptionsWrapper(self):\n",
    "        return self.getAllOptions()\n",
    "    \n",
    "    @node.NodeWidget.updateGuiFromNode\n",
    "    def setOptionFromNode(self, opt, value):\n",
    "        self.optSetters[opt](value)\n",
    "        \n",
    "\n",
    "class AutoNodeTemplate(node.Node):\n",
    "    \n",
    "    def processOptionUpdate(self, optName, value):\n",
    "        if self.ui is not None and optName in self.ui.optSetters:\n",
    "            self.ui.optSetters[optName](value)\n",
    "    \n",
    "    def __init__(self, name):\n",
    "        super().__init__(name)\n",
    "        \n",
    "        self.opts = []\n",
    "\n",
    "        self.ui.optionToNode.connect(self.setOptionFromUi)\n",
    "        self.ui.allOptionsToNode.connect(self.setAllOptionsFromUi)\n",
    "    \n",
    "    def addOption(self, name, specs):\n",
    "        # create setter and getter function\n",
    "        varname = '_'+name\n",
    "        setattr(self, varname, specs.get(\"initialValue\", None))\n",
    "        \n",
    "        def getter(self):\n",
    "            return getattr(self, varname)\n",
    "        \n",
    "        @node.Node.updateOption(name)\n",
    "        def setter(self, val):\n",
    "            setattr(self, varname, val)\n",
    "        \n",
    "        setattr(self.__class__, name, property(getter, setter))\n",
    "        \n",
    "        self.opts.append(name)\n",
    "        \n",
    "    def setOptionFromUi(self, nameAndVal):\n",
    "        name, val = nameAndVal\n",
    "        setattr(self, name, val)\n",
    "        \n",
    "    def setAllOptionsFromUi(self, opts):\n",
    "        for opt, val in opts.items():\n",
    "            setattr(self, opt, val)    \n",
    "        \n",
    "\n",
    "def autoNode(nodeName, confirm=True, **options):\n",
    "    \n",
    "    def decorator(func):\n",
    "        \n",
    "        class AutoNodeGui(AutoNodeGuiTemplate):\n",
    "            \n",
    "            optionChanged = QtCore.pyqtSignal(str, object)\n",
    "            \n",
    "            def __init__(self, parent=None):\n",
    "                super().__init__(parent)\n",
    "                for optName, optSpecs in options.items():\n",
    "                    self.addOption(optName, optSpecs, confirm=confirm)\n",
    "                \n",
    "                if confirm:\n",
    "                    self.addConfirm()\n",
    "                    \n",
    "        \n",
    "        class AutoNode(AutoNodeTemplate):\n",
    "            def __init__(self, name):\n",
    "                super().__init__(name)\n",
    "                for optName, optSpecs in options.items():\n",
    "                    self.addOption(optName, optSpecs)\n",
    "        \n",
    "        AutoNode.__name__ = nodeName\n",
    "        AutoNode.nodeName = nodeName\n",
    "        AutoNode.autoNodeOptions = options\n",
    "        AutoNode.process = func\n",
    "        \n",
    "        AutoNode.useUi = True\n",
    "        AutoNode.uiClass = AutoNodeGui\n",
    "            \n",
    "        return AutoNode\n",
    "    \n",
    "    return decorator\n",
    "\n",
    "\n",
    "@autoNode('Scaling',\n",
    "    confirm=True,\n",
    "    scalingFactor={'initialValue' : 1, 'type' : int},\n",
    "    offset={'initialValue' : 0, 'type' : float},\n",
    "    label={'initialValue' : 'scaled', 'type' : str},\n",
    ")\n",
    "def scaling(self, **data):\n",
    "    data = data['dataIn']\n",
    "    if data is None:\n",
    "        return None\n",
    "\n",
    "    data = copy.deepcopy(data)\n",
    "    for d in data.dependents():\n",
    "        data[d]['values'] -= self.offset\n",
    "        data[d]['values'] *= self.scalingFactor\n",
    "        if self.label != '':\n",
    "            data[d+'_'+self.label] = data.pop(d)\n",
    "        \n",
    "    return dict(dataOut=data)"
   ]
  },
  {
   "cell_type": "code",
   "execution_count": null,
   "metadata": {
    "ExecuteTime": {
     "end_time": "2019-01-02T21:58:32.793350Z",
     "start_time": "2019-01-02T21:58:32.790335Z"
    }
   },
   "outputs": [],
   "source": []
  },
  {
   "cell_type": "code",
   "execution_count": null,
   "metadata": {},
   "outputs": [],
   "source": []
  },
  {
   "cell_type": "code",
   "execution_count": null,
   "metadata": {},
   "outputs": [],
   "source": []
  },
  {
   "cell_type": "code",
   "execution_count": 88,
   "metadata": {
    "ExecuteTime": {
     "end_time": "2019-01-04T14:53:34.685071Z",
     "start_time": "2019-01-04T14:53:34.638073Z"
    }
   },
   "outputs": [],
   "source": [
    "nodes, fc, win = make_sequential_flowchart_with_gui([scaling])\n",
    "scalingNode = nodes[0]\n",
    "\n",
    "\n",
    "inputData = dd.DataDict(\n",
    "    x = dict(values=np.linspace(0, 10, 26), unit='A'),\n",
    "    y = dict(values=np.sin(np.linspace(0, 10, 26)), unit='B', axes=['x'])\n",
    ")\n",
    "\n",
    "fc.setInput(dataIn=inputData)"
   ]
  },
  {
   "cell_type": "code",
   "execution_count": 95,
   "metadata": {
    "ExecuteTime": {
     "end_time": "2019-01-04T15:04:32.065050Z",
     "start_time": "2019-01-04T15:04:32.060049Z"
    }
   },
   "outputs": [
    {
     "data": {
      "text/plain": [
       "{'dataOut': {'x': {'values': array([ 0. ,  0.4,  0.8,  1.2,  1.6,  2. ,  2.4,  2.8,  3.2,  3.6,  4. ,\n",
       "           4.4,  4.8,  5.2,  5.6,  6. ,  6.4,  6.8,  7.2,  7.6,  8. ,  8.4,\n",
       "           8.8,  9.2,  9.6, 10. ]), 'unit': 'A'},\n",
       "  'y_meh': {'values': array([ 0.        ,  1.16825503,  2.15206827,  2.79611726,  2.99872081,\n",
       "           2.72789228,  2.02638954,  1.00496445, -0.17512243, -1.32756133,\n",
       "          -2.27040749, -2.85480622, -2.98849383, -2.65036397, -1.89379991,\n",
       "          -0.83824649,  0.34964761,  1.48234005,  2.38100359,  2.90375902,\n",
       "           2.96807474,  2.56379672,  1.75475158,  0.66866974, -0.52298034,\n",
       "          -1.63206333]),\n",
       "   'unit': 'B',\n",
       "   'axes': ['x']}}}"
      ]
     },
     "execution_count": 95,
     "metadata": {},
     "output_type": "execute_result"
    }
   ],
   "source": [
    "fc.output()"
   ]
  },
  {
   "cell_type": "code",
   "execution_count": 92,
   "metadata": {
    "ExecuteTime": {
     "end_time": "2019-01-04T14:53:59.953357Z",
     "start_time": "2019-01-04T14:53:59.949368Z"
    }
   },
   "outputs": [],
   "source": [
    "scalingNode.scalingFactor = 3"
   ]
  },
  {
   "cell_type": "code",
   "execution_count": 94,
   "metadata": {
    "ExecuteTime": {
     "end_time": "2019-01-04T15:04:26.462928Z",
     "start_time": "2019-01-04T15:04:26.458923Z"
    }
   },
   "outputs": [],
   "source": [
    "scalingNode.label = 'meh'"
   ]
  },
  {
   "cell_type": "code",
   "execution_count": null,
   "metadata": {},
   "outputs": [],
   "source": []
  }
 ],
 "metadata": {
  "celltoolbar": "Initialization Cell",
  "kernelspec": {
   "display_name": "Python 3",
   "language": "python",
   "name": "python3"
  },
  "language_info": {
   "codemirror_mode": {
    "name": "ipython",
    "version": 3
   },
   "file_extension": ".py",
   "mimetype": "text/x-python",
   "name": "python",
   "nbconvert_exporter": "python",
   "pygments_lexer": "ipython3",
   "version": "3.6.7"
  },
  "toc": {
   "base_numbering": 1,
   "nav_menu": {},
   "number_sections": true,
   "sideBar": true,
   "skip_h1_title": false,
   "title_cell": "Table of Contents",
   "title_sidebar": "Contents",
   "toc_cell": false,
   "toc_position": {},
   "toc_section_display": true,
   "toc_window_display": false
  },
  "varInspector": {
   "cols": {
    "lenName": 16,
    "lenType": 16,
    "lenVar": 40
   },
   "kernels_config": {
    "python": {
     "delete_cmd_postfix": "",
     "delete_cmd_prefix": "del ",
     "library": "var_list.py",
     "varRefreshCmd": "print(var_dic_list())"
    },
    "r": {
     "delete_cmd_postfix": ") ",
     "delete_cmd_prefix": "rm(",
     "library": "var_list.r",
     "varRefreshCmd": "cat(var_dic_list()) "
    }
   },
   "types_to_exclude": [
    "module",
    "function",
    "builtin_function_or_method",
    "instance",
    "_Feature"
   ],
   "window_display": false
  }
 },
 "nbformat": 4,
 "nbformat_minor": 2
}
