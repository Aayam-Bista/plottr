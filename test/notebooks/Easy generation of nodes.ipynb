{
 "cells": [
  {
   "cell_type": "code",
   "execution_count": 8,
   "metadata": {
    "ExecuteTime": {
     "end_time": "2019-01-02T22:23:14.227574Z",
     "start_time": "2019-01-02T22:23:14.224586Z"
    },
    "init_cell": true
   },
   "outputs": [],
   "source": [
    "%gui qt\n",
    "\n",
    "import numpy as np\n",
    "\n",
    "from plottr.data import datadict as dd\n",
    "from plottr.node import node\n",
    "from plottr.apps.tools import make_sequential_flowchart, make_sequential_flowchart_with_gui"
   ]
  },
  {
   "cell_type": "code",
   "execution_count": null,
   "metadata": {},
   "outputs": [],
   "source": []
  },
  {
   "cell_type": "code",
   "execution_count": null,
   "metadata": {},
   "outputs": [],
   "source": []
  },
  {
   "cell_type": "code",
   "execution_count": 23,
   "metadata": {
    "ExecuteTime": {
     "end_time": "2019-01-02T22:30:41.489687Z",
     "start_time": "2019-01-02T22:30:41.480710Z"
    }
   },
   "outputs": [],
   "source": [
    "class AutoNodeGui(node.NodeWidget):\n",
    "    pass\n",
    "\n",
    "\n",
    "class AutoNodeTemplate(node.Node):\n",
    "    \n",
    "    def addOption(self, name, specs):\n",
    "        varname = '_'+name\n",
    "        setattr(self, varname, specs.get(\"initialValue\", None))\n",
    "        \n",
    "        def getter(self):\n",
    "            return getattr(self, varname)\n",
    "        \n",
    "        @node.Node.updateOption(name)\n",
    "        def setter(self, val):\n",
    "            setattr(self, varname, val)\n",
    "        \n",
    "        setattr(self.__class__, name, property(getter, setter))\n",
    "    \n",
    "    def __init__(self, name):\n",
    "        super().__init__(name)\n",
    "        \n",
    "\n",
    "def autoNode(nodeName, **options):\n",
    "    \n",
    "    def decorator(func):\n",
    "        \n",
    "        class AutoNode(AutoNodeTemplate):\n",
    "            def __init__(self, name):\n",
    "                super().__init__(name)\n",
    "                for optName, optSpecs in options.items():\n",
    "                    self.addOption(optName, optSpecs)\n",
    "        \n",
    "        AutoNode.__name__ = nodeName\n",
    "        AutoNode.nodeName = nodeName\n",
    "        AutoNode.autoNodeOptions = options\n",
    "        AutoNode.process = func\n",
    "        \n",
    "        return AutoNode\n",
    "    \n",
    "    return decorator\n",
    "\n",
    "\n",
    "@autoNode('MultiplierNode',\n",
    "    multiplicationFactor={'initialValue' : 5, 'type' : int}\n",
    ")\n",
    "def multiply(self, **data):\n",
    "    data = data['dataIn']\n",
    "    print('process in', self.__class__)\n",
    "    ret = data * self.multiplicationFactor\n",
    "    print('about to return:', ret)\n",
    "    return dict(dataOut=ret)"
   ]
  },
  {
   "cell_type": "code",
   "execution_count": null,
   "metadata": {
    "ExecuteTime": {
     "end_time": "2019-01-02T21:58:32.793350Z",
     "start_time": "2019-01-02T21:58:32.790335Z"
    }
   },
   "outputs": [],
   "source": []
  },
  {
   "cell_type": "code",
   "execution_count": null,
   "metadata": {},
   "outputs": [],
   "source": []
  },
  {
   "cell_type": "code",
   "execution_count": null,
   "metadata": {},
   "outputs": [],
   "source": []
  },
  {
   "cell_type": "code",
   "execution_count": 27,
   "metadata": {
    "ExecuteTime": {
     "end_time": "2019-01-02T22:30:58.367614Z",
     "start_time": "2019-01-02T22:30:58.342692Z"
    }
   },
   "outputs": [
    {
     "name": "stdout",
     "output_type": "stream",
     "text": [
      "process in <class '__main__.autoNode.<locals>.decorator.<locals>.AutoNode'>\n",
      "about to return: [ 0  5 10]\n"
     ]
    }
   ],
   "source": [
    "nodes, fc = make_sequential_flowchart([multiply])\n",
    "multiplicationNode = nodes[0]\n",
    "fc.setInput(dataIn=np.arange(3))"
   ]
  },
  {
   "cell_type": "code",
   "execution_count": 29,
   "metadata": {
    "ExecuteTime": {
     "end_time": "2019-01-02T22:31:10.631271Z",
     "start_time": "2019-01-02T22:31:10.626285Z"
    }
   },
   "outputs": [
    {
     "name": "stdout",
     "output_type": "stream",
     "text": [
      "process in <class '__main__.autoNode.<locals>.decorator.<locals>.AutoNode'>\n",
      "about to return: [ 0 10 20]\n"
     ]
    }
   ],
   "source": [
    "multiplicationNode.multiplicationFactor = 10"
   ]
  },
  {
   "cell_type": "code",
   "execution_count": 31,
   "metadata": {
    "ExecuteTime": {
     "end_time": "2019-01-02T22:31:34.556697Z",
     "start_time": "2019-01-02T22:31:34.552707Z"
    }
   },
   "outputs": [
    {
     "data": {
      "text/plain": [
       "{'dataOut': array([ 0, 10, 20])}"
      ]
     },
     "execution_count": 31,
     "metadata": {},
     "output_type": "execute_result"
    }
   ],
   "source": [
    "fc.output()"
   ]
  },
  {
   "cell_type": "code",
   "execution_count": 14,
   "metadata": {
    "ExecuteTime": {
     "end_time": "2019-01-02T22:23:40.577425Z",
     "start_time": "2019-01-02T22:23:40.572439Z"
    }
   },
   "outputs": [
    {
     "name": "stdout",
     "output_type": "stream",
     "text": [
      "process in <class '__main__.autoNode.<locals>.decorator.<locals>.AutoNode'>\n",
      "about to return: [ 0  5 10]\n"
     ]
    }
   ],
   "source": []
  },
  {
   "cell_type": "code",
   "execution_count": 30,
   "metadata": {
    "ExecuteTime": {
     "end_time": "2019-01-02T22:31:28.198117Z",
     "start_time": "2019-01-02T22:31:28.193108Z"
    }
   },
   "outputs": [
    {
     "data": {
      "text/plain": [
       "{'dataOut': array([ 0, 10, 20])}"
      ]
     },
     "execution_count": 30,
     "metadata": {},
     "output_type": "execute_result"
    }
   ],
   "source": []
  },
  {
   "cell_type": "code",
   "execution_count": 17,
   "metadata": {
    "ExecuteTime": {
     "end_time": "2019-01-02T22:24:46.549077Z",
     "start_time": "2019-01-02T22:24:46.545088Z"
    }
   },
   "outputs": [
    {
     "data": {
      "text/plain": [
       "{'dataIn': array([0, 1, 2])}"
      ]
     },
     "execution_count": 17,
     "metadata": {},
     "output_type": "execute_result"
    }
   ],
   "source": [
    "multiplicationNode.inputValues()"
   ]
  },
  {
   "cell_type": "code",
   "execution_count": 18,
   "metadata": {
    "ExecuteTime": {
     "end_time": "2019-01-02T22:24:53.638953Z",
     "start_time": "2019-01-02T22:24:53.634964Z"
    }
   },
   "outputs": [
    {
     "data": {
      "text/plain": [
       "{'dataOut': array([ 0,  5, 10])}"
      ]
     },
     "execution_count": 18,
     "metadata": {},
     "output_type": "execute_result"
    }
   ],
   "source": [
    "multiplicationNode.outputValues()"
   ]
  },
  {
   "cell_type": "code",
   "execution_count": 21,
   "metadata": {
    "ExecuteTime": {
     "end_time": "2019-01-02T22:29:12.820491Z",
     "start_time": "2019-01-02T22:29:12.815504Z"
    }
   },
   "outputs": [
    {
     "name": "stdout",
     "output_type": "stream",
     "text": [
      "process in <class '__main__.autoNode.<locals>.decorator.<locals>.AutoNode'>\n",
      "about to return: [0 1 2]\n"
     ]
    }
   ],
   "source": [
    "multiplicationNode.update()"
   ]
  },
  {
   "cell_type": "code",
   "execution_count": 38,
   "metadata": {
    "ExecuteTime": {
     "end_time": "2019-01-02T22:34:50.422207Z",
     "start_time": "2019-01-02T22:34:50.419222Z"
    }
   },
   "outputs": [
    {
     "data": {
      "text/plain": [
       "True"
      ]
     },
     "execution_count": 38,
     "metadata": {},
     "output_type": "execute_result"
    }
   ],
   "source": [
    "issubclass(multiply, AutoNodeTemplate)"
   ]
  },
  {
   "cell_type": "code",
   "execution_count": null,
   "metadata": {},
   "outputs": [],
   "source": []
  }
 ],
 "metadata": {
  "celltoolbar": "Initialization Cell",
  "kernelspec": {
   "display_name": "Python 3",
   "language": "python",
   "name": "python3"
  },
  "language_info": {
   "codemirror_mode": {
    "name": "ipython",
    "version": 3
   },
   "file_extension": ".py",
   "mimetype": "text/x-python",
   "name": "python",
   "nbconvert_exporter": "python",
   "pygments_lexer": "ipython3",
   "version": "3.6.7"
  },
  "toc": {
   "base_numbering": 1,
   "nav_menu": {},
   "number_sections": true,
   "sideBar": true,
   "skip_h1_title": false,
   "title_cell": "Table of Contents",
   "title_sidebar": "Contents",
   "toc_cell": false,
   "toc_position": {},
   "toc_section_display": true,
   "toc_window_display": false
  },
  "varInspector": {
   "cols": {
    "lenName": 16,
    "lenType": 16,
    "lenVar": 40
   },
   "kernels_config": {
    "python": {
     "delete_cmd_postfix": "",
     "delete_cmd_prefix": "del ",
     "library": "var_list.py",
     "varRefreshCmd": "print(var_dic_list())"
    },
    "r": {
     "delete_cmd_postfix": ") ",
     "delete_cmd_prefix": "rm(",
     "library": "var_list.r",
     "varRefreshCmd": "cat(var_dic_list()) "
    }
   },
   "types_to_exclude": [
    "module",
    "function",
    "builtin_function_or_method",
    "instance",
    "_Feature"
   ],
   "window_display": false
  }
 },
 "nbformat": 4,
 "nbformat_minor": 2
}
