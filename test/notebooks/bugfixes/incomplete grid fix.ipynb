{
 "cells": [
  {
   "cell_type": "code",
   "execution_count": 1,
   "metadata": {
    "ExecuteTime": {
     "end_time": "2019-01-28T11:44:18.448048Z",
     "start_time": "2019-01-28T11:44:18.081315Z"
    }
   },
   "outputs": [],
   "source": [
    "import numpy as np\n",
    "\n",
    "from plottr.utils import num, misc\n",
    "from plottr.data.datadict import DataDict, datadict_to_meshgrid"
   ]
  },
  {
   "cell_type": "code",
   "execution_count": null,
   "metadata": {},
   "outputs": [],
   "source": []
  },
  {
   "cell_type": "code",
   "execution_count": 2,
   "metadata": {
    "ExecuteTime": {
     "end_time": "2019-01-28T11:44:18.470523Z",
     "start_time": "2019-01-28T11:44:18.448048Z"
    }
   },
   "outputs": [],
   "source": [
    "a = np.arange(5)\n",
    "aa, bb = np.meshgrid(a, a, indexing='ij')"
   ]
  },
  {
   "cell_type": "code",
   "execution_count": 3,
   "metadata": {
    "ExecuteTime": {
     "end_time": "2019-01-28T11:44:18.486147Z",
     "start_time": "2019-01-28T11:44:18.470523Z"
    }
   },
   "outputs": [
    {
     "data": {
      "text/plain": [
       "(23, 5)"
      ]
     },
     "execution_count": 3,
     "metadata": {},
     "output_type": "execute_result"
    }
   ],
   "source": [
    "a = aa.reshape(-1)[:-2]\n",
    "b = bb.reshape(-1)[:-2]\n",
    "\n",
    "num.find_direction_period(a), num.find_direction_period(b, ignore_last=True)"
   ]
  },
  {
   "cell_type": "code",
   "execution_count": 4,
   "metadata": {
    "ExecuteTime": {
     "end_time": "2019-01-28T11:44:18.517390Z",
     "start_time": "2019-01-28T11:44:18.486147Z"
    }
   },
   "outputs": [
    {
     "name": "stdout",
     "output_type": "stream",
     "text": [
      "[5 5] 25 23\n"
     ]
    },
    {
     "data": {
      "text/plain": [
       "(['a', 'b'], (5, 5))"
      ]
     },
     "execution_count": 4,
     "metadata": {},
     "output_type": "execute_result"
    }
   ],
   "source": [
    "num.guess_grid_from_sweep_direction(a=a, b=b)"
   ]
  },
  {
   "cell_type": "code",
   "execution_count": 8,
   "metadata": {
    "ExecuteTime": {
     "end_time": "2019-01-28T11:45:17.977614Z",
     "start_time": "2019-01-28T11:45:17.940136Z"
    }
   },
   "outputs": [
    {
     "data": {
      "text/plain": [
       "True"
      ]
     },
     "execution_count": 8,
     "metadata": {},
     "output_type": "execute_result"
    }
   ],
   "source": [
    "dd = DataDict(\n",
    "    a = dict(values=a),\n",
    "    b = dict(values=b),\n",
    "    c = dict(values=a*b, axes=['a', 'b']),\n",
    ")\n",
    "dd.validate()"
   ]
  },
  {
   "cell_type": "code",
   "execution_count": 9,
   "metadata": {
    "ExecuteTime": {
     "end_time": "2019-01-28T11:45:24.946689Z",
     "start_time": "2019-01-28T11:45:24.918037Z"
    }
   },
   "outputs": [
    {
     "name": "stdout",
     "output_type": "stream",
     "text": [
      "[5 5] 25 23\n"
     ]
    },
    {
     "data": {
      "text/plain": [
       "{'a': {'axes': [], 'unit': '', 'values': array([[0, 0, 0, 0, 0],\n",
       "         [1, 1, 1, 1, 1],\n",
       "         [2, 2, 2, 2, 2],\n",
       "         [3, 3, 3, 3, 3],\n",
       "         [4, 4, 4, None, None]], dtype=object)},\n",
       " 'b': {'axes': [], 'unit': '', 'values': array([[0, 1, 2, 3, 4],\n",
       "         [0, 1, 2, 3, 4],\n",
       "         [0, 1, 2, 3, 4],\n",
       "         [0, 1, 2, 3, 4],\n",
       "         [0, 1, 2, None, None]], dtype=object)},\n",
       " 'c': {'axes': ['a', 'b'], 'unit': '', 'values': array([[0, 0, 0, 0, 0],\n",
       "         [0, 1, 2, 3, 4],\n",
       "         [0, 2, 4, 6, 8],\n",
       "         [0, 3, 6, 9, 12],\n",
       "         [0, 4, 8, None, None]], dtype=object)}}"
      ]
     },
     "execution_count": 9,
     "metadata": {},
     "output_type": "execute_result"
    }
   ],
   "source": [
    "datadict_to_meshgrid(dd)"
   ]
  },
  {
   "cell_type": "code",
   "execution_count": null,
   "metadata": {},
   "outputs": [],
   "source": []
  },
  {
   "cell_type": "code",
   "execution_count": null,
   "metadata": {},
   "outputs": [],
   "source": []
  },
  {
   "cell_type": "code",
   "execution_count": null,
   "metadata": {},
   "outputs": [],
   "source": []
  },
  {
   "cell_type": "code",
   "execution_count": null,
   "metadata": {},
   "outputs": [],
   "source": []
  },
  {
   "cell_type": "code",
   "execution_count": null,
   "metadata": {},
   "outputs": [],
   "source": []
  }
 ],
 "metadata": {
  "kernelspec": {
   "display_name": "Python 3",
   "language": "python",
   "name": "python3"
  },
  "language_info": {
   "codemirror_mode": {
    "name": "ipython",
    "version": 3
   },
   "file_extension": ".py",
   "mimetype": "text/x-python",
   "name": "python",
   "nbconvert_exporter": "python",
   "pygments_lexer": "ipython3",
   "version": "3.6.7"
  },
  "toc": {
   "base_numbering": 1,
   "nav_menu": {},
   "number_sections": true,
   "sideBar": true,
   "skip_h1_title": false,
   "title_cell": "Table of Contents",
   "title_sidebar": "Contents",
   "toc_cell": false,
   "toc_position": {},
   "toc_section_display": true,
   "toc_window_display": false
  }
 },
 "nbformat": 4,
 "nbformat_minor": 2
}
