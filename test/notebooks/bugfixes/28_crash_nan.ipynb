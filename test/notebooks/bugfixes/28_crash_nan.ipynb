{
 "cells": [
  {
   "cell_type": "code",
   "execution_count": 1,
   "metadata": {
    "ExecuteTime": {
     "end_time": "2019-01-29T19:41:11.692404Z",
     "start_time": "2019-01-29T19:41:10.381468Z"
    }
   },
   "outputs": [],
   "source": [
    "DBPATH = './28_test.db'\n",
    "\n",
    "import time\n",
    "import numpy as np\n",
    "\n",
    "import qcodes as qc\n",
    "from qcodes import load_or_create_experiment, Measurement, Parameter\n",
    "\n",
    "qc.config.core.db_location = DBPATH\n",
    "qc.initialise_database()\n",
    "\n",
    "from pytopo.sweep import sweep"
   ]
  },
  {
   "cell_type": "code",
   "execution_count": null,
   "metadata": {},
   "outputs": [],
   "source": []
  },
  {
   "cell_type": "code",
   "execution_count": null,
   "metadata": {
    "ExecuteTime": {
     "end_time": "2019-01-28T19:09:09.339258Z",
     "start_time": "2019-01-28T19:09:09.335268Z"
    },
    "deletable": false,
    "editable": false
   },
   "outputs": [],
   "source": [
    "x = Parameter('x')\n",
    "y = Parameter('y')\n",
    "z = Parameter('z')\n",
    "data = Parameter('data')\n",
    "\n",
    "station = qc.Station(x, y, z, data)"
   ]
  },
  {
   "cell_type": "code",
   "execution_count": null,
   "metadata": {
    "ExecuteTime": {
     "end_time": "2019-01-28T19:09:41.726465Z",
     "start_time": "2019-01-28T19:09:11.363082Z"
    },
    "deletable": false,
    "editable": false
   },
   "outputs": [],
   "source": [
    "xvals = np.arange(5).astype(float)\n",
    "yvals = np.arange(5).astype(float)\n",
    "zvals = np.arange(5).astype(float)\n",
    "xx, yy, zz = np.meshgrid(xvals, yvals, zvals, indexing='ij')\n",
    "dd = xx + yy + zz\n",
    "\n",
    "def soft_3d_sweep():\n",
    "    for x, y, z, data in zip(xx.reshape(-1), yy.reshape(-1), zz.reshape(-1), dd.reshape(-1)):\n",
    "        yield x, y, z, data\n",
    "\n",
    "exp = load_or_create_experiment('soft_3d_sweep_test', sample_name='no sample')\n",
    "\n",
    "meas = Measurement(exp, station)\n",
    "meas.register_parameter(x)\n",
    "meas.register_parameter(y)\n",
    "meas.register_parameter(z)\n",
    "meas.register_parameter(data, setpoints=(x, y, z))\n",
    "meas.write_period = 2\n",
    "\n",
    "with meas.run() as datasaver:\n",
    "    for xval, yval, zval, dataval in soft_3d_sweep():\n",
    "        print(f\"x = {xval}, y = {yval}, z={zval} {10*' '}\", end='\\r')\n",
    "        datasaver.add_result(\n",
    "            (x, xval),\n",
    "            (y, yval),\n",
    "            (z, zval),\n",
    "            (data, dataval),\n",
    "        )\n",
    "        time.sleep(0.5)"
   ]
  },
  {
   "cell_type": "code",
   "execution_count": null,
   "metadata": {},
   "outputs": [],
   "source": []
  },
  {
   "cell_type": "code",
   "execution_count": 5,
   "metadata": {
    "ExecuteTime": {
     "end_time": "2019-01-29T19:42:24.792138Z",
     "start_time": "2019-01-29T19:42:24.789122Z"
    }
   },
   "outputs": [],
   "source": [
    "from plottr.data.qcodes_dataset import datadict_from_path_and_run_id\n",
    "from plottr.data.datadict import datadict_to_meshgrid"
   ]
  },
  {
   "cell_type": "code",
   "execution_count": 6,
   "metadata": {
    "ExecuteTime": {
     "end_time": "2019-01-29T19:42:35.944227Z",
     "start_time": "2019-01-29T19:42:35.935251Z"
    }
   },
   "outputs": [],
   "source": [
    "data = datadict_from_path_and_run_id(DBPATH, run_id=4)\n",
    "data = datadict_to_meshgrid(data)"
   ]
  },
  {
   "cell_type": "code",
   "execution_count": 7,
   "metadata": {
    "ExecuteTime": {
     "end_time": "2019-01-29T19:42:37.691309Z",
     "start_time": "2019-01-29T19:42:37.685325Z"
    }
   },
   "outputs": [
    {
     "data": {
      "text/plain": [
       "{'data': {'unit': '',\n",
       "  'axes': ['x', 'y', 'z'],\n",
       "  'values': array([[[0, 1, 2, 3, 4],\n",
       "          [1, 2, 3, 4, 5],\n",
       "          [2, 3, 4, 5, 6],\n",
       "          [3, 4, 5, 6, 7],\n",
       "          [4, 5, 6, 7, 8]],\n",
       "  \n",
       "         [[1, 2, 3, 4, 5],\n",
       "          [2, 3, 4, 5, 6],\n",
       "          [3, 4, 5, 6, 7],\n",
       "          [4, 5, 6, 7, 8],\n",
       "          [5, 6, 7, 8, 9]],\n",
       "  \n",
       "         [[2, 3, 4, 5, 6],\n",
       "          [None, None, None, None, None],\n",
       "          [None, None, None, None, None],\n",
       "          [None, None, None, None, None],\n",
       "          [None, None, None, None, None]]], dtype=object)},\n",
       " 'x': {'unit': '', 'axes': [], 'values': array([[[0, 0, 0, 0, 0],\n",
       "          [0, 0, 0, 0, 0],\n",
       "          [0, 0, 0, 0, 0],\n",
       "          [0, 0, 0, 0, 0],\n",
       "          [0, 0, 0, 0, 0]],\n",
       "  \n",
       "         [[1, 1, 1, 1, 1],\n",
       "          [1, 1, 1, 1, 1],\n",
       "          [1, 1, 1, 1, 1],\n",
       "          [1, 1, 1, 1, 1],\n",
       "          [1, 1, 1, 1, 1]],\n",
       "  \n",
       "         [[2, 2, 2, 2, 2],\n",
       "          [None, None, None, None, None],\n",
       "          [None, None, None, None, None],\n",
       "          [None, None, None, None, None],\n",
       "          [None, None, None, None, None]]], dtype=object)},\n",
       " 'y': {'unit': '', 'axes': [], 'values': array([[[0, 0, 0, 0, 0],\n",
       "          [1, 1, 1, 1, 1],\n",
       "          [2, 2, 2, 2, 2],\n",
       "          [3, 3, 3, 3, 3],\n",
       "          [4, 4, 4, 4, 4]],\n",
       "  \n",
       "         [[0, 0, 0, 0, 0],\n",
       "          [1, 1, 1, 1, 1],\n",
       "          [2, 2, 2, 2, 2],\n",
       "          [3, 3, 3, 3, 3],\n",
       "          [4, 4, 4, 4, 4]],\n",
       "  \n",
       "         [[0, 0, 0, 0, 0],\n",
       "          [None, None, None, None, None],\n",
       "          [None, None, None, None, None],\n",
       "          [None, None, None, None, None],\n",
       "          [None, None, None, None, None]]], dtype=object)},\n",
       " 'z': {'unit': '', 'axes': [], 'values': array([[[0, 1, 2, 3, 4],\n",
       "          [0, 1, 2, 3, 4],\n",
       "          [0, 1, 2, 3, 4],\n",
       "          [0, 1, 2, 3, 4],\n",
       "          [0, 1, 2, 3, 4]],\n",
       "  \n",
       "         [[0, 1, 2, 3, 4],\n",
       "          [0, 1, 2, 3, 4],\n",
       "          [0, 1, 2, 3, 4],\n",
       "          [0, 1, 2, 3, 4],\n",
       "          [0, 1, 2, 3, 4]],\n",
       "  \n",
       "         [[0, 1, 2, 3, 4],\n",
       "          [None, None, None, None, None],\n",
       "          [None, None, None, None, None],\n",
       "          [None, None, None, None, None],\n",
       "          [None, None, None, None, None]]], dtype=object)}}"
      ]
     },
     "execution_count": 7,
     "metadata": {},
     "output_type": "execute_result"
    }
   ],
   "source": [
    "data"
   ]
  },
  {
   "cell_type": "code",
   "execution_count": null,
   "metadata": {},
   "outputs": [],
   "source": []
  }
 ],
 "metadata": {
  "kernelspec": {
   "display_name": "Python 3",
   "language": "python",
   "name": "python3"
  },
  "language_info": {
   "codemirror_mode": {
    "name": "ipython",
    "version": 3
   },
   "file_extension": ".py",
   "mimetype": "text/x-python",
   "name": "python",
   "nbconvert_exporter": "python",
   "pygments_lexer": "ipython3",
   "version": "3.6.7"
  },
  "toc": {
   "base_numbering": 1,
   "nav_menu": {},
   "number_sections": true,
   "sideBar": true,
   "skip_h1_title": false,
   "title_cell": "Table of Contents",
   "title_sidebar": "Contents",
   "toc_cell": false,
   "toc_position": {},
   "toc_section_display": true,
   "toc_window_display": false
  },
  "varInspector": {
   "cols": {
    "lenName": 16,
    "lenType": 16,
    "lenVar": 40
   },
   "kernels_config": {
    "python": {
     "delete_cmd_postfix": "",
     "delete_cmd_prefix": "del ",
     "library": "var_list.py",
     "varRefreshCmd": "print(var_dic_list())"
    },
    "r": {
     "delete_cmd_postfix": ") ",
     "delete_cmd_prefix": "rm(",
     "library": "var_list.r",
     "varRefreshCmd": "cat(var_dic_list()) "
    }
   },
   "types_to_exclude": [
    "module",
    "function",
    "builtin_function_or_method",
    "instance",
    "_Feature"
   ],
   "window_display": false
  }
 },
 "nbformat": 4,
 "nbformat_minor": 2
}
