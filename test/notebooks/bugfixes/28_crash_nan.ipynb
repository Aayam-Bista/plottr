{
 "cells": [
  {
   "cell_type": "code",
   "execution_count": 1,
   "metadata": {
    "ExecuteTime": {
     "end_time": "2019-01-28T19:09:08.664515Z",
     "start_time": "2019-01-28T19:09:07.544508Z"
    }
   },
   "outputs": [],
   "source": [
    "DBPATH = './28_test.db'\n",
    "\n",
    "import time\n",
    "import numpy as np\n",
    "\n",
    "import qcodes as qc\n",
    "from qcodes import load_or_create_experiment, Measurement, Parameter\n",
    "\n",
    "qc.config.core.db_location = DBPATH\n",
    "qc.initialise_database()\n",
    "\n",
    "from pytopo.sweep import sweep"
   ]
  },
  {
   "cell_type": "code",
   "execution_count": null,
   "metadata": {},
   "outputs": [],
   "source": []
  },
  {
   "cell_type": "code",
   "execution_count": 2,
   "metadata": {
    "ExecuteTime": {
     "end_time": "2019-01-28T19:09:09.339258Z",
     "start_time": "2019-01-28T19:09:09.335268Z"
    }
   },
   "outputs": [],
   "source": [
    "x = Parameter('x')\n",
    "y = Parameter('y')\n",
    "z = Parameter('z')\n",
    "data = Parameter('data')\n",
    "\n",
    "station = qc.Station(x, y, z, data)"
   ]
  },
  {
   "cell_type": "code",
   "execution_count": 3,
   "metadata": {
    "ExecuteTime": {
     "end_time": "2019-01-28T19:09:41.726465Z",
     "start_time": "2019-01-28T19:09:11.363082Z"
    }
   },
   "outputs": [
    {
     "name": "stdout",
     "output_type": "stream",
     "text": [
      "Starting experimental run with id: 4\n",
      "x = 2.0, y = 0.0, z=4.0           \r"
     ]
    },
    {
     "ename": "KeyboardInterrupt",
     "evalue": "",
     "output_type": "error",
     "traceback": [
      "\u001b[1;31m---------------------------------------------------------------------------\u001b[0m",
      "\u001b[1;31mKeyboardInterrupt\u001b[0m                         Traceback (most recent call last)",
      "\u001b[1;32m<ipython-input-3-7b23c8e7c10b>\u001b[0m in \u001b[0;36m<module>\u001b[1;34m\u001b[0m\n\u001b[0;32m     27\u001b[0m             \u001b[1;33m(\u001b[0m\u001b[0mdata\u001b[0m\u001b[1;33m,\u001b[0m \u001b[0mdataval\u001b[0m\u001b[1;33m)\u001b[0m\u001b[1;33m,\u001b[0m\u001b[1;33m\u001b[0m\u001b[1;33m\u001b[0m\u001b[0m\n\u001b[0;32m     28\u001b[0m         )\n\u001b[1;32m---> 29\u001b[1;33m         \u001b[0mtime\u001b[0m\u001b[1;33m.\u001b[0m\u001b[0msleep\u001b[0m\u001b[1;33m(\u001b[0m\u001b[1;36m0.5\u001b[0m\u001b[1;33m)\u001b[0m\u001b[1;33m\u001b[0m\u001b[1;33m\u001b[0m\u001b[0m\n\u001b[0m",
      "\u001b[1;31mKeyboardInterrupt\u001b[0m: "
     ]
    }
   ],
   "source": [
    "xvals = np.arange(5).astype(float)\n",
    "yvals = np.arange(5).astype(float)\n",
    "zvals = np.arange(5).astype(float)\n",
    "xx, yy, zz = np.meshgrid(xvals, yvals, zvals, indexing='ij')\n",
    "dd = xx + yy + zz\n",
    "\n",
    "def soft_3d_sweep():\n",
    "    for x, y, z, data in zip(xx.reshape(-1), yy.reshape(-1), zz.reshape(-1), dd.reshape(-1)):\n",
    "        yield x, y, z, data\n",
    "\n",
    "exp = load_or_create_experiment('soft_3d_sweep_test', sample_name='no sample')\n",
    "\n",
    "meas = Measurement(exp, station)\n",
    "meas.register_parameter(x)\n",
    "meas.register_parameter(y)\n",
    "meas.register_parameter(z)\n",
    "meas.register_parameter(data, setpoints=(x, y, z))\n",
    "meas.write_period = 2\n",
    "\n",
    "with meas.run() as datasaver:\n",
    "    for xval, yval, zval, dataval in soft_3d_sweep():\n",
    "        print(f\"x = {xval}, y = {yval}, z={zval} {10*' '}\", end='\\r')\n",
    "        datasaver.add_result(\n",
    "            (x, xval),\n",
    "            (y, yval),\n",
    "            (z, zval),\n",
    "            (data, dataval),\n",
    "        )\n",
    "        time.sleep(0.5)"
   ]
  },
  {
   "cell_type": "code",
   "execution_count": 21,
   "metadata": {
    "ExecuteTime": {
     "end_time": "2019-01-28T22:09:56.547945Z",
     "start_time": "2019-01-28T22:09:56.543955Z"
    }
   },
   "outputs": [],
   "source": [
    "import pandas as pd"
   ]
  },
  {
   "cell_type": "code",
   "execution_count": 37,
   "metadata": {
    "ExecuteTime": {
     "end_time": "2019-01-28T22:13:49.039594Z",
     "start_time": "2019-01-28T22:13:49.036599Z"
    }
   },
   "outputs": [],
   "source": [
    "arr = np.array([\n",
    "    [0, 0, 0],\n",
    "    [1, np.nan, np.nan],\n",
    "    [np.nan, np.nan, np.nan],\n",
    "])"
   ]
  },
  {
   "cell_type": "code",
   "execution_count": 43,
   "metadata": {
    "ExecuteTime": {
     "end_time": "2019-01-28T22:15:07.983815Z",
     "start_time": "2019-01-28T22:15:07.974861Z"
    }
   },
   "outputs": [
    {
     "data": {
      "text/html": [
       "<div>\n",
       "<style scoped>\n",
       "    .dataframe tbody tr th:only-of-type {\n",
       "        vertical-align: middle;\n",
       "    }\n",
       "\n",
       "    .dataframe tbody tr th {\n",
       "        vertical-align: top;\n",
       "    }\n",
       "\n",
       "    .dataframe thead th {\n",
       "        text-align: right;\n",
       "    }\n",
       "</style>\n",
       "<table border=\"1\" class=\"dataframe\">\n",
       "  <thead>\n",
       "    <tr style=\"text-align: right;\">\n",
       "      <th></th>\n",
       "      <th>0</th>\n",
       "      <th>1</th>\n",
       "      <th>2</th>\n",
       "    </tr>\n",
       "  </thead>\n",
       "  <tbody>\n",
       "    <tr>\n",
       "      <th>0</th>\n",
       "      <td>0.0</td>\n",
       "      <td>0.0</td>\n",
       "      <td>0.0</td>\n",
       "    </tr>\n",
       "    <tr>\n",
       "      <th>1</th>\n",
       "      <td>1.0</td>\n",
       "      <td>1.0</td>\n",
       "      <td>1.0</td>\n",
       "    </tr>\n",
       "    <tr>\n",
       "      <th>2</th>\n",
       "      <td>NaN</td>\n",
       "      <td>NaN</td>\n",
       "      <td>NaN</td>\n",
       "    </tr>\n",
       "  </tbody>\n",
       "</table>\n",
       "</div>"
      ],
      "text/plain": [
       "     0    1    2\n",
       "0  0.0  0.0  0.0\n",
       "1  1.0  1.0  1.0\n",
       "2  NaN  NaN  NaN"
      ]
     },
     "execution_count": 43,
     "metadata": {},
     "output_type": "execute_result"
    }
   ],
   "source": [
    "pd.DataFrame(arr).interpolate(axis=1, method='linear')"
   ]
  },
  {
   "cell_type": "code",
   "execution_count": 95,
   "metadata": {
    "ExecuteTime": {
     "end_time": "2019-01-29T07:49:01.289438Z",
     "start_time": "2019-01-29T07:49:01.283454Z"
    }
   },
   "outputs": [
    {
     "data": {
      "text/plain": [
       "masked_array(\n",
       "  data=[[0.0, 1.0, 2.0, --],\n",
       "        [4.0, 5.0, 6.0, --],\n",
       "        [8.0, 9.0, 10.0, --],\n",
       "        [--, --, --, --]],\n",
       "  mask=[[False, False, False,  True],\n",
       "        [False, False, False,  True],\n",
       "        [False, False, False,  True],\n",
       "        [ True,  True,  True,  True]],\n",
       "  fill_value=1e+20)"
      ]
     },
     "execution_count": 95,
     "metadata": {},
     "output_type": "execute_result"
    }
   ],
   "source": [
    "arr = np.arange(16.0).reshape(4,4)\n",
    "arr[-1] = np.nan\n",
    "arr[:,-1] = np.nan\n",
    "arr = np.ma.masked_invalid(arr)\n",
    "# arr.fill_value = np.nan\n",
    "arr"
   ]
  },
  {
   "cell_type": "code",
   "execution_count": 97,
   "metadata": {
    "ExecuteTime": {
     "end_time": "2019-01-29T07:49:13.926177Z",
     "start_time": "2019-01-29T07:49:13.921190Z"
    }
   },
   "outputs": [
    {
     "data": {
      "text/plain": [
       "masked_array(data=[1.0, 5.0, 9.0, --],\n",
       "             mask=[False, False, False,  True],\n",
       "       fill_value=1e+20)"
      ]
     },
     "execution_count": 97,
     "metadata": {},
     "output_type": "execute_result"
    }
   ],
   "source": [
    "np.mean(arr, axis=1)"
   ]
  },
  {
   "cell_type": "code",
   "execution_count": 103,
   "metadata": {
    "ExecuteTime": {
     "end_time": "2019-01-29T08:19:23.540366Z",
     "start_time": "2019-01-29T08:19:23.527389Z"
    }
   },
   "outputs": [
    {
     "ename": "AttributeError",
     "evalue": "'MaskedArray' object has no attribute 'toarray'",
     "output_type": "error",
     "traceback": [
      "\u001b[1;31m---------------------------------------------------------------------------\u001b[0m",
      "\u001b[1;31mAttributeError\u001b[0m                            Traceback (most recent call last)",
      "\u001b[1;32m<ipython-input-103-4ad6a60cc8ce>\u001b[0m in \u001b[0;36m<module>\u001b[1;34m\u001b[0m\n\u001b[1;32m----> 1\u001b[1;33m \u001b[0marr\u001b[0m\u001b[1;33m.\u001b[0m\u001b[0mtoarray\u001b[0m\u001b[1;33m(\u001b[0m\u001b[1;33m)\u001b[0m\u001b[1;33m\u001b[0m\u001b[1;33m\u001b[0m\u001b[0m\n\u001b[0m",
      "\u001b[1;31mAttributeError\u001b[0m: 'MaskedArray' object has no attribute 'toarray'"
     ]
    }
   ],
   "source": [
    "arr.toarray()"
   ]
  },
  {
   "cell_type": "code",
   "execution_count": null,
   "metadata": {},
   "outputs": [],
   "source": []
  }
 ],
 "metadata": {
  "kernelspec": {
   "display_name": "Python 3",
   "language": "python",
   "name": "python3"
  },
  "language_info": {
   "codemirror_mode": {
    "name": "ipython",
    "version": 3
   },
   "file_extension": ".py",
   "mimetype": "text/x-python",
   "name": "python",
   "nbconvert_exporter": "python",
   "pygments_lexer": "ipython3",
   "version": "3.6.7"
  },
  "toc": {
   "base_numbering": 1,
   "nav_menu": {},
   "number_sections": true,
   "sideBar": true,
   "skip_h1_title": false,
   "title_cell": "Table of Contents",
   "title_sidebar": "Contents",
   "toc_cell": false,
   "toc_position": {},
   "toc_section_display": true,
   "toc_window_display": false
  },
  "varInspector": {
   "cols": {
    "lenName": 16,
    "lenType": 16,
    "lenVar": 40
   },
   "kernels_config": {
    "python": {
     "delete_cmd_postfix": "",
     "delete_cmd_prefix": "del ",
     "library": "var_list.py",
     "varRefreshCmd": "print(var_dic_list())"
    },
    "r": {
     "delete_cmd_postfix": ") ",
     "delete_cmd_prefix": "rm(",
     "library": "var_list.r",
     "varRefreshCmd": "cat(var_dic_list()) "
    }
   },
   "types_to_exclude": [
    "module",
    "function",
    "builtin_function_or_method",
    "instance",
    "_Feature"
   ],
   "window_display": false
  }
 },
 "nbformat": 4,
 "nbformat_minor": 2
}
