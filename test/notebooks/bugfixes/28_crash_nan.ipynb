{
 "cells": [
  {
   "cell_type": "code",
   "execution_count": 1,
   "metadata": {
    "ExecuteTime": {
     "end_time": "2019-01-28T14:09:14.742891Z",
     "start_time": "2019-01-28T14:09:13.617573Z"
    }
   },
   "outputs": [],
   "source": [
    "DBPATH = './28_test.db'\n",
    "\n",
    "import time\n",
    "import numpy as np\n",
    "\n",
    "import qcodes as qc\n",
    "from qcodes import load_or_create_experiment, Measurement, Parameter\n",
    "\n",
    "qc.config.core.db_location = DBPATH\n",
    "qc.initialise_database()\n",
    "\n",
    "from pytopo.sweep import sweep"
   ]
  },
  {
   "cell_type": "code",
   "execution_count": null,
   "metadata": {
    "ExecuteTime": {
     "end_time": "2019-01-28T12:34:42.983814Z",
     "start_time": "2019-01-28T12:34:42.968205Z"
    }
   },
   "outputs": [],
   "source": [
    "# x = Parameter('x')\n",
    "# y = Parameter('y')\n",
    "# z = Parameter('z')\n",
    "# data = Parameter('data')\n",
    "\n",
    "# station = qc.Station(x, y, z, data)\n",
    "\n",
    "# xvals = np.arange(5)\n",
    "# yvals = np.arange(5)\n",
    "# zvals = np.arange(5)\n",
    "# xx, yy, zz = np.meshgrid(xvals, yvals, zvals, indexing='ij')\n",
    "# dd = xx + yy + zz\n",
    "\n",
    "# def soft_3d_sweep():\n",
    "#     for x, y, z, data in zip(xx.reshape(-1), yy.reshape(-1), zz.reshape(-1), dd.reshape(-1)):\n",
    "#         yield x, y, z, data\n",
    "\n",
    "# exp = load_or_create_experiment('soft_3d_sweep_test', sample_name='no sample')\n",
    "\n",
    "# meas = Measurement(exp, station)\n",
    "# meas.register_parameter(x)\n",
    "# meas.register_parameter(y)\n",
    "# meas.register_parameter(z)\n",
    "# meas.register_parameter(data, setpoints=(x, y, z))\n",
    "# meas.write_period = 2\n",
    "\n",
    "# with meas.run() as datasaver:\n",
    "#     for xval, yval, zval, dataval in soft_3d_sweep():\n",
    "#         print(f\"x = {xval}, y = {yval}, z={zval} {10*' '}\", end='\\r')\n",
    "#         datasaver.add_result(\n",
    "#             (x, xval),\n",
    "#             (y, yval),\n",
    "#             (z, zval),\n",
    "#             (data, dataval),\n",
    "#         )\n",
    "#         time.sleep(0.5)"
   ]
  },
  {
   "cell_type": "code",
   "execution_count": 2,
   "metadata": {
    "ExecuteTime": {
     "end_time": "2019-01-28T14:09:17.285872Z",
     "start_time": "2019-01-28T14:09:16.969696Z"
    }
   },
   "outputs": [],
   "source": [
    "from plottr.data.qcodes_dataset import datadict_from_path_and_run_id\n",
    "from plottr.utils import num, misc\n",
    "from plottr.data.datadict import DataDict, datadict_to_meshgrid"
   ]
  },
  {
   "cell_type": "code",
   "execution_count": null,
   "metadata": {
    "ExecuteTime": {
     "end_time": "2019-01-28T12:49:05.342708Z",
     "start_time": "2019-01-28T12:49:05.327047Z"
    }
   },
   "outputs": [],
   "source": [
    "data = datadict_from_path_and_run_id(\n",
    "    DBPATH, run_id=2,\n",
    ")"
   ]
  },
  {
   "cell_type": "code",
   "execution_count": null,
   "metadata": {
    "ExecuteTime": {
     "end_time": "2019-01-28T12:48:50.760805Z",
     "start_time": "2019-01-28T12:48:50.734649Z"
    }
   },
   "outputs": [],
   "source": [
    "# data"
   ]
  },
  {
   "cell_type": "code",
   "execution_count": null,
   "metadata": {
    "ExecuteTime": {
     "end_time": "2019-01-28T12:49:06.330222Z",
     "start_time": "2019-01-28T12:49:06.298981Z"
    }
   },
   "outputs": [],
   "source": [
    "num.guess_grid_from_sweep_direction(\n",
    "    x=data.data_vals('x'), y=data.data_vals('y'), z=data.data_vals('z')\n",
    ")"
   ]
  },
  {
   "cell_type": "code",
   "execution_count": null,
   "metadata": {
    "ExecuteTime": {
     "end_time": "2019-01-28T12:49:47.225495Z",
     "start_time": "2019-01-28T12:49:47.198451Z"
    }
   },
   "outputs": [],
   "source": [
    "x = data.data_vals('x')\n",
    "y = data.data_vals('y')\n",
    "z = data.data_vals('z')"
   ]
  },
  {
   "cell_type": "code",
   "execution_count": null,
   "metadata": {
    "ExecuteTime": {
     "end_time": "2019-01-28T12:51:51.792239Z",
     "start_time": "2019-01-28T12:51:51.776606Z"
    }
   },
   "outputs": [],
   "source": [
    "data2 = datadict_to_meshgrid(data)\n",
    "# dd"
   ]
  },
  {
   "cell_type": "code",
   "execution_count": null,
   "metadata": {
    "ExecuteTime": {
     "end_time": "2019-01-28T13:51:19.956679Z",
     "start_time": "2019-01-28T13:51:19.941363Z"
    }
   },
   "outputs": [],
   "source": [
    "xx = data2.data_vals('x').astype(float)\n",
    "yy = data2.data_vals('y').astype(float)\n",
    "zz = data2.data_vals('z').astype(float)\n",
    "dd = data2.data_vals('data').astype(float)"
   ]
  },
  {
   "cell_type": "code",
   "execution_count": null,
   "metadata": {
    "ExecuteTime": {
     "end_time": "2019-01-28T13:51:20.589302Z",
     "start_time": "2019-01-28T13:51:20.573792Z"
    }
   },
   "outputs": [],
   "source": [
    "dd"
   ]
  },
  {
   "cell_type": "code",
   "execution_count": null,
   "metadata": {
    "ExecuteTime": {
     "end_time": "2019-01-28T13:51:41.133052Z",
     "start_time": "2019-01-28T13:51:41.105262Z"
    }
   },
   "outputs": [],
   "source": [
    "dd.mean()"
   ]
  },
  {
   "cell_type": "code",
   "execution_count": null,
   "metadata": {
    "ExecuteTime": {
     "end_time": "2019-01-28T13:51:44.211457Z",
     "start_time": "2019-01-28T13:51:44.180215Z"
    }
   },
   "outputs": [],
   "source": [
    "np.array(['a', 1, 2, None]).astype(float)"
   ]
  },
  {
   "cell_type": "code",
   "execution_count": 13,
   "metadata": {
    "ExecuteTime": {
     "end_time": "2019-01-28T14:13:39.960677Z",
     "start_time": "2019-01-28T14:13:39.931340Z"
    }
   },
   "outputs": [],
   "source": [
    "arr = np.array(['a', 1, 2, None, 1.2, 1+1j])"
   ]
  },
  {
   "cell_type": "code",
   "execution_count": 14,
   "metadata": {
    "ExecuteTime": {
     "end_time": "2019-01-28T14:13:40.618422Z",
     "start_time": "2019-01-28T14:13:40.602798Z"
    }
   },
   "outputs": [
    {
     "data": {
      "text/plain": [
       "[str, int, int, NoneType, float, complex]"
      ]
     },
     "execution_count": 14,
     "metadata": {},
     "output_type": "execute_result"
    }
   ],
   "source": [
    "[type(a) for a in arr.reshape(-1)]"
   ]
  },
  {
   "cell_type": "code",
   "execution_count": 15,
   "metadata": {
    "ExecuteTime": {
     "end_time": "2019-01-28T14:13:41.289487Z",
     "start_time": "2019-01-28T14:13:41.257224Z"
    }
   },
   "outputs": [],
   "source": [
    "NUMTYPES = num.NUMTYPES\n",
    "\n",
    "def largest_numtype(arr):\n",
    "    types = {type(a) for a in arr.flatten()}\n",
    "    curidx = -1\n",
    "    for t in types:\n",
    "        if t in NUMTYPES:\n",
    "            idx = NUMTYPES.index(t) \n",
    "            if idx > curidx:\n",
    "                curidx = idx\n",
    "    return NUMTYPES[curidx]"
   ]
  },
  {
   "cell_type": "code",
   "execution_count": 16,
   "metadata": {
    "ExecuteTime": {
     "end_time": "2019-01-28T14:13:41.705954Z",
     "start_time": "2019-01-28T14:13:41.675501Z"
    }
   },
   "outputs": [
    {
     "data": {
      "text/plain": [
       "complex"
      ]
     },
     "execution_count": 16,
     "metadata": {},
     "output_type": "execute_result"
    }
   ],
   "source": [
    "largest_numtype(arr)"
   ]
  },
  {
   "cell_type": "code",
   "execution_count": 17,
   "metadata": {
    "ExecuteTime": {
     "end_time": "2019-01-28T14:15:27.342593Z",
     "start_time": "2019-01-28T14:15:27.315210Z"
    }
   },
   "outputs": [
    {
     "data": {
      "text/plain": [
       "type"
      ]
     },
     "execution_count": 17,
     "metadata": {},
     "output_type": "execute_result"
    }
   ],
   "source": [
    "type(np.dtype)"
   ]
  },
  {
   "cell_type": "code",
   "execution_count": null,
   "metadata": {},
   "outputs": [],
   "source": []
  }
 ],
 "metadata": {
  "kernelspec": {
   "display_name": "Python 3",
   "language": "python",
   "name": "python3"
  },
  "language_info": {
   "codemirror_mode": {
    "name": "ipython",
    "version": 3
   },
   "file_extension": ".py",
   "mimetype": "text/x-python",
   "name": "python",
   "nbconvert_exporter": "python",
   "pygments_lexer": "ipython3",
   "version": "3.6.7"
  },
  "toc": {
   "base_numbering": 1,
   "nav_menu": {},
   "number_sections": true,
   "sideBar": true,
   "skip_h1_title": false,
   "title_cell": "Table of Contents",
   "title_sidebar": "Contents",
   "toc_cell": false,
   "toc_position": {},
   "toc_section_display": true,
   "toc_window_display": false
  },
  "varInspector": {
   "cols": {
    "lenName": 16,
    "lenType": 16,
    "lenVar": 40
   },
   "kernels_config": {
    "python": {
     "delete_cmd_postfix": "",
     "delete_cmd_prefix": "del ",
     "library": "var_list.py",
     "varRefreshCmd": "print(var_dic_list())"
    },
    "r": {
     "delete_cmd_postfix": ") ",
     "delete_cmd_prefix": "rm(",
     "library": "var_list.r",
     "varRefreshCmd": "cat(var_dic_list()) "
    }
   },
   "types_to_exclude": [
    "module",
    "function",
    "builtin_function_or_method",
    "instance",
    "_Feature"
   ],
   "window_display": false
  }
 },
 "nbformat": 4,
 "nbformat_minor": 2
}
