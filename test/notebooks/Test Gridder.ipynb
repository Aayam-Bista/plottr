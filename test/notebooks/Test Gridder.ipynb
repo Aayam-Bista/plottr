{
 "cells": [
  {
   "cell_type": "code",
   "execution_count": 1,
   "metadata": {
    "ExecuteTime": {
     "end_time": "2018-11-10T22:27:47.987280Z",
     "start_time": "2018-11-10T22:27:47.521403Z"
    }
   },
   "outputs": [],
   "source": [
    "%gui qt\n",
    "from pyqtgraph.Qt import QtGui\n",
    "app = QtGui.QApplication([\" \"])\n",
    "\n",
    "from plottr.data import datadict as dd\n",
    "from plottr.node.node import Node\n",
    "from plottr.node.grid import DataGridder\n",
    "\n",
    "from common import make_sequential_flowchart, make_sequential_flowchart_with_gui\n",
    "import data"
   ]
  },
  {
   "cell_type": "code",
   "execution_count": 2,
   "metadata": {
    "ExecuteTime": {
     "end_time": "2018-11-10T22:27:48.839373Z",
     "start_time": "2018-11-10T22:27:48.517173Z"
    }
   },
   "outputs": [],
   "source": [
    "testdata = data.three_compatible_3d_sets()\n",
    "testdata.validate()\n",
    "\n",
    "nodes, fc, win = make_sequential_flowchart_with_gui([DataGridder])\n",
    "fc.setInput(dataIn=testdata)"
   ]
  },
  {
   "cell_type": "code",
   "execution_count": null,
   "metadata": {
    "ExecuteTime": {
     "start_time": "2018-11-10T22:16:43.765Z"
    }
   },
   "outputs": [],
   "source": [
    "\n",
    "# gridder = nodes[0]"
   ]
  },
  {
   "cell_type": "code",
   "execution_count": null,
   "metadata": {
    "ExecuteTime": {
     "start_time": "2018-11-10T22:16:43.768Z"
    }
   },
   "outputs": [],
   "source": [
    "# gridder.grid = 'guess'\n",
    "# fc.output()"
   ]
  },
  {
   "cell_type": "code",
   "execution_count": null,
   "metadata": {
    "ExecuteTime": {
     "start_time": "2018-11-10T22:16:43.778Z"
    }
   },
   "outputs": [],
   "source": [
    "# gridder.grid"
   ]
  },
  {
   "cell_type": "code",
   "execution_count": null,
   "metadata": {
    "ExecuteTime": {
     "start_time": "2018-11-10T22:16:43.781Z"
    }
   },
   "outputs": [],
   "source": [
    "# fc.setInput(dataIn=testdata.extract('data'))"
   ]
  },
  {
   "cell_type": "code",
   "execution_count": null,
   "metadata": {
    "ExecuteTime": {
     "end_time": "2018-11-10T22:17:35.542401Z",
     "start_time": "2018-11-10T22:17:35.530430Z"
    }
   },
   "outputs": [],
   "source": []
  }
 ],
 "metadata": {
  "kernelspec": {
   "display_name": "Python 3",
   "language": "python",
   "name": "python3"
  },
  "language_info": {
   "codemirror_mode": {
    "name": "ipython",
    "version": 3
   },
   "file_extension": ".py",
   "mimetype": "text/x-python",
   "name": "python",
   "nbconvert_exporter": "python",
   "pygments_lexer": "ipython3",
   "version": "3.6.7"
  },
  "toc": {
   "base_numbering": 1,
   "nav_menu": {},
   "number_sections": true,
   "sideBar": true,
   "skip_h1_title": false,
   "title_cell": "Table of Contents",
   "title_sidebar": "Contents",
   "toc_cell": false,
   "toc_position": {},
   "toc_section_display": true,
   "toc_window_display": false
  }
 },
 "nbformat": 4,
 "nbformat_minor": 2
}
