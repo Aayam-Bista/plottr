{
 "cells": [
  {
   "cell_type": "code",
   "execution_count": 1,
   "metadata": {
    "ExecuteTime": {
     "end_time": "2018-12-24T23:11:17.376715Z",
     "start_time": "2018-12-24T23:11:16.917943Z"
    },
    "init_cell": true
   },
   "outputs": [],
   "source": [
    "%gui qt\n",
    "\n",
    "import os\n",
    "import sys\n",
    "\n",
    "from plottr.data import datadict as dd\n",
    "from plottr.node.node import Node\n",
    "from plottr.node.grid import DataGridder\n",
    "from plottr.apps.tools import make_sequential_flowchart, make_sequential_flowchart_with_gui\n",
    "\n",
    "sys.path.append(\n",
    "    os.path.split(os.getcwd())[0]\n",
    ")\n",
    "\n",
    "from common import data as testdata"
   ]
  },
  {
   "cell_type": "code",
   "execution_count": null,
   "metadata": {},
   "outputs": [],
   "source": []
  },
  {
   "cell_type": "code",
   "execution_count": null,
   "metadata": {},
   "outputs": [],
   "source": []
  },
  {
   "cell_type": "code",
   "execution_count": 16,
   "metadata": {
    "ExecuteTime": {
     "end_time": "2018-12-24T23:00:30.447341Z",
     "start_time": "2018-12-24T23:00:30.439362Z"
    }
   },
   "outputs": [
    {
     "data": {
      "text/plain": [
       "True"
      ]
     },
     "execution_count": 16,
     "metadata": {},
     "output_type": "execute_result"
    }
   ],
   "source": [
    "### make an incomplete grid\n",
    "\n",
    "x = np.arange(4).astype(float)\n",
    "y = np.arange(4).astype(float)\n",
    "xx, yy = np.meshgrid(x, y, indexing='ij')\n",
    "zz = xx + yy\n",
    "\n",
    "x = xx.reshape(-1)\n",
    "y = yy.reshape(-1)\n",
    "z = zz.reshape(-1)\n",
    "\n",
    "x[10:] = np.nan\n",
    "y[10:] = np.nan\n",
    "z[10:] = np.nan\n",
    "\n",
    "data = dd.DataDict(\n",
    "    x=dict(values=xx.reshape(-1)),\n",
    "    y=dict(values=yy.reshape(-1)),\n",
    "    z=dict(values=zz.reshape(-1), axes=['x', 'y'])\n",
    ")\n",
    "data.validate()"
   ]
  },
  {
   "cell_type": "code",
   "execution_count": null,
   "metadata": {},
   "outputs": [],
   "source": []
  },
  {
   "cell_type": "code",
   "execution_count": 13,
   "metadata": {
    "ExecuteTime": {
     "end_time": "2018-12-24T22:59:59.767007Z",
     "start_time": "2018-12-24T22:59:59.763993Z"
    }
   },
   "outputs": [],
   "source": [
    "# data = testdata.three_compatible_3d_sets()\n",
    "# data.validate()"
   ]
  },
  {
   "cell_type": "code",
   "execution_count": 17,
   "metadata": {
    "ExecuteTime": {
     "end_time": "2018-12-24T23:00:31.819867Z",
     "start_time": "2018-12-24T23:00:31.776978Z"
    }
   },
   "outputs": [],
   "source": [
    "nodes, fc, win = make_sequential_flowchart_with_gui([DataGridder])\n",
    "fc.setInput(dataIn=data)"
   ]
  },
  {
   "cell_type": "code",
   "execution_count": 19,
   "metadata": {
    "ExecuteTime": {
     "end_time": "2018-12-24T23:00:49.915002Z",
     "start_time": "2018-12-24T23:00:49.909018Z"
    }
   },
   "outputs": [
    {
     "data": {
      "text/plain": [
       "{'dataOut': {'x': {'axes': [],\n",
       "   'unit': '',\n",
       "   'values': array([[ 0.,  0.,  0.,  0.],\n",
       "          [ 1.,  1.,  1.,  1.],\n",
       "          [ 2.,  2., nan, nan]])},\n",
       "  'y': {'axes': [], 'unit': '', 'values': array([[ 0.,  1.,  2.,  3.],\n",
       "          [ 0.,  1.,  2.,  3.],\n",
       "          [ 0.,  1., nan, nan]])},\n",
       "  'z': {'axes': ['x', 'y'], 'unit': '', 'values': array([[ 0.,  1.,  2.,  3.],\n",
       "          [ 1.,  2.,  3.,  4.],\n",
       "          [ 2.,  3., nan, nan]])}}}"
      ]
     },
     "execution_count": 19,
     "metadata": {},
     "output_type": "execute_result"
    }
   ],
   "source": [
    "fc.output()"
   ]
  },
  {
   "cell_type": "code",
   "execution_count": null,
   "metadata": {},
   "outputs": [],
   "source": []
  },
  {
   "cell_type": "code",
   "execution_count": null,
   "metadata": {},
   "outputs": [],
   "source": []
  },
  {
   "cell_type": "code",
   "execution_count": null,
   "metadata": {
    "ExecuteTime": {
     "start_time": "2018-11-10T22:16:43.765Z"
    }
   },
   "outputs": [],
   "source": [
    "\n",
    "# gridder = nodes[0]"
   ]
  },
  {
   "cell_type": "code",
   "execution_count": null,
   "metadata": {
    "ExecuteTime": {
     "start_time": "2018-11-10T22:16:43.768Z"
    }
   },
   "outputs": [],
   "source": [
    "# gridder.grid = 'guess'\n",
    "# fc.output()"
   ]
  },
  {
   "cell_type": "code",
   "execution_count": null,
   "metadata": {
    "ExecuteTime": {
     "start_time": "2018-11-10T22:16:43.778Z"
    }
   },
   "outputs": [],
   "source": [
    "# gridder.grid"
   ]
  },
  {
   "cell_type": "code",
   "execution_count": null,
   "metadata": {
    "ExecuteTime": {
     "start_time": "2018-11-10T22:16:43.781Z"
    }
   },
   "outputs": [],
   "source": [
    "# fc.setInput(dataIn=testdata.extract('data'))"
   ]
  },
  {
   "cell_type": "code",
   "execution_count": null,
   "metadata": {},
   "outputs": [],
   "source": []
  }
 ],
 "metadata": {
  "kernelspec": {
   "display_name": "Python 3",
   "language": "python",
   "name": "python3"
  },
  "language_info": {
   "codemirror_mode": {
    "name": "ipython",
    "version": 3
   },
   "file_extension": ".py",
   "mimetype": "text/x-python",
   "name": "python",
   "nbconvert_exporter": "python",
   "pygments_lexer": "ipython3",
   "version": "3.6.7"
  },
  "toc": {
   "base_numbering": 1,
   "nav_menu": {},
   "number_sections": true,
   "sideBar": true,
   "skip_h1_title": false,
   "title_cell": "Table of Contents",
   "title_sidebar": "Contents",
   "toc_cell": false,
   "toc_position": {},
   "toc_section_display": true,
   "toc_window_display": false
  },
  "varInspector": {
   "cols": {
    "lenName": 16,
    "lenType": 16,
    "lenVar": 40
   },
   "kernels_config": {
    "python": {
     "delete_cmd_postfix": "",
     "delete_cmd_prefix": "del ",
     "library": "var_list.py",
     "varRefreshCmd": "print(var_dic_list())"
    },
    "r": {
     "delete_cmd_postfix": ") ",
     "delete_cmd_prefix": "rm(",
     "library": "var_list.r",
     "varRefreshCmd": "cat(var_dic_list()) "
    }
   },
   "types_to_exclude": [
    "module",
    "function",
    "builtin_function_or_method",
    "instance",
    "_Feature"
   ],
   "window_display": false
  }
 },
 "nbformat": 4,
 "nbformat_minor": 2
}
