{
 "cells": [
  {
   "cell_type": "code",
   "execution_count": null,
   "metadata": {
    "ExecuteTime": {
     "end_time": "2018-11-11T09:35:29.768543Z",
     "start_time": "2018-11-11T09:35:29.119281Z"
    }
   },
   "outputs": [],
   "source": [
    "%gui qt\n",
    "from pyqtgraph.Qt import QtGui, QtCore\n",
    "app = QtGui.QApplication([\" \"])\n",
    "\n",
    "import logging\n",
    "from importlib import reload\n",
    "\n",
    "from pyqtgraph.flowchart import Flowchart\n",
    "from pyqtgraph.flowchart import library as fclib\n",
    "from pyqtgraph.dockarea import Dock, DockArea\n",
    "\n",
    "from plottr.data.datadict import DataDictBase, DataDict, MeshgridDataDict\n",
    "from plottr import log as plottrlog\n",
    "from plottr.node.data_selector import DataSelector\n",
    "from plottr.node.grid import DataGridder\n",
    "from plottr.node.dim_reducer import XYAxesSelector\n",
    "from plottr.plot.mpl import PlotNode, AutoPlot\n",
    "\n",
    "import data"
   ]
  },
  {
   "cell_type": "code",
   "execution_count": null,
   "metadata": {
    "ExecuteTime": {
     "end_time": "2018-11-11T09:35:31.196725Z",
     "start_time": "2018-11-11T09:35:31.193733Z"
    }
   },
   "outputs": [],
   "source": [
    "logger = logging.getLogger('plottr.interactive')\n",
    "plottrlog.LEVEL = logging.DEBUG"
   ]
  },
  {
   "cell_type": "code",
   "execution_count": null,
   "metadata": {
    "ExecuteTime": {
     "end_time": "2018-11-11T09:35:33.414844Z",
     "start_time": "2018-11-11T09:35:33.016909Z"
    }
   },
   "outputs": [],
   "source": [
    "nodelib = fclib.NodeLibrary()\n",
    "nodelib.addNodeType(DataSelector, [('Basic')])\n",
    "nodelib.addNodeType(DataGridder, [('Basic')])\n",
    "nodelib.addNodeType(XYAxesSelector, [('Basic')])\n",
    "nodelib.addNodeType(PlotNode, [('Plot')])\n",
    "\n",
    "fc = Flowchart(terminals={\n",
    "    'dataIn': {'io': 'in'},\n",
    "    'dataOut': {'io': 'out'}\n",
    "})\n",
    "fc.library = nodelib\n",
    "\n",
    "datasel = fc.createNode('DataSelector')\n",
    "grid = fc.createNode('Gridder')\n",
    "xysel = fc.createNode('XYAxesSelector')\n",
    "plot = fc.createNode('Plot')\n",
    "\n",
    "fc.connectTerminals(fc['dataIn'], datasel['dataIn'])\n",
    "fc.connectTerminals(datasel['dataOut'], grid['dataIn'])\n",
    "fc.connectTerminals(grid['dataOut'], xysel['dataIn'])\n",
    "fc.connectTerminals(xysel['dataOut'], fc['dataOut'])\n",
    "fc.connectTerminals(xysel['dataOut'], plot['dataIn'])\n",
    "# Setting up the GUI window -- use a dialog here.\n",
    "area = DockArea()\n",
    "layout = QtGui.QVBoxLayout()\n",
    "layout.addWidget(area)\n",
    "win = QtGui.QDialog()\n",
    "win.setLayout(layout)\n",
    "# win = QtGui.QMainWindow()\n",
    "\n",
    "# data selector\n",
    "dataselDock = Dock('Data Selector', size=(150, 100))\n",
    "dataselDock.addWidget(datasel.ui)\n",
    "area.addDock(dataselDock)\n",
    "\n",
    "# grid\n",
    "gridDock = Dock('Grid', size=(100, 100))\n",
    "gridDock.addWidget(grid.ui)\n",
    "area.addDock(gridDock, 'right', dataselDock)\n",
    "\n",
    "# xy selector\n",
    "xyselDock = Dock('XY Axes Selector', size=(250, 100))\n",
    "xyselDock.addWidget(xysel.ui)\n",
    "area.addDock(xyselDock, 'bottom')\n",
    "\n",
    "# log\n",
    "logDock = Dock('Log', size=(250, 100))\n",
    "logDock.addWidget(plottrlog.setupLogging(makeDialog=False))\n",
    "area.addDock(logDock, 'bottom', xyselDock)\n",
    "\n",
    "# plot widget\n",
    "plotWidget = AutoPlot()\n",
    "plot.setPlotWidget(plotWidget)\n",
    "plotDock = Dock('Plot', size=(500, 300))\n",
    "plotDock.addWidget(plotWidget)\n",
    "area.addDock(plotDock, 'right')\n",
    "\n",
    "win.show()"
   ]
  },
  {
   "cell_type": "code",
   "execution_count": null,
   "metadata": {
    "ExecuteTime": {
     "end_time": "2018-11-11T09:35:37.923827Z",
     "start_time": "2018-11-11T09:35:37.884931Z"
    }
   },
   "outputs": [],
   "source": [
    "d = data.three_compatible_3d_sets(101, 101, 11)\n",
    "fc.setInput(dataIn=d)"
   ]
  },
  {
   "cell_type": "code",
   "execution_count": null,
   "metadata": {
    "ExecuteTime": {
     "start_time": "2018-11-10T21:15:01.899Z"
    }
   },
   "outputs": [],
   "source": [
    "# datasel.selectedData = ['data']\n",
    "# grid.grid = 'guess'\n",
    "# xysel.xyAxes = ('x', None)\n",
    "# fc.output()"
   ]
  },
  {
   "cell_type": "code",
   "execution_count": null,
   "metadata": {},
   "outputs": [],
   "source": []
  },
  {
   "cell_type": "code",
   "execution_count": null,
   "metadata": {},
   "outputs": [],
   "source": []
  },
  {
   "cell_type": "code",
   "execution_count": null,
   "metadata": {},
   "outputs": [],
   "source": []
  },
  {
   "cell_type": "code",
   "execution_count": null,
   "metadata": {},
   "outputs": [],
   "source": []
  },
  {
   "cell_type": "code",
   "execution_count": null,
   "metadata": {},
   "outputs": [],
   "source": []
  },
  {
   "cell_type": "code",
   "execution_count": null,
   "metadata": {},
   "outputs": [],
   "source": []
  },
  {
   "cell_type": "code",
   "execution_count": null,
   "metadata": {},
   "outputs": [],
   "source": []
  },
  {
   "cell_type": "code",
   "execution_count": null,
   "metadata": {},
   "outputs": [],
   "source": []
  },
  {
   "cell_type": "code",
   "execution_count": null,
   "metadata": {},
   "outputs": [],
   "source": []
  },
  {
   "cell_type": "code",
   "execution_count": null,
   "metadata": {},
   "outputs": [],
   "source": []
  },
  {
   "cell_type": "code",
   "execution_count": null,
   "metadata": {
    "ExecuteTime": {
     "start_time": "2018-11-10T21:15:01.922Z"
    }
   },
   "outputs": [],
   "source": [
    "# import logging; reload(logging)\n",
    "# from plottr.apps import autoplot; reload(autoplot)\n",
    "# import data\n",
    "\n",
    "# ### Logging\n",
    "# from plottr import log as plottrlog\n",
    "# logger = logging.getLogger('plottr.interactive')\n",
    "# plottrlog.LEVEL = logging.DEBUG\n",
    "\n",
    "# fc, win = autoplot.autoplot()"
   ]
  },
  {
   "cell_type": "code",
   "execution_count": null,
   "metadata": {
    "ExecuteTime": {
     "start_time": "2018-11-10T21:15:01.924Z"
    }
   },
   "outputs": [],
   "source": [
    "# d = data.three_compatible_3d_sets(21, 21, 21)\n",
    "# # d = dd.datadict_to_meshgrid(d)\n",
    "# fc.setInput(dataIn=d)"
   ]
  },
  {
   "cell_type": "code",
   "execution_count": null,
   "metadata": {
    "ExecuteTime": {
     "start_time": "2018-11-10T21:15:01.928Z"
    }
   },
   "outputs": [],
   "source": [
    "# datasel = fc.nodes()['DataSelector.0']"
   ]
  },
  {
   "cell_type": "code",
   "execution_count": null,
   "metadata": {
    "ExecuteTime": {
     "start_time": "2018-11-10T21:15:01.932Z"
    }
   },
   "outputs": [],
   "source": [
    "# datasel.outputValues()"
   ]
  },
  {
   "cell_type": "code",
   "execution_count": null,
   "metadata": {
    "ExecuteTime": {
     "start_time": "2018-11-10T21:15:01.936Z"
    }
   },
   "outputs": [],
   "source": [
    "# Node.raiseExceptions = True\n",
    "# DataSelector.raiseExceptions = True\n",
    "# XYAxesSelector.raiseExceptions = True\n",
    "# PlotNode.raiseExceptions = True\n",
    "\n",
    "# nodelib = fclib.NodeLibrary()\n",
    "# nodelib.addNodeType(DataSelector, [('Basic')])\n",
    "# nodelib.addNodeType(XYAxesSelector, [('Basic')])\n",
    "# nodelib.addNodeType(PlotNode, [('Plot')])\n",
    "\n",
    "# ### Setting up the flowchart\n",
    "\n",
    "# # library\n",
    "# fc = Flowchart(terminals={\n",
    "#     'dataIn': {'io': 'in'},\n",
    "#     'dataOut': {'io': 'out'}\n",
    "# })\n",
    "# fc.library = nodelib\n",
    "\n",
    "# # flowchart for this example\n",
    "# datasel = fc.createNode('DataSelector')\n",
    "# xysel = fc.createNode('XYAxesSelector')\n",
    "# plot = fc.createNode('Plot')\n",
    "\n",
    "# fc.connectTerminals(fc['dataIn'], datasel['dataIn'])\n",
    "# fc.connectTerminals(datasel['dataOut'], xysel['dataIn'])\n",
    "# fc.connectTerminals(xysel['dataOut'], fc['dataOut'])\n",
    "# fc.connectTerminals(xysel['dataOut'], plot['dataIn'])\n",
    "\n",
    "# plotWidget = AutoPlot()\n",
    "# plot.setPlotWidget(plotWidget)\n",
    "\n",
    "\n",
    "# ### Setting up the GUI\n",
    "# win = QtGui.QDialog()\n",
    "# layout = QtGui.QVBoxLayout()\n",
    "# area = DockArea()\n",
    "# layout.addWidget(area)\n",
    "# # win.setCentralWidget(area)\n",
    "# win.setLayout(layout)\n",
    "\n",
    "# dataselDock = Dock('Data Selector')\n",
    "# dataselDock.addWidget(datasel.ui)\n",
    "# area.addDock(dataselDock)\n",
    "\n",
    "# # xy selector\n",
    "# xyselDock = Dock('XY Axes Selector')\n",
    "# xyselDock.addWidget(xysel.ui)\n",
    "# area.addDock(xyselDock, 'bottom', dataselDock)\n",
    "\n",
    "# # logger\n",
    "# logDock = Dock('Log')\n",
    "# logDock.addWidget(plottrlog.setupLogging(makeDialog=False))\n",
    "# area.addDock(logDock, 'bottom', xyselDock)\n",
    "\n",
    "# # plot\n",
    "# plotDock = Dock('Plot')\n",
    "# plotDock.addWidget(plotWidget)\n",
    "# area.addDock(plotDock, 'right')\n",
    "\n",
    "# win.show()\n",
    "\n"
   ]
  },
  {
   "cell_type": "code",
   "execution_count": null,
   "metadata": {
    "ExecuteTime": {
     "end_time": "2018-11-08T08:06:52.233820Z",
     "start_time": "2018-11-08T08:06:52.172982Z"
    }
   },
   "outputs": [],
   "source": []
  },
  {
   "cell_type": "code",
   "execution_count": null,
   "metadata": {
    "ExecuteTime": {
     "end_time": "2018-11-07T21:48:33.481142Z",
     "start_time": "2018-11-07T21:48:33.394374Z"
    }
   },
   "outputs": [],
   "source": []
  },
  {
   "cell_type": "code",
   "execution_count": null,
   "metadata": {},
   "outputs": [],
   "source": []
  },
  {
   "cell_type": "code",
   "execution_count": null,
   "metadata": {
    "ExecuteTime": {
     "start_time": "2018-11-10T21:15:01.944Z"
    }
   },
   "outputs": [],
   "source": [
    "# datasel.selectedData = ['data', 'more_data']"
   ]
  },
  {
   "cell_type": "code",
   "execution_count": null,
   "metadata": {
    "ExecuteTime": {
     "start_time": "2018-11-10T21:15:01.947Z"
    }
   },
   "outputs": [],
   "source": [
    "# xysel.xyAxes = ('x', 'y')"
   ]
  },
  {
   "cell_type": "code",
   "execution_count": null,
   "metadata": {
    "ExecuteTime": {
     "start_time": "2018-11-10T21:15:01.950Z"
    }
   },
   "outputs": [],
   "source": [
    "# fc.output()"
   ]
  },
  {
   "cell_type": "code",
   "execution_count": null,
   "metadata": {
    "ExecuteTime": {
     "start_time": "2018-11-10T21:15:01.952Z"
    }
   },
   "outputs": [],
   "source": [
    "# xysel.reductions, xysel.xyAxes"
   ]
  },
  {
   "cell_type": "code",
   "execution_count": null,
   "metadata": {
    "ExecuteTime": {
     "start_time": "2018-11-10T21:15:01.956Z"
    }
   },
   "outputs": [],
   "source": [
    "# xysel.outputValues()"
   ]
  },
  {
   "cell_type": "code",
   "execution_count": null,
   "metadata": {
    "ExecuteTime": {
     "start_time": "2018-11-10T21:15:01.959Z"
    }
   },
   "outputs": [],
   "source": [
    "# xysel.ui._getReductions()"
   ]
  },
  {
   "cell_type": "code",
   "execution_count": null,
   "metadata": {},
   "outputs": [],
   "source": []
  }
 ],
 "metadata": {
  "kernelspec": {
   "display_name": "Python 3",
   "language": "python",
   "name": "python3"
  },
  "language_info": {
   "codemirror_mode": {
    "name": "ipython",
    "version": 3
   },
   "file_extension": ".py",
   "mimetype": "text/x-python",
   "name": "python",
   "nbconvert_exporter": "python",
   "pygments_lexer": "ipython3",
   "version": "3.6.7"
  },
  "toc": {
   "base_numbering": 1,
   "nav_menu": {},
   "number_sections": true,
   "sideBar": true,
   "skip_h1_title": false,
   "title_cell": "Table of Contents",
   "title_sidebar": "Contents",
   "toc_cell": false,
   "toc_position": {},
   "toc_section_display": true,
   "toc_window_display": false
  },
  "varInspector": {
   "cols": {
    "lenName": 16,
    "lenType": 16,
    "lenVar": 40
   },
   "kernels_config": {
    "python": {
     "delete_cmd_postfix": "",
     "delete_cmd_prefix": "del ",
     "library": "var_list.py",
     "varRefreshCmd": "print(var_dic_list())"
    },
    "r": {
     "delete_cmd_postfix": ") ",
     "delete_cmd_prefix": "rm(",
     "library": "var_list.r",
     "varRefreshCmd": "cat(var_dic_list()) "
    }
   },
   "types_to_exclude": [
    "module",
    "function",
    "builtin_function_or_method",
    "instance",
    "_Feature"
   ],
   "window_display": false
  }
 },
 "nbformat": 4,
 "nbformat_minor": 2
}
