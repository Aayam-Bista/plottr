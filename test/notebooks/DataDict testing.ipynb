{
 "cells": [
  {
   "cell_type": "code",
   "execution_count": 1,
   "metadata": {
    "ExecuteTime": {
     "end_time": "2018-11-05T21:54:24.946458Z",
     "start_time": "2018-11-05T21:54:24.732456Z"
    }
   },
   "outputs": [],
   "source": [
    "%matplotlib notebook\n",
    "\n",
    "from importlib import reload\n",
    "from pprint import pprint\n",
    "\n",
    "import numpy as np\n",
    "from matplotlib import pyplot as plt"
   ]
  },
  {
   "cell_type": "code",
   "execution_count": null,
   "metadata": {
    "ExecuteTime": {
     "end_time": "2018-11-04T11:59:26.140235Z",
     "start_time": "2018-11-04T11:59:26.124279Z"
    }
   },
   "outputs": [],
   "source": [
    "from plottr.data import datadict as dd; reload(dd)\n",
    "\n",
    "data = dd.DataDict(\n",
    "    x = {\n",
    "        'values' : [1,2,3,4,5,6],\n",
    "    },\n",
    "    y = {\n",
    "        'values' : [1,2,3,None,3,None],\n",
    "        'axes' : ['x'],\n",
    "    },\n",
    "    z = {\n",
    "        'values' : [2.1,1.0,np.nan,np.nan,0,np.nan],\n",
    "        'axes' : ['x'],\n",
    "    },\n",
    "    __desc__ = 'booring!',\n",
    ")\n",
    "data.validate()\n",
    "\n",
    "print('Data:')\n",
    "for k, v in data.data_items():\n",
    "    print(k,':', v)\n",
    "\n",
    "print('\\nMeta:')\n",
    "for k, v in data.meta_items():\n",
    "    print(k,':', v)\n",
    "\n",
    "# pprint(data)"
   ]
  },
  {
   "cell_type": "code",
   "execution_count": null,
   "metadata": {
    "ExecuteTime": {
     "end_time": "2018-11-03T23:50:17.365959Z",
     "start_time": "2018-11-03T23:50:17.360969Z"
    }
   },
   "outputs": [],
   "source": [
    "data2 = data.extract(['z'])\n",
    "pprint(data2)"
   ]
  },
  {
   "cell_type": "code",
   "execution_count": null,
   "metadata": {},
   "outputs": [],
   "source": []
  },
  {
   "cell_type": "code",
   "execution_count": null,
   "metadata": {},
   "outputs": [],
   "source": []
  },
  {
   "cell_type": "code",
   "execution_count": null,
   "metadata": {},
   "outputs": [],
   "source": []
  },
  {
   "cell_type": "code",
   "execution_count": null,
   "metadata": {
    "ExecuteTime": {
     "end_time": "2018-11-04T11:42:38.984933Z",
     "start_time": "2018-11-04T11:42:38.970970Z"
    }
   },
   "outputs": [],
   "source": [
    "from plottr.data import datadict as dd; reload(dd)\n",
    "\n",
    "arr = np.array([0.,1,2,0,1,2])\n",
    "# arr.dtype\n",
    "dd.array1d_to_meshgrid(arr, (3,3))"
   ]
  },
  {
   "cell_type": "code",
   "execution_count": null,
   "metadata": {
    "ExecuteTime": {
     "end_time": "2018-11-04T11:40:21.034881Z",
     "start_time": "2018-11-04T11:40:21.030888Z"
    }
   },
   "outputs": [],
   "source": [
    "np.array([1.]).dtype in [np.float, np.complex]"
   ]
  },
  {
   "cell_type": "code",
   "execution_count": null,
   "metadata": {},
   "outputs": [],
   "source": []
  },
  {
   "cell_type": "code",
   "execution_count": 32,
   "metadata": {
    "ExecuteTime": {
     "end_time": "2018-11-05T22:03:48.918238Z",
     "start_time": "2018-11-05T22:03:48.896311Z"
    }
   },
   "outputs": [
    {
     "name": "stdout",
     "output_type": "stream",
     "text": [
      "{'__desc__': 'booring!',\n",
      " 'x': {'axes': [],\n",
      "       'info': {},\n",
      "       'unit': '',\n",
      "       'values': array([1., 1., 2., 2., 3., 3., 4.])},\n",
      " 'y': {'axes': [],\n",
      "       'info': {},\n",
      "       'unit': '',\n",
      "       'values': array([ 5, 10,  5, 10,  5, 10,  5])},\n",
      " 'z': {'axes': ['x', 'y'],\n",
      "       'info': {},\n",
      "       'unit': '',\n",
      "       'values': array([ 6., 11.,  7., 12.,  8., 13.,  9.])},\n",
      " 'z2': {'axes': ['x', 'y'],\n",
      "        'info': {},\n",
      "        'unit': '',\n",
      "        'values': array([ 5., 10., 10., 20., 15., 30., 20.])}}\n"
     ]
    }
   ],
   "source": [
    "from plottr.data import datadict as dd; reload(dd)\n",
    "\n",
    "x = np.array([1.,2,3,4])\n",
    "y = np.array([5, 10])\n",
    "xx, yy = np.meshgrid(x, y, indexing='ij')\n",
    "\n",
    "xvals = xx.reshape(-1)[:-1]\n",
    "yvals = yy.reshape(-1)[:-1]\n",
    "zvals = (xx + yy).reshape(-1)[:-1]\n",
    "z2vals = (xx * yy).reshape(-1)[:-1]\n",
    "\n",
    "data = dd.DataDict(\n",
    "    x = {\n",
    "        'values' : xvals,\n",
    "    },\n",
    "    y = {\n",
    "        'values' : yvals,\n",
    "    },\n",
    "    z = {\n",
    "        'values' : zvals,\n",
    "        'axes' : ['x', 'y'],\n",
    "    },\n",
    "    z2 = {\n",
    "        'values' : z2vals,\n",
    "        'axes' : ['x', 'y'],\n",
    "    },\n",
    "    __desc__ = 'booring!',\n",
    ")\n",
    "data.validate()\n",
    "\n",
    "pprint(data)"
   ]
  },
  {
   "cell_type": "code",
   "execution_count": 33,
   "metadata": {
    "ExecuteTime": {
     "end_time": "2018-11-05T22:03:50.974579Z",
     "start_time": "2018-11-05T22:03:50.968596Z"
    }
   },
   "outputs": [
    {
     "name": "stdout",
     "output_type": "stream",
     "text": [
      "{'__desc__': 'booring!',\n",
      " 'x': {'axes': [],\n",
      "       'info': {},\n",
      "       'unit': '',\n",
      "       'values': array([[ 1.,  1.],\n",
      "       [ 2.,  2.],\n",
      "       [ 3.,  3.],\n",
      "       [ 4., nan]])},\n",
      " 'y': {'axes': [],\n",
      "       'info': {},\n",
      "       'unit': '',\n",
      "       'values': array([[5, 10],\n",
      "       [5, 10],\n",
      "       [5, 10],\n",
      "       [5, None]], dtype=object)},\n",
      " 'z': {'axes': ['x', 'y'],\n",
      "       'info': {},\n",
      "       'unit': '',\n",
      "       'values': array([[ 6., 11.],\n",
      "       [ 7., 12.],\n",
      "       [ 8., 13.],\n",
      "       [ 9., nan]])},\n",
      " 'z2': {'axes': ['x', 'y'],\n",
      "        'info': {},\n",
      "        'unit': '',\n",
      "        'values': array([[ 5., 10.],\n",
      "       [10., 20.],\n",
      "       [15., 30.],\n",
      "       [20., nan]])}}\n"
     ]
    }
   ],
   "source": [
    "data2 = dd.datadict_to_meshgrid(data, target_shape=None)\n",
    "pprint(data2)"
   ]
  },
  {
   "cell_type": "code",
   "execution_count": 34,
   "metadata": {
    "ExecuteTime": {
     "end_time": "2018-11-05T22:03:53.472230Z",
     "start_time": "2018-11-05T22:03:53.465249Z"
    }
   },
   "outputs": [
    {
     "name": "stdout",
     "output_type": "stream",
     "text": [
      "{'__desc__': 'booring!',\n",
      " 'x': {'axes': [],\n",
      "       'info': {},\n",
      "       'unit': '',\n",
      "       'values': array([1., 1., 2., 2., 3., 3., 4.])},\n",
      " 'y': {'axes': [],\n",
      "       'info': {},\n",
      "       'unit': '',\n",
      "       'values': array([5, 10, 5, 10, 5, 10, 5], dtype=object)},\n",
      " 'z': {'axes': ['x', 'y'],\n",
      "       'info': {},\n",
      "       'unit': '',\n",
      "       'values': array([ 6., 11.,  7., 12.,  8., 13.,  9.])},\n",
      " 'z2': {'axes': ['x', 'y'],\n",
      "        'info': {},\n",
      "        'unit': '',\n",
      "        'values': array([ 5., 10., 10., 20., 15., 30., 20.])}}\n"
     ]
    }
   ],
   "source": [
    "data3 = dd.meshgrid_to_datadict(data2)\n",
    "pprint(data3)"
   ]
  },
  {
   "cell_type": "code",
   "execution_count": 36,
   "metadata": {
    "ExecuteTime": {
     "end_time": "2018-11-05T22:03:58.985386Z",
     "start_time": "2018-11-05T22:03:58.977408Z"
    }
   },
   "outputs": [
    {
     "name": "stdout",
     "output_type": "stream",
     "text": [
      "{'__desc__': 'booring!',\n",
      " 'x': {'axes': [],\n",
      "       'info': {},\n",
      "       'unit': '',\n",
      "       'values': array([[ 1.,  1.],\n",
      "       [ 2.,  2.],\n",
      "       [ 3.,  3.],\n",
      "       [ 4., nan]])},\n",
      " 'y': {'axes': [],\n",
      "       'info': {},\n",
      "       'unit': '',\n",
      "       'values': array([[5, 10],\n",
      "       [5, 10],\n",
      "       [5, 10],\n",
      "       [5, None]], dtype=object)},\n",
      " 'z': {'axes': ['x', 'y'],\n",
      "       'info': {},\n",
      "       'unit': '',\n",
      "       'values': array([[ 6., 11.],\n",
      "       [ 7., 12.],\n",
      "       [ 8., 13.],\n",
      "       [ 9., nan]])},\n",
      " 'z2': {'axes': ['x', 'y'],\n",
      "        'info': {},\n",
      "        'unit': '',\n",
      "        'values': array([[ 5., 10.],\n",
      "       [10., 20.],\n",
      "       [15., 30.],\n",
      "       [20., nan]])}}\n"
     ]
    }
   ],
   "source": [
    "data4 = dd.datadict_to_meshgrid(data3)\n",
    "pprint(data4)"
   ]
  },
  {
   "cell_type": "code",
   "execution_count": null,
   "metadata": {},
   "outputs": [],
   "source": []
  }
 ],
 "metadata": {
  "kernelspec": {
   "display_name": "Python 3",
   "language": "python",
   "name": "python3"
  },
  "language_info": {
   "codemirror_mode": {
    "name": "ipython",
    "version": 3
   },
   "file_extension": ".py",
   "mimetype": "text/x-python",
   "name": "python",
   "nbconvert_exporter": "python",
   "pygments_lexer": "ipython3",
   "version": "3.6.6"
  },
  "toc": {
   "base_numbering": 1,
   "nav_menu": {},
   "number_sections": true,
   "sideBar": true,
   "skip_h1_title": false,
   "title_cell": "Table of Contents",
   "title_sidebar": "Contents",
   "toc_cell": false,
   "toc_position": {},
   "toc_section_display": true,
   "toc_window_display": false
  }
 },
 "nbformat": 4,
 "nbformat_minor": 2
}
