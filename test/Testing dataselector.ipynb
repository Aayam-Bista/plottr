{
 "cells": [
  {
   "cell_type": "code",
   "execution_count": 1,
   "metadata": {
    "ExecuteTime": {
     "end_time": "2018-11-08T07:39:07.821539Z",
     "start_time": "2018-11-08T07:39:07.815533Z"
    }
   },
   "outputs": [],
   "source": [
    "%gui qt"
   ]
  },
  {
   "cell_type": "code",
   "execution_count": 2,
   "metadata": {
    "ExecuteTime": {
     "end_time": "2018-11-08T07:39:08.065887Z",
     "start_time": "2018-11-08T07:39:07.859415Z"
    }
   },
   "outputs": [],
   "source": [
    "from importlib import reload\n",
    "from pprint import pprint\n",
    "\n",
    "import numpy as np\n",
    "from matplotlib import pyplot as plt"
   ]
  },
  {
   "cell_type": "code",
   "execution_count": 3,
   "metadata": {
    "ExecuteTime": {
     "end_time": "2018-11-08T07:39:08.071847Z",
     "start_time": "2018-11-08T07:39:08.067857Z"
    }
   },
   "outputs": [],
   "source": [
    "# %qtconsole"
   ]
  },
  {
   "cell_type": "code",
   "execution_count": null,
   "metadata": {},
   "outputs": [],
   "source": []
  },
  {
   "cell_type": "code",
   "execution_count": 10,
   "metadata": {
    "ExecuteTime": {
     "end_time": "2018-11-09T22:55:12.844234Z",
     "start_time": "2018-11-09T22:55:12.741508Z"
    }
   },
   "outputs": [],
   "source": [
    "from plottr.data import datadict as dd; reload(dd)\n",
    "\n",
    "from plottr.node import data_selector; reload(data_selector)\n",
    "from plottr.node.data_selector import DataSelector\n",
    "\n",
    "import common; reload(common)\n",
    "from common import make_sequential_flowchart, make_sequential_flowchart_with_gui\n",
    "\n",
    "import data; reload(data)\n",
    "testdata = dd.datadict_to_meshgrid(data.three_compatible_3d_sets())\n",
    "testdata.validate()\n",
    "\n",
    "nodes, fc, win = make_sequential_flowchart_with_gui([DataSelector])\n",
    "fc.setInput(dataIn=dd.datadict_to_meshgrid(testdata))"
   ]
  },
  {
   "cell_type": "code",
   "execution_count": null,
   "metadata": {
    "ExecuteTime": {
     "end_time": "2018-11-05T20:57:46.001129Z",
     "start_time": "2018-11-05T20:57:45.997117Z"
    }
   },
   "outputs": [],
   "source": []
  },
  {
   "cell_type": "code",
   "execution_count": 5,
   "metadata": {
    "ExecuteTime": {
     "end_time": "2018-11-08T07:39:08.788956Z",
     "start_time": "2018-11-08T07:39:08.784966Z"
    }
   },
   "outputs": [],
   "source": [
    "datasel = nodes[0]\n",
    "datasel.selectedData = ['data']"
   ]
  },
  {
   "cell_type": "code",
   "execution_count": 6,
   "metadata": {
    "ExecuteTime": {
     "end_time": "2018-11-08T07:39:08.823862Z",
     "start_time": "2018-11-08T07:39:08.789953Z"
    }
   },
   "outputs": [
    {
     "data": {
      "text/plain": [
       "{'dataOut': {'data': {'axes': ['x', 'y', 'z'],\n",
       "   'unit': 'kW',\n",
       "   'values': array([[[ 1.88243937,  1.46440039,  1.93729415],\n",
       "           [ 0.80166747,  0.74734934,  0.74814262],\n",
       "           [-0.15705373,  0.03976065, -0.7448669 ]],\n",
       "   \n",
       "          [[ 1.13485104,  1.19489745,  0.59846284],\n",
       "           [ 0.84284925,  0.24766463,  0.83323424],\n",
       "           [ 0.34694252,  0.62098435,  0.72608056]],\n",
       "   \n",
       "          [[-0.04708132, -0.07132369, -0.36288181],\n",
       "           [ 0.09143821,  0.30791357,  0.86217125],\n",
       "           [ 0.88815839,  1.48702002,  1.63227971]]])},\n",
       "  'x': {'unit': 'mA', 'axes': [], 'values': array([[[ 0.,  0.,  0.],\n",
       "           [ 0.,  0.,  0.],\n",
       "           [ 0.,  0.,  0.]],\n",
       "   \n",
       "          [[ 5.,  5.,  5.],\n",
       "           [ 5.,  5.,  5.],\n",
       "           [ 5.,  5.,  5.]],\n",
       "   \n",
       "          [[10., 10., 10.],\n",
       "           [10., 10., 10.],\n",
       "           [10., 10., 10.]]])},\n",
       "  'y': {'unit': 'uC', 'axes': [], 'values': array([[[-5., -5., -5.],\n",
       "           [ 0.,  0.,  0.],\n",
       "           [ 5.,  5.,  5.]],\n",
       "   \n",
       "          [[-5., -5., -5.],\n",
       "           [ 0.,  0.,  0.],\n",
       "           [ 5.,  5.,  5.]],\n",
       "   \n",
       "          [[-5., -5., -5.],\n",
       "           [ 0.,  0.,  0.],\n",
       "           [ 5.,  5.,  5.]]])},\n",
       "  'z': {'unit': 'nF', 'axes': [], 'values': array([[[0, 1, 2],\n",
       "           [0, 1, 2],\n",
       "           [0, 1, 2]],\n",
       "   \n",
       "          [[0, 1, 2],\n",
       "           [0, 1, 2],\n",
       "           [0, 1, 2]],\n",
       "   \n",
       "          [[0, 1, 2],\n",
       "           [0, 1, 2],\n",
       "           [0, 1, 2]]])}}}"
      ]
     },
     "execution_count": 6,
     "metadata": {},
     "output_type": "execute_result"
    }
   ],
   "source": [
    "fc.output()"
   ]
  },
  {
   "cell_type": "code",
   "execution_count": 7,
   "metadata": {
    "ExecuteTime": {
     "end_time": "2018-11-08T07:39:08.833835Z",
     "start_time": "2018-11-08T07:39:08.825857Z"
    }
   },
   "outputs": [],
   "source": [
    "dout = fc.output()['dataOut']\n",
    "type(dout)"
   ]
  },
  {
   "cell_type": "code",
   "execution_count": null,
   "metadata": {
    "ExecuteTime": {
     "end_time": "2018-11-08T07:39:21.798240Z",
     "start_time": "2018-11-08T07:39:21.794250Z"
    }
   },
   "outputs": [],
   "source": []
  },
  {
   "cell_type": "code",
   "execution_count": null,
   "metadata": {},
   "outputs": [],
   "source": []
  }
 ],
 "metadata": {
  "hide_input": false,
  "kernelspec": {
   "display_name": "Python 3",
   "language": "python",
   "name": "python3"
  },
  "language_info": {
   "codemirror_mode": {
    "name": "ipython",
    "version": 3
   },
   "file_extension": ".py",
   "mimetype": "text/x-python",
   "name": "python",
   "nbconvert_exporter": "python",
   "pygments_lexer": "ipython3",
   "version": "3.6.6"
  },
  "toc": {
   "base_numbering": 1,
   "nav_menu": {},
   "number_sections": true,
   "sideBar": true,
   "skip_h1_title": false,
   "title_cell": "Table of Contents",
   "title_sidebar": "Contents",
   "toc_cell": false,
   "toc_position": {
    "height": "1298.47px",
    "left": "43px",
    "top": "111.483px",
    "width": "181.75px"
   },
   "toc_section_display": true,
   "toc_window_display": true
  }
 },
 "nbformat": 4,
 "nbformat_minor": 2
}
