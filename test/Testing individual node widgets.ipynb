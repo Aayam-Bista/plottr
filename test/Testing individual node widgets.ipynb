{
 "cells": [
  {
   "cell_type": "code",
   "execution_count": null,
   "metadata": {
    "ExecuteTime": {
     "end_time": "2018-10-23T18:37:07.188093Z",
     "start_time": "2018-10-23T18:37:07.184104Z"
    }
   },
   "outputs": [],
   "source": [
    "%gui qt"
   ]
  },
  {
   "cell_type": "code",
   "execution_count": null,
   "metadata": {
    "ExecuteTime": {
     "end_time": "2018-10-23T18:37:07.359634Z",
     "start_time": "2018-10-23T18:37:07.356642Z"
    }
   },
   "outputs": [],
   "source": [
    "from importlib import reload\n",
    "from pprint import pprint\n",
    "\n",
    "import numpy as np\n",
    "from matplotlib import pyplot as plt\n",
    "\n",
    "import pyqtgraph as pg\n",
    "from pyqtgraph.flowchart import Flowchart\n",
    "from pyqtgraph import Qt\n",
    "from pyqtgraph.Qt import QtGui, QtCore\n",
    "from pyqtgraph.flowchart import library as fclib\n",
    "from pyqtgraph.dockarea import Dock, DockArea"
   ]
  },
  {
   "cell_type": "code",
   "execution_count": null,
   "metadata": {
    "ExecuteTime": {
     "end_time": "2018-10-23T18:36:29.174907Z",
     "start_time": "2018-10-23T18:36:29.170917Z"
    }
   },
   "outputs": [],
   "source": [
    "# %qtconsole"
   ]
  },
  {
   "cell_type": "code",
   "execution_count": null,
   "metadata": {},
   "outputs": [],
   "source": []
  },
  {
   "cell_type": "code",
   "execution_count": null,
   "metadata": {
    "ExecuteTime": {
     "end_time": "2018-10-23T18:36:29.183883Z",
     "start_time": "2018-10-23T18:36:29.175904Z"
    }
   },
   "outputs": [],
   "source": [
    "from plottr.data import datadict; reload(datadict)\n",
    "from plottr.data.datadict import togrid, DataDict, GridDataDict"
   ]
  },
  {
   "cell_type": "code",
   "execution_count": null,
   "metadata": {},
   "outputs": [],
   "source": []
  },
  {
   "cell_type": "code",
   "execution_count": null,
   "metadata": {},
   "outputs": [],
   "source": []
  },
  {
   "cell_type": "markdown",
   "metadata": {
    "ExecuteTime": {
     "end_time": "2018-07-22T11:49:46.637513Z",
     "start_time": "2018-07-22T11:49:46.624562Z"
    }
   },
   "source": [
    "# DataSelector"
   ]
  },
  {
   "cell_type": "code",
   "execution_count": null,
   "metadata": {
    "ExecuteTime": {
     "end_time": "2018-10-20T16:25:51.537653Z",
     "start_time": "2018-10-20T16:25:51.505688Z"
    }
   },
   "outputs": [],
   "source": [
    "import logging; reload(logging)\n",
    "from plottr import log as plottrlog; reload(plottrlog)\n",
    "\n",
    "from plottr.node import data_selector; reload(data_selector)\n",
    "from plottr.node.data_selector import DataSelector\n",
    "    \n",
    "\n",
    "DataSelector.debug = True\n",
    "DataSelector.useUi = True"
   ]
  },
  {
   "cell_type": "code",
   "execution_count": null,
   "metadata": {
    "ExecuteTime": {
     "end_time": "2018-10-20T16:25:51.832498Z",
     "start_time": "2018-10-20T16:25:51.782633Z"
    }
   },
   "outputs": [],
   "source": [
    "nodelib = fclib.NodeLibrary()\n",
    "nodelib.addNodeType(DataSelector, [('Basic')])\n",
    "\n",
    "### Setting up the flowchart\n",
    "# library\n",
    "fc = Flowchart(terminals={\n",
    "    'dataIn': {'io': 'in'},\n",
    "    'dataOut': {'io': 'out'}\n",
    "})\n",
    "fc.library = nodelib\n",
    "\n",
    "# flowchart for this example\n",
    "selector = fc.createNode('DataSelector')\n",
    "fc.connectTerminals(fc['dataIn'], selector['dataIn'])\n",
    "fc.connectTerminals(selector['dataOut'], fc['dataOut'])\n",
    "\n",
    "### Setting up the GUI\n",
    "win = QtGui.QMainWindow()\n",
    "area = DockArea()\n",
    "win.setCentralWidget(area)\n",
    "\n",
    "# data selector\n",
    "selectorDock = Dock('Data Selector')\n",
    "selectorDock.addWidget(selector.ui)\n",
    "area.addDock(selectorDock)\n",
    "\n",
    "# logger\n",
    "logDock = Dock('Log')\n",
    "logDock.addWidget(plottrlog.setupLogging(makeDialog=False))\n",
    "area.addDock(logDock, 'bottom', selectorDock)\n",
    "\n",
    "win.show()\n",
    "\n",
    "### Logging\n",
    "logger = logging.getLogger('plottr.interactive')\n",
    "plottrlog.LEVEL = logging.DEBUG"
   ]
  },
  {
   "cell_type": "code",
   "execution_count": null,
   "metadata": {
    "ExecuteTime": {
     "end_time": "2018-10-20T16:25:55.299460Z",
     "start_time": "2018-10-20T16:25:55.291452Z"
    }
   },
   "outputs": [],
   "source": [
    "import test_data; reload(test_data)\n",
    "data = test_data.three_incompatible_3d_sets()\n",
    "\n",
    "fc.setInput(dataIn=data)"
   ]
  },
  {
   "cell_type": "code",
   "execution_count": null,
   "metadata": {
    "ExecuteTime": {
     "end_time": "2018-10-19T20:16:05.738729Z",
     "start_time": "2018-10-19T20:16:05.732744Z"
    }
   },
   "outputs": [],
   "source": [
    "fc.output()"
   ]
  },
  {
   "cell_type": "code",
   "execution_count": null,
   "metadata": {
    "ExecuteTime": {
     "end_time": "2018-10-19T20:16:08.695596Z",
     "start_time": "2018-10-19T20:16:08.681634Z"
    }
   },
   "outputs": [],
   "source": [
    "selector.selectedData = ['different_data']"
   ]
  },
  {
   "cell_type": "code",
   "execution_count": null,
   "metadata": {
    "ExecuteTime": {
     "end_time": "2018-10-19T20:16:09.335609Z",
     "start_time": "2018-10-19T20:16:09.330623Z"
    }
   },
   "outputs": [],
   "source": [
    "fc.output()"
   ]
  },
  {
   "cell_type": "code",
   "execution_count": null,
   "metadata": {
    "ExecuteTime": {
     "end_time": "2018-10-19T06:26:36.287653Z",
     "start_time": "2018-10-19T06:26:36.283639Z"
    }
   },
   "outputs": [],
   "source": []
  },
  {
   "cell_type": "markdown",
   "metadata": {},
   "source": [
    "# X and Y axes selector"
   ]
  },
  {
   "cell_type": "code",
   "execution_count": null,
   "metadata": {
    "ExecuteTime": {
     "end_time": "2018-10-23T21:11:11.333334Z",
     "start_time": "2018-10-23T21:11:11.279478Z"
    }
   },
   "outputs": [],
   "source": [
    "import logging; reload(logging)\n",
    "from plottr import log as plottrlog; reload(plottrlog)\n",
    "\n",
    "from plottr.node import node; reload(node)\n",
    "from plottr.node import dim_reducer; reload(dim_reducer)\n",
    "from plottr.node.dim_reducer import XYAxesSelector\n",
    "\n",
    "XYAxesSelector.debug = True\n",
    "XYAxesSelector.useUi = True\n",
    "\n",
    "nodelib = fclib.NodeLibrary()\n",
    "nodelib.addNodeType(XYAxesSelector, [('Basic')])\n",
    "\n",
    "### Setting up the flowchart\n",
    "# library\n",
    "fc = Flowchart(terminals={\n",
    "    'dataIn': {'io': 'in'},\n",
    "    'dataOut': {'io': 'out'}\n",
    "})\n",
    "fc.library = nodelib\n",
    "\n",
    "# flowchart for this example\n",
    "selector = fc.createNode('XYAxesSelector')\n",
    "fc.connectTerminals(fc['dataIn'], selector['dataIn'])\n",
    "fc.connectTerminals(selector['dataOut'], fc['dataOut'])\n",
    "\n",
    "### Setting up the GUI\n",
    "win = QtGui.QMainWindow()\n",
    "area = DockArea()\n",
    "win.setCentralWidget(area)\n",
    "\n",
    "# data selector\n",
    "selectorDock = Dock('XY Axes Selector')\n",
    "selectorDock.addWidget(selector.ui)\n",
    "area.addDock(selectorDock)\n",
    "\n",
    "# logger\n",
    "logDock = Dock('Log')\n",
    "logDock.addWidget(plottrlog.setupLogging(makeDialog=False))\n",
    "area.addDock(logDock, 'bottom', selectorDock)\n",
    "\n",
    "win.show()\n",
    "\n",
    "### Logging\n",
    "logger = logging.getLogger('plottr.interactive')\n",
    "plottrlog.LEVEL = logging.DEBUG"
   ]
  },
  {
   "cell_type": "code",
   "execution_count": null,
   "metadata": {
    "ExecuteTime": {
     "end_time": "2018-10-23T21:11:13.929386Z",
     "start_time": "2018-10-23T21:11:13.896475Z"
    }
   },
   "outputs": [],
   "source": [
    "import test_data; reload(test_data)\n",
    "data = test_data.three_compatible_3d_sets().get_grid()\n",
    "fc.setInput(dataIn=data)"
   ]
  },
  {
   "cell_type": "code",
   "execution_count": null,
   "metadata": {
    "ExecuteTime": {
     "end_time": "2018-10-23T21:11:29.038129Z",
     "start_time": "2018-10-23T21:11:29.031148Z"
    }
   },
   "outputs": [],
   "source": [
    "selector.xyAxes = 'z', 'y'"
   ]
  },
  {
   "cell_type": "code",
   "execution_count": null,
   "metadata": {
    "ExecuteTime": {
     "end_time": "2018-10-23T21:11:34.261458Z",
     "start_time": "2018-10-23T21:11:34.253479Z"
    }
   },
   "outputs": [],
   "source": [
    "out = fc.output()['dataOut']\n",
    "print(type(out))\n",
    "pprint(out)"
   ]
  },
  {
   "cell_type": "code",
   "execution_count": null,
   "metadata": {
    "ExecuteTime": {
     "end_time": "2018-10-23T21:11:44.286619Z",
     "start_time": "2018-10-23T21:11:44.281632Z"
    }
   },
   "outputs": [],
   "source": [
    "selector.reductions = {\n",
    "    'x' : (dim_reducer.selectAxisElement, [], dict(index=1))\n",
    "}"
   ]
  },
  {
   "cell_type": "code",
   "execution_count": null,
   "metadata": {},
   "outputs": [],
   "source": []
  },
  {
   "cell_type": "markdown",
   "metadata": {},
   "source": [
    "# Scribbles"
   ]
  },
  {
   "cell_type": "code",
   "execution_count": null,
   "metadata": {
    "ExecuteTime": {
     "end_time": "2018-10-22T21:51:12.318936Z",
     "start_time": "2018-10-22T21:51:12.311929Z"
    }
   },
   "outputs": [],
   "source": []
  },
  {
   "cell_type": "code",
   "execution_count": null,
   "metadata": {},
   "outputs": [],
   "source": []
  },
  {
   "cell_type": "code",
   "execution_count": null,
   "metadata": {},
   "outputs": [],
   "source": []
  }
 ],
 "metadata": {
  "hide_input": false,
  "kernelspec": {
   "display_name": "Python 3",
   "language": "python",
   "name": "python3"
  },
  "language_info": {
   "codemirror_mode": {
    "name": "ipython",
    "version": 3
   },
   "file_extension": ".py",
   "mimetype": "text/x-python",
   "name": "python",
   "nbconvert_exporter": "python",
   "pygments_lexer": "ipython3",
   "version": "3.6.6"
  },
  "toc": {
   "base_numbering": 1,
   "nav_menu": {},
   "number_sections": true,
   "sideBar": true,
   "skip_h1_title": false,
   "title_cell": "Table of Contents",
   "title_sidebar": "Contents",
   "toc_cell": false,
   "toc_position": {
    "height": "1298.47px",
    "left": "43px",
    "top": "111.483px",
    "width": "243.983px"
   },
   "toc_section_display": true,
   "toc_window_display": true
  }
 },
 "nbformat": 4,
 "nbformat_minor": 2
}
