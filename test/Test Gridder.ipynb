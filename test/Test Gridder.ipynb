{
 "cells": [
  {
   "cell_type": "code",
   "execution_count": 1,
   "metadata": {
    "ExecuteTime": {
     "end_time": "2018-11-08T22:31:50.603214Z",
     "start_time": "2018-11-08T22:31:49.890081Z"
    }
   },
   "outputs": [],
   "source": [
    "%gui qt\n",
    "# %matplotlib notebook\n",
    "\n",
    "from importlib import reload\n",
    "from pprint import pprint\n",
    "\n",
    "import numpy as np\n",
    "from matplotlib import pyplot as plt"
   ]
  },
  {
   "cell_type": "code",
   "execution_count": 89,
   "metadata": {
    "ExecuteTime": {
     "end_time": "2018-11-09T23:14:09.030177Z",
     "start_time": "2018-11-09T23:14:08.977318Z"
    }
   },
   "outputs": [
    {
     "name": "stdout",
     "output_type": "stream",
     "text": [
      "got the shape: (3, 3, 3)\n",
      "No grid\n",
      "Guess shape\n",
      "Specify shape\n"
     ]
    }
   ],
   "source": [
    "import logging; reload(logging)\n",
    "\n",
    "from plottr.data import datadict as dd; reload(dd)\n",
    "\n",
    "from plottr.node.node import Node\n",
    "from plottr.node import grid; reload(grid)\n",
    "from plottr.node.grid import DataGridder\n",
    "\n",
    "Node.raiseExceptions = True\n",
    "DataGridder.raiseExceptions = True\n",
    "\n",
    "import common; reload(common)\n",
    "from common import make_sequential_flowchart, make_sequential_flowchart_with_gui\n",
    "\n",
    "import data; reload(data)\n",
    "testdata = data.three_compatible_3d_sets()\n",
    "testdata = dd.datadict_to_meshgrid(testdata)\n",
    "testdata.validate()\n",
    "\n",
    "nodes, fc, win = make_sequential_flowchart_with_gui([DataGridder])\n",
    "fc.setInput(dataIn=testdata)\n",
    "\n",
    "gridder = nodes[0]"
   ]
  },
  {
   "cell_type": "code",
   "execution_count": 71,
   "metadata": {
    "ExecuteTime": {
     "end_time": "2018-11-08T23:01:45.122348Z",
     "start_time": "2018-11-08T23:01:45.114369Z"
    }
   },
   "outputs": [
    {
     "name": "stdout",
     "output_type": "stream",
     "text": [
      "got the shape: ()\n"
     ]
    },
    {
     "data": {
      "text/plain": [
       "{'dataOut': {'x': {'unit': 'mA',\n",
       "   'axes': [],\n",
       "   'values': array([ 0.,  0.,  0.,  0.,  0.,  0.,  0.,  0.,  0.,  5.,  5.,  5.,  5.,\n",
       "           5.,  5.,  5.,  5.,  5., 10., 10., 10., 10., 10., 10., 10., 10.,\n",
       "          10.])},\n",
       "  'y': {'unit': 'uC',\n",
       "   'axes': [],\n",
       "   'values': array([-5., -5., -5.,  0.,  0.,  0.,  5.,  5.,  5., -5., -5., -5.,  0.,\n",
       "           0.,  0.,  5.,  5.,  5., -5., -5., -5.,  0.,  0.,  0.,  5.,  5.,\n",
       "           5.])},\n",
       "  'z': {'unit': 'nF',\n",
       "   'axes': [],\n",
       "   'values': array([0, 1, 2, 0, 1, 2, 0, 1, 2, 0, 1, 2, 0, 1, 2, 0, 1, 2, 0, 1, 2, 0,\n",
       "          1, 2, 0, 1, 2])},\n",
       "  'data': {'axes': ['x', 'y', 'z'],\n",
       "   'unit': 'kW',\n",
       "   'values': array([ 1.46161774,  1.88539065,  0.97188357,  0.51437711,  0.33086643,\n",
       "           0.70075894, -0.56875802, -0.33913881, -0.60444988,  0.6615143 ,\n",
       "           0.41574716,  0.75442746,  0.48639202,  0.83377075,  0.98081646,\n",
       "           0.40936004, -0.11690289,  0.10045818, -0.75800539, -0.23270212,\n",
       "          -0.25554031,  0.50489555,  0.8640989 ,  0.12285887,  1.70547644,\n",
       "           0.96377715,  1.17109472])},\n",
       "  'more_data': {'axes': ['x', 'y', 'z'],\n",
       "   'unit': 'MV',\n",
       "   'values': array([ 0.37928511,  0.03050795,  0.84316298,  0.2535075 ,  0.41694572,\n",
       "           0.99886348,  0.16722808,  0.49548272,  0.15489833,  0.51353833,\n",
       "           0.62976934,  0.09645304, -0.73716757, -0.13543157, -0.34768815,\n",
       "           0.57588175,  0.52689367, -0.07323604,  0.15184728,  0.31441081,\n",
       "           0.49660985, -0.01533368, -0.4946767 , -0.3188676 ,  0.2772269 ,\n",
       "           0.15068932,  0.61392523])},\n",
       "  'different_data': {'axes': ['x', 'y', 'z'],\n",
       "   'unit': 'TS',\n",
       "   'values': array([0.6273649 , 0.31957064, 0.83088305, 1.31571838, 1.75732935,\n",
       "          1.17362585, 0.21058208, 0.16264503, 0.44058816, 0.69512338,\n",
       "          0.90791589, 0.574454  , 0.23176448, 0.42294732, 0.54712368,\n",
       "          0.08321315, 0.81628415, 0.47682247, 0.1116768 , 0.45333962,\n",
       "          0.92232558, 1.29369946, 0.76922016, 0.87416521, 0.35733478,\n",
       "          0.47875096, 0.16828901])}}}"
      ]
     },
     "execution_count": 71,
     "metadata": {},
     "output_type": "execute_result"
    }
   ],
   "source": [
    "gridder.grid = False\n",
    "fc.output()"
   ]
  },
  {
   "cell_type": "code",
   "execution_count": null,
   "metadata": {
    "ExecuteTime": {
     "end_time": "2018-11-08T22:56:31.297816Z",
     "start_time": "2018-11-08T22:56:31.293828Z"
    }
   },
   "outputs": [],
   "source": []
  },
  {
   "cell_type": "code",
   "execution_count": null,
   "metadata": {},
   "outputs": [],
   "source": []
  }
 ],
 "metadata": {
  "kernelspec": {
   "display_name": "Python 3",
   "language": "python",
   "name": "python3"
  },
  "language_info": {
   "codemirror_mode": {
    "name": "ipython",
    "version": 3
   },
   "file_extension": ".py",
   "mimetype": "text/x-python",
   "name": "python",
   "nbconvert_exporter": "python",
   "pygments_lexer": "ipython3",
   "version": "3.6.6"
  },
  "toc": {
   "base_numbering": 1,
   "nav_menu": {},
   "number_sections": true,
   "sideBar": true,
   "skip_h1_title": false,
   "title_cell": "Table of Contents",
   "title_sidebar": "Contents",
   "toc_cell": false,
   "toc_position": {},
   "toc_section_display": true,
   "toc_window_display": false
  }
 },
 "nbformat": 4,
 "nbformat_minor": 2
}
