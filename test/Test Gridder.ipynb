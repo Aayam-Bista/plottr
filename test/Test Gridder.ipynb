{
 "cells": [
  {
   "cell_type": "code",
   "execution_count": 1,
   "metadata": {
    "ExecuteTime": {
     "end_time": "2018-11-10T15:36:22.511304Z",
     "start_time": "2018-11-10T15:36:21.683342Z"
    }
   },
   "outputs": [],
   "source": [
    "%gui qt\n",
    "# %matplotlib notebook\n",
    "\n",
    "from importlib import reload\n",
    "from pprint import pprint\n",
    "\n",
    "import numpy as np\n",
    "from matplotlib import pyplot as plt"
   ]
  },
  {
   "cell_type": "code",
   "execution_count": 66,
   "metadata": {
    "ExecuteTime": {
     "end_time": "2018-11-10T18:18:54.762143Z",
     "start_time": "2018-11-10T18:18:54.038080Z"
    }
   },
   "outputs": [
    {
     "name": "stdout",
     "output_type": "stream",
     "text": [
      "Grid is: guess\n"
     ]
    }
   ],
   "source": [
    "import logging; reload(logging)\n",
    "\n",
    "from plottr.data import datadict as dd; reload(dd)\n",
    "\n",
    "from plottr.node.node import Node\n",
    "from plottr.node import grid; reload(grid)\n",
    "from plottr.node.grid import DataGridder\n",
    "\n",
    "Node.raiseExceptions = True\n",
    "DataGridder.raiseExceptions = True\n",
    "\n",
    "import common; reload(common)\n",
    "from common import make_sequential_flowchart, make_sequential_flowchart_with_gui\n",
    "\n",
    "import data; reload(data)\n",
    "testdata = data.three_compatible_3d_sets()\n",
    "# testdata = dd.datadict_to_meshgrid(testdata)\n",
    "testdata.validate()\n",
    "\n",
    "nodes, fc, win = make_sequential_flowchart_with_gui([DataGridder])\n",
    "fc.setInput(dataIn=testdata)\n",
    "\n",
    "gridder = nodes[0]"
   ]
  },
  {
   "cell_type": "code",
   "execution_count": 68,
   "metadata": {
    "ExecuteTime": {
     "end_time": "2018-11-10T18:19:12.643314Z",
     "start_time": "2018-11-10T18:19:12.592451Z"
    }
   },
   "outputs": [
    {
     "data": {
      "text/plain": [
       "{'dataOut': {'x': {'values': array([ 0.,  0.,  0.,  0.,  0.,  0.,  0.,  0.,  0.,  5.,  5.,  5.,  5.,\n",
       "           5.,  5.,  5.,  5.,  5., 10., 10., 10., 10., 10., 10., 10., 10.,\n",
       "          10.]), 'unit': 'mA', 'axes': []},\n",
       "  'y': {'values': array([-5., -5., -5.,  0.,  0.,  0.,  5.,  5.,  5., -5., -5., -5.,  0.,\n",
       "           0.,  0.,  5.,  5.,  5., -5., -5., -5.,  0.,  0.,  0.,  5.,  5.,\n",
       "           5.]),\n",
       "   'unit': 'uC',\n",
       "   'axes': []},\n",
       "  'z': {'values': array([0, 1, 2, 0, 1, 2, 0, 1, 2, 0, 1, 2, 0, 1, 2, 0, 1, 2, 0, 1, 2, 0,\n",
       "          1, 2, 0, 1, 2]), 'unit': 'nF', 'axes': []},\n",
       "  'data': {'values': array([ 1.23238608,  1.31994161,  1.88460984,  0.53858353,  0.98943618,\n",
       "           0.31440256, -0.94126396, -0.57266415, -0.72517718,  0.62182978,\n",
       "           0.30442209,  1.12970843,  0.09946637,  0.18533514,  0.31960575,\n",
       "           0.33778474,  0.43543426,  0.12972036, -0.13993938,  0.05463553,\n",
       "          -0.06984515,  0.92545108,  0.83959846,  0.0547658 ,  1.60868974,\n",
       "           1.71096667,  1.15994728]), 'axes': ['x', 'y', 'z'], 'unit': 'kW'},\n",
       "  'more_data': {'values': array([ 0.70835346,  0.25446711,  0.79141532,  0.9018894 ,  0.34630044,\n",
       "           0.59448515,  0.91779052,  0.34222141,  0.54418106,  0.10166501,\n",
       "           0.49550945,  0.19626637, -0.24733986, -0.8818954 , -0.51261613,\n",
       "           0.11184902,  0.63918456,  0.08868608,  0.01181945,  0.80404907,\n",
       "          -0.10560332,  0.37978174,  0.30553243, -0.49982737, -0.11414296,\n",
       "           0.34457834,  0.83205297]), 'axes': ['x', 'y', 'z'], 'unit': 'MV'},\n",
       "  'different_data': {'values': array([0.3409601 , 0.19749073, 0.80859783, 1.51651745, 1.59516028,\n",
       "          1.20681046, 0.68122308, 0.83999129, 0.41840154, 0.77495752,\n",
       "          0.21803656, 0.27600272, 0.27329522, 0.35955043, 0.23317477,\n",
       "          0.76474795, 0.01633817, 0.53812662, 0.23416494, 0.92164409,\n",
       "          0.97533166, 0.81782605, 1.59948368, 1.41460133, 0.72661489,\n",
       "          0.52198178, 0.1642698 ]), 'axes': ['x', 'y', 'z'], 'unit': 'TS'}}}"
      ]
     },
     "execution_count": 68,
     "metadata": {},
     "output_type": "execute_result"
    }
   ],
   "source": [
    "# gridder.grid = 'guess'\n",
    "fc.output()"
   ]
  },
  {
   "cell_type": "code",
   "execution_count": 61,
   "metadata": {
    "ExecuteTime": {
     "end_time": "2018-11-10T18:17:35.368814Z",
     "start_time": "2018-11-10T18:17:35.337580Z"
    }
   },
   "outputs": [
    {
     "data": {
      "text/plain": [
       "False"
      ]
     },
     "execution_count": 61,
     "metadata": {},
     "output_type": "execute_result"
    },
    {
     "name": "stdout",
     "output_type": "stream",
     "text": [
      "Grid is: (1, 1, 1)\n"
     ]
    }
   ],
   "source": [
    "gridder.grid"
   ]
  },
  {
   "cell_type": "code",
   "execution_count": 11,
   "metadata": {
    "ExecuteTime": {
     "end_time": "2018-11-10T15:51:11.744776Z",
     "start_time": "2018-11-10T15:51:11.713533Z"
    }
   },
   "outputs": [
    {
     "name": "stdout",
     "output_type": "stream",
     "text": [
      "got the shape: (3, 3, 3)\n",
      "Hi there, Specify shape\n",
      "Hi there, Guess shape\n",
      "Hi there, No grid\n"
     ]
    }
   ],
   "source": [
    "fc.setInput(dataIn=testdata.extract('data'))"
   ]
  },
  {
   "cell_type": "code",
   "execution_count": null,
   "metadata": {},
   "outputs": [],
   "source": []
  }
 ],
 "metadata": {
  "kernelspec": {
   "display_name": "Python 3",
   "language": "python",
   "name": "python3"
  },
  "language_info": {
   "codemirror_mode": {
    "name": "ipython",
    "version": 3
   },
   "file_extension": ".py",
   "mimetype": "text/x-python",
   "name": "python",
   "nbconvert_exporter": "python",
   "pygments_lexer": "ipython3",
   "version": "3.6.6"
  },
  "toc": {
   "base_numbering": 1,
   "nav_menu": {},
   "number_sections": true,
   "sideBar": true,
   "skip_h1_title": false,
   "title_cell": "Table of Contents",
   "title_sidebar": "Contents",
   "toc_cell": false,
   "toc_position": {},
   "toc_section_display": true,
   "toc_window_display": false
  }
 },
 "nbformat": 4,
 "nbformat_minor": 2
}
