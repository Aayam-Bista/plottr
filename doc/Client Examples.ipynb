{
 "cells": [
  {
   "cell_type": "code",
   "execution_count": null,
   "metadata": {
    "ExecuteTime": {
     "end_time": "2018-10-11T12:48:35.966403Z",
     "start_time": "2018-10-11T12:48:34.850621Z"
    },
    "collapsed": true
   },
   "outputs": [],
   "source": [
    "%matplotlib notebook\n",
    "import os\n",
    "import zmq\n",
    "import numpy as np\n",
    "import time\n",
    "import json\n",
    "import copy\n",
    "from importlib import reload\n",
    "from matplotlib import pyplot as plt\n",
    "from collections import OrderedDict"
   ]
  },
  {
   "cell_type": "code",
   "execution_count": null,
   "metadata": {
    "collapsed": true
   },
   "outputs": [],
   "source": []
  },
  {
   "cell_type": "code",
   "execution_count": null,
   "metadata": {
    "ExecuteTime": {
     "end_time": "2018-10-11T12:48:36.922398Z",
     "start_time": "2018-10-11T12:48:36.900383Z"
    }
   },
   "outputs": [],
   "source": [
    "from plottr import client\n",
    "reload(client)"
   ]
  },
  {
   "cell_type": "markdown",
   "metadata": {},
   "source": [
    "# Introduction"
   ]
  },
  {
   "cell_type": "markdown",
   "metadata": {},
   "source": [
    "These are some illustrating examples of how plottr can be used. Basic usage is somewhat simplified by the client class that we import above. \n",
    "\n",
    "A few general remarks:\n",
    "* data coordinates must not be repeated (at the moment that will crash).\n",
    "* funky coordinates are untested; the measurement expects a nice grid at this point. Should be easy to fix, just needs to be done."
   ]
  },
  {
   "cell_type": "markdown",
   "metadata": {},
   "source": [
    "# Send static data\n",
    "\n",
    "We're sending a bunch of data in a few shapes to illustrate  plottr's basic behavior and UI. We see that we can change the data array being plotted, and we can choose against which axes to plot the data."
   ]
  },
  {
   "cell_type": "code",
   "execution_count": null,
   "metadata": {
    "ExecuteTime": {
     "end_time": "2018-10-11T12:48:44.803447Z",
     "start_time": "2018-10-11T12:48:44.708407Z"
    },
    "collapsed": true
   },
   "outputs": [],
   "source": [
    "def make_1d_data(nx, start=0):\n",
    "    x = np.linspace(start+0, start+10, nx, dtype=float)\n",
    "    y = np.cos(x)\n",
    "    return x, y\n",
    "\n",
    "def make_2d_data(nx, ny):\n",
    "    x = np.linspace(0, 10, nx, dtype=float)\n",
    "    y = np.linspace(-5, 5, ny, dtype=float)\n",
    "    xx, yy = np.meshgrid(x, y, indexing='ij')\n",
    "    zz = np.exp(-yy**2/(2 * 2**3)) * np.cos(xx)\n",
    "    return xx.reshape(-1), yy.reshape(-1), zz.reshape(-1)\n",
    "\n",
    "def make_2d_avg_data(nx, ny, navg):\n",
    "    x = np.array([])\n",
    "    y = np.array([])\n",
    "    z = np.array([])\n",
    "    avg = np.array([])\n",
    "    for i in range(navg):\n",
    "        _x, _y, _z = make_2d_data(nx, ny)\n",
    "        _z += (np.random.rand(nx, ny).reshape(-1) * 2. - 1.)\n",
    "        x = np.append(x, _x)\n",
    "        y = np.append(y, _y)\n",
    "        z = np.append(z, _z)\n",
    "        avg = np.append(avg, np.ones(_z.size) * i)\n",
    "        \n",
    "    return x, y, avg, z"
   ]
  },
  {
   "cell_type": "code",
   "execution_count": null,
   "metadata": {
    "ExecuteTime": {
     "end_time": "2018-10-10T14:19:34.226465Z",
     "start_time": "2018-10-10T14:19:34.175845Z"
    },
    "collapsed": true
   },
   "outputs": [],
   "source": [
    "# just a boring cos curve\n",
    "x1, y1 = make_1d_data(21)\n",
    "\n",
    "# a cos in x and a gauss curve in y\n",
    "x2, y2, z2 = make_2d_data(31, 11)\n",
    "\n",
    "# emulate a noise measurement of the cos/gauss data, and average a few times.\n",
    "x3, y3, avg3, z3 = make_2d_avg_data(31, 11, 10)\n",
    "\n",
    "\n",
    "sender = client.DataSender(dataId='Dummy data no.1')\n",
    "sender.addDataSetSimple(sine1d=y1.tolist(), x1=x1.tolist())\n",
    "sender.addDataSetSimple(cos_gauss=z2.tolist(), osc=x2.tolist(), gauss=y2.tolist())\n",
    "sender.addDataSetSimple(cos_gauss_avg=z3.tolist(), xvals=x3.tolist(), yvals=y3.tolist(), avg=avg3.tolist())\n",
    "sender.sendData()"
   ]
  },
  {
   "cell_type": "markdown",
   "metadata": {},
   "source": [
    "Sending another dataset (i.e., something with a different data ID) will trigger a new data window."
   ]
  },
  {
   "cell_type": "code",
   "execution_count": null,
   "metadata": {
    "collapsed": true
   },
   "outputs": [],
   "source": [
    "sender2 = copy.copy(sender)\n",
    "sender2.data['id'] = 'Dummy data no.2'\n",
    "sender2.sendData()"
   ]
  },
  {
   "cell_type": "markdown",
   "metadata": {},
   "source": [
    "# Update data"
   ]
  },
  {
   "cell_type": "markdown",
   "metadata": {},
   "source": [
    "## Simple 1D case, manual updates\n",
    "\n",
    "After defining of, each execution of the following cell will add data points to the sine curve."
   ]
  },
  {
   "cell_type": "code",
   "execution_count": null,
   "metadata": {
    "ExecuteTime": {
     "end_time": "2018-10-04T08:43:46.713057Z",
     "start_time": "2018-10-04T08:43:46.710469Z"
    },
    "collapsed": true
   },
   "outputs": [],
   "source": [
    "of = 0"
   ]
  },
  {
   "cell_type": "code",
   "execution_count": null,
   "metadata": {
    "ExecuteTime": {
     "end_time": "2018-10-04T08:43:53.387272Z",
     "start_time": "2018-10-04T08:43:53.358536Z"
    },
    "collapsed": true
   },
   "outputs": [],
   "source": [
    "# execute this cell manually a few times to see the curve getting longer.\n",
    "x, y = make_1d_data(21, start=of)\n",
    "of = x[-1] + (x[-1]-x[-2])\n",
    "\n",
    "sender = client.DataSender(dataId='Dummy data no.3')\n",
    "sender.addDataSetSimple(y=y.tolist(), x=x.tolist())\n",
    "sender.sendData()"
   ]
  },
  {
   "cell_type": "markdown",
   "metadata": {},
   "source": [
    "## Integrate noisy data\n",
    "\n",
    "Simple emulation of a measurement that averages (slowly)."
   ]
  },
  {
   "cell_type": "code",
   "execution_count": null,
   "metadata": {
    "ExecuteTime": {
     "end_time": "2018-10-04T08:44:02.965629Z",
     "start_time": "2018-10-04T08:43:57.731253Z"
    },
    "collapsed": true
   },
   "outputs": [],
   "source": [
    "import time\n",
    "avg = 0\n",
    "\n",
    "while(avg < 100):\n",
    "    x, y, _avg, z = make_2d_avg_data(21, 21, 1)\n",
    "    avgs = (avg * np.ones(z.size)).reshape(-1)\n",
    "    empty = np.zeros(z.size).reshape(-1)\n",
    "    \n",
    "    sender = client.DataSender(dataId='Dummy data no.4')\n",
    "    sender.addDataSetSimple(z=z, x=x, y=y, avgs=avgs, empty=empty)\n",
    "    sender.sendData()\n",
    "\n",
    "    avg += 1\n",
    "    time.sleep(1)"
   ]
  },
  {
   "cell_type": "markdown",
   "metadata": {},
   "source": [
    "## Build up 2D data in some silly way"
   ]
  },
  {
   "cell_type": "code",
   "execution_count": null,
   "metadata": {
    "collapsed": true
   },
   "outputs": [],
   "source": [
    "xvals = []\n",
    "yvals = []\n",
    "zvals = []\n",
    "i = 0\n",
    "for x in np.linspace(-5, 5, 21):\n",
    "    for y in np.linspace(-5, 5, 21):\n",
    "        xvals.append(x)\n",
    "        yvals.append(y)\n",
    "        zvals.append(np.exp(-(x**2+y**2)/(2*1.**2)))\n",
    "        \n",
    "        i += 1\n",
    "        if i > 10:\n",
    "            sender = sender = client.DataSender(dataId='Dummy data no.5')\n",
    "            sender.addDataSetSimple(z=zvals, x=xvals, y=yvals)\n",
    "            sender.sendData()\n",
    "            \n",
    "            xvals = []\n",
    "            yvals = []\n",
    "            zvals = []\n",
    "            i = 0\n",
    "            \n",
    "        time.sleep(0.1)\n",
    "\n",
    "if len(zvals) > 0:\n",
    "    sender = sender = client.DataSender(dataId='Dummy data no.5')\n",
    "    sender.addDataSetSimple(z=zvals, x=xvals, y=yvals)\n",
    "    sender.sendData()"
   ]
  },
  {
   "cell_type": "code",
   "execution_count": null,
   "metadata": {
    "collapsed": true
   },
   "outputs": [],
   "source": []
  },
  {
   "cell_type": "markdown",
   "metadata": {},
   "source": [
    "# QCodes Dataset subscriber"
   ]
  },
  {
   "cell_type": "code",
   "execution_count": null,
   "metadata": {
    "ExecuteTime": {
     "end_time": "2018-10-11T12:48:56.131459Z",
     "start_time": "2018-10-11T12:48:49.456919Z"
    },
    "collapsed": true
   },
   "outputs": [],
   "source": [
    "import plottr # ; reload(plottr)\n",
    "from plottr.client import DataSender\n",
    "\n",
    "from plottr import qcodes_dataset; reload(qcodes_dataset)\n",
    "from plottr.qcodes_dataset import QcodesDatasetSubscriber"
   ]
  },
  {
   "cell_type": "code",
   "execution_count": null,
   "metadata": {
    "ExecuteTime": {
     "end_time": "2018-10-11T12:51:18.268494Z",
     "start_time": "2018-10-11T12:51:18.251483Z"
    },
    "collapsed": true
   },
   "outputs": [],
   "source": [
    "import qcodes as qc\n",
    "from qcodes.dataset.measurements import Measurement\n",
    "from qcodes.dataset.experiment_container import load_experiment_by_name, new_experiment\n",
    "\n",
    "qc.config.core.db_location = './experiments.db'\n",
    "\n",
    "def select_experiment(exp_name, sample_name):\n",
    "    try:\n",
    "        exp = load_experiment_by_name(exp_name)\n",
    "    except ValueError:\n",
    "        exp = new_experiment(exp_name, sample_name)\n",
    "    return exp"
   ]
  },
  {
   "cell_type": "code",
   "execution_count": null,
   "metadata": {
    "ExecuteTime": {
     "end_time": "2018-10-11T12:50:54.440157Z",
     "start_time": "2018-10-11T12:50:54.433122Z"
    }
   },
   "outputs": [],
   "source": []
  },
  {
   "cell_type": "code",
   "execution_count": null,
   "metadata": {
    "collapsed": true
   },
   "outputs": [],
   "source": []
  },
  {
   "cell_type": "code",
   "execution_count": null,
   "metadata": {
    "collapsed": true
   },
   "outputs": [],
   "source": []
  },
  {
   "cell_type": "markdown",
   "metadata": {},
   "source": [
    "## 1D data"
   ]
  },
  {
   "cell_type": "code",
   "execution_count": null,
   "metadata": {
    "ExecuteTime": {
     "end_time": "2018-10-11T16:36:10.538468Z",
     "start_time": "2018-10-11T16:36:06.828758Z"
    },
    "scrolled": false
   },
   "outputs": [],
   "source": [
    "exp = select_experiment('dev: plottr subscriber', 'dummy')\n",
    "meas = Measurement(exp=exp)\n",
    "meas.write_period = 0.5\n",
    "\n",
    "meas.register_custom_parameter('x', unit='bogus', paramtype='array')\n",
    "meas.register_custom_parameter('y', unit='more bogus', setpoints=['x', ], paramtype='array')\n",
    "\n",
    "with meas.run() as datasaver:\n",
    "    datasaver.dataset.subscribe(QcodesDatasetSubscriber(datasaver.dataset), state=[], \n",
    "                                min_wait=0, min_count=1)\n",
    "    \n",
    "    for x in np.linspace(0, 10, 26):\n",
    "        y = np.cos(x)\n",
    "        datasaver.add_result(('y', np.array([y])), ('x', np.array([x])))\n",
    "        time.sleep(0.05)"
   ]
  },
  {
   "cell_type": "code",
   "execution_count": null,
   "metadata": {
    "ExecuteTime": {
     "end_time": "2018-10-11T16:36:54.351949Z",
     "start_time": "2018-10-11T16:36:54.233865Z"
    }
   },
   "outputs": [],
   "source": [
    "xvals = np.array(datasaver.dataset.get_values('x')).reshape(-1)\n",
    "yvals = np.array(datasaver.dataset.get_values('y')).reshape(-1)\n",
    "\n",
    "fig, ax = plt.subplots(1, 1)\n",
    "ax.plot(xvals, yvals, 'o')"
   ]
  },
  {
   "cell_type": "code",
   "execution_count": null,
   "metadata": {
    "collapsed": true
   },
   "outputs": [],
   "source": []
  },
  {
   "cell_type": "markdown",
   "metadata": {},
   "source": [
    "## 2D data"
   ]
  },
  {
   "cell_type": "code",
   "execution_count": null,
   "metadata": {
    "ExecuteTime": {
     "end_time": "2018-10-11T16:37:45.277016Z",
     "start_time": "2018-10-11T16:37:11.201952Z"
    },
    "scrolled": true
   },
   "outputs": [],
   "source": [
    "exp = select_experiment('dev: plottr subscriber (again)', 'dummy 2D!')\n",
    "meas = Measurement(exp=exp)\n",
    "meas.write_period = 0.5\n",
    "\n",
    "meas.register_custom_parameter('x', unit='A')\n",
    "meas.register_custom_parameter('y', unit='B')\n",
    "meas.register_custom_parameter('z', unit='C', setpoints=['x', 'y', ])\n",
    "\n",
    "with meas.run() as datasaver:\n",
    "    datasaver.dataset.subscribe(QcodesDatasetSubscriber(datasaver.dataset), state=[], \n",
    "                                min_wait=0, min_count=1)  \n",
    "    \n",
    "    for x in np.linspace(0, 10, 16):\n",
    "        for y in np.linspace(0, 10, 16):\n",
    "            z = np.cos(x) * np.sin(y)\n",
    "            datasaver.add_result(('z', z), ('y', y), ('x', x))\n",
    "            time.sleep(0.1)"
   ]
  },
  {
   "cell_type": "markdown",
   "metadata": {},
   "source": [
    "## 2D data with lines as 'hard sweeps'"
   ]
  },
  {
   "cell_type": "code",
   "execution_count": null,
   "metadata": {
    "ExecuteTime": {
     "end_time": "2018-10-11T12:53:00.256201Z",
     "start_time": "2018-10-11T12:52:54.625668Z"
    }
   },
   "outputs": [],
   "source": [
    "exp = select_experiment('dev: plottr subscriber (again. v2.)', 'dummy 2D!')\n",
    "meas = Measurement(exp=exp)\n",
    "meas.write_period = 0.5\n",
    "\n",
    "meas.register_custom_parameter('x', unit='A')\n",
    "meas.register_custom_parameter('y', unit='B', paramtype='array')\n",
    "meas.register_custom_parameter('z', unit='C', setpoints=['x', 'y', ], paramtype='array')\n",
    "\n",
    "with meas.run() as datasaver:\n",
    "    datasaver.dataset.subscribe(QcodesDatasetSubscriber(datasaver.dataset), state=[], \n",
    "                                min_wait=0, min_count=1)    \n",
    "    \n",
    "    for x in np.linspace(0, 10, 31):\n",
    "        y = np.linspace(0, 10, 31)\n",
    "        z = np.cos(x) * np.sin(y)\n",
    "        datasaver.add_result(('z', z), ('y', y), ('x', x))\n",
    "        time.sleep(0.1)"
   ]
  },
  {
   "cell_type": "code",
   "execution_count": null,
   "metadata": {
    "collapsed": true
   },
   "outputs": [],
   "source": []
  },
  {
   "cell_type": "code",
   "execution_count": null,
   "metadata": {
    "collapsed": true
   },
   "outputs": [],
   "source": []
  },
  {
   "cell_type": "code",
   "execution_count": null,
   "metadata": {
    "collapsed": true
   },
   "outputs": [],
   "source": []
  },
  {
   "cell_type": "markdown",
   "metadata": {},
   "source": [
    "# Scribble"
   ]
  },
  {
   "cell_type": "code",
   "execution_count": null,
   "metadata": {
    "ExecuteTime": {
     "end_time": "2018-10-11T15:19:19.654506Z",
     "start_time": "2018-10-11T15:19:19.632490Z"
    }
   },
   "outputs": [],
   "source": [
    "from pprint import pprint\n",
    "from plottr import qcodes_dataset as qds; reload(qds)"
   ]
  },
  {
   "cell_type": "code",
   "execution_count": null,
   "metadata": {
    "ExecuteTime": {
     "end_time": "2018-10-11T15:57:45.479224Z",
     "start_time": "2018-10-11T15:57:45.438171Z"
    }
   },
   "outputs": [],
   "source": [
    "run_id = 15\n",
    "qc.dataset.data_export.get_data_by_id(15)"
   ]
  },
  {
   "cell_type": "code",
   "execution_count": null,
   "metadata": {
    "ExecuteTime": {
     "end_time": "2018-10-11T15:53:46.566658Z",
     "start_time": "2018-10-11T15:53:46.559679Z"
    },
    "scrolled": false
   },
   "outputs": [],
   "source": [
    "data = qds.getDatasetAsDict(ds)\n",
    "pprint(data)"
   ]
  },
  {
   "cell_type": "code",
   "execution_count": null,
   "metadata": {
    "collapsed": true
   },
   "outputs": [],
   "source": []
  },
  {
   "cell_type": "code",
   "execution_count": null,
   "metadata": {
    "collapsed": true
   },
   "outputs": [],
   "source": []
  },
  {
   "cell_type": "code",
   "execution_count": null,
   "metadata": {
    "collapsed": true
   },
   "outputs": [],
   "source": []
  },
  {
   "cell_type": "code",
   "execution_count": null,
   "metadata": {
    "collapsed": true
   },
   "outputs": [],
   "source": []
  },
  {
   "cell_type": "code",
   "execution_count": null,
   "metadata": {
    "collapsed": true
   },
   "outputs": [],
   "source": []
  },
  {
   "cell_type": "code",
   "execution_count": null,
   "metadata": {
    "collapsed": true
   },
   "outputs": [],
   "source": []
  },
  {
   "cell_type": "code",
   "execution_count": null,
   "metadata": {
    "collapsed": true
   },
   "outputs": [],
   "source": []
  },
  {
   "cell_type": "code",
   "execution_count": null,
   "metadata": {
    "ExecuteTime": {
     "end_time": "2018-10-11T13:09:04.935288Z",
     "start_time": "2018-10-11T13:09:04.894231Z"
    }
   },
   "outputs": [],
   "source": [
    "data = ds.get_data(*ds.parameters.split(','))"
   ]
  },
  {
   "cell_type": "code",
   "execution_count": null,
   "metadata": {
    "ExecuteTime": {
     "end_time": "2018-10-11T13:10:11.602080Z",
     "start_time": "2018-10-11T13:10:11.598078Z"
    }
   },
   "outputs": [],
   "source": [
    "from qcodes.dataset.data_export import get_data_by_id"
   ]
  },
  {
   "cell_type": "code",
   "execution_count": null,
   "metadata": {
    "ExecuteTime": {
     "end_time": "2018-10-11T13:10:44.173031Z",
     "start_time": "2018-10-11T13:10:44.126027Z"
    }
   },
   "outputs": [],
   "source": [
    "data = get_data_by_id(run_id)"
   ]
  },
  {
   "cell_type": "code",
   "execution_count": null,
   "metadata": {
    "ExecuteTime": {
     "end_time": "2018-10-11T13:17:15.280437Z",
     "start_time": "2018-10-11T13:17:15.271430Z"
    }
   },
   "outputs": [],
   "source": [
    "for i, d in enumerate(data):\n",
    "    print(i)\n",
    "    for j, e in enumerate(d):\n",
    "        print(j, e['name'], type(e['data']), e['data'].size)"
   ]
  },
  {
   "cell_type": "code",
   "execution_count": null,
   "metadata": {
    "collapsed": true
   },
   "outputs": [],
   "source": []
  }
 ],
 "metadata": {
  "hide_input": false,
  "kernelspec": {
   "display_name": "Python 3",
   "language": "python",
   "name": "python3"
  },
  "language_info": {
   "codemirror_mode": {
    "name": "ipython",
    "version": 3
   },
   "file_extension": ".py",
   "mimetype": "text/x-python",
   "name": "python",
   "nbconvert_exporter": "python",
   "pygments_lexer": "ipython3",
   "version": "3.6.3"
  },
  "toc": {
   "base_numbering": 1,
   "nav_menu": {},
   "number_sections": true,
   "sideBar": true,
   "skip_h1_title": false,
   "title_cell": "Table of Contents",
   "title_sidebar": "Contents",
   "toc_cell": false,
   "toc_position": {
    "height": "calc(100% - 180px)",
    "left": "10px",
    "top": "150px",
    "width": "224px"
   },
   "toc_section_display": true,
   "toc_window_display": true
  }
 },
 "nbformat": 4,
 "nbformat_minor": 2
}
