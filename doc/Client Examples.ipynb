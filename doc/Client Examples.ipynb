{
 "cells": [
  {
   "cell_type": "code",
   "execution_count": 1,
   "metadata": {},
   "outputs": [],
   "source": [
    "%matplotlib notebook\n",
    "import os\n",
    "import zmq\n",
    "import numpy as np\n",
    "import time\n",
    "import json\n",
    "import copy\n",
    "from importlib import reload\n",
    "from matplotlib import pyplot as plt\n",
    "from collections import OrderedDict"
   ]
  },
  {
   "cell_type": "code",
   "execution_count": null,
   "metadata": {},
   "outputs": [],
   "source": []
  },
  {
   "cell_type": "code",
   "execution_count": 2,
   "metadata": {},
   "outputs": [
    {
     "data": {
      "text/plain": [
       "<module 'plottr.client' from 'd:\\\\dropbox\\\\code\\\\labpydesktop\\\\plottr\\\\plottr\\\\client.py'>"
      ]
     },
     "execution_count": 2,
     "metadata": {},
     "output_type": "execute_result"
    }
   ],
   "source": [
    "from plottr import client\n",
    "reload(client)"
   ]
  },
  {
   "cell_type": "markdown",
   "metadata": {},
   "source": [
    "# Introduction"
   ]
  },
  {
   "cell_type": "markdown",
   "metadata": {},
   "source": [
    "These are some illustrating examples of how plottr can be used. Basic usage is somewhat simplified by the client class that we import above. \n",
    "\n",
    "A few general remarks:\n",
    "* data coordinates must not be repeated (at the moment that will crash).\n",
    "* funky coordinates are untested; the measurement expects a nice grid at this point. Should be easy to fix, just needs to be done."
   ]
  },
  {
   "cell_type": "markdown",
   "metadata": {},
   "source": [
    "# Send static data\n",
    "\n",
    "We're sending a bunch of data in a few shapes to illustrate  plottr's basic behavior and UI. We see that we can change the data array being plotted, and we can choose against which axes to plot the data."
   ]
  },
  {
   "cell_type": "code",
   "execution_count": 3,
   "metadata": {},
   "outputs": [],
   "source": [
    "def make_1d_data(nx, start=0):\n",
    "    x = np.linspace(start+0, start+10, nx, dtype=float)\n",
    "    y = np.cos(x)\n",
    "    return x, y\n",
    "\n",
    "def make_2d_data(nx, ny):\n",
    "    x = np.linspace(0, 10, nx, dtype=float)\n",
    "    y = np.linspace(-5, 5, ny, dtype=float)\n",
    "    xx, yy = np.meshgrid(x, y, indexing='ij')\n",
    "    zz = np.exp(-yy**2/(2 * 2**3)) * np.cos(xx)\n",
    "    return xx.reshape(-1), yy.reshape(-1), zz.reshape(-1)\n",
    "\n",
    "def make_2d_avg_data(nx, ny, navg):\n",
    "    x = np.array([])\n",
    "    y = np.array([])\n",
    "    z = np.array([])\n",
    "    avg = np.array([])\n",
    "    for i in range(navg):\n",
    "        _x, _y, _z = make_2d_data(nx, ny)\n",
    "        _z += (np.random.rand(nx, ny).reshape(-1) * 2. - 1.)\n",
    "        x = np.append(x, _x)\n",
    "        y = np.append(y, _y)\n",
    "        z = np.append(z, _z)\n",
    "        avg = np.append(avg, np.ones(_z.size) * i)\n",
    "        \n",
    "    return x, y, avg, z"
   ]
  },
  {
   "cell_type": "code",
   "execution_count": 4,
   "metadata": {},
   "outputs": [
    {
     "name": "stdout",
     "output_type": "stream",
     "text": [
      "Timeout during sending!\n"
     ]
    }
   ],
   "source": [
    "# just a boring cos curve\n",
    "x1, y1 = make_1d_data(21)\n",
    "\n",
    "# a cos in x and a gauss curve in y\n",
    "x2, y2, z2 = make_2d_data(31, 11)\n",
    "\n",
    "# emulate a noise measurement of the cos/gauss data, and average a few times.\n",
    "x3, y3, avg3, z3 = make_2d_avg_data(31, 11, 10)\n",
    "\n",
    "\n",
    "sender = client.DataSender(dataId='Dummy data no.1')\n",
    "sender.addDataSetSimple(sine1d=y1.tolist(), x1=x1.tolist())\n",
    "sender.addDataSetSimple(cos_gauss=z2.tolist(), osc=x2.tolist(), gauss=y2.tolist())\n",
    "sender.addDataSetSimple(cos_gauss_avg=z3.tolist(), xvals=x3.tolist(), yvals=y3.tolist(), avg=avg3.tolist())\n",
    "sender.sendData()"
   ]
  },
  {
   "cell_type": "markdown",
   "metadata": {},
   "source": [
    "Sending another dataset (i.e., something with a different data ID) will trigger a new data window."
   ]
  },
  {
   "cell_type": "code",
   "execution_count": 5,
   "metadata": {},
   "outputs": [
    {
     "name": "stdout",
     "output_type": "stream",
     "text": [
      "Timeout during sending!\n"
     ]
    }
   ],
   "source": [
    "sender2 = copy.copy(sender)\n",
    "sender2.data['id'] = 'Dummy data no.2'\n",
    "sender2.sendData()"
   ]
  },
  {
   "cell_type": "markdown",
   "metadata": {},
   "source": [
    "# Update data"
   ]
  },
  {
   "cell_type": "markdown",
   "metadata": {},
   "source": [
    "## Simple 1D case, manual updates\n",
    "\n",
    "After defining of, each execution of the following cell will add data points to the sine curve."
   ]
  },
  {
   "cell_type": "code",
   "execution_count": null,
   "metadata": {},
   "outputs": [],
   "source": [
    "of = 0"
   ]
  },
  {
   "cell_type": "code",
   "execution_count": null,
   "metadata": {},
   "outputs": [],
   "source": [
    "# execute this cell manually a few times to see the curve getting longer.\n",
    "x, y = make_1d_data(21, start=of)\n",
    "of = x[-1] + (x[-1]-x[-2])\n",
    "\n",
    "sender = client.DataSender(dataId='Dummy data no.3')\n",
    "sender.addDataSetSimple(y=y.tolist(), x=x.tolist())\n",
    "sender.sendData()"
   ]
  },
  {
   "cell_type": "markdown",
   "metadata": {},
   "source": [
    "## Integrate noisy data\n",
    "\n",
    "Simple emulation of a measurement that averages (slowly)."
   ]
  },
  {
   "cell_type": "code",
   "execution_count": null,
   "metadata": {},
   "outputs": [],
   "source": [
    "import time\n",
    "avg = 0\n",
    "\n",
    "while(avg < 100):\n",
    "    x, y, _avg, z = make_2d_avg_data(21, 21, 1)\n",
    "    avgs = (avg * np.ones(z.size)).reshape(-1)\n",
    "    empty = np.zeros(z.size).reshape(-1)\n",
    "    \n",
    "    sender = client.DataSender(dataId='Dummy data no.4')\n",
    "    sender.addDataSetSimple(z=z, x=x, y=y, avgs=avgs, empty=empty)\n",
    "    sender.sendData()\n",
    "\n",
    "    avg += 1\n",
    "    time.sleep(1)"
   ]
  },
  {
   "cell_type": "markdown",
   "metadata": {},
   "source": [
    "## Build up 2D data in some silly way"
   ]
  },
  {
   "cell_type": "code",
   "execution_count": null,
   "metadata": {},
   "outputs": [],
   "source": [
    "xvals = []\n",
    "yvals = []\n",
    "zvals = []\n",
    "i = 0\n",
    "for x in np.linspace(-5, 5, 21):\n",
    "    for y in np.linspace(-5, 5, 21):\n",
    "        xvals.append(x)\n",
    "        yvals.append(y)\n",
    "        zvals.append(np.exp(-(x**2+y**2)/(2*1.**2)))\n",
    "        \n",
    "        i += 1\n",
    "        if i > 10:\n",
    "            sender = sender = client.DataSender(dataId='Dummy data no.5')\n",
    "            sender.addDataSetSimple(z=zvals, x=xvals, y=yvals)\n",
    "            sender.sendData()\n",
    "            \n",
    "            xvals = []\n",
    "            yvals = []\n",
    "            zvals = []\n",
    "            i = 0\n",
    "            \n",
    "        time.sleep(0.1)\n",
    "\n",
    "if len(zvals) > 0:\n",
    "    sender = sender = client.DataSender(dataId='Dummy data no.5')\n",
    "    sender.addDataSetSimple(z=zvals, x=xvals, y=yvals)\n",
    "    sender.sendData()"
   ]
  },
  {
   "cell_type": "code",
   "execution_count": null,
   "metadata": {},
   "outputs": [],
   "source": []
  },
  {
   "cell_type": "markdown",
   "metadata": {},
   "source": [
    "# QCodes Dataset subscriber"
   ]
  },
  {
   "cell_type": "code",
   "execution_count": 6,
   "metadata": {},
   "outputs": [],
   "source": [
    "import pytopo # ; reload(pytopo)\n",
    "from pytopo.qctools import dataset2 as dstools\n",
    "\n",
    "import plottr # ; reload(plottr)\n",
    "from plottr.client import DataSender\n",
    "# from plottr.qcodes_dataset import QcodesDatasetSubscriber"
   ]
  },
  {
   "cell_type": "code",
   "execution_count": 7,
   "metadata": {},
   "outputs": [],
   "source": [
    "import qcodes as qc\n",
    "from qcodes.dataset.measurements import Measurement\n",
    "from qcodes.dataset.experiment_container import load_experiment_by_name, new_experiment\n",
    "\n",
    "def select_experiment(exp_name, sample_name):\n",
    "    try:\n",
    "        exp = load_experiment_by_name(exp_name)\n",
    "    except ValueError:\n",
    "        exp = new_experiment(exp_name, sample_name)\n",
    "    return exp"
   ]
  },
  {
   "cell_type": "code",
   "execution_count": null,
   "metadata": {},
   "outputs": [],
   "source": []
  },
  {
   "cell_type": "code",
   "execution_count": 45,
   "metadata": {},
   "outputs": [],
   "source": [
    "import pandas as pd\n",
    "import xarray as xr\n",
    "from plottr.plottr import combineDataFrames, dataFrameToXArray\n",
    "from plottr.qcodes_dataset import getDatasetStructure\n",
    "\n",
    "def dictToDataFrames(dataDict):\n",
    "    dfs = []\n",
    "    for n in dataDict:\n",
    "        if 'axes' not in dataDict[n]:\n",
    "            continue\n",
    "        vals = dataDict[n]['values']\n",
    "        coords = [ (a, dataDict[a]['values']) for a in dataDict[n]['axes']]\n",
    "\n",
    "        mi = pd.MultiIndex.from_tuples(list(zip(*[v for n, v in coords])), names=dataDict[n]['axes'])       \n",
    "        df = pd.DataFrame(vals, mi)\n",
    "        df.columns.name = n\n",
    "\n",
    "        dfs.append(df)\n",
    "\n",
    "    return dfs\n",
    "\n",
    "class QcodesDatasetSubscriber(object):\n",
    "\n",
    "    def __init__(self, dataset):\n",
    "        self.ds = dataset\n",
    "        dbpath = os.path.abspath(qc.config['core']['db_location'])\n",
    "\n",
    "        self.dataId = \"{} # run ID = {}\".format(dbpath, self.ds.run_id)\n",
    "        self.params = [ p.name for p in self.ds.get_parameters() ]\n",
    "        self.dataStructure = getDatasetStructure(self.ds)\n",
    "        self.df = None\n",
    "\n",
    "    def __call__(self, results, length, state):\n",
    "        newData = dict(zip(self.params, list(zip(*results))))\n",
    "        for k, v in newData.items():\n",
    "            self.dataStructure[k]['values'] = list(v)\n",
    "\n",
    "        newdfs = dictToDataFrames(self.dataStructure)\n",
    "        if self.df is not None:\n",
    "            self.df = combineDataFrames(self.df, newdfs[0])\n",
    "        else:\n",
    "            self.df = newdfs[0]\n",
    "            \n",
    "        self.arr = dataFrameToXArray(self.df)"
   ]
  },
  {
   "cell_type": "code",
   "execution_count": null,
   "metadata": {},
   "outputs": [],
   "source": []
  },
  {
   "cell_type": "code",
   "execution_count": null,
   "metadata": {},
   "outputs": [],
   "source": []
  },
  {
   "cell_type": "markdown",
   "metadata": {},
   "source": [
    "## 1D data"
   ]
  },
  {
   "cell_type": "code",
   "execution_count": 48,
   "metadata": {
    "scrolled": false
   },
   "outputs": [
    {
     "name": "stdout",
     "output_type": "stream",
     "text": [
      "Starting experimental run with id: 32\n"
     ]
    },
    {
     "name": "stderr",
     "output_type": "stream",
     "text": [
      "Exception in thread Thread-20:\n",
      "Traceback (most recent call last):\n",
      "  File \"C:\\Users\\wolfg\\Anaconda3\\lib\\threading.py\", line 916, in _bootstrap_inner\n",
      "    self.run()\n",
      "  File \"d:\\dropbox\\code\\labpydesktop\\qcodes\\qcodes\\dataset\\data_set.py\", line 119, in run\n",
      "    self._loop()\n",
      "  File \"d:\\dropbox\\code\\labpydesktop\\qcodes\\qcodes\\dataset\\data_set.py\", line 145, in _loop\n",
      "    self._send()\n",
      "  File \"d:\\dropbox\\code\\labpydesktop\\qcodes\\qcodes\\dataset\\data_set.py\", line 133, in _send\n",
      "    self.callback(result_list, self._data_set_len, self.state)\n",
      "  File \"<ipython-input-45-2517c5e1708c>\", line 44, in __call__\n",
      "    self.arr = dataFrameToXArray(self.df)\n",
      "  File \"d:\\dropbox\\code\\labpydesktop\\plottr\\plottr\\plottr.py\", line 120, in dataFrameToXArray\n",
      "    arr = arr.unstack(idxn)\n",
      "  File \"C:\\Users\\wolfg\\Anaconda3\\lib\\site-packages\\xarray\\core\\dataarray.py\", line 1126, in unstack\n",
      "    ds = self._to_temp_dataset().unstack(dim)\n",
      "  File \"C:\\Users\\wolfg\\Anaconda3\\lib\\site-packages\\xarray\\core\\dataset.py\", line 2134, in unstack\n",
      "    obj = self.reindex(copy=False, **{dim: full_idx})\n",
      "  File \"C:\\Users\\wolfg\\Anaconda3\\lib\\site-packages\\xarray\\core\\dataset.py\", line 1767, in reindex\n",
      "    tolerance, copy=copy)\n",
      "  File \"C:\\Users\\wolfg\\Anaconda3\\lib\\site-packages\\xarray\\core\\alignment.py\", line 319, in reindex_variables\n",
      "    'index has duplicate values' % name)\n",
      "ValueError: cannot reindex or align along dimension 'dim_0' because the index has duplicate values\n",
      "\n"
     ]
    },
    {
     "ename": "KeyboardInterrupt",
     "evalue": "",
     "output_type": "error",
     "traceback": [
      "\u001b[1;31m---------------------------------------------------------------------------\u001b[0m",
      "\u001b[1;31mKeyboardInterrupt\u001b[0m                         Traceback (most recent call last)",
      "\u001b[1;32m<ipython-input-48-1c745c7b1e4a>\u001b[0m in \u001b[0;36m<module>\u001b[1;34m()\u001b[0m\n\u001b[0;32m     14\u001b[0m     \u001b[1;32mfor\u001b[0m \u001b[0mx\u001b[0m \u001b[1;32min\u001b[0m \u001b[0mnp\u001b[0m\u001b[1;33m.\u001b[0m\u001b[0mlinspace\u001b[0m\u001b[1;33m(\u001b[0m\u001b[1;36m0\u001b[0m\u001b[1;33m,\u001b[0m \u001b[1;36m10\u001b[0m\u001b[1;33m,\u001b[0m \u001b[1;36m101\u001b[0m\u001b[1;33m)\u001b[0m\u001b[1;33m:\u001b[0m\u001b[1;33m\u001b[0m\u001b[0m\n\u001b[0;32m     15\u001b[0m         \u001b[0my\u001b[0m \u001b[1;33m=\u001b[0m \u001b[0mnp\u001b[0m\u001b[1;33m.\u001b[0m\u001b[0mcos\u001b[0m\u001b[1;33m(\u001b[0m\u001b[0mx\u001b[0m\u001b[1;33m)\u001b[0m\u001b[1;33m\u001b[0m\u001b[0m\n\u001b[1;32m---> 16\u001b[1;33m         \u001b[0mdatasaver\u001b[0m\u001b[1;33m.\u001b[0m\u001b[0madd_result\u001b[0m\u001b[1;33m(\u001b[0m\u001b[1;33m(\u001b[0m\u001b[1;34m'y'\u001b[0m\u001b[1;33m,\u001b[0m \u001b[0my\u001b[0m\u001b[1;33m)\u001b[0m\u001b[1;33m,\u001b[0m \u001b[1;33m(\u001b[0m\u001b[1;34m'x'\u001b[0m\u001b[1;33m,\u001b[0m \u001b[0mx\u001b[0m\u001b[1;33m)\u001b[0m\u001b[1;33m)\u001b[0m\u001b[1;33m\u001b[0m\u001b[0m\n\u001b[0m\u001b[0;32m     17\u001b[0m         \u001b[0mtime\u001b[0m\u001b[1;33m.\u001b[0m\u001b[0msleep\u001b[0m\u001b[1;33m(\u001b[0m\u001b[1;36m0.2\u001b[0m\u001b[1;33m)\u001b[0m\u001b[1;33m\u001b[0m\u001b[0m\n",
      "\u001b[1;32md:\\dropbox\\code\\labpydesktop\\qcodes\\qcodes\\dataset\\measurements.py\u001b[0m in \u001b[0;36madd_result\u001b[1;34m(self, *res_tuple)\u001b[0m\n\u001b[0;32m    160\u001b[0m \u001b[1;33m\u001b[0m\u001b[0m\n\u001b[0;32m    161\u001b[0m         \u001b[1;32mif\u001b[0m \u001b[0mmonotonic\u001b[0m\u001b[1;33m(\u001b[0m\u001b[1;33m)\u001b[0m \u001b[1;33m-\u001b[0m \u001b[0mself\u001b[0m\u001b[1;33m.\u001b[0m\u001b[0m_last_save_time\u001b[0m \u001b[1;33m>\u001b[0m \u001b[0mself\u001b[0m\u001b[1;33m.\u001b[0m\u001b[0mwrite_period\u001b[0m\u001b[1;33m:\u001b[0m\u001b[1;33m\u001b[0m\u001b[0m\n\u001b[1;32m--> 162\u001b[1;33m             \u001b[0mself\u001b[0m\u001b[1;33m.\u001b[0m\u001b[0mflush_data_to_database\u001b[0m\u001b[1;33m(\u001b[0m\u001b[1;33m)\u001b[0m\u001b[1;33m\u001b[0m\u001b[0m\n\u001b[0m\u001b[0;32m    163\u001b[0m             \u001b[0mself\u001b[0m\u001b[1;33m.\u001b[0m\u001b[0m_last_save_time\u001b[0m \u001b[1;33m=\u001b[0m \u001b[0mmonotonic\u001b[0m\u001b[1;33m(\u001b[0m\u001b[1;33m)\u001b[0m\u001b[1;33m\u001b[0m\u001b[0m\n\u001b[0;32m    164\u001b[0m \u001b[1;33m\u001b[0m\u001b[0m\n",
      "\u001b[1;32md:\\dropbox\\code\\labpydesktop\\qcodes\\qcodes\\dataset\\measurements.py\u001b[0m in \u001b[0;36mflush_data_to_database\u001b[1;34m(self)\u001b[0m\n\u001b[0;32m    170\u001b[0m         \u001b[1;32mif\u001b[0m \u001b[0mself\u001b[0m\u001b[1;33m.\u001b[0m\u001b[0m_results\u001b[0m \u001b[1;33m!=\u001b[0m \u001b[1;33m[\u001b[0m\u001b[1;33m]\u001b[0m\u001b[1;33m:\u001b[0m\u001b[1;33m\u001b[0m\u001b[0m\n\u001b[0;32m    171\u001b[0m             \u001b[1;32mtry\u001b[0m\u001b[1;33m:\u001b[0m\u001b[1;33m\u001b[0m\u001b[0m\n\u001b[1;32m--> 172\u001b[1;33m                 \u001b[0mwrite_point\u001b[0m \u001b[1;33m=\u001b[0m \u001b[0mself\u001b[0m\u001b[1;33m.\u001b[0m\u001b[0m_dataset\u001b[0m\u001b[1;33m.\u001b[0m\u001b[0madd_results\u001b[0m\u001b[1;33m(\u001b[0m\u001b[0mself\u001b[0m\u001b[1;33m.\u001b[0m\u001b[0m_results\u001b[0m\u001b[1;33m)\u001b[0m\u001b[1;33m\u001b[0m\u001b[0m\n\u001b[0m\u001b[0;32m    173\u001b[0m                 \u001b[0mlog\u001b[0m\u001b[1;33m.\u001b[0m\u001b[0mdebug\u001b[0m\u001b[1;33m(\u001b[0m\u001b[1;34mf'Successfully wrote from index {write_point}'\u001b[0m\u001b[1;33m)\u001b[0m\u001b[1;33m\u001b[0m\u001b[0m\n\u001b[0;32m    174\u001b[0m                 \u001b[0mself\u001b[0m\u001b[1;33m.\u001b[0m\u001b[0m_results\u001b[0m \u001b[1;33m=\u001b[0m \u001b[1;33m[\u001b[0m\u001b[1;33m]\u001b[0m\u001b[1;33m\u001b[0m\u001b[0m\n",
      "\u001b[1;32md:\\dropbox\\code\\labpydesktop\\qcodes\\qcodes\\dataset\\data_set.py\u001b[0m in \u001b[0;36madd_results\u001b[1;34m(self, results)\u001b[0m\n\u001b[0;32m    373\u001b[0m                            values)\n\u001b[0;32m    374\u001b[0m         \u001b[1;31m# TODO: should this not be made atomic?\u001b[0m\u001b[1;33m\u001b[0m\u001b[1;33m\u001b[0m\u001b[0m\n\u001b[1;32m--> 375\u001b[1;33m         \u001b[0mself\u001b[0m\u001b[1;33m.\u001b[0m\u001b[0mconn\u001b[0m\u001b[1;33m.\u001b[0m\u001b[0mcommit\u001b[0m\u001b[1;33m(\u001b[0m\u001b[1;33m)\u001b[0m\u001b[1;33m\u001b[0m\u001b[0m\n\u001b[0m\u001b[0;32m    376\u001b[0m         \u001b[1;32mreturn\u001b[0m \u001b[0mlen_before_add\u001b[0m\u001b[1;33m\u001b[0m\u001b[0m\n\u001b[0;32m    377\u001b[0m \u001b[1;33m\u001b[0m\u001b[0m\n",
      "\u001b[1;31mKeyboardInterrupt\u001b[0m: "
     ]
    }
   ],
   "source": [
    "exp = select_experiment('dev: plottr subscriber', 'dummy')\n",
    "meas = Measurement(exp=exp)\n",
    "meas.write_period = 0.5\n",
    "\n",
    "meas.register_custom_parameter('x')\n",
    "meas.register_custom_parameter('y', setpoints=['x', ])\n",
    "\n",
    "sub = QcodesDatasetSubscriber(datasaver.dataset)\n",
    "\n",
    "with meas.run() as datasaver:\n",
    "    datasaver.dataset.subscribe(sub, state=[], \n",
    "                                min_wait=0, min_count=1)\n",
    "    \n",
    "    for x in np.linspace(0, 10, 101):\n",
    "        y = np.cos(x)\n",
    "        datasaver.add_result(('y', y), ('x', x))\n",
    "        time.sleep(0.2)"
   ]
  },
  {
   "cell_type": "code",
   "execution_count": 50,
   "metadata": {},
   "outputs": [
    {
     "data": {
      "text/html": [
       "<div>\n",
       "<style scoped>\n",
       "    .dataframe tbody tr th:only-of-type {\n",
       "        vertical-align: middle;\n",
       "    }\n",
       "\n",
       "    .dataframe tbody tr th {\n",
       "        vertical-align: top;\n",
       "    }\n",
       "\n",
       "    .dataframe thead th {\n",
       "        text-align: right;\n",
       "    }\n",
       "</style>\n",
       "<table border=\"1\" class=\"dataframe\">\n",
       "  <thead>\n",
       "    <tr style=\"text-align: right;\">\n",
       "      <th>y</th>\n",
       "      <th>0</th>\n",
       "    </tr>\n",
       "    <tr>\n",
       "      <th>x</th>\n",
       "      <th></th>\n",
       "    </tr>\n",
       "  </thead>\n",
       "  <tbody>\n",
       "    <tr>\n",
       "      <th>0.0</th>\n",
       "      <td>1.000000</td>\n",
       "    </tr>\n",
       "    <tr>\n",
       "      <th>0.1</th>\n",
       "      <td>0.995004</td>\n",
       "    </tr>\n",
       "    <tr>\n",
       "      <th>0.2</th>\n",
       "      <td>0.980067</td>\n",
       "    </tr>\n",
       "    <tr>\n",
       "      <th>0.3</th>\n",
       "      <td>0.955336</td>\n",
       "    </tr>\n",
       "    <tr>\n",
       "      <th>0.4</th>\n",
       "      <td>0.921061</td>\n",
       "    </tr>\n",
       "    <tr>\n",
       "      <th>0.5</th>\n",
       "      <td>0.877583</td>\n",
       "    </tr>\n",
       "    <tr>\n",
       "      <th>0.6</th>\n",
       "      <td>0.825336</td>\n",
       "    </tr>\n",
       "    <tr>\n",
       "      <th>0.7</th>\n",
       "      <td>0.764842</td>\n",
       "    </tr>\n",
       "    <tr>\n",
       "      <th>0.8</th>\n",
       "      <td>0.696707</td>\n",
       "    </tr>\n",
       "    <tr>\n",
       "      <th>0.9</th>\n",
       "      <td>0.621610</td>\n",
       "    </tr>\n",
       "    <tr>\n",
       "      <th>1.0</th>\n",
       "      <td>0.540302</td>\n",
       "    </tr>\n",
       "    <tr>\n",
       "      <th>1.0</th>\n",
       "      <td>0.540302</td>\n",
       "    </tr>\n",
       "    <tr>\n",
       "      <th>1.1</th>\n",
       "      <td>0.453596</td>\n",
       "    </tr>\n",
       "    <tr>\n",
       "      <th>1.1</th>\n",
       "      <td>0.453596</td>\n",
       "    </tr>\n",
       "    <tr>\n",
       "      <th>1.2</th>\n",
       "      <td>0.362358</td>\n",
       "    </tr>\n",
       "    <tr>\n",
       "      <th>1.2</th>\n",
       "      <td>0.362358</td>\n",
       "    </tr>\n",
       "  </tbody>\n",
       "</table>\n",
       "</div>"
      ],
      "text/plain": [
       "y           0\n",
       "x            \n",
       "0.0  1.000000\n",
       "0.1  0.995004\n",
       "0.2  0.980067\n",
       "0.3  0.955336\n",
       "0.4  0.921061\n",
       "0.5  0.877583\n",
       "0.6  0.825336\n",
       "0.7  0.764842\n",
       "0.8  0.696707\n",
       "0.9  0.621610\n",
       "1.0  0.540302\n",
       "1.0  0.540302\n",
       "1.1  0.453596\n",
       "1.1  0.453596\n",
       "1.2  0.362358\n",
       "1.2  0.362358"
      ]
     },
     "execution_count": 50,
     "metadata": {},
     "output_type": "execute_result"
    }
   ],
   "source": [
    "sub.df"
   ]
  },
  {
   "cell_type": "code",
   "execution_count": 52,
   "metadata": {},
   "outputs": [
    {
     "data": {
      "text/plain": [
       "MultiIndex(levels=[[0.0, 0.1, 0.2, 0.30000000000000004, 0.4, 0.5, 0.6000000000000001, 0.7000000000000001, 0.8, 0.9, 1.0, 1.1, 1.2000000000000002]],\n",
       "           labels=[[0, 1, 2, 3, 4, 5, 6, 7, 8, 9, 10, 10, 11, 11, 12, 12]],\n",
       "           names=['x'])"
      ]
     },
     "execution_count": 52,
     "metadata": {},
     "output_type": "execute_result"
    }
   ],
   "source": [
    "sub.df.index"
   ]
  },
  {
   "cell_type": "code",
   "execution_count": null,
   "metadata": {},
   "outputs": [],
   "source": []
  },
  {
   "cell_type": "code",
   "execution_count": null,
   "metadata": {},
   "outputs": [],
   "source": [
    "xvals = np.array(datasaver.dataset.get_values('x'))\n",
    "yvals = np.array(datasaver.dataset.get_values('y'))\n",
    "\n",
    "fig, ax = plt.subplots(1, 1)\n",
    "ax.plot(xvals, yvals, 'o')"
   ]
  },
  {
   "cell_type": "code",
   "execution_count": null,
   "metadata": {},
   "outputs": [],
   "source": []
  },
  {
   "cell_type": "markdown",
   "metadata": {},
   "source": [
    "## 2D data"
   ]
  },
  {
   "cell_type": "code",
   "execution_count": null,
   "metadata": {},
   "outputs": [],
   "source": [
    "exp = select_experiment('dev: plottr subscriber (again)', 'dummy 2D!')\n",
    "meas = Measurement(exp=exp)\n",
    "meas.write_period = 0.5\n",
    "\n",
    "meas.register_custom_parameter('x')\n",
    "meas.register_custom_parameter('y')\n",
    "meas.register_custom_parameter('z', setpoints=['x', 'y', ])\n",
    "\n",
    "with meas.run() as datasaver:\n",
    "    datasaver.dataset.subscribe(QcodesDatasetSubscriber(datasaver.dataset), state=[], \n",
    "                                min_wait=0, min_count=1)    \n",
    "    \n",
    "    for x in np.linspace(0, 10, 31):\n",
    "        for y in np.linspace(0, 10, 31):\n",
    "            z = np.cos(x) * np.sin(y)\n",
    "            datasaver.add_result(('z', z), ('y', y), ('x', x))\n",
    "            time.sleep(0.1)"
   ]
  },
  {
   "cell_type": "code",
   "execution_count": null,
   "metadata": {},
   "outputs": [],
   "source": []
  }
 ],
 "metadata": {
  "hide_input": false,
  "kernelspec": {
   "display_name": "Python 3",
   "language": "python",
   "name": "python3"
  },
  "language_info": {
   "codemirror_mode": {
    "name": "ipython",
    "version": 3
   },
   "file_extension": ".py",
   "mimetype": "text/x-python",
   "name": "python",
   "nbconvert_exporter": "python",
   "pygments_lexer": "ipython3",
   "version": "3.6.4"
  },
  "toc": {
   "base_numbering": 1,
   "nav_menu": {},
   "number_sections": true,
   "sideBar": true,
   "skip_h1_title": false,
   "title_cell": "Table of Contents",
   "title_sidebar": "Contents",
   "toc_cell": false,
   "toc_position": {
    "height": "calc(100% - 180px)",
    "left": "10px",
    "top": "150px",
    "width": "245px"
   },
   "toc_section_display": true,
   "toc_window_display": true
  }
 },
 "nbformat": 4,
 "nbformat_minor": 2
}
