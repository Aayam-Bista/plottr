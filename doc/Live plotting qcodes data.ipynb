{
 "cells": [
  {
   "cell_type": "markdown",
   "metadata": {},
   "source": [
    "# Introduction"
   ]
  },
  {
   "cell_type": "markdown",
   "metadata": {},
   "source": [
    "This notebook illustrates the basics of how to use `plottr` -- in particular, the `inspectr` and `autoplot` tools -- to live plot data in a qcodes database."
   ]
  },
  {
   "cell_type": "markdown",
   "metadata": {},
   "source": [
    "## Basic notebook setup"
   ]
  },
  {
   "cell_type": "code",
   "execution_count": 1,
   "metadata": {
    "ExecuteTime": {
     "end_time": "2018-12-31T13:09:19.139770Z",
     "start_time": "2018-12-31T13:09:17.960049Z"
    }
   },
   "outputs": [],
   "source": [
    "%gui qt\n",
    "\n",
    "DBPATH = './qcodes_liveplot_demo.db'\n",
    "\n",
    "import qcodes as qc\n",
    "\n",
    "qc.config.core.db_location = DBPATH\n",
    "qc.initialise_database()"
   ]
  },
  {
   "cell_type": "markdown",
   "metadata": {},
   "source": [
    "# Launching inspectr"
   ]
  },
  {
   "cell_type": "markdown",
   "metadata": {},
   "source": [
    "We can launch the inspectr tool either interactively, or from the command line in a separate process. For this example notebook it doesn't really matter which one. You can either run the launching cell below, or, from within the plottr root directory, run \n",
    "\n",
    "``\n",
    "$ python apps/inspectr.py --dbpath=<path to .db file>\n",
    "``\n",
    "\n",
    "Note: initialization from within this notebook will show you the data only after the measurement has finished (because data generation and plotting run in the same thread). So for *real* live plotting, you should run the inspectr separately."
   ]
  },
  {
   "cell_type": "code",
   "execution_count": 2,
   "metadata": {
    "ExecuteTime": {
     "end_time": "2018-12-31T13:09:21.497150Z",
     "start_time": "2018-12-31T13:09:20.610659Z"
    }
   },
   "outputs": [],
   "source": [
    "# only use if you're not launching the inspectr tool from a separate command line\n",
    "\n",
    "from plottr.apps.inspectr import inspectr\n",
    "from plottr import log as plottrlog\n",
    "\n",
    "# make a log window as well. the plotting tools can use it for user information.\n",
    "logwin = plottrlog.setupLogging(makeDialog=True)\n",
    "logwin.show()\n",
    "\n",
    "# this launches the db inspection tool\n",
    "win = inspectr(DBPATH)\n",
    "win.show()"
   ]
  },
  {
   "cell_type": "markdown",
   "metadata": {},
   "source": [
    "We should now have two windows open; no data is yet shown if we started with a fresh .db file. \n",
    "Now, before populating the database, let's enable automatic monitoring of the dataset. To do that, enter a refresh interval (given in seconds) in the inspectr window toolbar, and enable the auto-plot option."
   ]
  },
  {
   "cell_type": "markdown",
   "metadata": {},
   "source": [
    "# Dummy experiments"
   ]
  },
  {
   "cell_type": "markdown",
   "metadata": {
    "ExecuteTime": {
     "end_time": "2018-12-31T12:47:55.343906Z",
     "start_time": "2018-12-31T12:47:55.309855Z"
    }
   },
   "source": [
    "## Qcodes imports (and other relevant stuff)"
   ]
  },
  {
   "cell_type": "code",
   "execution_count": 9,
   "metadata": {
    "ExecuteTime": {
     "end_time": "2018-12-31T13:35:36.631626Z",
     "start_time": "2018-12-31T13:35:36.608264Z"
    }
   },
   "outputs": [],
   "source": [
    "import time\n",
    "import numpy as np\n",
    "from qcodes import load_or_create_experiment, Measurement, Parameter"
   ]
  },
  {
   "cell_type": "markdown",
   "metadata": {},
   "source": [
    "## A very simple 1D sweep"
   ]
  },
  {
   "cell_type": "code",
   "execution_count": 10,
   "metadata": {
    "ExecuteTime": {
     "end_time": "2018-12-31T13:35:58.566886Z",
     "start_time": "2018-12-31T13:35:58.532105Z"
    }
   },
   "outputs": [],
   "source": [
    "xvals = np.linspace(0, 10, 101)\n",
    "yvals = np.sin(xvals)\n",
    "\n",
    "def simple_1d_sweep():\n",
    "    for x, y in zip(xvals, yvals):\n",
    "        yield x, y\n",
    "        \n",
    "x = Parameter('x')\n",
    "y = Parameter('y')\n",
    "\n",
    "station = qc.Station(x, y)"
   ]
  },
  {
   "cell_type": "code",
   "execution_count": 12,
   "metadata": {
    "ExecuteTime": {
     "end_time": "2018-12-31T13:41:18.669056Z",
     "start_time": "2018-12-31T13:40:26.997163Z"
    }
   },
   "outputs": [
    {
     "name": "stdout",
     "output_type": "stream",
     "text": [
      "Starting experimental run with id: 2\n"
     ]
    }
   ],
   "source": [
    "exp = load_or_create_experiment('simple_1d_sweep', sample_name='no sample')\n",
    "\n",
    "meas = Measurement(exp, station)\n",
    "meas.register_parameter(x)\n",
    "meas.register_parameter(y, setpoints=(x,))\n",
    "meas.write_period = 2\n",
    "\n",
    "with meas.run() as datasaver:\n",
    "    for xval, yval in simple_1d_sweep():\n",
    "        datasaver.add_result(\n",
    "            (x, xval),\n",
    "            (y, yval),\n",
    "        )\n",
    "        time.sleep(0.5)"
   ]
  },
  {
   "cell_type": "code",
   "execution_count": null,
   "metadata": {},
   "outputs": [],
   "source": []
  }
 ],
 "metadata": {
  "kernelspec": {
   "display_name": "Python 3",
   "language": "python",
   "name": "python3"
  },
  "language_info": {
   "codemirror_mode": {
    "name": "ipython",
    "version": 3
   },
   "file_extension": ".py",
   "mimetype": "text/x-python",
   "name": "python",
   "nbconvert_exporter": "python",
   "pygments_lexer": "ipython3",
   "version": "3.6.7"
  },
  "toc": {
   "base_numbering": 1,
   "nav_menu": {},
   "number_sections": true,
   "sideBar": true,
   "skip_h1_title": false,
   "title_cell": "Table of Contents",
   "title_sidebar": "Contents",
   "toc_cell": false,
   "toc_position": {},
   "toc_section_display": true,
   "toc_window_display": true
  }
 },
 "nbformat": 4,
 "nbformat_minor": 2
}
