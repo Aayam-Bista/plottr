{
 "cells": [
  {
   "cell_type": "markdown",
   "metadata": {},
   "source": [
    "# Live plotting with the data set context manager \n",
    "\n",
    "This notebook is adapted from \"The Context Manager aka the Measurement Object\" to show how to use the live plotter \n",
    "\n",
    "## Installation instructions: \n",
    "\n",
    "To install the live plotter, please run the following commands in the command prompt: \n",
    "\n",
    "```bash\n",
    "git clone https://github.com/kouwenhovenlab/plottr.git\n",
    "cd plottr\n",
    "pip install -e .\n",
    "```\n",
    "\n",
    "## Basic instructions \n",
    "\n",
    "Add the following line to the imports in your code:\n",
    "\n",
    "```python\n",
    "from plottr.qcodes_dataset import QcodesDatasetSubscriber as LivePlotSubscriber\n",
    "```\n",
    "\n",
    "Then, right after starting the measurement context manager, add the following code \n",
    "\n",
    "```python\n",
    "datasaver.dataset.subscribe(\n",
    "   LivePlotSubscriber(datasaver.dataset),\n",
    "   state=[], min_wait=0, min_count=1\n",
    ")\n",
    "```\n",
    "\n",
    "This adds the live plotting subscriber to the data set.\n",
    "\n",
    "Technical note: The live plot gets updated at the moments the data is flushed to the database (which is the current backend of the dataset), which is related to the `write_period` attribute of the `Measurement` class.\n",
    "\n",
    "Technical note: The live plot subscriber needs the data set as an input argument so that it can know the parameter dependencies. This is needed to know what to plot against what.\n",
    "\n",
    "## Example usage \n",
    "\n",
    "We use some of the examples from \"The Context Manager aka the Measurement Object\" from QCoDeS, and add the live plotting functionality to them. We also include examples for cases which are known not to work correctly with the live plotter."
   ]
  },
  {
   "cell_type": "code",
   "execution_count": null,
   "metadata": {},
   "outputs": [],
   "source": [
    "%matplotlib notebook\n",
    "import numpy.random as rd\n",
    "import matplotlib.pyplot as plt\n",
    "from functools import partial\n",
    "import numpy as np\n",
    "\n",
    "from time import sleep, monotonic\n",
    "\n",
    "import qcodes as qc\n",
    "from qcodes import Station\n",
    "from qcodes.dataset.experiment_container import (Experiment,\n",
    "                                                 load_last_experiment,\n",
    "                                                 new_experiment)\n",
    "\n",
    "from qcodes.dataset.database import initialise_database\n",
    "from qcodes.tests.instrument_mocks import DummyInstrument\n",
    "from qcodes.dataset.param_spec import ParamSpec\n",
    "from qcodes.dataset.measurements import Measurement\n",
    "from qcodes.dataset.plotting import plot_by_id\n",
    "from qcodes.dataset.data_export import get_shaped_data_by_runid\n",
    "\n",
    "# Plive plotting specific imports \n",
    "import plottr\n",
    "from plottr.qcodes_dataset import QcodesDatasetSubscriber as LivePlotSubscriber "
   ]
  },
  {
   "cell_type": "code",
   "execution_count": null,
   "metadata": {},
   "outputs": [],
   "source": [
    "# Start the live plotting server \n",
    "plottr.start_listener()"
   ]
  },
  {
   "cell_type": "code",
   "execution_count": null,
   "metadata": {},
   "outputs": [],
   "source": [
    "# a generator to simulate a physical signal, in this case an exponentially\n",
    "# decaying signal\n",
    "\n",
    "def exponential_decay(a: float, b: float):\n",
    "    \"\"\"\n",
    "    Yields a*exp(-b*x) where x is put in \n",
    "    \"\"\"\n",
    "    x = 0\n",
    "    while True:\n",
    "        x = yield\n",
    "        yield a*np.exp(-b*x) + 0.02*a*np.random.randn()"
   ]
  },
  {
   "cell_type": "code",
   "execution_count": null,
   "metadata": {},
   "outputs": [],
   "source": [
    "# preparatory mocking of physical setup\n",
    "\n",
    "dac = DummyInstrument('dac', gates=['ch1', 'ch2'])\n",
    "dmm = DummyInstrument('dmm', gates=['v1', 'v2'])\n",
    "\n",
    "station = qc.Station(dmm, dac)"
   ]
  },
  {
   "cell_type": "code",
   "execution_count": null,
   "metadata": {},
   "outputs": [],
   "source": [
    "# and then a bit of \"wiring\" to make the dmm \"measure\"\n",
    "# the exponential decay\n",
    "\n",
    "ed = exponential_decay(5, 0.2)\n",
    "next(ed)\n",
    "\n",
    "def customgetter(dac):\n",
    "    val = ed.send(dac.ch1())\n",
    "    next(ed)\n",
    "    return val\n",
    "    \n",
    "dmm.v1.get = partial(customgetter, dac)"
   ]
  },
  {
   "cell_type": "code",
   "execution_count": null,
   "metadata": {},
   "outputs": [],
   "source": [
    "# now make some silly set-up and tear-down actions\n",
    "\n",
    "def veryfirst():\n",
    "    print('Starting the measurement')\n",
    "\n",
    "def numbertwo(inst1, inst2):\n",
    "    print('Doing stuff with the following two instruments: {}, {}'.format(inst1, inst2))\n",
    "    \n",
    "def thelast():\n",
    "    print('End of experiment')"
   ]
  },
  {
   "cell_type": "markdown",
   "metadata": {},
   "source": [
    "### NB: database and experiments may be missing\n",
    "\n",
    "If this is the first time you create a dataset, the underlying database file has\n",
    "most likely not been created. The following cell creates the database file. Please\n",
    "refer to documentation on `The Experiment Container` for details.\n",
    "\n",
    "Furthermore, datasets are appended to existing experiments. If no experiment has been created,\n",
    "we must create one."
   ]
  },
  {
   "cell_type": "code",
   "execution_count": null,
   "metadata": {},
   "outputs": [],
   "source": [
    "initialise_database()\n",
    "new_experiment(name='tutorial_exp', sample_name=\"no sample\")"
   ]
  },
  {
   "cell_type": "code",
   "execution_count": null,
   "metadata": {
    "scrolled": false
   },
   "outputs": [],
   "source": [
    "# And then run an experiment\n",
    "\n",
    "meas = Measurement()\n",
    "\n",
    "meas.register_parameter(dac.ch1)  # register the first independent parameter\n",
    "meas.register_parameter(dmm.v1, setpoints=(dac.ch1,))  # now register the dependent one\n",
    "\n",
    "meas.add_before_run(veryfirst, ())  # add a set-up action\n",
    "meas.add_before_run(numbertwo, (dmm, dac))  # add another set-up action\n",
    "meas.add_after_run(thelast, ())  # add a tear-down action\n",
    "\n",
    "meas.write_period = 2\n",
    "\n",
    "with meas.run() as datasaver:\n",
    "    \n",
    "    # Add live plotting functionality\n",
    "    datasaver.dataset.subscribe(\n",
    "        LivePlotSubscriber(datasaver.dataset),\n",
    "        state=[], min_wait=0, min_count=1\n",
    "    )\n",
    "             \n",
    "    for set_v in np.linspace(0, 25, 1000):\n",
    "        dac.ch1.set(set_v)\n",
    "        get_v = dmm.v1.get()\n",
    "        datasaver.add_result((dac.ch1, set_v),\n",
    "                             (dmm.v1, get_v))\n",
    "        \n",
    "        # We introduce a sleep so we can admire the live plotting functionality :-)\n",
    "        sleep(0.1)\n",
    "    \n",
    "    dataid = datasaver.run_id  # convenient to have for plotting\n"
   ]
  },
  {
   "cell_type": "markdown",
   "metadata": {},
   "source": [
    "## Some 2D examples"
   ]
  },
  {
   "cell_type": "code",
   "execution_count": null,
   "metadata": {},
   "outputs": [],
   "source": [
    "# For the 2D, we'll need a new batch of parameters, notably one with two \n",
    "# other parameters as setpoints. We therefore define a new Measurement\n",
    "# with new parameters\n",
    "\n",
    "meas = Measurement()\n",
    "meas.register_parameter(dac.ch1)  # register the first independent parameter\n",
    "meas.register_parameter(dac.ch2)  # register the second independent parameter\n",
    "meas.register_parameter(dmm.v1, setpoints=(dac.ch1, dac.ch2))  # now register the dependent oone"
   ]
  },
  {
   "cell_type": "code",
   "execution_count": null,
   "metadata": {},
   "outputs": [],
   "source": [
    "# and we'll make a 2D gaussian to sample from/measure\n",
    "def gauss_model(x0: float, y0: float, sigma: float, noise: float=0.0005):\n",
    "    \"\"\"\n",
    "    Returns a generator sampling a gaussian. The gaussian is\n",
    "    normalised such that its maximal value is simply 1\n",
    "    \"\"\"\n",
    "    while True:\n",
    "        (x, y) = yield\n",
    "        model = np.exp(-((x0-x)**2+(y0-y)**2)/2/sigma**2)*np.exp(2*sigma**2)\n",
    "        noise = np.random.randn()*noise\n",
    "        yield model + noise"
   ]
  },
  {
   "cell_type": "code",
   "execution_count": null,
   "metadata": {},
   "outputs": [],
   "source": [
    "# and finally wire up the dmm v1 to \"measure\" the gaussian\n",
    "\n",
    "gauss = gauss_model(0.1, 0.2, 0.25)\n",
    "next(gauss)\n",
    "\n",
    "def measure_gauss(dac):\n",
    "    val = gauss.send((dac.ch1.get(), dac.ch2.get()))\n",
    "    next(gauss)\n",
    "    return val\n",
    "\n",
    "dmm.v1.get = partial(measure_gauss, dac)"
   ]
  },
  {
   "cell_type": "code",
   "execution_count": null,
   "metadata": {},
   "outputs": [],
   "source": [
    "# run a 2D sweep\n",
    "\n",
    "with meas.run() as datasaver:\n",
    "    \n",
    "    datasaver.dataset.subscribe(\n",
    "        LivePlotSubscriber(datasaver.dataset),\n",
    "        state=[], min_wait=0, min_count=1\n",
    "    )\n",
    "\n",
    "    for v1 in np.linspace(-1, 1, 200):\n",
    "        for v2 in np.linspace(-1, 1, 200):\n",
    "            dac.ch1(v1)\n",
    "            dac.ch2(v2)\n",
    "            val = dmm.v1.get()\n",
    "            datasaver.add_result((dac.ch1, v1),\n",
    "                                 (dac.ch2, v2),\n",
    "                                 (dmm.v1, val))\n",
    "            \n",
    "    dataid = datasaver.run_id"
   ]
  },
  {
   "cell_type": "markdown",
   "metadata": {},
   "source": [
    "# What does not work? \n",
    "\n",
    "## Why some live plots fail \n",
    "\n",
    "Currently, the live plot only supports 1D data and some kinds of 2D data. \n",
    "\n",
    "### 1D data\n",
    "\n",
    "Plotting 1D data is supported, except when the values on the independent axis are not unique. For example, suppose we want to make a hysteresis plot of a pinch off curve. We sweep the voltage from 0 to -4V and measure the current. At -4V we sweep back to 0V. This means that we will have multiple entries at 0V, 1V etc along the x-axis. This is not currently supported.\n",
    "\n",
    "### 2D data \n",
    "\n",
    "2D data which is supported needs to be on a regular grid with equidistant spacing between the coordinate points. Data points with \"holes\" are not (properly) supported, and neither are randomely sampled X-Y points.\n",
    "\n",
    "Additionally, the following coordinate layout is not supported:\n",
    "\n",
    "```\n",
    "-->x-x-x-x-x\n",
    "           |\n",
    "x-x-x-x-x<--\n",
    "|\n",
    "-->x-x-x-x-x\n",
    "```\n",
    "\n",
    "That is, when the fast axis reaches the end value of the sweep and the slow axis progresses one set point, the fast axis will  start the sweep at the maximum value and progress to the minimum value, creating a zig-zag pattern. \n",
    "\n",
    "Lets do this in code..."
   ]
  },
  {
   "cell_type": "code",
   "execution_count": null,
   "metadata": {},
   "outputs": [],
   "source": [
    "from qcodes import Parameter\n",
    "\n",
    "x = Parameter(\"x\", set_cmd=None, get_cmd=None)\n",
    "y = Parameter(\"y\", set_cmd=None, get_cmd=None)\n",
    "m = Parameter(\"m\", get_cmd=lambda: x()**2 + y()**2)\n",
    "\n",
    "meas = Measurement()\n",
    "meas.register_parameter(x)\n",
    "meas.register_parameter(y)\n",
    "meas.register_parameter(m, setpoints=(x, y))\n",
    "\n",
    "with meas.run() as datasaver:\n",
    "    \n",
    "    datasaver.dataset.subscribe(\n",
    "        LivePlotSubscriber(datasaver.dataset),\n",
    "        state=[], min_wait=0, min_count=1\n",
    "    )\n",
    "\n",
    "    for count, xvalue in enumerate(np.linspace(0, 1, 100)): \n",
    "        \n",
    "        x.set(xvalue)\n",
    "\n",
    "        if count % 2: \n",
    "            yvalues = np.linspace(1, 0, 100)\n",
    "        else: \n",
    "            yvalues = np.linspace(0, 1, 100)\n",
    "\n",
    "        for yvalue in yvalues: \n",
    "            \n",
    "            y.set(yvalue)\n",
    "            \n",
    "            datasaver.add_result(\n",
    "                (x, xvalue), \n",
    "                (y, yvalue), \n",
    "                (m, m.get())\n",
    "            )"
   ]
  },
  {
   "cell_type": "markdown",
   "metadata": {},
   "source": [
    "We see that a weird checker board pattern emerges. The source of this bug is currently being investigated \n",
    "\n",
    "## Data with holes are not supported either \n",
    "\n",
    "We will see from the next example that data sets with large gaps in the coorindate points are not supported either"
   ]
  },
  {
   "cell_type": "code",
   "execution_count": null,
   "metadata": {},
   "outputs": [],
   "source": [
    "# or even perform an adaptive sweep... ooohh...\n",
    "#\n",
    "# This example is a not-very-clever toy model example,\n",
    "# but it nicely shows a semi-realistic measurement that the old qc.Loop\n",
    "# could not handle\n",
    "\n",
    "meas = Measurement()\n",
    "meas.register_parameter(dac.ch1)  # register the first independent parameter\n",
    "meas.register_parameter(dac.ch2)  # register the second independent parameter\n",
    "meas.register_parameter(dmm.v1, setpoints=(dac.ch1, dac.ch2))  # now register the dependent oone\n",
    "\n",
    "v1_points = np.linspace(-1, 1, 250)\n",
    "v2_points = np.linspace(1, -1, 250)\n",
    "\n",
    "threshold = 0.25\n",
    "\n",
    "with meas.run() as datasaver:\n",
    "    \n",
    "    datasaver.dataset.subscribe(\n",
    "        LivePlotSubscriber(datasaver.dataset),\n",
    "        state=[], min_wait=0, min_count=1\n",
    "    )\n",
    "    \n",
    "    # Do normal sweeping until the peak is detected\n",
    "    \n",
    "    for v2ind, v2 in enumerate(v2_points):\n",
    "        for v1ind, v1 in enumerate(v1_points):\n",
    "            dac.ch1(v1)\n",
    "            dac.ch2(v2)\n",
    "            val = dmm.v1.get()\n",
    "            datasaver.add_result((dac.ch1, v1),\n",
    "                                 (dac.ch2, v2),\n",
    "                                 (dmm.v1, val))\n",
    "            if val > threshold:\n",
    "                break\n",
    "        else:\n",
    "            continue\n",
    "        break\n",
    "        \n",
    "    # now be more clever, meandering back and forth over the peak\n",
    "    doneyet = False\n",
    "    rowdone = False\n",
    "    v1_step = 1\n",
    "    while not doneyet:\n",
    "            v2 = v2_points[v2ind]\n",
    "            v1 = v1_points[v1ind+v1_step-1]\n",
    "            dac.ch1(v1)\n",
    "            dac.ch2(v2)\n",
    "            val = dmm.v1.get()\n",
    "            datasaver.add_result((dac.ch1, v1),\n",
    "                                 (dac.ch2, v2),\n",
    "                                 (dmm.v1, val))\n",
    "            if val < threshold:\n",
    "                if rowdone:\n",
    "                    doneyet = True\n",
    "                v2ind += 1\n",
    "                v1_step *= -1\n",
    "                rowdone = True\n",
    "            else:\n",
    "                v1ind += v1_step\n",
    "                rowdone = False\n",
    "                \n",
    "dataid = datasaver.run_id"
   ]
  },
  {
   "cell_type": "markdown",
   "metadata": {},
   "source": [
    "We see that only the top part of the plot, there the coordinate points lie in a grid, are plotted. But this is what the complete plot is supposed to look like.  "
   ]
  },
  {
   "cell_type": "code",
   "execution_count": null,
   "metadata": {},
   "outputs": [],
   "source": [
    "ax, cbax = plot_by_id(dataid)"
   ]
  },
  {
   "cell_type": "markdown",
   "metadata": {
    "collapsed": true
   },
   "source": [
    "## Random sampling "
   ]
  },
  {
   "cell_type": "markdown",
   "metadata": {},
   "source": [
    "This does not work too well with the live plotter, either "
   ]
  },
  {
   "cell_type": "code",
   "execution_count": null,
   "metadata": {},
   "outputs": [],
   "source": [
    "gauss = gauss_model(0.1, 0.2, 0.25)\n",
    "next(gauss)\n",
    "\n",
    "def measure_gauss(x, y):\n",
    "    val = gauss.send((x, y))\n",
    "    next(gauss)\n",
    "    return val"
   ]
  },
  {
   "cell_type": "code",
   "execution_count": null,
   "metadata": {},
   "outputs": [],
   "source": [
    "v1_points = np.linspace(-1, 1, 250)\n",
    "v2_points = np.linspace(1, -1, 250)\n",
    "\n",
    "threshold = 0.25\n",
    "\n",
    "npoints = 10000\n",
    "\n",
    "with meas.run() as datasaver:\n",
    "    \n",
    "    datasaver.dataset.subscribe(\n",
    "        LivePlotSubscriber(datasaver.dataset),\n",
    "        state=[], min_wait=0, min_count=1\n",
    "    )\n",
    "    \n",
    "    for i in range(npoints):\n",
    "        x = 2*(np.random.rand()-.5)\n",
    "        y = 2*(np.random.rand()-.5)\n",
    "        z = measure_gauss(x,y)\n",
    "        datasaver.add_result((dac.ch1, x),\n",
    "                     (dac.ch2, y),\n",
    "                     (dmm.v1, z))\n",
    "dataid = datasaver.run_id"
   ]
  },
  {
   "cell_type": "markdown",
   "metadata": {},
   "source": [
    "We see that most data points are not drawn. Out data set should look like "
   ]
  },
  {
   "cell_type": "code",
   "execution_count": null,
   "metadata": {},
   "outputs": [],
   "source": [
    "ax, cbax = plot_by_id(dataid)"
   ]
  },
  {
   "cell_type": "code",
   "execution_count": null,
   "metadata": {},
   "outputs": [],
   "source": []
  }
 ],
 "metadata": {
  "kernelspec": {
   "display_name": "Python [default]",
   "language": "python",
   "name": "python3"
  },
  "language_info": {
   "codemirror_mode": {
    "name": "ipython",
    "version": 3
   },
   "file_extension": ".py",
   "mimetype": "text/x-python",
   "name": "python",
   "nbconvert_exporter": "python",
   "pygments_lexer": "ipython3",
   "version": "3.6.6"
  },
  "toc": {
   "base_numbering": 1,
   "nav_menu": {},
   "number_sections": true,
   "sideBar": true,
   "skip_h1_title": false,
   "title_cell": "Table of Contents",
   "title_sidebar": "Contents",
   "toc_cell": false,
   "toc_position": {},
   "toc_section_display": true,
   "toc_window_display": false
  }
 },
 "nbformat": 4,
 "nbformat_minor": 2
}
