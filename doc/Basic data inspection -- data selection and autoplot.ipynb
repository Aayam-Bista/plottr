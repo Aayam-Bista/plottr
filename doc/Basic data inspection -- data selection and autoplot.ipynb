{
 "cells": [
  {
   "cell_type": "markdown",
   "metadata": {
    "toc": true
   },
   "source": [
    "<h1>Table of Contents<span class=\"tocSkip\"></span></h1>\n",
    "<div class=\"toc\"><ul class=\"toc-item\"><li><span><a href=\"#Introduction\" data-toc-modified-id=\"Introduction-1\"><span class=\"toc-item-num\">1&nbsp;&nbsp;</span>Introduction</a></span><ul class=\"toc-item\"><li><span><a href=\"#Nodes\" data-toc-modified-id=\"Nodes-1.1\"><span class=\"toc-item-num\">1.1&nbsp;&nbsp;</span>Nodes</a></span></li><li><span><a href=\"#Data-model\" data-toc-modified-id=\"Data-model-1.2\"><span class=\"toc-item-num\">1.2&nbsp;&nbsp;</span>Data model</a></span></li></ul></li><li><span><a href=\"#Setting-up\" data-toc-modified-id=\"Setting-up-2\"><span class=\"toc-item-num\">2&nbsp;&nbsp;</span>Setting up</a></span><ul class=\"toc-item\"><li><span><a href=\"#Required-libraries\" data-toc-modified-id=\"Required-libraries-2.1\"><span class=\"toc-item-num\">2.1&nbsp;&nbsp;</span>Required libraries</a></span></li><li><span><a href=\"#Setting-up-logging\" data-toc-modified-id=\"Setting-up-logging-2.2\"><span class=\"toc-item-num\">2.2&nbsp;&nbsp;</span>Setting up logging</a></span></li></ul></li><li><span><a href=\"#Selecting-and-plotting-data-using-code\" data-toc-modified-id=\"Selecting-and-plotting-data-using-code-3\"><span class=\"toc-item-num\">3&nbsp;&nbsp;</span>Selecting and plotting data using code</a></span></li></ul></div>"
   ]
  },
  {
   "cell_type": "markdown",
   "metadata": {},
   "source": [
    "# Introduction"
   ]
  },
  {
   "cell_type": "markdown",
   "metadata": {},
   "source": [
    "This is a basic illustration of how plottr can be used for interactive data inspection. In this notebook we go through a simple example of how plottr easily allows us to look at multidimensional data.\n",
    "\n",
    "\n",
    "Let's start with some key concepts that plottr uses under the hood:\n",
    "\n",
    "\n",
    "## Nodes\n",
    "\n",
    "Data in plottr is transformed through a flowchart of nodes. This is inherited from the pyqtgraph library. Each node typically has some input data, does some processing on it, which then results in output data. This is done essentially on-demand, i.e., only when the input has changed, the node performs processing. \n",
    "\n",
    "## Data model\n",
    "\n",
    "Within plotter, we use the DataDict format (see the \"Working with data\" example notebook). This is basically a dictionary-based data container with some standardized meta-data and some convenience functions for working on the data. Each node within plottr is expected to accept DataDicts as input and to produce DataDicts as output (with the exception of None, which signals that there is no output right now)."
   ]
  },
  {
   "cell_type": "markdown",
   "metadata": {},
   "source": [
    "# Setting up\n",
    "\n",
    "## Required libraries\n",
    "\n",
    "Under the hood we make heavy use of pyqt and pyqtgraph; for plotting we use matplotlib as well. Our main import block looks like this (see below for the role each of the parts play).\n",
    "Note that the first code line is the `gui qt` magic, which allows us handle a Qt mainloop nicely within the notebook."
   ]
  },
  {
   "cell_type": "code",
   "execution_count": 2,
   "metadata": {
    "ExecuteTime": {
     "end_time": "2018-10-14T10:14:51.321839Z",
     "start_time": "2018-10-14T10:14:50.951807Z"
    }
   },
   "outputs": [],
   "source": [
    "%gui qt\n",
    "\n",
    "import numpy as np\n",
    "from matplotlib import pyplot as plt\n",
    "\n",
    "import pyqtgraph as pg\n",
    "from pyqtgraph.flowchart import Flowchart\n",
    "from pyqtgraph import Qt\n",
    "from pyqtgraph.Qt import QtGui, QtCore\n",
    "from pyqtgraph.flowchart import library as fclib\n",
    "\n",
    "# qtconsole is sometimes nice as a complement\n",
    "# %qtconsole"
   ]
  },
  {
   "cell_type": "markdown",
   "metadata": {},
   "source": [
    "## Setting up logging\n",
    "\n",
    "To avoid confusion when handling messages and user information from the flowchart and nodes we use a custom log handler. All log messages sent to a logger with name \"plottr.\\*\" will be captured.\n",
    "\n",
    "Since plottr is GUI tool, it is only fitting to use a GUI output for all logs :)\n",
    "Here we open a separate dialog which contains text output from plottr."
   ]
  },
  {
   "cell_type": "code",
   "execution_count": 20,
   "metadata": {
    "ExecuteTime": {
     "end_time": "2018-10-14T15:29:19.747887Z",
     "start_time": "2018-10-14T15:29:19.723950Z"
    }
   },
   "outputs": [],
   "source": [
    "import logging\n",
    "from plottr import log as plottrlog\n",
    "logDialog = plottrlog.setupLogging()\n",
    "logger = logging.getLogger('plottr.interactive')\n",
    "plottrlog.LEVEL = logging.DEBUG"
   ]
  },
  {
   "cell_type": "code",
   "execution_count": null,
   "metadata": {},
   "outputs": [],
   "source": []
  },
  {
   "cell_type": "code",
   "execution_count": null,
   "metadata": {},
   "outputs": [],
   "source": []
  },
  {
   "cell_type": "markdown",
   "metadata": {
    "ExecuteTime": {
     "end_time": "2018-07-22T11:49:46.637513Z",
     "start_time": "2018-07-22T11:49:46.624562Z"
    }
   },
   "source": [
    "# Selecting and plotting data using code"
   ]
  },
  {
   "cell_type": "code",
   "execution_count": 6,
   "metadata": {
    "ExecuteTime": {
     "end_time": "2018-10-14T10:14:51.633981Z",
     "start_time": "2018-10-14T10:14:51.384648Z"
    }
   },
   "outputs": [],
   "source": [
    "from plottr.data import datadict; reload(datadict)\n",
    "from plottr.data.datadict import togrid, DataDict, GridDataDict\n",
    "\n",
    "from plottr.node import node; reload(node)\n",
    "from plottr.node.node import Node, NodesWidget\n",
    "\n",
    "from plottr.node import data_selector; reload(data_selector)\n",
    "from plottr.node.data_selector import DataSelector\n",
    "\n",
    "from plottr.node import dim_reducer; reload(dim_reducer)\n",
    "from plottr.node.dim_reducer import DimensionReducer, XYAxesSelector\n",
    "\n",
    "from plottr.plot import mpl; reload(mpl)\n",
    "from plottr.plot.mpl import PlotNode, AutoPlot"
   ]
  },
  {
   "cell_type": "code",
   "execution_count": 7,
   "metadata": {
    "ExecuteTime": {
     "end_time": "2018-10-14T10:14:51.654925Z",
     "start_time": "2018-10-14T10:14:51.636974Z"
    }
   },
   "outputs": [],
   "source": [
    "def testdata_2d(nx=10, ny=10):\n",
    "    x = np.linspace(0, 10, nx)\n",
    "    y = np.arange(ny)\n",
    "    \n",
    "    xx, yy = np.meshgrid(x, y, indexing='ij')\n",
    "    dd = np.cos(xx) + (-0.05 + 0.1 * np.random.rand(*yy.shape))\n",
    "    dd2 = np.sin(xx) + (-0.5 + 1 * np.random.rand(*yy.shape))\n",
    "    \n",
    "    d = DataDict(\n",
    "        x = dict(values=xx.reshape(-1)),\n",
    "        y = dict(values=yy.reshape(-1)),\n",
    "        cos_data = dict(values=dd.reshape(-1), axes=['x', 'y']),\n",
    "        sin_data = dict(values=dd2.reshape(-1), axes=['x', 'y']),\n",
    "    )\n",
    "    return d\n",
    "\n",
    "data_in = testdata_2d(21, 500)"
   ]
  },
  {
   "cell_type": "code",
   "execution_count": 8,
   "metadata": {
    "ExecuteTime": {
     "end_time": "2018-10-14T10:14:52.145612Z",
     "start_time": "2018-10-14T10:14:51.656921Z"
    },
    "scrolled": true
   },
   "outputs": [],
   "source": [
    "Node.raiseExceptions = True\n",
    "Node.debug = True\n",
    "DataSelector.debug = True\n",
    "DataSelector.useUi = False\n",
    "\n",
    "nodelib = fclib.NodeLibrary()\n",
    "nodelib.addNodeType(DataSelector, [('Basic')])\n",
    "nodelib.addNodeType(DimensionReducer, [('Basic')])\n",
    "nodelib.addNodeType(XYAxesSelector, [('Basic')])\n",
    "nodelib.addNodeType(PlotNode, [('Plot')])\n",
    "\n",
    "fc = Flowchart(terminals={\n",
    "    'dataIn': {'io': 'in'},\n",
    "    'dataOut': {'io': 'out'}\n",
    "})\n",
    "fc.library = nodelib\n",
    "\n",
    "selector = fc.createNode('DataSelector')\n",
    "dim_reduce = fc.createNode('DimensionReducer')\n",
    "xysel = fc.createNode('XYAxesSelector')\n",
    "plot = fc.createNode('Plot')\n",
    "\n",
    "fc.connectTerminals(fc['dataIn'], selector['dataIn'])\n",
    "# fc.connectTerminals(selector['dataOut'], dim_reduce['dataIn'])\n",
    "# fc.connectTerminals(dim_reduce['dataOut'], fc['dataOut'])\n",
    "fc.connectTerminals(selector['dataOut'], xysel['dataIn'])\n",
    "fc.connectTerminals(xysel['dataOut'], fc['dataOut'])\n",
    "fc.connectTerminals(xysel['dataOut'], plot['dataIn'])\n",
    "\n",
    "\n",
    "plotWidget = AutoPlot()\n",
    "plot.setPlotWidget(plotWidget)\n",
    "\n",
    "dialog = QtGui.QDialog()\n",
    "# nw = NodesWidget()\n",
    "# nw.addNodeWidget(selector, 'Data Selector')\n",
    "layout = QtGui.QVBoxLayout(dialog)\n",
    "layout.addWidget(plotWidget)\n",
    "dialog.show()\n",
    "\n",
    "# fc.setInput(dataIn=data_in)"
   ]
  },
  {
   "cell_type": "code",
   "execution_count": 9,
   "metadata": {
    "ExecuteTime": {
     "end_time": "2018-10-14T10:14:52.152594Z",
     "start_time": "2018-10-14T10:14:52.147607Z"
    },
    "scrolled": false
   },
   "outputs": [],
   "source": [
    "selector.grid = True\n",
    "# selector.selectedData = [\n",
    "#     'sin_data', \n",
    "#     'cos_data',\n",
    "# ]\n",
    "\n",
    "# dim_reduce.targetNames = ['sin_data']\n",
    "# dim_reduce.reductions = {\n",
    "#     'y' : (np.mean, ),\n",
    "# }"
   ]
  },
  {
   "cell_type": "code",
   "execution_count": 10,
   "metadata": {
    "ExecuteTime": {
     "end_time": "2018-10-14T10:14:52.166557Z",
     "start_time": "2018-10-14T10:14:52.158578Z"
    }
   },
   "outputs": [],
   "source": [
    "# xysel.xyAxes = 'x', 'y'\n",
    "# xysel.reductions = {\n",
    "# #     'y' : (dim_reducer.selectAxisElement, [0],),\n",
    "# #     'y' : (np.mean, ),\n",
    "# #     'y' : (dim_reducer.sliceAxis, [np.s_[0:2:]], ),\n",
    "# }\n",
    "\n",
    "data_out = fc.output()['dataOut']\n",
    "\n",
    "# fig, ax = plt.subplots(1,1)\n",
    "# _ = ax.plot(data_out['x']['values'], data_out['cos_data']['values'], 'r.')\n",
    "# _ = ax.plot(data_out['x']['values'], data_out['sin_data']['values'], 'b.')"
   ]
  },
  {
   "cell_type": "code",
   "execution_count": null,
   "metadata": {},
   "outputs": [],
   "source": []
  },
  {
   "cell_type": "code",
   "execution_count": 11,
   "metadata": {
    "ExecuteTime": {
     "end_time": "2018-10-14T10:14:52.181516Z",
     "start_time": "2018-10-14T10:14:52.172540Z"
    }
   },
   "outputs": [],
   "source": [
    "fc.setInput(dataIn=data_in)"
   ]
  },
  {
   "cell_type": "code",
   "execution_count": 12,
   "metadata": {
    "ExecuteTime": {
     "end_time": "2018-10-14T10:14:52.209441Z",
     "start_time": "2018-10-14T10:14:52.183511Z"
    }
   },
   "outputs": [],
   "source": [
    "selector.selectedData = [\n",
    "    'sin_data', \n",
    "#     'cos_data',\n",
    "]"
   ]
  },
  {
   "cell_type": "code",
   "execution_count": 13,
   "metadata": {
    "ExecuteTime": {
     "end_time": "2018-10-14T10:14:52.355051Z",
     "start_time": "2018-10-14T10:14:52.211437Z"
    }
   },
   "outputs": [],
   "source": [
    "xysel.xyAxes = 'x', 'y'\n",
    "# xysel.reductions = {\n",
    "# #     'y' : (dim_reducer.selectAxisElement, [0],),\n",
    "# #     'y' : (np.mean, ),\n",
    "# #     'y' : (dim_reducer.sliceAxis, [np.s_[0:2:]], ),\n",
    "# }"
   ]
  },
  {
   "cell_type": "code",
   "execution_count": 14,
   "metadata": {
    "ExecuteTime": {
     "end_time": "2018-10-14T10:14:52.366023Z",
     "start_time": "2018-10-14T10:14:52.358044Z"
    }
   },
   "outputs": [
    {
     "data": {
      "text/plain": [
       "{'dataOut': {'x': {'values': array([ 0. ,  0.5,  1. ,  1.5,  2. ,  2.5,  3. ,  3.5,  4. ,  4.5,  5. ,\n",
       "           5.5,  6. ,  6.5,  7. ,  7.5,  8. ,  8.5,  9. ,  9.5, 10. ]),\n",
       "   'unit': '',\n",
       "   'axes': [],\n",
       "   'info': {}},\n",
       "  'y': {'values': array([  0,   1,   2,   3,   4,   5,   6,   7,   8,   9,  10,  11,  12,\n",
       "           13,  14,  15,  16,  17,  18,  19,  20,  21,  22,  23,  24,  25,\n",
       "           26,  27,  28,  29,  30,  31,  32,  33,  34,  35,  36,  37,  38,\n",
       "           39,  40,  41,  42,  43,  44,  45,  46,  47,  48,  49,  50,  51,\n",
       "           52,  53,  54,  55,  56,  57,  58,  59,  60,  61,  62,  63,  64,\n",
       "           65,  66,  67,  68,  69,  70,  71,  72,  73,  74,  75,  76,  77,\n",
       "           78,  79,  80,  81,  82,  83,  84,  85,  86,  87,  88,  89,  90,\n",
       "           91,  92,  93,  94,  95,  96,  97,  98,  99, 100, 101, 102, 103,\n",
       "          104, 105, 106, 107, 108, 109, 110, 111, 112, 113, 114, 115, 116,\n",
       "          117, 118, 119, 120, 121, 122, 123, 124, 125, 126, 127, 128, 129,\n",
       "          130, 131, 132, 133, 134, 135, 136, 137, 138, 139, 140, 141, 142,\n",
       "          143, 144, 145, 146, 147, 148, 149, 150, 151, 152, 153, 154, 155,\n",
       "          156, 157, 158, 159, 160, 161, 162, 163, 164, 165, 166, 167, 168,\n",
       "          169, 170, 171, 172, 173, 174, 175, 176, 177, 178, 179, 180, 181,\n",
       "          182, 183, 184, 185, 186, 187, 188, 189, 190, 191, 192, 193, 194,\n",
       "          195, 196, 197, 198, 199, 200, 201, 202, 203, 204, 205, 206, 207,\n",
       "          208, 209, 210, 211, 212, 213, 214, 215, 216, 217, 218, 219, 220,\n",
       "          221, 222, 223, 224, 225, 226, 227, 228, 229, 230, 231, 232, 233,\n",
       "          234, 235, 236, 237, 238, 239, 240, 241, 242, 243, 244, 245, 246,\n",
       "          247, 248, 249, 250, 251, 252, 253, 254, 255, 256, 257, 258, 259,\n",
       "          260, 261, 262, 263, 264, 265, 266, 267, 268, 269, 270, 271, 272,\n",
       "          273, 274, 275, 276, 277, 278, 279, 280, 281, 282, 283, 284, 285,\n",
       "          286, 287, 288, 289, 290, 291, 292, 293, 294, 295, 296, 297, 298,\n",
       "          299, 300, 301, 302, 303, 304, 305, 306, 307, 308, 309, 310, 311,\n",
       "          312, 313, 314, 315, 316, 317, 318, 319, 320, 321, 322, 323, 324,\n",
       "          325, 326, 327, 328, 329, 330, 331, 332, 333, 334, 335, 336, 337,\n",
       "          338, 339, 340, 341, 342, 343, 344, 345, 346, 347, 348, 349, 350,\n",
       "          351, 352, 353, 354, 355, 356, 357, 358, 359, 360, 361, 362, 363,\n",
       "          364, 365, 366, 367, 368, 369, 370, 371, 372, 373, 374, 375, 376,\n",
       "          377, 378, 379, 380, 381, 382, 383, 384, 385, 386, 387, 388, 389,\n",
       "          390, 391, 392, 393, 394, 395, 396, 397, 398, 399, 400, 401, 402,\n",
       "          403, 404, 405, 406, 407, 408, 409, 410, 411, 412, 413, 414, 415,\n",
       "          416, 417, 418, 419, 420, 421, 422, 423, 424, 425, 426, 427, 428,\n",
       "          429, 430, 431, 432, 433, 434, 435, 436, 437, 438, 439, 440, 441,\n",
       "          442, 443, 444, 445, 446, 447, 448, 449, 450, 451, 452, 453, 454,\n",
       "          455, 456, 457, 458, 459, 460, 461, 462, 463, 464, 465, 466, 467,\n",
       "          468, 469, 470, 471, 472, 473, 474, 475, 476, 477, 478, 479, 480,\n",
       "          481, 482, 483, 484, 485, 486, 487, 488, 489, 490, 491, 492, 493,\n",
       "          494, 495, 496, 497, 498, 499], dtype=int64),\n",
       "   'unit': '',\n",
       "   'axes': [],\n",
       "   'info': {}},\n",
       "  'sin_data': {'values': array([[ 0.18756524, -0.45741739,  0.05741863, ...,  0.09220209,\n",
       "           -0.319859  ,  0.45383006],\n",
       "          [ 0.96240155,  0.97867693,  0.59454094, ...,  0.36359923,\n",
       "            0.670361  ,  0.5640461 ],\n",
       "          [ 1.00035171,  0.92064694,  1.11025271, ...,  0.67607788,\n",
       "            0.76708648,  0.87188507],\n",
       "          ...,\n",
       "          [ 0.34281317,  0.8828026 , -0.00371785, ...,  0.62550375,\n",
       "            0.44161383,  0.6233032 ],\n",
       "          [ 0.32304123, -0.52554928,  0.33745154, ..., -0.20949943,\n",
       "           -0.43721557, -0.20058142],\n",
       "          [-0.46781516, -0.48046447, -0.41498279, ..., -0.44424299,\n",
       "           -0.31006453, -0.59559811]]),\n",
       "   'axes': ['x', 'y'],\n",
       "   'unit': '',\n",
       "   'info': {}}}}"
      ]
     },
     "execution_count": 14,
     "metadata": {},
     "output_type": "execute_result"
    }
   ],
   "source": [
    "fc.output()"
   ]
  },
  {
   "cell_type": "code",
   "execution_count": null,
   "metadata": {},
   "outputs": [],
   "source": []
  }
 ],
 "metadata": {
  "hide_input": false,
  "kernelspec": {
   "display_name": "Python 3",
   "language": "python",
   "name": "python3"
  },
  "language_info": {
   "codemirror_mode": {
    "name": "ipython",
    "version": 3
   },
   "file_extension": ".py",
   "mimetype": "text/x-python",
   "name": "python",
   "nbconvert_exporter": "python",
   "pygments_lexer": "ipython3",
   "version": "3.6.6"
  },
  "toc": {
   "base_numbering": 1,
   "nav_menu": {},
   "number_sections": true,
   "sideBar": true,
   "skip_h1_title": false,
   "title_cell": "Table of Contents",
   "title_sidebar": "Contents",
   "toc_cell": true,
   "toc_position": {
    "height": "calc(100% - 180px)",
    "left": "10px",
    "top": "150px",
    "width": "290.983px"
   },
   "toc_section_display": true,
   "toc_window_display": true
  }
 },
 "nbformat": 4,
 "nbformat_minor": 2
}
