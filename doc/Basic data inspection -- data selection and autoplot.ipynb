{
 "cells": [
  {
   "cell_type": "markdown",
   "metadata": {
    "toc": true
   },
   "source": [
    "<h1>Table of Contents<span class=\"tocSkip\"></span></h1>\n",
    "<div class=\"toc\"><ul class=\"toc-item\"><li><span><a href=\"#Introduction\" data-toc-modified-id=\"Introduction-1\"><span class=\"toc-item-num\">1&nbsp;&nbsp;</span>Introduction</a></span><ul class=\"toc-item\"><li><span><a href=\"#Nodes\" data-toc-modified-id=\"Nodes-1.1\"><span class=\"toc-item-num\">1.1&nbsp;&nbsp;</span>Nodes</a></span></li><li><span><a href=\"#Data-model\" data-toc-modified-id=\"Data-model-1.2\"><span class=\"toc-item-num\">1.2&nbsp;&nbsp;</span>Data model</a></span></li></ul></li><li><span><a href=\"#Quickstart\" data-toc-modified-id=\"Quickstart-2\"><span class=\"toc-item-num\">2&nbsp;&nbsp;</span>Quickstart</a></span><ul class=\"toc-item\"><li><span><a href=\"#Required-libraries\" data-toc-modified-id=\"Required-libraries-2.1\"><span class=\"toc-item-num\">2.1&nbsp;&nbsp;</span>Required libraries</a></span></li><li><span><a href=\"#create-a-flowchart-using-the-autoplot-convenience-function\" data-toc-modified-id=\"create-a-flowchart-using-the-autoplot-convenience-function-2.2\"><span class=\"toc-item-num\">2.2&nbsp;&nbsp;</span>create a flowchart using the autoplot convenience function</a></span></li><li><span><a href=\"#Processing-and-plotting-data\" data-toc-modified-id=\"Processing-and-plotting-data-2.3\"><span class=\"toc-item-num\">2.3&nbsp;&nbsp;</span>Processing and plotting data</a></span></li><li><span><a href=\"#Accessing-data-and-nodes-dynamically-with-code\" data-toc-modified-id=\"Accessing-data-and-nodes-dynamically-with-code-2.4\"><span class=\"toc-item-num\">2.4&nbsp;&nbsp;</span>Accessing data and nodes dynamically with code</a></span></li></ul></li><li><span><a href=\"#Appendix:-Explicit-set-up-of-autoplot\" data-toc-modified-id=\"Appendix:-Explicit-set-up-of-autoplot-3\"><span class=\"toc-item-num\">3&nbsp;&nbsp;</span>Appendix: Explicit set-up of autoplot</a></span><ul class=\"toc-item\"><li><span><a href=\"#Setting-up-the-flowchart\" data-toc-modified-id=\"Setting-up-the-flowchart-3.1\"><span class=\"toc-item-num\">3.1&nbsp;&nbsp;</span>Setting up the flowchart</a></span></li><li><span><a href=\"#Creating-the-GUI\" data-toc-modified-id=\"Creating-the-GUI-3.2\"><span class=\"toc-item-num\">3.2&nbsp;&nbsp;</span>Creating the GUI</a></span></li><li><span><a href=\"#feed-in-some-data\" data-toc-modified-id=\"feed-in-some-data-3.3\"><span class=\"toc-item-num\">3.3&nbsp;&nbsp;</span>feed in some data</a></span></li><li><span><a href=\"#notebook-and-GUI-interaction\" data-toc-modified-id=\"notebook-and-GUI-interaction-3.4\"><span class=\"toc-item-num\">3.4&nbsp;&nbsp;</span>notebook and GUI interaction</a></span></li></ul></li><li><span><a href=\"#Scratch\" data-toc-modified-id=\"Scratch-4\"><span class=\"toc-item-num\">4&nbsp;&nbsp;</span>Scratch</a></span></li></ul></div>"
   ]
  },
  {
   "cell_type": "markdown",
   "metadata": {},
   "source": [
    "# Introduction"
   ]
  },
  {
   "cell_type": "markdown",
   "metadata": {},
   "source": [
    "This is a basic illustration of how plottr can be used for interactive data inspection. In this notebook we go through a simple example of how plottr easily allows us to look at multidimensional data.\n",
    "\n",
    "\n",
    "Let's start with some key concepts that plottr uses under the hood:\n",
    "\n",
    "\n",
    "## Nodes\n",
    "\n",
    "Data in plottr is transformed through a flowchart of nodes. This is inherited from the pyqtgraph library. Each node typically has some input data, does some processing on it, which then results in output data. This is done essentially on-demand, i.e., only when the input has changed, the node performs processing. \n",
    "\n",
    "## Data model\n",
    "\n",
    "Within plotter, we use the DataDict format (see the \"Working with data\" example notebook). This is basically a dictionary-based data container with some standardized meta-data and some convenience functions for working on the data. Each node within plottr is expected to accept DataDicts as input and to produce DataDicts as output (with the exception of None, which signals that there is no output right now)."
   ]
  },
  {
   "cell_type": "markdown",
   "metadata": {},
   "source": [
    "# Quickstart\n",
    "\n",
    "## Required libraries\n",
    "\n",
    "Under the hood we make heavy use of pyqt and pyqtgraph; for plotting we use matplotlib as well. Our main import block looks like this (see below for the role each of the parts play).\n",
    "Note that the first code line is the `gui qt` magic, which allows us handle a Qt mainloop nicely within the notebook."
   ]
  },
  {
   "cell_type": "code",
   "execution_count": null,
   "metadata": {
    "ExecuteTime": {
     "end_time": "2018-10-27T15:49:56.302191Z",
     "start_time": "2018-10-27T15:49:55.646921Z"
    }
   },
   "outputs": [],
   "source": [
    "%gui qt\n",
    "%matplotlib qt\n",
    "\n",
    "import logging\n",
    "import numpy as np\n",
    "from matplotlib import pyplot as plt\n",
    "\n",
    "from plottr import apps"
   ]
  },
  {
   "cell_type": "markdown",
   "metadata": {},
   "source": [
    "## create a flowchart using the autoplot convenience function\n",
    "\n",
    "To make usage easy, we can use some pre-arranged tools. A simple one is autoplot, that creates a flowchart and UI that allows the user to easily select and inspect data. \n",
    "\n",
    "The convenience method below will returns a pyqtgraph flowchart object, as well as the GUI window (a pyqt dialog)."
   ]
  },
  {
   "cell_type": "code",
   "execution_count": null,
   "metadata": {
    "ExecuteTime": {
     "end_time": "2018-10-27T15:49:56.729027Z",
     "start_time": "2018-10-27T15:49:56.314137Z"
    }
   },
   "outputs": [],
   "source": [
    "fc, win = apps.autoplot()"
   ]
  },
  {
   "cell_type": "markdown",
   "metadata": {},
   "source": [
    "## Processing and plotting data\n",
    "\n",
    "As a simple example we make some test data, and feed it into the flowchart. The data object we need to use here is of type `plottr.data.DataDict`."
   ]
  },
  {
   "cell_type": "code",
   "execution_count": null,
   "metadata": {
    "ExecuteTime": {
     "end_time": "2018-10-27T15:49:56.756952Z",
     "start_time": "2018-10-27T15:49:56.731023Z"
    }
   },
   "outputs": [],
   "source": [
    "import test_data\n",
    "data = test_data.three_incompatible_3d_sets(31, 31, 21)\n",
    "fc.setInput(dataIn=data)"
   ]
  },
  {
   "cell_type": "markdown",
   "metadata": {},
   "source": [
    "At this point, the plot widget should display the available data in the *Data Selector* dock. The usage should be somewhat straight-forward, but in short:\n",
    "* you can select compatible data sets in the selector (compatible means data with the same axes).\n",
    "    * you can also select if the data should be placed on a grid, or forwarded in its original column-based form.\n",
    "    * Note: gridding is currently done automatically by inspecting the data. this can thus be a bit slow for large data sets.\n",
    "* the selected data is forwarded to an axes selector that allows us to make a 1d or 2d data set out of the data, which can then be plotted.\n",
    "    * any axes not used as x or y is *reduced*, i.e., it's not present anymore in the output. \n",
    "    * When data is on a grid, we have some options as to how to do that. The GUI currently supports averaging the axes, or selecting a particular value of that axis (ie we slice the data).\n",
    "    * if data is not a grid, we just ignore each axis that's not designated as x or y.\n",
    "* finally, the selected data is plotted.\n",
    "    * if data is on a grid, we use line and colormesh plots\n",
    "    * if not, we use scatter plots.\n",
    "    \n",
    "**Note**: you can have multiple windows open. Logging might at this point behave a bit oddly if you use it, but nothing worse than that should happen."
   ]
  },
  {
   "cell_type": "code",
   "execution_count": null,
   "metadata": {
    "ExecuteTime": {
     "end_time": "2018-10-27T15:49:56.884611Z",
     "start_time": "2018-10-27T15:49:56.757950Z"
    }
   },
   "outputs": [],
   "source": [
    "fc2, win2 = apps.autoplot(inputData=data)"
   ]
  },
  {
   "cell_type": "markdown",
   "metadata": {},
   "source": [
    "## Accessing data and nodes dynamically with code\n",
    "\n",
    "TBD"
   ]
  },
  {
   "cell_type": "code",
   "execution_count": null,
   "metadata": {},
   "outputs": [],
   "source": []
  },
  {
   "cell_type": "code",
   "execution_count": null,
   "metadata": {},
   "outputs": [],
   "source": []
  },
  {
   "cell_type": "markdown",
   "metadata": {
    "ExecuteTime": {
     "end_time": "2018-07-22T11:49:46.637513Z",
     "start_time": "2018-07-22T11:49:46.624562Z"
    }
   },
   "source": [
    "# Appendix: Explicit set-up of autoplot\n",
    "\n",
    "NOTE: you might have to restart the kernel and run only imports and the things below. The QT libs sometimes act up when using them in 'weird' orders in the same kernel session."
   ]
  },
  {
   "cell_type": "code",
   "execution_count": null,
   "metadata": {
    "ExecuteTime": {
     "end_time": "2018-10-27T14:35:03.053286Z",
     "start_time": "2018-10-27T14:35:01.577267Z"
    }
   },
   "outputs": [],
   "source": [
    "import pyqtgraph as pg\n",
    "from pyqtgraph.flowchart import Flowchart\n",
    "from pyqtgraph import Qt\n",
    "from pyqtgraph.Qt import QtGui, QtCore\n",
    "from pyqtgraph.flowchart import library as fclib\n",
    "from pyqtgraph.dockarea import Dock, DockArea\n",
    "\n",
    "from plottr.data.datadict import togrid, DataDict, GridDataDict\n",
    "from plottr import log as plottrlog\n",
    "from plottr.node.data_selector import DataSelector\n",
    "from plottr.node.dim_reducer import XYAxesSelector\n",
    "from plottr.plot.mpl import PlotNode, AutoPlot"
   ]
  },
  {
   "cell_type": "markdown",
   "metadata": {},
   "source": [
    "## Setting up the flowchart\n",
    "\n",
    "We first populate the Node Library with the nodes we have at our disposal (in practice you probably want that to happen in some initialization function or script). We then instantiate the nodes we want to use, and connect the terminals in the right order. "
   ]
  },
  {
   "cell_type": "code",
   "execution_count": null,
   "metadata": {
    "ExecuteTime": {
     "end_time": "2018-10-27T14:35:03.532169Z",
     "start_time": "2018-10-27T14:35:03.054168Z"
    },
    "scrolled": true
   },
   "outputs": [],
   "source": [
    "nodelib = fclib.NodeLibrary()\n",
    "nodelib.addNodeType(DataSelector, [('Basic')])\n",
    "nodelib.addNodeType(XYAxesSelector, [('Basic')])\n",
    "nodelib.addNodeType(PlotNode, [('Plot')])\n",
    "\n",
    "fc = Flowchart(terminals={\n",
    "    'dataIn': {'io': 'in'},\n",
    "    'dataOut': {'io': 'out'}\n",
    "})\n",
    "fc.library = nodelib\n",
    "\n",
    "datasel = fc.createNode('DataSelector')\n",
    "xysel = fc.createNode('XYAxesSelector')\n",
    "plot = fc.createNode('Plot')\n",
    "\n",
    "fc.connectTerminals(fc['dataIn'], datasel['dataIn'])\n",
    "fc.connectTerminals(datasel['dataOut'], xysel['dataIn'])\n",
    "fc.connectTerminals(xysel['dataOut'], fc['dataOut'])\n",
    "fc.connectTerminals(xysel['dataOut'], plot['dataIn'])"
   ]
  },
  {
   "cell_type": "markdown",
   "metadata": {},
   "source": [
    "## Creating the GUI\n",
    "\n",
    "This is basically now just arranging the different widgets in a reasonable way. All the nodes we already instantiated provide ui widgest per default (not generally true, but for these Nodes it is :)). \n",
    "\n",
    "To avoid confusion when handling messages and user information from the flowchart and nodes we use a custom log handler. All log messages sent to a logger with name \"plottr.\\*\" will be captured.\n",
    "\n",
    "Since plottr is GUI tool, it is only fitting to use a GUI output for all logs :)\n",
    "Here we open a separate dialog which contains text output from plottr."
   ]
  },
  {
   "cell_type": "code",
   "execution_count": null,
   "metadata": {
    "ExecuteTime": {
     "end_time": "2018-10-27T14:35:03.684674Z",
     "start_time": "2018-10-27T14:35:03.533073Z"
    }
   },
   "outputs": [],
   "source": [
    "# Create the plot widget\n",
    "plotWidget = AutoPlot()\n",
    "plot.setPlotWidget(plotWidget)\n",
    "\n",
    "# Setting up the GUI window\n",
    "win = QtGui.QDialog()\n",
    "area = DockArea()\n",
    "layout = QtGui.QVBoxLayout()\n",
    "layout.addWidget(area)\n",
    "win.setLayout(layout)\n",
    "\n",
    "# data selector\n",
    "dataselDock = Dock('Data Selector')\n",
    "dataselDock.addWidget(datasel.ui)\n",
    "area.addDock(dataselDock)\n",
    "\n",
    "# xy selector\n",
    "xyselDock = Dock('XY Axes Selector')\n",
    "xyselDock.addWidget(xysel.ui)\n",
    "area.addDock(xyselDock, 'bottom', dataselDock)\n",
    "\n",
    "# logger\n",
    "logDock = Dock('Log')\n",
    "logDock.addWidget(plottrlog.setupLogging(makeDialog=False))\n",
    "area.addDock(logDock, 'bottom', xyselDock)\n",
    "\n",
    "# plot\n",
    "plotDock = Dock('Plot')\n",
    "plotDock.addWidget(plotWidget)\n",
    "area.addDock(plotDock, 'right')\n",
    "\n",
    "# show the whole thing\n",
    "win.show()\n",
    "\n",
    "### Logging\n",
    "logger = logging.getLogger('plottr.interactive')\n",
    "plottrlog.LEVEL = logging.DEBUG"
   ]
  },
  {
   "cell_type": "markdown",
   "metadata": {},
   "source": [
    "## feed in some data\n",
    "\n",
    "After plugging in some input data we can start exploring it using the GUI."
   ]
  },
  {
   "cell_type": "code",
   "execution_count": null,
   "metadata": {
    "ExecuteTime": {
     "end_time": "2018-10-27T14:35:03.821307Z",
     "start_time": "2018-10-27T14:35:03.686668Z"
    }
   },
   "outputs": [],
   "source": [
    "import test_data\n",
    "data = test_data.three_incompatible_3d_sets(101, 101, 201)\n",
    "fc.setInput(dataIn=data)"
   ]
  },
  {
   "cell_type": "markdown",
   "metadata": {},
   "source": [
    "## notebook and GUI interaction\n",
    "\n",
    "As already seen above, we can change the options also using code in the notebook, and we can get the data from the flowchart output and process it further."
   ]
  },
  {
   "cell_type": "code",
   "execution_count": null,
   "metadata": {
    "ExecuteTime": {
     "end_time": "2018-10-27T14:30:04.806130Z",
     "start_time": "2018-10-27T14:30:04.508892Z"
    }
   },
   "outputs": [],
   "source": [
    "datasel.grid = True \n",
    "datasel.selectedData = ['data']\n",
    "xysel.xyAxes = 'x', 'y'\n",
    "xysel.reductions = {\n",
    "    'z' : (np.mean, [], {})\n",
    "}"
   ]
  },
  {
   "cell_type": "code",
   "execution_count": null,
   "metadata": {
    "ExecuteTime": {
     "end_time": "2018-10-27T14:31:40.855615Z",
     "start_time": "2018-10-27T14:31:40.771720Z"
    }
   },
   "outputs": [],
   "source": [
    "data = fc.output()['dataOut']\n",
    "x = data['x']['values']\n",
    "y = data['y']['values']\n",
    "z = data['data']['values']\n",
    "\n",
    "fig, ax = plt.subplots(1, 1, figsize=(4,3), dpi=150)\n",
    "im = ax.imshow(z.T, origin='bottom')\n",
    "cb = fig.colorbar(im)\n",
    "fig.tight_layout()\n",
    "ax.grid(False)"
   ]
  },
  {
   "cell_type": "code",
   "execution_count": null,
   "metadata": {},
   "outputs": [],
   "source": []
  },
  {
   "cell_type": "code",
   "execution_count": null,
   "metadata": {
    "ExecuteTime": {
     "end_time": "2018-10-27T15:12:55.185839Z",
     "start_time": "2018-10-27T15:12:55.182842Z"
    }
   },
   "outputs": [],
   "source": []
  },
  {
   "cell_type": "code",
   "execution_count": null,
   "metadata": {},
   "outputs": [],
   "source": []
  },
  {
   "cell_type": "code",
   "execution_count": null,
   "metadata": {},
   "outputs": [],
   "source": []
  },
  {
   "cell_type": "markdown",
   "metadata": {},
   "source": [
    "# Scratch"
   ]
  },
  {
   "cell_type": "code",
   "execution_count": null,
   "metadata": {},
   "outputs": [],
   "source": []
  }
 ],
 "metadata": {
  "hide_input": false,
  "kernelspec": {
   "display_name": "Python 3",
   "language": "python",
   "name": "python3"
  },
  "language_info": {
   "codemirror_mode": {
    "name": "ipython",
    "version": 3
   },
   "file_extension": ".py",
   "mimetype": "text/x-python",
   "name": "python",
   "nbconvert_exporter": "python",
   "pygments_lexer": "ipython3",
   "version": "3.6.6"
  },
  "toc": {
   "base_numbering": 1,
   "nav_menu": {},
   "number_sections": true,
   "sideBar": true,
   "skip_h1_title": false,
   "title_cell": "Table of Contents",
   "title_sidebar": "Contents",
   "toc_cell": true,
   "toc_position": {
    "height": "calc(100% - 180px)",
    "left": "10px",
    "top": "150px",
    "width": "270.75px"
   },
   "toc_section_display": true,
   "toc_window_display": true
  }
 },
 "nbformat": 4,
 "nbformat_minor": 2
}
