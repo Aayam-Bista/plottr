{
 "cells": [
  {
   "cell_type": "markdown",
   "metadata": {
    "toc": true
   },
   "source": [
    "<h1>Table of Contents<span class=\"tocSkip\"></span></h1>\n",
    "<div class=\"toc\"><ul class=\"toc-item\"><li><span><a href=\"#Introduction\" data-toc-modified-id=\"Introduction-1\"><span class=\"toc-item-num\">1&nbsp;&nbsp;</span>Introduction</a></span><ul class=\"toc-item\"><li><span><a href=\"#Nodes\" data-toc-modified-id=\"Nodes-1.1\"><span class=\"toc-item-num\">1.1&nbsp;&nbsp;</span>Nodes</a></span></li><li><span><a href=\"#Data-model\" data-toc-modified-id=\"Data-model-1.2\"><span class=\"toc-item-num\">1.2&nbsp;&nbsp;</span>Data model</a></span></li></ul></li><li><span><a href=\"#Setting-up\" data-toc-modified-id=\"Setting-up-2\"><span class=\"toc-item-num\">2&nbsp;&nbsp;</span>Setting up</a></span><ul class=\"toc-item\"><li><span><a href=\"#Required-libraries\" data-toc-modified-id=\"Required-libraries-2.1\"><span class=\"toc-item-num\">2.1&nbsp;&nbsp;</span>Required libraries</a></span></li><li><span><a href=\"#Setting-up-logging\" data-toc-modified-id=\"Setting-up-logging-2.2\"><span class=\"toc-item-num\">2.2&nbsp;&nbsp;</span>Setting up logging</a></span></li></ul></li><li><span><a href=\"#Selecting-and-plotting-data-using-code\" data-toc-modified-id=\"Selecting-and-plotting-data-using-code-3\"><span class=\"toc-item-num\">3&nbsp;&nbsp;</span>Selecting and plotting data using code</a></span></li></ul></div>"
   ]
  },
  {
   "cell_type": "markdown",
   "metadata": {},
   "source": [
    "# Introduction"
   ]
  },
  {
   "cell_type": "markdown",
   "metadata": {},
   "source": [
    "This is a basic illustration of how plottr can be used for interactive data inspection. In this notebook we go through a simple example of how plottr easily allows us to look at multidimensional data.\n",
    "\n",
    "\n",
    "Let's start with some key concepts that plottr uses under the hood:\n",
    "\n",
    "\n",
    "## Nodes\n",
    "\n",
    "Data in plottr is transformed through a flowchart of nodes. This is inherited from the pyqtgraph library. Each node typically has some input data, does some processing on it, which then results in output data. This is done essentially on-demand, i.e., only when the input has changed, the node performs processing. \n",
    "\n",
    "## Data model\n",
    "\n",
    "Within plotter, we use the DataDict format (see the \"Working with data\" example notebook). This is basically a dictionary-based data container with some standardized meta-data and some convenience functions for working on the data. Each node within plottr is expected to accept DataDicts as input and to produce DataDicts as output (with the exception of None, which signals that there is no output right now)."
   ]
  },
  {
   "cell_type": "markdown",
   "metadata": {},
   "source": [
    "# Setting up\n",
    "\n",
    "## Required libraries\n",
    "\n",
    "Under the hood we make heavy use of pyqt and pyqtgraph; for plotting we use matplotlib as well. Our main import block looks like this (see below for the role each of the parts play).\n",
    "Note that the first code line is the `gui qt` magic, which allows us handle a Qt mainloop nicely within the notebook."
   ]
  },
  {
   "cell_type": "code",
   "execution_count": null,
   "metadata": {
    "ExecuteTime": {
     "end_time": "2018-10-14T10:14:51.321839Z",
     "start_time": "2018-10-14T10:14:50.951807Z"
    }
   },
   "outputs": [],
   "source": [
    "%gui qt\n",
    "\n",
    "import numpy as np\n",
    "from matplotlib import pyplot as plt\n",
    "\n",
    "import pyqtgraph as pg\n",
    "from pyqtgraph.flowchart import Flowchart\n",
    "from pyqtgraph import Qt\n",
    "from pyqtgraph.Qt import QtGui, QtCore\n",
    "from pyqtgraph.flowchart import library as fclib\n",
    "\n",
    "# qtconsole is sometimes nice as a complement\n",
    "# %qtconsole"
   ]
  },
  {
   "cell_type": "markdown",
   "metadata": {},
   "source": [
    "## Setting up logging\n",
    "\n",
    "To avoid confusion when handling messages and user information from the flowchart and nodes we use a custom log handler. All log messages sent to a logger with name \"plottr.\\*\" will be captured.\n",
    "\n",
    "Since plottr is GUI tool, it is only fitting to use a GUI output for all logs :)\n",
    "Here we open a separate dialog which contains text output from plottr."
   ]
  },
  {
   "cell_type": "code",
   "execution_count": null,
   "metadata": {
    "ExecuteTime": {
     "end_time": "2018-10-14T15:29:19.747887Z",
     "start_time": "2018-10-14T15:29:19.723950Z"
    }
   },
   "outputs": [],
   "source": [
    "import logging\n",
    "from plottr import log as plottrlog\n",
    "logDialog = plottrlog.setupLogging()\n",
    "logger = logging.getLogger('plottr.interactive')\n",
    "plottrlog.LEVEL = logging.DEBUG"
   ]
  },
  {
   "cell_type": "code",
   "execution_count": null,
   "metadata": {},
   "outputs": [],
   "source": []
  },
  {
   "cell_type": "code",
   "execution_count": null,
   "metadata": {},
   "outputs": [],
   "source": []
  },
  {
   "cell_type": "markdown",
   "metadata": {
    "ExecuteTime": {
     "end_time": "2018-07-22T11:49:46.637513Z",
     "start_time": "2018-07-22T11:49:46.624562Z"
    }
   },
   "source": [
    "# Selecting and plotting data using code"
   ]
  },
  {
   "cell_type": "code",
   "execution_count": null,
   "metadata": {
    "ExecuteTime": {
     "end_time": "2018-10-14T10:14:51.633981Z",
     "start_time": "2018-10-14T10:14:51.384648Z"
    }
   },
   "outputs": [],
   "source": [
    "from plottr.data import datadict; reload(datadict)\n",
    "from plottr.data.datadict import togrid, DataDict, GridDataDict\n",
    "\n",
    "from plottr.node import node; reload(node)\n",
    "from plottr.node.node import Node, NodesWidget\n",
    "\n",
    "from plottr.node import data_selector; reload(data_selector)\n",
    "from plottr.node.data_selector import DataSelector\n",
    "\n",
    "from plottr.node import dim_reducer; reload(dim_reducer)\n",
    "from plottr.node.dim_reducer import DimensionReducer, XYAxesSelector\n",
    "\n",
    "from plottr.plot import mpl; reload(mpl)\n",
    "from plottr.plot.mpl import PlotNode, AutoPlot"
   ]
  },
  {
   "cell_type": "code",
   "execution_count": null,
   "metadata": {
    "ExecuteTime": {
     "end_time": "2018-10-14T10:14:51.654925Z",
     "start_time": "2018-10-14T10:14:51.636974Z"
    }
   },
   "outputs": [],
   "source": [
    "def testdata_2d(nx=10, ny=10):\n",
    "    x = np.linspace(0, 10, nx)\n",
    "    y = np.arange(ny)\n",
    "    \n",
    "    xx, yy = np.meshgrid(x, y, indexing='ij')\n",
    "    dd = np.cos(xx) + (-0.05 + 0.1 * np.random.rand(*yy.shape))\n",
    "    dd2 = np.sin(xx) + (-0.5 + 1 * np.random.rand(*yy.shape))\n",
    "    \n",
    "    d = DataDict(\n",
    "        x = dict(values=xx.reshape(-1)),\n",
    "        y = dict(values=yy.reshape(-1)),\n",
    "        cos_data = dict(values=dd.reshape(-1), axes=['x', 'y']),\n",
    "        sin_data = dict(values=dd2.reshape(-1), axes=['x', 'y']),\n",
    "    )\n",
    "    return d\n",
    "\n",
    "data_in = testdata_2d(21, 500)"
   ]
  },
  {
   "cell_type": "code",
   "execution_count": null,
   "metadata": {
    "ExecuteTime": {
     "end_time": "2018-10-14T10:14:52.145612Z",
     "start_time": "2018-10-14T10:14:51.656921Z"
    },
    "scrolled": true
   },
   "outputs": [],
   "source": [
    "Node.raiseExceptions = True\n",
    "Node.debug = True\n",
    "DataSelector.debug = True\n",
    "DataSelector.useUi = False\n",
    "\n",
    "nodelib = fclib.NodeLibrary()\n",
    "nodelib.addNodeType(DataSelector, [('Basic')])\n",
    "nodelib.addNodeType(DimensionReducer, [('Basic')])\n",
    "nodelib.addNodeType(XYAxesSelector, [('Basic')])\n",
    "nodelib.addNodeType(PlotNode, [('Plot')])\n",
    "\n",
    "fc = Flowchart(terminals={\n",
    "    'dataIn': {'io': 'in'},\n",
    "    'dataOut': {'io': 'out'}\n",
    "})\n",
    "fc.library = nodelib\n",
    "\n",
    "selector = fc.createNode('DataSelector')\n",
    "dim_reduce = fc.createNode('DimensionReducer')\n",
    "xysel = fc.createNode('XYAxesSelector')\n",
    "plot = fc.createNode('Plot')\n",
    "\n",
    "fc.connectTerminals(fc['dataIn'], selector['dataIn'])\n",
    "# fc.connectTerminals(selector['dataOut'], dim_reduce['dataIn'])\n",
    "# fc.connectTerminals(dim_reduce['dataOut'], fc['dataOut'])\n",
    "fc.connectTerminals(selector['dataOut'], xysel['dataIn'])\n",
    "fc.connectTerminals(xysel['dataOut'], fc['dataOut'])\n",
    "fc.connectTerminals(xysel['dataOut'], plot['dataIn'])\n",
    "\n",
    "\n",
    "plotWidget = AutoPlot()\n",
    "plot.setPlotWidget(plotWidget)\n",
    "\n",
    "dialog = QtGui.QDialog()\n",
    "# nw = NodesWidget()\n",
    "# nw.addNodeWidget(selector, 'Data Selector')\n",
    "layout = QtGui.QVBoxLayout(dialog)\n",
    "layout.addWidget(plotWidget)\n",
    "dialog.show()\n",
    "\n",
    "# fc.setInput(dataIn=data_in)"
   ]
  },
  {
   "cell_type": "code",
   "execution_count": null,
   "metadata": {
    "ExecuteTime": {
     "end_time": "2018-10-14T10:14:52.152594Z",
     "start_time": "2018-10-14T10:14:52.147607Z"
    },
    "scrolled": false
   },
   "outputs": [],
   "source": [
    "selector.grid = True\n",
    "# selector.selectedData = [\n",
    "#     'sin_data', \n",
    "#     'cos_data',\n",
    "# ]\n",
    "\n",
    "# dim_reduce.targetNames = ['sin_data']\n",
    "# dim_reduce.reductions = {\n",
    "#     'y' : (np.mean, ),\n",
    "# }"
   ]
  },
  {
   "cell_type": "code",
   "execution_count": null,
   "metadata": {
    "ExecuteTime": {
     "end_time": "2018-10-14T10:14:52.166557Z",
     "start_time": "2018-10-14T10:14:52.158578Z"
    }
   },
   "outputs": [],
   "source": [
    "# xysel.xyAxes = 'x', 'y'\n",
    "# xysel.reductions = {\n",
    "# #     'y' : (dim_reducer.selectAxisElement, [0],),\n",
    "# #     'y' : (np.mean, ),\n",
    "# #     'y' : (dim_reducer.sliceAxis, [np.s_[0:2:]], ),\n",
    "# }\n",
    "\n",
    "data_out = fc.output()['dataOut']\n",
    "\n",
    "# fig, ax = plt.subplots(1,1)\n",
    "# _ = ax.plot(data_out['x']['values'], data_out['cos_data']['values'], 'r.')\n",
    "# _ = ax.plot(data_out['x']['values'], data_out['sin_data']['values'], 'b.')"
   ]
  },
  {
   "cell_type": "code",
   "execution_count": null,
   "metadata": {},
   "outputs": [],
   "source": []
  },
  {
   "cell_type": "code",
   "execution_count": null,
   "metadata": {
    "ExecuteTime": {
     "end_time": "2018-10-14T10:14:52.181516Z",
     "start_time": "2018-10-14T10:14:52.172540Z"
    }
   },
   "outputs": [],
   "source": [
    "fc.setInput(dataIn=data_in)"
   ]
  },
  {
   "cell_type": "code",
   "execution_count": null,
   "metadata": {
    "ExecuteTime": {
     "end_time": "2018-10-14T10:14:52.209441Z",
     "start_time": "2018-10-14T10:14:52.183511Z"
    }
   },
   "outputs": [],
   "source": [
    "selector.selectedData = [\n",
    "    'sin_data', \n",
    "#     'cos_data',\n",
    "]"
   ]
  },
  {
   "cell_type": "code",
   "execution_count": null,
   "metadata": {
    "ExecuteTime": {
     "end_time": "2018-10-14T10:14:52.355051Z",
     "start_time": "2018-10-14T10:14:52.211437Z"
    }
   },
   "outputs": [],
   "source": [
    "xysel.xyAxes = 'x', 'y'\n",
    "# xysel.reductions = {\n",
    "# #     'y' : (dim_reducer.selectAxisElement, [0],),\n",
    "# #     'y' : (np.mean, ),\n",
    "# #     'y' : (dim_reducer.sliceAxis, [np.s_[0:2:]], ),\n",
    "# }"
   ]
  },
  {
   "cell_type": "code",
   "execution_count": null,
   "metadata": {
    "ExecuteTime": {
     "end_time": "2018-10-14T10:14:52.366023Z",
     "start_time": "2018-10-14T10:14:52.358044Z"
    }
   },
   "outputs": [],
   "source": [
    "fc.output()"
   ]
  },
  {
   "cell_type": "code",
   "execution_count": null,
   "metadata": {},
   "outputs": [],
   "source": []
  }
 ],
 "metadata": {
  "hide_input": false,
  "kernelspec": {
   "display_name": "Python 3",
   "language": "python",
   "name": "python3"
  },
  "language_info": {
   "codemirror_mode": {
    "name": "ipython",
    "version": 3
   },
   "file_extension": ".py",
   "mimetype": "text/x-python",
   "name": "python",
   "nbconvert_exporter": "python",
   "pygments_lexer": "ipython3",
   "version": "3.6.6"
  },
  "toc": {
   "base_numbering": 1,
   "nav_menu": {},
   "number_sections": true,
   "sideBar": true,
   "skip_h1_title": false,
   "title_cell": "Table of Contents",
   "title_sidebar": "Contents",
   "toc_cell": true,
   "toc_position": {
    "height": "calc(100% - 180px)",
    "left": "10px",
    "top": "150px",
    "width": "290.983px"
   },
   "toc_section_display": true,
   "toc_window_display": true
  }
 },
 "nbformat": 4,
 "nbformat_minor": 2
}
