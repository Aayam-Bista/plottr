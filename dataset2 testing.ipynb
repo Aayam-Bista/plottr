{
 "cells": [
  {
   "cell_type": "code",
   "execution_count": 1,
   "metadata": {},
   "outputs": [
    {
     "name": "stderr",
     "output_type": "stream",
     "text": [
      "C:\\Users\\wolfg\\Anaconda3\\lib\\site-packages\\h5py\\__init__.py:36: FutureWarning: Conversion of the second argument of issubdtype from `float` to `np.floating` is deprecated. In future, it will be treated as `np.float64 == np.dtype(float).type`.\n",
      "  from ._conv import register_converters as _register_converters\n"
     ]
    }
   ],
   "source": [
    "import time\n",
    "import pandas as pd\n",
    "from importlib import reload\n",
    "\n",
    "import qcodes as qc\n",
    "from qcodes.dataset.sqlite_base import connect, get_runs\n",
    "from qcodes.dataset import experiment_container as ec\n",
    "\n",
    "import plottr; reload(plottr)\n",
    "from plottr.qcodes import getDatasetStructure, getRunOverview, getRunOverviewDataFrame"
   ]
  },
  {
   "cell_type": "code",
   "execution_count": 2,
   "metadata": {},
   "outputs": [],
   "source": [
    "qc.config['core']['db_location'] = './experiments.db'\n",
    "dbpath = qc.config['core']['db_location']"
   ]
  },
  {
   "cell_type": "code",
   "execution_count": null,
   "metadata": {},
   "outputs": [],
   "source": []
  },
  {
   "cell_type": "code",
   "execution_count": 3,
   "metadata": {},
   "outputs": [
    {
     "data": {
      "text/html": [
       "<div>\n",
       "<style scoped>\n",
       "    .dataframe tbody tr th:only-of-type {\n",
       "        vertical-align: middle;\n",
       "    }\n",
       "\n",
       "    .dataframe tbody tr th {\n",
       "        vertical-align: top;\n",
       "    }\n",
       "\n",
       "    .dataframe thead th {\n",
       "        text-align: right;\n",
       "    }\n",
       "</style>\n",
       "<table border=\"1\" class=\"dataframe\">\n",
       "  <thead>\n",
       "    <tr style=\"text-align: right;\">\n",
       "      <th></th>\n",
       "      <th>data</th>\n",
       "      <th>experiment</th>\n",
       "      <th>finishedDate</th>\n",
       "      <th>finishedTime</th>\n",
       "      <th>sample</th>\n",
       "      <th>size</th>\n",
       "      <th>startDate</th>\n",
       "      <th>startTime</th>\n",
       "    </tr>\n",
       "  </thead>\n",
       "  <tbody>\n",
       "    <tr>\n",
       "      <th>1</th>\n",
       "      <td>y (x)</td>\n",
       "      <td>dev: plottr subscriber</td>\n",
       "      <td>2018-05-01</td>\n",
       "      <td>21:53:46</td>\n",
       "      <td>dummy</td>\n",
       "      <td>101</td>\n",
       "      <td>2018-05-01</td>\n",
       "      <td>21:53:22</td>\n",
       "    </tr>\n",
       "    <tr>\n",
       "      <th>2</th>\n",
       "      <td>y (x)</td>\n",
       "      <td>dev: plottr subscriber</td>\n",
       "      <td>2018-05-04</td>\n",
       "      <td>08:06:39</td>\n",
       "      <td>dummy</td>\n",
       "      <td>91</td>\n",
       "      <td>2018-05-04</td>\n",
       "      <td>08:06:18</td>\n",
       "    </tr>\n",
       "    <tr>\n",
       "      <th>3</th>\n",
       "      <td>y (x)</td>\n",
       "      <td>dev: plottr subscriber</td>\n",
       "      <td>2018-05-04</td>\n",
       "      <td>08:07:13</td>\n",
       "      <td>dummy</td>\n",
       "      <td>29</td>\n",
       "      <td>2018-05-04</td>\n",
       "      <td>08:07:06</td>\n",
       "    </tr>\n",
       "    <tr>\n",
       "      <th>4</th>\n",
       "      <td>y (x)</td>\n",
       "      <td>dev: plottr subscriber</td>\n",
       "      <td>2018-05-04</td>\n",
       "      <td>08:11:24</td>\n",
       "      <td>dummay</td>\n",
       "      <td>13</td>\n",
       "      <td>2018-05-04</td>\n",
       "      <td>08:11:20</td>\n",
       "    </tr>\n",
       "    <tr>\n",
       "      <th>5</th>\n",
       "      <td>y (x)</td>\n",
       "      <td>dev: plottr subscriber</td>\n",
       "      <td>2018-05-04</td>\n",
       "      <td>08:11:50</td>\n",
       "      <td>dummay</td>\n",
       "      <td>20</td>\n",
       "      <td>2018-05-04</td>\n",
       "      <td>08:11:44</td>\n",
       "    </tr>\n",
       "    <tr>\n",
       "      <th>6</th>\n",
       "      <td>y (x)</td>\n",
       "      <td>dev: plottr subscriber</td>\n",
       "      <td>2018-05-05</td>\n",
       "      <td>10:53:45</td>\n",
       "      <td>dummy</td>\n",
       "      <td>101</td>\n",
       "      <td>2018-05-05</td>\n",
       "      <td>10:53:20</td>\n",
       "    </tr>\n",
       "  </tbody>\n",
       "</table>\n",
       "</div>"
      ],
      "text/plain": [
       "    data              experiment finishedDate finishedTime  sample  size  \\\n",
       "1  y (x)  dev: plottr subscriber   2018-05-01     21:53:46   dummy   101   \n",
       "2  y (x)  dev: plottr subscriber   2018-05-04     08:06:39   dummy    91   \n",
       "3  y (x)  dev: plottr subscriber   2018-05-04     08:07:13   dummy    29   \n",
       "4  y (x)  dev: plottr subscriber   2018-05-04     08:11:24  dummay    13   \n",
       "5  y (x)  dev: plottr subscriber   2018-05-04     08:11:50  dummay    20   \n",
       "6  y (x)  dev: plottr subscriber   2018-05-05     10:53:45   dummy   101   \n",
       "\n",
       "    startDate startTime  \n",
       "1  2018-05-01  21:53:22  \n",
       "2  2018-05-04  08:06:18  \n",
       "3  2018-05-04  08:07:06  \n",
       "4  2018-05-04  08:11:20  \n",
       "5  2018-05-04  08:11:44  \n",
       "6  2018-05-05  10:53:20  "
      ]
     },
     "execution_count": 3,
     "metadata": {},
     "output_type": "execute_result"
    }
   ],
   "source": [
    "df = getRunOverviewDataFrame(dbpath)\n",
    "df"
   ]
  },
  {
   "cell_type": "code",
   "execution_count": null,
   "metadata": {},
   "outputs": [],
   "source": []
  }
 ],
 "metadata": {
  "kernelspec": {
   "display_name": "Python 3",
   "language": "python",
   "name": "python3"
  },
  "language_info": {
   "codemirror_mode": {
    "name": "ipython",
    "version": 3
   },
   "file_extension": ".py",
   "mimetype": "text/x-python",
   "name": "python",
   "nbconvert_exporter": "python",
   "pygments_lexer": "ipython3",
   "version": "3.6.4"
  },
  "toc": {
   "base_numbering": 1,
   "nav_menu": {},
   "number_sections": true,
   "sideBar": true,
   "skip_h1_title": false,
   "title_cell": "Table of Contents",
   "title_sidebar": "Contents",
   "toc_cell": false,
   "toc_position": {},
   "toc_section_display": true,
   "toc_window_display": false
  }
 },
 "nbformat": 4,
 "nbformat_minor": 2
}
