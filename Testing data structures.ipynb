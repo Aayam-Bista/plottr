{
 "cells": [
  {
   "cell_type": "code",
   "execution_count": 2,
   "metadata": {},
   "outputs": [],
   "source": [
    "%matplotlib notebook"
   ]
  },
  {
   "cell_type": "code",
   "execution_count": 3,
   "metadata": {},
   "outputs": [],
   "source": [
    "import time\n",
    "import numpy as np\n",
    "import pandas as pd\n",
    "import xarray as xr\n",
    "\n",
    "from collections import OrderedDict\n",
    "from importlib import reload"
   ]
  },
  {
   "cell_type": "code",
   "execution_count": null,
   "metadata": {},
   "outputs": [],
   "source": []
  },
  {
   "cell_type": "code",
   "execution_count": 5,
   "metadata": {},
   "outputs": [
    {
     "data": {
      "text/plain": [
       "<module 'plottr.plottr' from 'C:\\\\Users\\\\wopfa\\\\OneDrive - Microsoft\\\\Code\\\\plottr\\\\plottr\\\\plottr.py'>"
      ]
     },
     "execution_count": 5,
     "metadata": {},
     "output_type": "execute_result"
    }
   ],
   "source": [
    "from plottr import plottr\n",
    "reload(plottr)"
   ]
  },
  {
   "cell_type": "code",
   "execution_count": 14,
   "metadata": {},
   "outputs": [],
   "source": [
    "def makeDatasetDictSimple(**kwargs):\n",
    "    \"\"\"\n",
    "    convert specified numpy arrays into a dataset dictionary.\n",
    "    first array is assumed to be data, all others axes (in given order).\n",
    "    \"\"\"\n",
    "    names = [ k for k in kwargs.keys() ]\n",
    "    dataset = {}\n",
    "    for i, n in enumerate(names):\n",
    "        dataset[n] = {}\n",
    "        if isinstance(kwargs[n], np.ndarray):\n",
    "            dataset[n]['values'] = kwargs[n].reshape(-1).tolist()\n",
    "        else:\n",
    "            dataset[n]['values'] = kwargs[n]\n",
    "        if not i:\n",
    "            dataset[n]['axes'] = names[1:]\n",
    "            \n",
    "    return dataset"
   ]
  },
  {
   "cell_type": "markdown",
   "metadata": {},
   "source": [
    "# Combining data"
   ]
  },
  {
   "cell_type": "code",
   "execution_count": 20,
   "metadata": {},
   "outputs": [
    {
     "data": {
      "text/html": [
       "<div>\n",
       "<style scoped>\n",
       "    .dataframe tbody tr th:only-of-type {\n",
       "        vertical-align: middle;\n",
       "    }\n",
       "\n",
       "    .dataframe tbody tr th {\n",
       "        vertical-align: top;\n",
       "    }\n",
       "\n",
       "    .dataframe thead th {\n",
       "        text-align: right;\n",
       "    }\n",
       "</style>\n",
       "<table border=\"1\" class=\"dataframe\">\n",
       "  <thead>\n",
       "    <tr style=\"text-align: right;\">\n",
       "      <th></th>\n",
       "      <th>z</th>\n",
       "      <th>0</th>\n",
       "    </tr>\n",
       "    <tr>\n",
       "      <th>x</th>\n",
       "      <th>y</th>\n",
       "      <th></th>\n",
       "    </tr>\n",
       "  </thead>\n",
       "  <tbody>\n",
       "    <tr>\n",
       "      <th rowspan=\"3\" valign=\"top\">0</th>\n",
       "      <th>0</th>\n",
       "      <td>0</td>\n",
       "    </tr>\n",
       "    <tr>\n",
       "      <th>1</th>\n",
       "      <td>1</td>\n",
       "    </tr>\n",
       "    <tr>\n",
       "      <th>2</th>\n",
       "      <td>2</td>\n",
       "    </tr>\n",
       "    <tr>\n",
       "      <th rowspan=\"3\" valign=\"top\">1</th>\n",
       "      <th>0</th>\n",
       "      <td>1</td>\n",
       "    </tr>\n",
       "    <tr>\n",
       "      <th>1</th>\n",
       "      <td>2</td>\n",
       "    </tr>\n",
       "    <tr>\n",
       "      <th>2</th>\n",
       "      <td>3</td>\n",
       "    </tr>\n",
       "    <tr>\n",
       "      <th rowspan=\"3\" valign=\"top\">2</th>\n",
       "      <th>0</th>\n",
       "      <td>2</td>\n",
       "    </tr>\n",
       "    <tr>\n",
       "      <th>1</th>\n",
       "      <td>3</td>\n",
       "    </tr>\n",
       "    <tr>\n",
       "      <th>2</th>\n",
       "      <td>4</td>\n",
       "    </tr>\n",
       "    <tr>\n",
       "      <th rowspan=\"3\" valign=\"top\">3</th>\n",
       "      <th>0</th>\n",
       "      <td>3</td>\n",
       "    </tr>\n",
       "    <tr>\n",
       "      <th>1</th>\n",
       "      <td>4</td>\n",
       "    </tr>\n",
       "    <tr>\n",
       "      <th>2</th>\n",
       "      <td>5</td>\n",
       "    </tr>\n",
       "  </tbody>\n",
       "</table>\n",
       "</div>"
      ],
      "text/plain": [
       "z    0\n",
       "x y   \n",
       "0 0  0\n",
       "  1  1\n",
       "  2  2\n",
       "1 0  1\n",
       "  1  2\n",
       "  2  3\n",
       "2 0  2\n",
       "  1  3\n",
       "  2  4\n",
       "3 0  3\n",
       "  1  4\n",
       "  2  5"
      ]
     },
     "execution_count": 20,
     "metadata": {},
     "output_type": "execute_result"
    }
   ],
   "source": [
    "xvals1 = []\n",
    "yvals1 = []\n",
    "zvals1 = []\n",
    "\n",
    "xvals2 = []\n",
    "yvals2 = []\n",
    "zvals2 = []\n",
    "\n",
    "for x in np.arange(4):\n",
    "    for y in np.arange(3):\n",
    "        if x < 2 and y < 2:\n",
    "            xvals1.append(x)\n",
    "            yvals1.append(y)\n",
    "            zvals1.append(x+y)\n",
    "        else:\n",
    "            xvals2.append(x)\n",
    "            yvals2.append(y)\n",
    "            zvals2.append(x+y)\n",
    "            \n",
    "dict1 = makeDatasetDictSimple(z=zvals1, x=xvals1, y=yvals1)\n",
    "df1 = plottr.dictToDataFrames(dict1)[0]\n",
    "\n",
    "dict2 = makeDatasetDictSimple(z=zvals2, x=xvals2, y=yvals2)\n",
    "df2 = plottr.dictToDataFrames(dict2)[0]\n",
    "\n",
    "df = plottr.combineDataFrames(df1, df2)\n",
    "df"
   ]
  },
  {
   "cell_type": "code",
   "execution_count": null,
   "metadata": {},
   "outputs": [],
   "source": []
  },
  {
   "cell_type": "code",
   "execution_count": 7,
   "metadata": {},
   "outputs": [
    {
     "data": {
      "text/plain": [
       "[z           0\n",
       " x            \n",
       " 0.0  1.000000\n",
       " 0.4  0.921061\n",
       " 0.8  0.696707\n",
       " 1.2  0.362358\n",
       " 1.6 -0.029200\n",
       " 2.0 -0.416147\n",
       " 2.4 -0.737394\n",
       " 2.8 -0.942222\n",
       " 3.2 -0.998295\n",
       " 3.6 -0.896758\n",
       " 4.0 -0.653644\n",
       " 4.4 -0.307333\n",
       " 4.8  0.087499\n",
       " 5.2  0.468517\n",
       " 5.6  0.775566\n",
       " 6.0  0.960170\n",
       " 6.4  0.993185\n",
       " 6.8  0.869397\n",
       " 7.2  0.608351\n",
       " 7.6  0.251260\n",
       " 8.0 -0.145500]"
      ]
     },
     "execution_count": 7,
     "metadata": {},
     "output_type": "execute_result"
    }
   ],
   "source": [
    "dfs = plottr.dictToDataFrames(data['datasets'])\n",
    "dfs"
   ]
  },
  {
   "cell_type": "code",
   "execution_count": null,
   "metadata": {},
   "outputs": [],
   "source": []
  },
  {
   "cell_type": "code",
   "execution_count": null,
   "metadata": {},
   "outputs": [],
   "source": []
  },
  {
   "cell_type": "code",
   "execution_count": null,
   "metadata": {},
   "outputs": [],
   "source": []
  },
  {
   "cell_type": "code",
   "execution_count": 81,
   "metadata": {},
   "outputs": [],
   "source": [
    "for k, v in arr0.coords.items():\n",
    "    if not isinstance(v.values, np.ndarray):\n",
    "        arr0 = arr0.drop(k)"
   ]
  },
  {
   "cell_type": "code",
   "execution_count": 82,
   "metadata": {},
   "outputs": [
    {
     "data": {
      "text/plain": [
       "<xarray.DataArray (x: 21)>\n",
       "array([ 1.      ,  0.921061,  0.696707,  0.362358, -0.0292  , -0.416147,\n",
       "       -0.737394, -0.942222, -0.998295, -0.896758, -0.653644, -0.307333,\n",
       "        0.087499,  0.468517,  0.775566,  0.96017 ,  0.993185,  0.869397,\n",
       "        0.608351,  0.25126 , -0.1455  ])\n",
       "Coordinates:\n",
       "  * x        (x) float64 0.0 0.4 0.8 1.2 1.6 2.0 2.4 2.8 3.2 3.6 4.0 4.4 4.8 ..."
      ]
     },
     "execution_count": 82,
     "metadata": {},
     "output_type": "execute_result"
    }
   ],
   "source": [
    "arr0"
   ]
  },
  {
   "cell_type": "code",
   "execution_count": 87,
   "metadata": {},
   "outputs": [
    {
     "ename": "TypeError",
     "evalue": "'<' not supported between instances of 'str' and 'int'",
     "output_type": "error",
     "traceback": [
      "\u001b[1;31m---------------------------------------------------------------------------\u001b[0m",
      "\u001b[1;31mTypeError\u001b[0m                                 Traceback (most recent call last)",
      "\u001b[1;32m<ipython-input-87-81f3269ee5af>\u001b[0m in \u001b[0;36m<module>\u001b[1;34m()\u001b[0m\n\u001b[1;32m----> 1\u001b[1;33m \u001b[0marr0\u001b[0m\u001b[1;33m[\u001b[0m\u001b[1;34m'x'\u001b[0m \u001b[1;33m<\u001b[0m \u001b[1;36m5\u001b[0m\u001b[1;33m]\u001b[0m\u001b[1;33m\u001b[0m\u001b[0m\n\u001b[0m",
      "\u001b[1;31mTypeError\u001b[0m: '<' not supported between instances of 'str' and 'int'"
     ]
    }
   ],
   "source": []
  },
  {
   "cell_type": "code",
   "execution_count": null,
   "metadata": {},
   "outputs": [],
   "source": []
  },
  {
   "cell_type": "code",
   "execution_count": 67,
   "metadata": {},
   "outputs": [
    {
     "data": {
      "text/plain": [
       "<xarray.DataArray (x: 21)>\n",
       "array([ 1.      ,  0.921061,  0.696707,  0.362358, -0.0292  , -0.416147,\n",
       "       -0.737394, -0.942222, -0.998295, -0.896758, -0.653644, -0.307333,\n",
       "        0.087499,  0.468517,  0.775566,  0.96017 ,  0.993185,  0.869397,\n",
       "        0.608351,  0.25126 , -0.1455  ])\n",
       "Coordinates:\n",
       "    z        int64 0\n",
       "  * x        (x) float64 0.0 0.4 0.8 1.2 1.6 2.0 2.4 2.8 3.2 3.6 4.0 4.4 4.8 ..."
      ]
     },
     "execution_count": 67,
     "metadata": {},
     "output_type": "execute_result"
    }
   ],
   "source": [
    "arr = plottr.dataFrameToXArray(dfs[0])\n",
    "arr"
   ]
  },
  {
   "cell_type": "code",
   "execution_count": 31,
   "metadata": {},
   "outputs": [
    {
     "data": {
      "text/plain": [
       "array([0. , 0.4, 0.8, 1.2, 1.6, 2. , 2.4, 2.8, 3.2, 3.6, 4. , 4.4, 4.8,\n",
       "       5.2, 5.6, 6. , 6.4, 6.8, 7.2, 7.6, 8. ])"
      ]
     },
     "execution_count": 31,
     "metadata": {},
     "output_type": "execute_result"
    }
   ],
   "source": [
    "arr.coords['x'].values"
   ]
  },
  {
   "cell_type": "code",
   "execution_count": 57,
   "metadata": {},
   "outputs": [
    {
     "name": "stdout",
     "output_type": "stream",
     "text": [
      "z <xarray.DataArray 'z' ()>\n",
      "array(0, dtype=int64)\n",
      "Coordinates:\n",
      "    z        int64 0\n",
      "x <xarray.DataArray 'x' (x: 21)>\n",
      "array([0. , 0.4, 0.8, 1.2, 1.6, 2. , 2.4, 2.8, 3.2, 3.6, 4. , 4.4, 4.8, 5.2,\n",
      "       5.6, 6. , 6.4, 6.8, 7.2, 7.6, 8. ])\n",
      "Coordinates:\n",
      "    z        int64 0\n",
      "  * x        (x) float64 0.0 0.4 0.8 1.2 1.6 2.0 2.4 2.8 3.2 3.6 4.0 4.4 4.8 ...\n"
     ]
    }
   ],
   "source": [
    "for k, v in arr.coords.items():\n",
    "    print(k, v)"
   ]
  },
  {
   "cell_type": "code",
   "execution_count": 60,
   "metadata": {},
   "outputs": [
    {
     "data": {
      "text/plain": [
       "array([0. , 0.4, 0.8, 1.2, 1.6, 2. , 2.4, 2.8, 3.2, 3.6, 4. , 4.4, 4.8,\n",
       "       5.2, 5.6, 6. , 6.4, 6.8, 7.2, 7.6, 8. ])"
      ]
     },
     "execution_count": 60,
     "metadata": {},
     "output_type": "execute_result"
    }
   ],
   "source": [
    "v.values"
   ]
  },
  {
   "cell_type": "code",
   "execution_count": null,
   "metadata": {},
   "outputs": [],
   "source": []
  },
  {
   "cell_type": "code",
   "execution_count": 62,
   "metadata": {},
   "outputs": [
    {
     "data": {
      "text/plain": [
       "(21,)"
      ]
     },
     "execution_count": 62,
     "metadata": {},
     "output_type": "execute_result"
    }
   ],
   "source": [
    "arr.shape"
   ]
  },
  {
   "cell_type": "code",
   "execution_count": 63,
   "metadata": {},
   "outputs": [
    {
     "data": {
      "text/plain": [
       "<xarray.DataArray 'z' ()>\n",
       "array(0, dtype=int64)\n",
       "Coordinates:\n",
       "    z        int64 0"
      ]
     },
     "execution_count": 63,
     "metadata": {},
     "output_type": "execute_result"
    }
   ],
   "source": [
    "arr.coords['z']"
   ]
  },
  {
   "cell_type": "code",
   "execution_count": null,
   "metadata": {},
   "outputs": [],
   "source": []
  }
 ],
 "metadata": {
  "hide_input": false,
  "kernelspec": {
   "display_name": "Python 3",
   "language": "python",
   "name": "python3"
  },
  "language_info": {
   "codemirror_mode": {
    "name": "ipython",
    "version": 3
   },
   "file_extension": ".py",
   "mimetype": "text/x-python",
   "name": "python",
   "nbconvert_exporter": "python",
   "pygments_lexer": "ipython3",
   "version": "3.6.4"
  },
  "toc": {
   "nav_menu": {},
   "number_sections": true,
   "sideBar": true,
   "skip_h1_title": false,
   "title_cell": "Table of Contents",
   "title_sidebar": "Contents",
   "toc_cell": false,
   "toc_position": {},
   "toc_section_display": true,
   "toc_window_display": false
  }
 },
 "nbformat": 4,
 "nbformat_minor": 2
}
