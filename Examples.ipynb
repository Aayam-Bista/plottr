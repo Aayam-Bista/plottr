{
 "cells": [
  {
   "cell_type": "code",
   "execution_count": 1,
   "metadata": {},
   "outputs": [],
   "source": [
    "import zmq\n",
    "import numpy as np"
   ]
  },
  {
   "cell_type": "code",
   "execution_count": null,
   "metadata": {},
   "outputs": [],
   "source": []
  },
  {
   "cell_type": "markdown",
   "metadata": {},
   "source": [
    "# Introduction\n",
    "\n",
    "## Issues and caveats\n",
    "\n",
    "A few things to be kept in mind (known bug-ish behavior :))\n",
    "* The data sender will wait infinitely long to send data -- i.e, not good time out behavior implemented currently if the plottr isn't running."
   ]
  },
  {
   "cell_type": "code",
   "execution_count": null,
   "metadata": {},
   "outputs": [],
   "source": []
  },
  {
   "cell_type": "code",
   "execution_count": null,
   "metadata": {},
   "outputs": [],
   "source": []
  },
  {
   "cell_type": "markdown",
   "metadata": {},
   "source": [
    "# Tools"
   ]
  },
  {
   "cell_type": "code",
   "execution_count": 2,
   "metadata": {},
   "outputs": [],
   "source": [
    "port = 5557\n",
    "addr = f\"tcp://127.0.0.1:{port}\" \n",
    "\n",
    "def send_data(data):\n",
    "    context = zmq.Context()\n",
    "    socket = context.socket(zmq.PUSH)\n",
    "    socket.connect(addr)\n",
    "    socket.send_json(data)\n",
    "    socket.disconnect(addr)"
   ]
  },
  {
   "cell_type": "code",
   "execution_count": null,
   "metadata": {},
   "outputs": [],
   "source": []
  },
  {
   "cell_type": "markdown",
   "metadata": {},
   "source": [
    "# Send static data\n",
    "\n",
    "We're sending a bunch of data in a few shapes to illustrate  plottr's basic behavior and UI. We see that we can change the data array being plotted, and we can choose against which axes to plot the data."
   ]
  },
  {
   "cell_type": "code",
   "execution_count": 12,
   "metadata": {},
   "outputs": [],
   "source": [
    "def make_1d_data(nx, start=0):\n",
    "    x = np.linspace(start+0, start+10, nx, dtype=float)\n",
    "    y = np.cos(x)\n",
    "    return x, y\n",
    "\n",
    "def make_2d_data(nx, ny):\n",
    "    x = np.linspace(0, 10, nx, dtype=float)\n",
    "    y = np.linspace(-5, 5, ny, dtype=float)\n",
    "    xx, yy = np.meshgrid(x, y, indexing='ij')\n",
    "    zz = np.exp(-yy**2/(2 * 2**3)) * np.cos(xx)\n",
    "    return xx.reshape(-1), yy.reshape(-1), zz.reshape(-1)\n",
    "\n",
    "def make_2d_avg_data(nx, ny, navg):\n",
    "    x = np.array([])\n",
    "    y = np.array([])\n",
    "    z = np.array([])\n",
    "    avg = np.array([])\n",
    "    for i in range(navg):\n",
    "        _x, _y, _z = make_2d_data(nx, ny)\n",
    "        _z += (np.random.rand(nx, ny).reshape(-1) * 2. - 1.)\n",
    "        x = np.append(x, _x)\n",
    "        y = np.append(y, _y)\n",
    "        z = np.append(z, _z)\n",
    "        avg = np.append(avg, np.ones(_z.size) * i)\n",
    "        \n",
    "    return x, y, avg, z"
   ]
  },
  {
   "cell_type": "code",
   "execution_count": 13,
   "metadata": {},
   "outputs": [],
   "source": [
    "# just a boring cos curve\n",
    "x1, y1 = make_1d_data(21)\n",
    "\n",
    "# a cos in x and a gauss curve in y\n",
    "x2, y2, z2 = make_2d_data(31, 11)\n",
    "\n",
    "# emulate a noise measurement of the cos/gauss data, and average a few times.\n",
    "x3, y3, avg3, z3 = make_2d_avg_data(31, 11, 10)\n",
    "\n",
    "# send all of that in one go.\n",
    "data = {\n",
    "    'id' : 'Dummy data no.1',\n",
    "    'datasets' : {\n",
    "        '1d sine' : {\n",
    "            'values' : y1.tolist(),\n",
    "            'axes' : ['x-axis 1',],\n",
    "        },\n",
    "        'x-axis 1' : {\n",
    "            'values' : x1.tolist(),\n",
    "        },\n",
    "        \n",
    "        \n",
    "        'cos and gauss' : {\n",
    "            'values' : z2.tolist(),\n",
    "            'axes' : ['osc', 'gauss', ],\n",
    "        },\n",
    "        'osc' : {\n",
    "            'values' : x2.tolist(),\n",
    "        },\n",
    "        'gauss' : {\n",
    "            'values' : y2.tolist(),\n",
    "        },\n",
    "        \n",
    "        \n",
    "        'cos, gauss, avg' : {\n",
    "            'values' : z3.tolist(),\n",
    "            'axes' : ['x vals', 'y vals', 'averages'],\n",
    "        },\n",
    "        'x vals' : {\n",
    "            'values' : x3.tolist(),\n",
    "        },\n",
    "        'y vals' : {\n",
    "            'values' : y3.tolist(),\n",
    "        },\n",
    "        'averages' : {\n",
    "            'values' : avg3.tolist(),\n",
    "        },\n",
    "        \n",
    "    }\n",
    "}\n",
    "\n",
    "send_data(data)"
   ]
  },
  {
   "cell_type": "markdown",
   "metadata": {},
   "source": [
    "Sending another dataset (i.e., something with a different data ID) will trigger a new data window."
   ]
  },
  {
   "cell_type": "code",
   "execution_count": null,
   "metadata": {},
   "outputs": [],
   "source": [
    "data2 = data.copy()\n",
    "data2.update(dict(id='Dummy data no.1 copy'))\n",
    "send_data(data2)"
   ]
  },
  {
   "cell_type": "code",
   "execution_count": null,
   "metadata": {},
   "outputs": [],
   "source": []
  },
  {
   "cell_type": "markdown",
   "metadata": {},
   "source": [
    "# Update data"
   ]
  },
  {
   "cell_type": "markdown",
   "metadata": {},
   "source": [
    "## Simple 1D case, manual updates"
   ]
  },
  {
   "cell_type": "code",
   "execution_count": 50,
   "metadata": {},
   "outputs": [],
   "source": [
    "of = 0"
   ]
  },
  {
   "cell_type": "code",
   "execution_count": 60,
   "metadata": {},
   "outputs": [],
   "source": [
    "x, y = make_1d_data(21, start=of)\n",
    "of = x[-1] + (x[-1]-x[-2])\n",
    "\n",
    "data = {\n",
    "    'id' : 'Dummy data no.2',\n",
    "    'update' : True,\n",
    "    'datasets' : {\n",
    "        'y' : {\n",
    "            'values' : y.tolist(),\n",
    "            'axes' : ['x', ],\n",
    "        },\n",
    "        'x' : {\n",
    "            'values' : x.tolist(),\n",
    "        },\n",
    "    }\n",
    "}\n",
    "send_data(data)"
   ]
  },
  {
   "cell_type": "code",
   "execution_count": null,
   "metadata": {},
   "outputs": [],
   "source": []
  },
  {
   "cell_type": "markdown",
   "metadata": {},
   "source": [
    "## Integrate noisy data"
   ]
  },
  {
   "cell_type": "code",
   "execution_count": 82,
   "metadata": {},
   "outputs": [],
   "source": [
    "x, y, avg, z = make_2d_avg_data(3, 3, 2)\n",
    "\n",
    "data = {\n",
    "    'id' : 'Dummy data no.3',\n",
    "    'update' : True,\n",
    "    'datasets' : {\n",
    "        'z' : {\n",
    "            'values' : z.tolist(),\n",
    "            'axes' : ['x', 'y', 'averages', ],\n",
    "        },\n",
    "        'x' : {\n",
    "            'values' : x.tolist(),\n",
    "        },\n",
    "        'y' : {\n",
    "            'values' : y.tolist(),\n",
    "        },\n",
    "        'averages' : {\n",
    "            'values' : avg.tolist(),\n",
    "        },\n",
    "    }\n",
    "}\n",
    "\n",
    "send_data(data)"
   ]
  },
  {
   "cell_type": "code",
   "execution_count": 65,
   "metadata": {
    "scrolled": false
   },
   "outputs": [
    {
     "data": {
      "text/plain": [
       "{'datasets': {'averages': {'values': [0.0,\n",
       "    0.0,\n",
       "    0.0,\n",
       "    0.0,\n",
       "    0.0,\n",
       "    0.0,\n",
       "    0.0,\n",
       "    0.0,\n",
       "    0.0]},\n",
       "  'x': {'values': [0.0, 0.0, 0.0, 5.0, 5.0, 5.0, 10.0, 10.0, 10.0]},\n",
       "  'y': {'values': [-5.0, 0.0, 5.0, -5.0, 0.0, 5.0, -5.0, 0.0, 5.0]},\n",
       "  'z': {'axes': ['x', 'y', 'averages'],\n",
       "   'values': [-0.45336842316108106,\n",
       "    0.5805894188026679,\n",
       "    0.8510482059397018,\n",
       "    0.6012525256721771,\n",
       "    0.8162089779582176,\n",
       "    -0.17252419325099272,\n",
       "    -0.3639820831221403,\n",
       "    -0.45983970709845245,\n",
       "    0.5020974693626168]}},\n",
       " 'id': 'Dummy data no.3',\n",
       " 'update': True}"
      ]
     },
     "execution_count": 65,
     "metadata": {},
     "output_type": "execute_result"
    }
   ],
   "source": [
    "data"
   ]
  },
  {
   "cell_type": "code",
   "execution_count": null,
   "metadata": {},
   "outputs": [],
   "source": [
    "np.arange(4)"
   ]
  }
 ],
 "metadata": {
  "hide_input": false,
  "kernelspec": {
   "display_name": "Python 3",
   "language": "python",
   "name": "python3"
  },
  "language_info": {
   "codemirror_mode": {
    "name": "ipython",
    "version": 3
   },
   "file_extension": ".py",
   "mimetype": "text/x-python",
   "name": "python",
   "nbconvert_exporter": "python",
   "pygments_lexer": "ipython3",
   "version": "3.6.4"
  },
  "toc": {
   "nav_menu": {},
   "number_sections": true,
   "sideBar": true,
   "skip_h1_title": false,
   "title_cell": "Table of Contents",
   "title_sidebar": "Contents",
   "toc_cell": false,
   "toc_position": {},
   "toc_section_display": true,
   "toc_window_display": true
  }
 },
 "nbformat": 4,
 "nbformat_minor": 2
}
