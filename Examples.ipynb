{
 "cells": [
  {
   "cell_type": "code",
   "execution_count": 1,
   "metadata": {},
   "outputs": [],
   "source": [
    "import zmq\n",
    "import numpy as np"
   ]
  },
  {
   "cell_type": "code",
   "execution_count": null,
   "metadata": {},
   "outputs": [],
   "source": []
  },
  {
   "cell_type": "code",
   "execution_count": null,
   "metadata": {},
   "outputs": [],
   "source": []
  },
  {
   "cell_type": "code",
   "execution_count": 45,
   "metadata": {},
   "outputs": [],
   "source": [
    "x = np.linspace(0, 8, 21, dtype=float)\n",
    "y = np.arange(9, dtype=float)\n",
    "xx, yy = np.meshgrid(x, y, indexing='ij')\n",
    "zz = np.cos(xx) * np.cos(yy)\n",
    "# z = np.cos(x)\n",
    "\n",
    "x2 = xx.reshape(-1)[:]\n",
    "y2 = yy.reshape(-1)[:]\n",
    "z2 = zz.reshape(-1)[:]\n",
    "# x2 = x\n",
    "# z2 = z\n",
    "\n",
    "data = {\n",
    "    'id' : 'Some data',\n",
    "    'datasets' : {\n",
    "        'z' : {\n",
    "            'values' : z2.tolist(),\n",
    "            'axes' : ['x', 'y'],\n",
    "        },\n",
    "        'x' : {\n",
    "            'values' : x2.tolist(),\n",
    "        },\n",
    "        'y' : {\n",
    "            'values' : y2.tolist(),\n",
    "        },\n",
    "#         'w' : {\n",
    "#             'values' : z2,\n",
    "#         }\n",
    "    }\n",
    "}"
   ]
  },
  {
   "cell_type": "code",
   "execution_count": 78,
   "metadata": {},
   "outputs": [],
   "source": [
    "port = 5557\n",
    "addr = f\"tcp://127.0.0.1:{port}\"\n",
    "\n",
    "context = zmq.Context()\n",
    "socket = context.socket(zmq.PUSH)\n",
    "socket.connect(addr)\n",
    "\n",
    "socket.send_json(data)\n",
    "\n",
    "socket.disconnect(addr)"
   ]
  },
  {
   "cell_type": "code",
   "execution_count": null,
   "metadata": {},
   "outputs": [],
   "source": []
  },
  {
   "cell_type": "code",
   "execution_count": 26,
   "metadata": {},
   "outputs": [
    {
     "data": {
      "text/plain": [
       "array([[[ 3,  4,  5],\n",
       "        [ 6,  7,  8]],\n",
       "\n",
       "       [[12, 13, 14],\n",
       "        [15, 16, 17]],\n",
       "\n",
       "       [[21, 22, 23],\n",
       "        [24, 25, 26]]])"
      ]
     },
     "execution_count": 26,
     "metadata": {},
     "output_type": "execute_result"
    }
   ],
   "source": []
  },
  {
   "cell_type": "code",
   "execution_count": null,
   "metadata": {},
   "outputs": [],
   "source": []
  }
 ],
 "metadata": {
  "kernelspec": {
   "display_name": "Python 3",
   "language": "python",
   "name": "python3"
  },
  "language_info": {
   "codemirror_mode": {
    "name": "ipython",
    "version": 3
   },
   "file_extension": ".py",
   "mimetype": "text/x-python",
   "name": "python",
   "nbconvert_exporter": "python",
   "pygments_lexer": "ipython3",
   "version": "3.6.4"
  },
  "toc": {
   "base_numbering": 1,
   "nav_menu": {},
   "number_sections": true,
   "sideBar": true,
   "skip_h1_title": false,
   "title_cell": "Table of Contents",
   "title_sidebar": "Contents",
   "toc_cell": false,
   "toc_position": {},
   "toc_section_display": true,
   "toc_window_display": false
  }
 },
 "nbformat": 4,
 "nbformat_minor": 2
}
