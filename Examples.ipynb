{
 "cells": [
  {
   "cell_type": "code",
   "execution_count": null,
   "metadata": {},
   "outputs": [],
   "source": [
    "import zmq\n",
    "import numpy as np\n",
    "import time\n",
    "import json\n",
    "import copy\n",
    "from importlib import reload"
   ]
  },
  {
   "cell_type": "code",
   "execution_count": null,
   "metadata": {},
   "outputs": [],
   "source": []
  },
  {
   "cell_type": "code",
   "execution_count": null,
   "metadata": {},
   "outputs": [],
   "source": [
    "from plottr import client\n",
    "reload(client)"
   ]
  },
  {
   "cell_type": "markdown",
   "metadata": {},
   "source": [
    "# Introduction"
   ]
  },
  {
   "cell_type": "markdown",
   "metadata": {},
   "source": [
    "These are some illustrating examples of how plottr can be used. Basic usage is somewhat simplified by the client class that we import above. \n",
    "\n",
    "A few general remarks:\n",
    "* data coordinates must not be repeated (at the moment that will crash).\n",
    "* funky coordinates are untested; the measurement expects a nice grid at this point. Should be easy to fix, just needs to be done."
   ]
  },
  {
   "cell_type": "markdown",
   "metadata": {},
   "source": [
    "# Send static data\n",
    "\n",
    "We're sending a bunch of data in a few shapes to illustrate  plottr's basic behavior and UI. We see that we can change the data array being plotted, and we can choose against which axes to plot the data."
   ]
  },
  {
   "cell_type": "code",
   "execution_count": null,
   "metadata": {},
   "outputs": [],
   "source": [
    "def make_1d_data(nx, start=0):\n",
    "    x = np.linspace(start+0, start+10, nx, dtype=float)\n",
    "    y = np.cos(x)\n",
    "    return x, y\n",
    "\n",
    "def make_2d_data(nx, ny):\n",
    "    x = np.linspace(0, 10, nx, dtype=float)\n",
    "    y = np.linspace(-5, 5, ny, dtype=float)\n",
    "    xx, yy = np.meshgrid(x, y, indexing='ij')\n",
    "    zz = np.exp(-yy**2/(2 * 2**3)) * np.cos(xx)\n",
    "    return xx.reshape(-1), yy.reshape(-1), zz.reshape(-1)\n",
    "\n",
    "def make_2d_avg_data(nx, ny, navg):\n",
    "    x = np.array([])\n",
    "    y = np.array([])\n",
    "    z = np.array([])\n",
    "    avg = np.array([])\n",
    "    for i in range(navg):\n",
    "        _x, _y, _z = make_2d_data(nx, ny)\n",
    "        _z += (np.random.rand(nx, ny).reshape(-1) * 2. - 1.)\n",
    "        x = np.append(x, _x)\n",
    "        y = np.append(y, _y)\n",
    "        z = np.append(z, _z)\n",
    "        avg = np.append(avg, np.ones(_z.size) * i)\n",
    "        \n",
    "    return x, y, avg, z"
   ]
  },
  {
   "cell_type": "code",
   "execution_count": null,
   "metadata": {},
   "outputs": [],
   "source": [
    "# just a boring cos curve\n",
    "x1, y1 = make_1d_data(21)\n",
    "\n",
    "# a cos in x and a gauss curve in y\n",
    "x2, y2, z2 = make_2d_data(31, 11)\n",
    "\n",
    "# emulate a noise measurement of the cos/gauss data, and average a few times.\n",
    "x3, y3, avg3, z3 = make_2d_avg_data(31, 11, 10)\n",
    "\n",
    "\n",
    "sender = client.DataSender(dataId='Dummy data no.1')\n",
    "sender.addDataSetSimple(sine1d=y1.tolist(), x1=x1.tolist())\n",
    "sender.addDataSetSimple(cos_gauss=z2.tolist(), osc=x2.tolist(), gauss=y2.tolist())\n",
    "sender.addDataSetSimple(cos_gauss_avg=z3.tolist(), xvals=x3.tolist(), yvals=y3.tolist(), avg=avg3.tolist())\n",
    "sender.sendData()"
   ]
  },
  {
   "cell_type": "markdown",
   "metadata": {},
   "source": [
    "Sending another dataset (i.e., something with a different data ID) will trigger a new data window."
   ]
  },
  {
   "cell_type": "code",
   "execution_count": null,
   "metadata": {},
   "outputs": [],
   "source": [
    "sender2 = copy.copy(sender)\n",
    "sender2.data['id'] = 'Dummy data no.2'\n",
    "sender2.sendData()"
   ]
  },
  {
   "cell_type": "markdown",
   "metadata": {},
   "source": [
    "# Update data"
   ]
  },
  {
   "cell_type": "markdown",
   "metadata": {},
   "source": [
    "## Simple 1D case, manual updates\n",
    "\n",
    "After defining of, each execution of the following cell will add data points to the sine curve."
   ]
  },
  {
   "cell_type": "code",
   "execution_count": null,
   "metadata": {},
   "outputs": [],
   "source": [
    "of = 0"
   ]
  },
  {
   "cell_type": "code",
   "execution_count": null,
   "metadata": {},
   "outputs": [],
   "source": [
    "# execute this cell manually a few times to see the curve getting longer.\n",
    "x, y = make_1d_data(21, start=of)\n",
    "of = x[-1] + (x[-1]-x[-2])\n",
    "\n",
    "sender = client.DataSender(dataId='Dummy data no.3')\n",
    "sender.addDataSetSimple(y=y.tolist(), x=x.tolist())\n",
    "sender.sendData()"
   ]
  },
  {
   "cell_type": "markdown",
   "metadata": {},
   "source": [
    "## Integrate noisy data\n",
    "\n",
    "Simple emulation of a measurement that averages (slowly)."
   ]
  },
  {
   "cell_type": "code",
   "execution_count": null,
   "metadata": {},
   "outputs": [],
   "source": [
    "import time\n",
    "avg = 0\n",
    "\n",
    "while(avg < 100):\n",
    "    x, y, _avg, z = make_2d_avg_data(21, 21, 1)\n",
    "    avgs = (avg * np.ones(z.size)).reshape(-1)\n",
    "    empty = np.zeros(z.size).reshape(-1)\n",
    "    \n",
    "    sender = client.DataSender(dataId='Dummy data no.4')\n",
    "    sender.addDataSetSimple(z=z, x=x, y=y, avgs=avgs, empty=empty)\n",
    "    sender.sendData()\n",
    "\n",
    "    avg += 1\n",
    "    time.sleep(1)"
   ]
  },
  {
   "cell_type": "markdown",
   "metadata": {},
   "source": [
    "## Build up 2D data in some silly way"
   ]
  },
  {
   "cell_type": "code",
   "execution_count": null,
   "metadata": {},
   "outputs": [],
   "source": [
    "xvals = []\n",
    "yvals = []\n",
    "zvals = []\n",
    "i = 0\n",
    "for x in np.linspace(-5, 5, 21):\n",
    "    for y in np.linspace(-5, 5, 21):\n",
    "        xvals.append(x)\n",
    "        yvals.append(y)\n",
    "        zvals.append(np.exp(-(x**2+y**2)/(2*1.**2)))\n",
    "        \n",
    "        i += 1\n",
    "        if i > 10:\n",
    "            sender = sender = client.DataSender(dataId='Dummy data no.5')\n",
    "            sender.addDataSetSimple(z=zvals, x=xvals, y=yvals)\n",
    "            sender.sendData()\n",
    "            \n",
    "            xvals = []\n",
    "            yvals = []\n",
    "            zvals = []\n",
    "            i = 0\n",
    "            \n",
    "        time.sleep(0.1)\n",
    "\n",
    "if len(zvals) > 0:\n",
    "    sender = sender = client.DataSender(dataId='Dummy data no.5')\n",
    "    sender.addDataSetSimple(z=zvals, x=xvals, y=yvals)\n",
    "    sender.sendData()"
   ]
  },
  {
   "cell_type": "code",
   "execution_count": null,
   "metadata": {},
   "outputs": [],
   "source": []
  }
 ],
 "metadata": {
  "hide_input": false,
  "kernelspec": {
   "display_name": "Python 3",
   "language": "python",
   "name": "python3"
  },
  "language_info": {
   "codemirror_mode": {
    "name": "ipython",
    "version": 3
   },
   "file_extension": ".py",
   "mimetype": "text/x-python",
   "name": "python",
   "nbconvert_exporter": "python",
   "pygments_lexer": "ipython3",
   "version": "3.6.4"
  },
  "toc": {
   "nav_menu": {},
   "number_sections": true,
   "sideBar": true,
   "skip_h1_title": false,
   "title_cell": "Table of Contents",
   "title_sidebar": "Contents",
   "toc_cell": false,
   "toc_position": {},
   "toc_section_display": true,
   "toc_window_display": true
  }
 },
 "nbformat": 4,
 "nbformat_minor": 2
}
