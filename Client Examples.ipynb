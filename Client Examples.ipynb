{
 "cells": [
  {
   "cell_type": "code",
   "execution_count": 1,
   "metadata": {},
   "outputs": [],
   "source": [
    "%matplotlib notebook\n",
    "import os\n",
    "import zmq\n",
    "import numpy as np\n",
    "import time\n",
    "import json\n",
    "import copy\n",
    "from importlib import reload\n",
    "from matplotlib import pyplot as plt\n",
    "from collections import OrderedDict"
   ]
  },
  {
   "cell_type": "code",
   "execution_count": null,
   "metadata": {},
   "outputs": [],
   "source": []
  },
  {
   "cell_type": "code",
   "execution_count": 2,
   "metadata": {},
   "outputs": [
    {
     "data": {
      "text/plain": [
       "<module 'plottr.client' from 'd:\\\\Dropbox\\\\Code\\\\labpyDesktop\\\\plottr\\\\plottr\\\\client.py'>"
      ]
     },
     "execution_count": 2,
     "metadata": {},
     "output_type": "execute_result"
    }
   ],
   "source": [
    "from plottr import client\n",
    "reload(client)"
   ]
  },
  {
   "cell_type": "markdown",
   "metadata": {},
   "source": [
    "# Introduction"
   ]
  },
  {
   "cell_type": "markdown",
   "metadata": {},
   "source": [
    "These are some illustrating examples of how plottr can be used. Basic usage is somewhat simplified by the client class that we import above. \n",
    "\n",
    "A few general remarks:\n",
    "* data coordinates must not be repeated (at the moment that will crash).\n",
    "* funky coordinates are untested; the measurement expects a nice grid at this point. Should be easy to fix, just needs to be done."
   ]
  },
  {
   "cell_type": "markdown",
   "metadata": {},
   "source": [
    "# Send static data\n",
    "\n",
    "We're sending a bunch of data in a few shapes to illustrate  plottr's basic behavior and UI. We see that we can change the data array being plotted, and we can choose against which axes to plot the data."
   ]
  },
  {
   "cell_type": "code",
   "execution_count": 3,
   "metadata": {},
   "outputs": [],
   "source": [
    "def make_1d_data(nx, start=0):\n",
    "    x = np.linspace(start+0, start+10, nx, dtype=float)\n",
    "    y = np.cos(x)\n",
    "    return x, y\n",
    "\n",
    "def make_2d_data(nx, ny):\n",
    "    x = np.linspace(0, 10, nx, dtype=float)\n",
    "    y = np.linspace(-5, 5, ny, dtype=float)\n",
    "    xx, yy = np.meshgrid(x, y, indexing='ij')\n",
    "    zz = np.exp(-yy**2/(2 * 2**3)) * np.cos(xx)\n",
    "    return xx.reshape(-1), yy.reshape(-1), zz.reshape(-1)\n",
    "\n",
    "def make_2d_avg_data(nx, ny, navg):\n",
    "    x = np.array([])\n",
    "    y = np.array([])\n",
    "    z = np.array([])\n",
    "    avg = np.array([])\n",
    "    for i in range(navg):\n",
    "        _x, _y, _z = make_2d_data(nx, ny)\n",
    "        _z += (np.random.rand(nx, ny).reshape(-1) * 2. - 1.)\n",
    "        x = np.append(x, _x)\n",
    "        y = np.append(y, _y)\n",
    "        z = np.append(z, _z)\n",
    "        avg = np.append(avg, np.ones(_z.size) * i)\n",
    "        \n",
    "    return x, y, avg, z"
   ]
  },
  {
   "cell_type": "code",
   "execution_count": 10,
   "metadata": {},
   "outputs": [],
   "source": [
    "# just a boring cos curve\n",
    "x1, y1 = make_1d_data(21)\n",
    "\n",
    "# a cos in x and a gauss curve in y\n",
    "x2, y2, z2 = make_2d_data(31, 11)\n",
    "\n",
    "# emulate a noise measurement of the cos/gauss data, and average a few times.\n",
    "x3, y3, avg3, z3 = make_2d_avg_data(31, 11, 10)\n",
    "\n",
    "\n",
    "sender = client.DataSender(dataId='Dummy data no.1')\n",
    "sender.addDataSetSimple(sine1d=y1.tolist(), x1=x1.tolist())\n",
    "sender.addDataSetSimple(cos_gauss=z2.tolist(), osc=x2.tolist(), gauss=y2.tolist())\n",
    "sender.addDataSetSimple(cos_gauss_avg=z3.tolist(), xvals=x3.tolist(), yvals=y3.tolist(), avg=avg3.tolist())\n",
    "sender.sendData()"
   ]
  },
  {
   "cell_type": "markdown",
   "metadata": {},
   "source": [
    "Sending another dataset (i.e., something with a different data ID) will trigger a new data window."
   ]
  },
  {
   "cell_type": "code",
   "execution_count": null,
   "metadata": {},
   "outputs": [],
   "source": [
    "sender2 = copy.copy(sender)\n",
    "sender2.data['id'] = 'Dummy data no.2'\n",
    "sender2.sendData()"
   ]
  },
  {
   "cell_type": "markdown",
   "metadata": {},
   "source": [
    "# Update data"
   ]
  },
  {
   "cell_type": "markdown",
   "metadata": {},
   "source": [
    "## Simple 1D case, manual updates\n",
    "\n",
    "After defining of, each execution of the following cell will add data points to the sine curve."
   ]
  },
  {
   "cell_type": "code",
   "execution_count": null,
   "metadata": {},
   "outputs": [],
   "source": [
    "of = 0"
   ]
  },
  {
   "cell_type": "code",
   "execution_count": null,
   "metadata": {},
   "outputs": [],
   "source": [
    "# execute this cell manually a few times to see the curve getting longer.\n",
    "x, y = make_1d_data(21, start=of)\n",
    "of = x[-1] + (x[-1]-x[-2])\n",
    "\n",
    "sender = client.DataSender(dataId='Dummy data no.3')\n",
    "sender.addDataSetSimple(y=y.tolist(), x=x.tolist())\n",
    "sender.sendData()"
   ]
  },
  {
   "cell_type": "markdown",
   "metadata": {},
   "source": [
    "## Integrate noisy data\n",
    "\n",
    "Simple emulation of a measurement that averages (slowly)."
   ]
  },
  {
   "cell_type": "code",
   "execution_count": null,
   "metadata": {},
   "outputs": [],
   "source": [
    "import time\n",
    "avg = 0\n",
    "\n",
    "while(avg < 100):\n",
    "    x, y, _avg, z = make_2d_avg_data(21, 21, 1)\n",
    "    avgs = (avg * np.ones(z.size)).reshape(-1)\n",
    "    empty = np.zeros(z.size).reshape(-1)\n",
    "    \n",
    "    sender = client.DataSender(dataId='Dummy data no.4')\n",
    "    sender.addDataSetSimple(z=z, x=x, y=y, avgs=avgs, empty=empty)\n",
    "    sender.sendData()\n",
    "\n",
    "    avg += 1\n",
    "    time.sleep(1)"
   ]
  },
  {
   "cell_type": "markdown",
   "metadata": {},
   "source": [
    "## Build up 2D data in some silly way"
   ]
  },
  {
   "cell_type": "code",
   "execution_count": null,
   "metadata": {},
   "outputs": [],
   "source": [
    "xvals = []\n",
    "yvals = []\n",
    "zvals = []\n",
    "i = 0\n",
    "for x in np.linspace(-5, 5, 21):\n",
    "    for y in np.linspace(-5, 5, 21):\n",
    "        xvals.append(x)\n",
    "        yvals.append(y)\n",
    "        zvals.append(np.exp(-(x**2+y**2)/(2*1.**2)))\n",
    "        \n",
    "        i += 1\n",
    "        if i > 10:\n",
    "            sender = sender = client.DataSender(dataId='Dummy data no.5')\n",
    "            sender.addDataSetSimple(z=zvals, x=xvals, y=yvals)\n",
    "            sender.sendData()\n",
    "            \n",
    "            xvals = []\n",
    "            yvals = []\n",
    "            zvals = []\n",
    "            i = 0\n",
    "            \n",
    "        time.sleep(0.1)\n",
    "\n",
    "if len(zvals) > 0:\n",
    "    sender = sender = client.DataSender(dataId='Dummy data no.5')\n",
    "    sender.addDataSetSimple(z=zvals, x=xvals, y=yvals)\n",
    "    sender.sendData()"
   ]
  },
  {
   "cell_type": "code",
   "execution_count": null,
   "metadata": {},
   "outputs": [],
   "source": []
  },
  {
   "cell_type": "markdown",
   "metadata": {},
   "source": [
    "# QCodes Dataset subscriber"
   ]
  },
  {
   "cell_type": "code",
   "execution_count": 5,
   "metadata": {},
   "outputs": [],
   "source": [
    "import pytopo # ; reload(pytopo)\n",
    "from pytopo.qctools import dataset2 as dstools\n",
    "\n",
    "import plottr # ; reload(plottr)\n",
    "from plottr.client import DataSender\n",
    "from plottr.qcodes_dataset import QcodesDatasetSubscriber"
   ]
  },
  {
   "cell_type": "code",
   "execution_count": 6,
   "metadata": {},
   "outputs": [],
   "source": [
    "import qcodes as qc\n",
    "from qcodes.dataset.measurements import Measurement\n",
    "from qcodes.dataset.experiment_container import load_experiment_by_name, new_experiment\n",
    "\n",
    "def select_experiment(exp_name, sample_name):\n",
    "    try:\n",
    "        exp = load_experiment_by_name(exp_name)\n",
    "    except ValueError:\n",
    "        exp = new_experiment(exp_name, sample_name)\n",
    "    return exp"
   ]
  },
  {
   "cell_type": "code",
   "execution_count": 9,
   "metadata": {
    "scrolled": false
   },
   "outputs": [
    {
     "name": "stdout",
     "output_type": "stream",
     "text": [
      "Starting experimental run with id: 9\n"
     ]
    },
    {
     "ename": "KeyboardInterrupt",
     "evalue": "",
     "output_type": "error",
     "traceback": [
      "\u001b[1;31m---------------------------------------------------------------------------\u001b[0m",
      "\u001b[1;31mKeyboardInterrupt\u001b[0m                         Traceback (most recent call last)",
      "\u001b[1;32m<ipython-input-9-6b5aa5b9e025>\u001b[0m in \u001b[0;36m<module>\u001b[1;34m()\u001b[0m\n\u001b[0;32m     13\u001b[0m         \u001b[0my\u001b[0m \u001b[1;33m=\u001b[0m \u001b[0mnp\u001b[0m\u001b[1;33m.\u001b[0m\u001b[0mcos\u001b[0m\u001b[1;33m(\u001b[0m\u001b[0mx\u001b[0m\u001b[1;33m)\u001b[0m\u001b[1;33m\u001b[0m\u001b[0m\n\u001b[0;32m     14\u001b[0m         \u001b[0mdatasaver\u001b[0m\u001b[1;33m.\u001b[0m\u001b[0madd_result\u001b[0m\u001b[1;33m(\u001b[0m\u001b[1;33m(\u001b[0m\u001b[1;34m'y'\u001b[0m\u001b[1;33m,\u001b[0m \u001b[0my\u001b[0m\u001b[1;33m)\u001b[0m\u001b[1;33m,\u001b[0m \u001b[1;33m(\u001b[0m\u001b[1;34m'x'\u001b[0m\u001b[1;33m,\u001b[0m \u001b[0mx\u001b[0m\u001b[1;33m)\u001b[0m\u001b[1;33m)\u001b[0m\u001b[1;33m\u001b[0m\u001b[0m\n\u001b[1;32m---> 15\u001b[1;33m         \u001b[0mtime\u001b[0m\u001b[1;33m.\u001b[0m\u001b[0msleep\u001b[0m\u001b[1;33m(\u001b[0m\u001b[1;36m0.2\u001b[0m\u001b[1;33m)\u001b[0m\u001b[1;33m\u001b[0m\u001b[0m\n\u001b[0m",
      "\u001b[1;31mKeyboardInterrupt\u001b[0m: "
     ]
    }
   ],
   "source": [
    "exp = select_experiment('dev: plottr subscriber', 'dummy')\n",
    "meas = Measurement(exp=exp)\n",
    "meas.write_period = 0.5\n",
    "\n",
    "meas.register_custom_parameter('x')\n",
    "meas.register_custom_parameter('y', setpoints=['x', ])\n",
    "\n",
    "with meas.run() as datasaver:\n",
    "    datasaver.dataset.subscribe(QcodesDatasetSubscriber(datasaver.dataset), state=[], \n",
    "                                min_wait=0, min_count=1)    \n",
    "    \n",
    "    for x in np.linspace(0, 10, 101):\n",
    "        y = np.cos(x)\n",
    "        datasaver.add_result(('y', y), ('x', x))\n",
    "        time.sleep(0.2)"
   ]
  },
  {
   "cell_type": "code",
   "execution_count": null,
   "metadata": {},
   "outputs": [],
   "source": [
    "xvals = np.array(datasaver.dataset.get_values('x'))\n",
    "yvals = np.array(datasaver.dataset.get_values('y'))\n",
    "\n",
    "fig, ax = plt.subplots(1, 1)\n",
    "ax.plot(xvals, yvals, 'o')"
   ]
  },
  {
   "cell_type": "code",
   "execution_count": null,
   "metadata": {},
   "outputs": [],
   "source": []
  }
 ],
 "metadata": {
  "hide_input": false,
  "kernelspec": {
   "display_name": "Python 3",
   "language": "python",
   "name": "python3"
  },
  "language_info": {
   "codemirror_mode": {
    "name": "ipython",
    "version": 3
   },
   "file_extension": ".py",
   "mimetype": "text/x-python",
   "name": "python",
   "nbconvert_exporter": "python",
   "pygments_lexer": "ipython3",
   "version": "3.6.4"
  },
  "toc": {
   "base_numbering": 1,
   "nav_menu": {},
   "number_sections": true,
   "sideBar": true,
   "skip_h1_title": false,
   "title_cell": "Table of Contents",
   "title_sidebar": "Contents",
   "toc_cell": false,
   "toc_position": {},
   "toc_section_display": true,
   "toc_window_display": true
  }
 },
 "nbformat": 4,
 "nbformat_minor": 2
}
